{
 "metadata": {
  "name": "",
  "signature": "sha256:02f0377b8584fbd50ee59ef794987ca55ef3dbb3079fc50daba014a279350c76"
 },
 "nbformat": 3,
 "nbformat_minor": 0,
 "worksheets": [
  {
   "cells": [
    {
     "cell_type": "code",
     "collapsed": false,
     "input": [
      "import numpy as np\n",
      "import matplotlib as mpl\n",
      "import matplotlib.pyplot as plt\n",
      "from matplotlib.offsetbox import AnchoredText\n",
      "from matplotlib.ticker import NullFormatter,MultipleLocator, FormatStrFormatter"
     ],
     "language": "python",
     "metadata": {},
     "outputs": [],
     "prompt_number": 1
    },
    {
     "cell_type": "code",
     "collapsed": false,
     "input": [
      "dust   = '/home/meugenia/Dropbox/tesis/al_final/LR/LR_minpot3_rmmax_026_125_dust_grupo0.txt'\n",
      "nodust = '/home/meugenia/Dropbox/tesis/al_final/LR/LR_minpot3_rmmax_026_125_nodust_grupo0.txt'"
     ],
     "language": "python",
     "metadata": {},
     "outputs": [],
     "prompt_number": 2
    },
    {
     "cell_type": "code",
     "collapsed": false,
     "input": [
      "mdust   = np.loadtxt(dust,usecols=[2], unpack=True)\n",
      "mnodust = np.loadtxt(nodust,usecols=[2], unpack=True)"
     ],
     "language": "python",
     "metadata": {},
     "outputs": [],
     "prompt_number": 3
    },
    {
     "cell_type": "code",
     "collapsed": false,
     "input": [
      "fig = plt.figure(figsize=(7,7))\n",
      "\n",
      "ax1 = fig.add_subplot(111)\n",
      "ax1.scatter(np.log10(mdust),np.log10(mnodust),marker='.',s=100,color='orange',edgecolor='navy')\n",
      "plt.show()"
     ],
     "language": "python",
     "metadata": {},
     "outputs": [],
     "prompt_number": 12
    },
    {
     "cell_type": "code",
     "collapsed": false,
     "input": [],
     "language": "python",
     "metadata": {},
     "outputs": []
    }
   ],
   "metadata": {}
  }
 ]
}