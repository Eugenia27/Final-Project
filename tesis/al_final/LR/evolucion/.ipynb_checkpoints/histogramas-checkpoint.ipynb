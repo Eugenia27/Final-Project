{
 "metadata": {
  "name": "",
  "signature": "sha256:85762538acd21787b21a3cda23f87cd61439d381c684f49307dba2318d730138"
 },
 "nbformat": 3,
 "nbformat_minor": 0,
 "worksheets": [
  {
   "cells": [
    {
     "cell_type": "code",
     "collapsed": false,
     "input": [
      "import numpy as np\n",
      "import matplotlib as mpl\n",
      "import matplotlib.pyplot as plt\n",
      "import matplotlib.mlab as mlab\n",
      "import plotly.plotly as py\n",
      "\n",
      "datossim  = '/home/meugenia/Dropbox/tesis/al_final/LR/evolucion/datos/'\n",
      "datosobs  = '/home/meugenia/Dropbox/tesis/al_final/LR/tablas/'\n",
      "paths     = '/home/meugenia/Dropbox/tesis/al_final/LR/evolucion/histogramas/'\n",
      "flavsim   = '_LR_minpot3_rmmax_BiasedProgenitor_Masses.txt'\n",
      "flavobs   = 'LR_minpot3_rmmax_'\n",
      "\n",
      "file0sim  = '091'+flavsim\n",
      "file1sim  = '041'+flavsim\n",
      "file2sim  = '032'+flavsim\n",
      "file3sim  = '026'+flavsim\n",
      "filesimc2 = 'masas200_cum2.txt'\n",
      "\n",
      "file0obs = flavobs+'091_band125_nodust_grupo0.txt'\n",
      "file1obs = flavobs+'041_band125_nodust_grupo0.txt'\n",
      "file2obs = flavobs+'032_band125_nodust_grupo0.txt'\n",
      "file3obs = flavobs+'026_band125_nodust_grupo0.txt'\n",
      "\n",
      "\n",
      "m200    = np.loadtxt(datossim+file0sim ,usecols=[5], unpack=True)\n",
      "m200_z1 = np.loadtxt(datossim+file1sim ,usecols=[5], unpack=True)\n",
      "m200_z2 = np.loadtxt(datossim+file2sim ,usecols=[5], unpack=True)\n",
      "m200_z3 = np.loadtxt(datossim+file3sim ,usecols=[5], unpack=True)\n",
      "m200c2  = np.loadtxt(datossim+filesimc2,usecols=[1], unpack=True)\n",
      "m091,r24,r50  = np.loadtxt(datosobs+file0obs ,usecols=[2,3,4], unpack=True)\n",
      "m041    = np.loadtxt(datosobs+file1obs ,usecols=[2], unpack=True)\n",
      "m032    = np.loadtxt(datosobs+file2obs ,usecols=[2], unpack=True)\n",
      "m026    = np.loadtxt(datosobs+file3obs ,usecols=[2], unpack=True)\n",
      "\n",
      "m200_c2 = m200c2/0.72\n",
      "\n",
      "m200_todas = np.concatenate([m200,m200_c2],axis=0)"
     ],
     "language": "python",
     "metadata": {},
     "outputs": [],
     "prompt_number": 1
    },
    {
     "cell_type": "code",
     "collapsed": false,
     "input": [
      "datoscpolvo  = '/home/meugenia/Dropbox/tesis/al_final/LR/LR_minpot3_rmmax_026_125_dust_grupo0.txt'\n",
      "datosspolvo  = '/home/meugenia/Dropbox/tesis/al_final/LR/LR_minpot3_rmmax_026_125_nodust_grupo0.txt'"
     ],
     "language": "python",
     "metadata": {},
     "outputs": [],
     "prompt_number": 2
    },
    {
     "cell_type": "code",
     "collapsed": false,
     "input": [
      "polvo   = np.loadtxt(datoscpolvo, usecols=[2],unpack=True)\n",
      "nopolvo = np.loadtxt(datosspolvo, usecols=[2],unpack=True)"
     ],
     "language": "python",
     "metadata": {},
     "outputs": [],
     "prompt_number": 3
    },
    {
     "cell_type": "code",
     "collapsed": false,
     "input": [
      "medpolvo=np.median(polvo)\n",
      "mednopolvo=np.median(nopolvo)\n",
      "print medpolvo,mednopolvo"
     ],
     "language": "python",
     "metadata": {},
     "outputs": [
      {
       "output_type": "stream",
       "stream": "stdout",
       "text": [
        "222710000000.0 219030000000.0\n"
       ]
      }
     ],
     "prompt_number": 4
    },
    {
     "cell_type": "code",
     "collapsed": false,
     "input": [
      "masaselipse  = '/home/meugenia/Dropbox/tesis/al_final/plots/elipses/091masas_elipses.txt'"
     ],
     "language": "python",
     "metadata": {},
     "outputs": [],
     "prompt_number": 5
    },
    {
     "cell_type": "code",
     "collapsed": false,
     "input": [
      "elipse = np.loadtxt(masaselipse, usecols=[1],unpack=True)\n",
      "medelipse = np.median(elipse)\n",
      "print medelipse"
     ],
     "language": "python",
     "metadata": {},
     "outputs": [
      {
       "output_type": "stream",
       "stream": "stdout",
       "text": [
        "2.4622e+12\n"
       ]
      }
     ],
     "prompt_number": 6
    },
    {
     "cell_type": "code",
     "collapsed": false,
     "input": [
      "#colores para distintos redshifts\n",
      "c0='#FF8000'    \n",
      "c1='#CC0066'\n",
      "c2='#26F68E'\n",
      "c3='#FF705A'"
     ],
     "language": "python",
     "metadata": {},
     "outputs": [],
     "prompt_number": 7
    },
    {
     "cell_type": "code",
     "collapsed": false,
     "input": [
      "mediana = 5.902e+14"
     ],
     "language": "python",
     "metadata": {},
     "outputs": [],
     "prompt_number": 8
    },
    {
     "cell_type": "code",
     "collapsed": false,
     "input": [
      "from matplotlib.offsetbox import AnchoredText\n",
      "\n",
      "plt.rc('text', usetex=True)\n",
      "font = {'family': 'serif', 'size': 35, 'serif': ['computer modern roman']}\n",
      "plt.rc('font', **font)\n",
      "plt.rc('legend', **{'fontsize': 24}) #27 \n",
      "plt.rcParams['text.latex.preamble'] = [r'\\usepackage{amsmath}']\n",
      "\n",
      "plt.rcParams['axes.linewidth'] = 1.0\n",
      "plt.rcParams['xtick.major.size'] = 8\n",
      "plt.rcParams['xtick.minor.size'] = 4\n",
      "plt.rcParams['ytick.major.size'] = 6\n",
      "plt.rcParams['ytick.minor.size'] = 3\n",
      "mpl.rc('lines', linewidth=3)"
     ],
     "language": "python",
     "metadata": {},
     "outputs": [],
     "prompt_number": 9
    },
    {
     "cell_type": "code",
     "collapsed": false,
     "input": [
      "#Definiciones\n",
      "gm200      = np.array([])  \n",
      "gm200_z1   = np.array([])\n",
      "gm200_z2   = np.array([]) \n",
      "gm200_z3   = np.array([])  \n",
      "gm200_c2   = np.array([])  \n",
      "gm091      = np.array([])   \n",
      "gm041      = np.array([])          \n",
      "gm032      = np.array([])           \n",
      "gm026      = np.array([])              \n",
      "cm200      = np.array([])                 \n",
      "cm200_z1   = np.array([])         \n",
      "cm200_z2   = np.array([])       \n",
      "cm200_z3   = np.array([])          \n",
      "cm200_c2   = np.array([])      \n",
      "cm091      = np.array([])     \n",
      "cm041      = np.array([])         \n",
      "cm032      = np.array([])              \n",
      "cm026      = np.array([])\n",
      "gr24      = np.array([]) \n",
      "gr50      = np.array([]) \n",
      "cr24      = np.array([]) \n",
      "cr50      = np.array([]) "
     ],
     "language": "python",
     "metadata": {},
     "outputs": [],
     "prompt_number": 10
    },
    {
     "cell_type": "code",
     "collapsed": false,
     "input": [
      "for i in range(29):\n",
      "    #print i\n",
      "    if i!=1 and i!=2 and i!=3 and i!=4 and i!=8:\n",
      "        gm200      = np.append(gm200,m200[i])\n",
      "        gm200_z1   = np.append(gm200_z1,m200_z1[i])\n",
      "        gm200_z2   = np.append(gm200_z2,m200_z2[i]) \n",
      "        gm200_z3   = np.append(gm200_z3,m200_z3[i])  \n",
      "        gm200_c2   = np.append(gm200_c2,m200_c2[i]) \n",
      "        gm091      = np.append(gm091,m091[i])\n",
      "        gr50      = np.append(gr50,r50[i])  \n",
      "        gr24      = np.append(gr24,r24[i])          \n",
      "        gm041      = np.append(gm041,m041[i])          \n",
      "        gm032      = np.append(gm032,m032[i])           \n",
      "        gm026      = np.append(gm026,m026[i])             \n",
      "    else:\n",
      "        cm200      = np.append(cm200,m200[i])                \n",
      "        cm200_z1   = np.append(cm200_z1,m200_z1[i])         \n",
      "        cm200_z2   = np.append(cm200_z2,m200_z2[i])       \n",
      "        cm200_z3   = np.append(cm200_z3,m200_z3[i])         \n",
      "        cm200_c2   = np.append(cm200_c2,m200_c2[i])      \n",
      "        cm091      = np.append(cm091,m091[i])\n",
      "        cr50      = np.append(cr50,r50[i])  \n",
      "        cr24      = np.append(cr24,r24[i])          \n",
      "        cm041      = np.append(cm041,m041[i])        \n",
      "        cm032      = np.append(cm032,m032[i])              \n",
      "        cm026      = np.append(cm026,m026[i]) \n",
      "    "
     ],
     "language": "python",
     "metadata": {},
     "outputs": [],
     "prompt_number": 11
    },
    {
     "cell_type": "code",
     "collapsed": false,
     "input": [
      "medg=np.median(gm091)\n",
      "medc=np.median(cm091)\n",
      "print medg,medc"
     ],
     "language": "python",
     "metadata": {},
     "outputs": [
      {
       "output_type": "stream",
       "stream": "stdout",
       "text": [
        "2.89155e+12 832500000000.0\n"
       ]
      }
     ],
     "prompt_number": 12
    },
    {
     "cell_type": "code",
     "collapsed": false,
     "input": [
      "def histograma(h1,h2,bines,ylim,xlim1,xlim2,save,labelx,labely,leg1,leg2,color,ticks,anotacion,m1,m2,t1,t2):\n",
      "    fig = plt.figure(num=None, figsize=(8, 8), dpi=80, facecolor='w', edgecolor='k')\n",
      "    ax = fig.add_subplot(111)\n",
      "    if len(h2)!=0:\n",
      "        bins = np.histogram(np.hstack((h1,h2)), bins=bines)[1]\n",
      "        ax.hist(h1, bins=bins, color='red',facecolor='none',histtype='stepfilled',linewidth=1, label=leg1)\n",
      "        ax.hist(h2, bins=bins,color='blue',facecolor='none',histtype='stepfilled', hatch='//', label=leg2)\n",
      "    else:\n",
      "        bins = bines\n",
      "        ax.hist(h1, bins=bins, color=color,facecolor='none',histtype='stepfilled',hatch='xx',linewidth=1, label=leg1)\n",
      "        \n",
      "    if m1!='none':\n",
      "        plt.axvline(x=m1,color='orange',label=t1+'= '+str(round(m1,2)),ls='--',lw=2)\n",
      "    if m2!='none':    \n",
      "        plt.axvline(x=m2,color='navy',label=t2+'= '+str(round(m2,2)),ls=':',lw=2)\n",
      "\n",
      "    plt.xlim(xlim1,xlim2)\n",
      "    plt.ylim(0,ylim)\n",
      "    xticks1 = ax.xaxis.get_major_ticks()\n",
      "    xticks1[0].label1.set_visible(False)\n",
      "    if ticks:\n",
      "        for i in range(len(xticks1)):\n",
      "            if i%2!=0:\n",
      "                xticks1[i].label1.set_visible(False)\n",
      "\n",
      "    yticks1 = ax.yaxis.get_major_ticks()\n",
      "    for i in range(len(yticks1)):\n",
      "            if i%2==0:\n",
      "                yticks1[i].label1.set_visible(False)    \n",
      "                \n",
      "    yticks1[0].label1.set_visible(False)\n",
      "    plt.legend(loc='upper right', frameon=False,scatterpoints=1,borderpad=0.2,\n",
      "        labelspacing=0.3,handlelength=2,handletextpad=0.5,borderaxespad=1)\n",
      "    plt.xlabel(labelx)\n",
      "    plt.ylabel(labely)\n",
      "    plt.minorticks_on()\n",
      "    \n",
      "    ax.annotate(anotacion, xy=(1, 1),color='gray', xytext=(-70, -130), fontsize=30,\n",
      "                 xycoords='axes fraction', textcoords='offset points',\n",
      "                 horizontalalignment='left', verticalalignment='bottom') \n",
      "    \n",
      "    \n",
      "    plt.savefig(paths+save, format='pdf', dpi=1300,bbox_inches='tight')\n",
      "    plt.show()"
     ],
     "language": "python",
     "metadata": {},
     "outputs": [],
     "prompt_number": 24
    },
    {
     "cell_type": "code",
     "collapsed": false,
     "input": [
      "h_comun=18"
     ],
     "language": "python",
     "metadata": {},
     "outputs": [],
     "prompt_number": 14
    },
    {
     "cell_type": "code",
     "collapsed": false,
     "input": [
      "#histograma(h1, h2, bines, ylim, xlim1, xlim2, save, labelx, labely, leg1, leg2, color)\n",
      "histograma(np.log10(gm200),np.log10(cm200),7,18,13.9,15.8,\n",
      "           'M200_grandes_chicas0.pdf','log M$_{200}$/M$_{\\odot}$','N','CMAY'\n",
      "           ,'CMEN','white',0,'')"
     ],
     "language": "python",
     "metadata": {},
     "outputs": [],
     "prompt_number": 31
    },
    {
     "cell_type": "code",
     "collapsed": false,
     "input": [
      "histograma(np.log10(gm200_z1),np.log10(cm200_z1),7,h_comun,13.5,15.05,\n",
      "           'M200_grandes_chicasz1.pdf','log M$_{200}$/M$_{\\odot}$','N','CMAY'\n",
      "           ,'CMEN','white',0,'z=1')"
     ],
     "language": "python",
     "metadata": {},
     "outputs": [],
     "prompt_number": 20
    },
    {
     "cell_type": "code",
     "collapsed": false,
     "input": [
      "histograma(np.log10(gm200_z2),np.log10(cm200_z2),7,h_comun,12.85,14.7,\n",
      "           'M200_grandes_chicasz2.pdf','log M$_{200}$/M$_{\\odot}$','N','CMAY'\n",
      "           ,'CMEN','white',0,'z=2')"
     ],
     "language": "python",
     "metadata": {},
     "outputs": [],
     "prompt_number": 21
    },
    {
     "cell_type": "code",
     "collapsed": false,
     "input": [
      "histograma(np.log10(gm200_z3),np.log10(cm200_z3),7,h_comun,12.4,14.4,\n",
      "           'M200_grandes_chicasz3.pdf','log M$_{200}$/M$_{\\odot}$','N','CMAY'\n",
      "           ,'CMEN','white',0,'z=3')"
     ],
     "language": "python",
     "metadata": {},
     "outputs": [],
     "prompt_number": 22
    },
    {
     "cell_type": "code",
     "collapsed": false,
     "input": [
      "histograma(np.log10(gm091),np.log10(cm091),6,h_comun,11.43,12.78,\n",
      "           'Mmu_grandes_chicasz0.pdf','log M$_{\\mu_{24}}$/M$_{\\odot}$','N','CMAY'\n",
      "           ,'CMEN','white',1,'',np.log10(medg),np.log10(medc),'Med-CMAY','Med-CMEN')"
     ],
     "language": "python",
     "metadata": {},
     "outputs": [],
     "prompt_number": 67
    },
    {
     "cell_type": "code",
     "collapsed": false,
     "input": [
      "histograma(gr24,cr24,5,h_comun,30,160,\n",
      "           'R24_grandes_chicasz0.pdf','R$_{\\mu_{24}}$/Kpc','N','CMAY'\n",
      "           ,'CMEN','white',1,'',np.median(gr24),np.median(cr24),'Med-CMAY','Med-CMEN')"
     ],
     "language": "python",
     "metadata": {},
     "outputs": [],
     "prompt_number": 39
    },
    {
     "cell_type": "code",
     "collapsed": false,
     "input": [
      "histograma(gr50,cr50,5,h_comun,10,80,\n",
      "           'R50_grandes_chicasz0.pdf','R$_{1/2}$/Kpc','N','CMAY'\n",
      "           ,'CMEN','white',1,'',np.median(gr50),np.median(cr50),'Med-CMAY','Med-CMEN')"
     ],
     "language": "python",
     "metadata": {},
     "outputs": [],
     "prompt_number": 42
    },
    {
     "cell_type": "code",
     "collapsed": false,
     "input": [
      "histograma(np.log10(gm041),np.log10(cm041),6,h_comun,11.3,12.55,\n",
      "           'Mmu_grandes_chicasz1.pdf','log M$_{\\mu_{24}}$/M$_{\\odot}$','N','M$_{200_{z=0}}\\sim 10^{15}$ M$_{\\odot}$'\n",
      "           ,'M$_{200_{z=0}}\\sim 10^{14}$ M$_{\\odot}$','white',1,'z=1',np.log10(medg),np.log10(medc),'Med-CMAY','Med-CMEN')"
     ],
     "language": "python",
     "metadata": {},
     "outputs": [],
     "prompt_number": 60
    },
    {
     "cell_type": "code",
     "collapsed": false,
     "input": [
      "histograma(np.log10(gm032),np.log10(cm032),6,h_comun,11.,12.3,\n",
      "           'Mmu_grandes_chicasz2.pdf','log M$_{\\mu_{24}}$/M$_{\\odot}$','N','M$_{200_{z=0}}\\sim 10^{15}$ M$_{\\odot}$'\n",
      "           ,'M$_{200_{z=0}}\\sim 10^{14}$ M$_{\\odot}$','white',1,'z=2')"
     ],
     "language": "python",
     "metadata": {},
     "outputs": [],
     "prompt_number": 86
    },
    {
     "cell_type": "code",
     "collapsed": false,
     "input": [
      "histograma(np.log10(gm026),np.log10(cm026),6,h_comun,10.65,12.1,\n",
      "           'Mmu_grandes_chicasz3.pdf','log M$_{\\mu_{24}}$/M$_{\\odot}$','N','M$_{200_{z=0}}\\sim 10^{15}$ M$_{\\odot}$'\n",
      "           ,'M$_{200_{z=0}}\\sim 10^{14}$ M$_{\\odot}$','white',1,'z=3')"
     ],
     "language": "python",
     "metadata": {},
     "outputs": [],
     "prompt_number": 87
    },
    {
     "cell_type": "code",
     "collapsed": false,
     "input": [
      "histograma(np.log10(gm200_c2),np.log10(cm200_c2),6,h_comun,12.6,15.29,\n",
      "           'M200_grandes_chicasz0_grupo1.pdf','log M$_{\\mu_{24}}$/M$_{\\odot}$','N','M$_{200_{z=0}}\\sim 10^{15}$ M$_{\\odot}$'\n",
      "           ,'M$_{200_{z=0}}\\sim 10^{14}$ M$_{\\odot}$','white',1,'z=0')"
     ],
     "language": "python",
     "metadata": {},
     "outputs": [],
     "prompt_number": 88
    },
    {
     "cell_type": "code",
     "collapsed": false,
     "input": [
      "histograma(np.log10(m200_todas),np.array([]),6,25,12.6,16.1,\n",
      "           'M200_todas.pdf','log M$_{200}$/M$_{\\odot}$','N','AUM'\n",
      "           ,'','white',1,'')"
     ],
     "language": "python",
     "metadata": {},
     "outputs": [
      {
       "ename": "TypeError",
       "evalue": "histograma() takes exactly 18 arguments (14 given)",
       "output_type": "pyerr",
       "traceback": [
        "\u001b[1;31m---------------------------------------------------------------------------\u001b[0m\n\u001b[1;31mTypeError\u001b[0m                                 Traceback (most recent call last)",
        "\u001b[1;32m<ipython-input-91-e2765a5612a2>\u001b[0m in \u001b[0;36m<module>\u001b[1;34m()\u001b[0m\n\u001b[0;32m      1\u001b[0m histograma(np.log10(m200_todas),np.array([]),6,25,12.6,16.1,\n\u001b[0;32m      2\u001b[0m            \u001b[1;34m'M200_todas.pdf'\u001b[0m\u001b[1;33m,\u001b[0m\u001b[1;34m'log M$_{200}$/M$_{\\odot}$'\u001b[0m\u001b[1;33m,\u001b[0m\u001b[1;34m'N'\u001b[0m\u001b[1;33m,\u001b[0m\u001b[1;34m'AUM'\u001b[0m\u001b[1;33m\u001b[0m\u001b[0m\n\u001b[1;32m----> 3\u001b[1;33m            ,'','white',1,'')\n\u001b[0m",
        "\u001b[1;31mTypeError\u001b[0m: histograma() takes exactly 18 arguments (14 given)"
       ]
      }
     ],
     "prompt_number": 91
    },
    {
     "cell_type": "code",
     "collapsed": false,
     "input": [
      "histograma(np.log10(polvo),np.log10(nopolvo),7,14,10.55,12.2,\n",
      "           'Mmu_polvo_vs_nopolvo.pdf','log M$_{\\mu_{24}}$/M$_{\\odot}$','N','Con polvo'\n",
      "           ,'Sin polvo','white',1,'z=3',np.log10(medpolvo),np.log10(mednopolvo),'Med(Con polvo)','Med(Sin polvo)')"
     ],
     "language": "python",
     "metadata": {},
     "outputs": [],
     "prompt_number": 121
    },
    {
     "cell_type": "code",
     "collapsed": false,
     "input": [
      "histograma(np.log10(elipse),np.log10(m091),7,18,11.32,12.82,\n",
      "           'Mmu_elipse_vs_circ.pdf','log M$_{\\mu_{24}}$/M$_{\\odot}$','N','Elipses'\n",
      "           ,'Circulos','white',1,'',np.log10(medelipse),np.log10(np.median(m091)),'Med(Elipses)','Med(Circulos)')"
     ],
     "language": "python",
     "metadata": {},
     "outputs": [],
     "prompt_number": 119
    },
    {
     "cell_type": "code",
     "collapsed": false,
     "input": [],
     "language": "python",
     "metadata": {},
     "outputs": []
    },
    {
     "cell_type": "code",
     "collapsed": false,
     "input": [],
     "language": "python",
     "metadata": {},
     "outputs": []
    },
    {
     "cell_type": "code",
     "collapsed": false,
     "input": [
      "def histograma3(h1,h2,h3,bines,ylim,xlim1,xlim2,save,labelx,labely,leg1,leg2,leg3,color,ticks,anotacion,mediana):\n",
      "    fig = plt.figure(num=None, figsize=(8, 8), dpi=80, facecolor='w', edgecolor='k')\n",
      "    ax = fig.add_subplot(111)\n",
      "    if len(h2)!=0:\n",
      "        bins = np.histogram(np.hstack((h1,h2,h3)), bins=bines)[1]\n",
      "        ax.hist(h1, bins=bins, color=color,facecolor='none',histtype='stepfilled',hatch='/', label=leg1)\n",
      "        ax.hist(h2, bins=bins,color=color,facecolor='none',histtype='stepfilled', hatch='--', label=leg2)\n",
      "        ax.hist(h3, bins=bins,color=color,edgecolor='red',facecolor='none',histtype='stepfilled', hatch='', label=leg3)        \n",
      "    else:\n",
      "        bins = bines\n",
      "        ax.hist(h1, bins=bins, color=color,facecolor='none',histtype='stepfilled',hatch='xx',linewidth=1, label=leg1)\n",
      "    \n",
      "    plt.axvline(x=mediana,color='red',label='Med-AUM = '+str(round(mediana,2)),ls='--',lw=2)\n",
      "    \n",
      "    plt.xlim(xlim1,xlim2)\n",
      "    plt.ylim(0,ylim)\n",
      "    xticks1 = ax.xaxis.get_major_ticks()\n",
      "    xticks1[0].label1.set_visible(False)\n",
      "    if ticks:\n",
      "        for i in range(len(xticks1)):\n",
      "            if i%2==0:\n",
      "                xticks1[i].label1.set_visible(False)\n",
      "\n",
      "    yticks1 = ax.yaxis.get_major_ticks()\n",
      "    for i in range(len(yticks1)):\n",
      "            if i%2!=0:\n",
      "                yticks1[i].label1.set_visible(False)    \n",
      "                \n",
      "    yticks1[0].label1.set_visible(False)\n",
      "    plt.legend(loc='upper left', frameon=False,scatterpoints=1,borderpad=0.2,\n",
      "        labelspacing=0.3,handlelength=2,handletextpad=0.5,borderaxespad=1)\n",
      "    plt.xlabel(labelx)\n",
      "    plt.ylabel(labely)\n",
      "    plt.minorticks_on()\n",
      "    \n",
      "    ax.annotate(anotacion, xy=(1, 1),color='gray', xytext=(-370, -130), fontsize=30,\n",
      "                 xycoords='axes fraction', textcoords='offset points',\n",
      "                 horizontalalignment='left', verticalalignment='bottom') \n",
      "    \n",
      "    \n",
      "    plt.savefig(paths+save, format='pdf', dpi=1300,bbox_inches='tight')\n",
      "    plt.show()"
     ],
     "language": "python",
     "metadata": {},
     "outputs": [],
     "prompt_number": 53
    },
    {
     "cell_type": "code",
     "collapsed": false,
     "input": [
      "from matplotlib.offsetbox import AnchoredText\n",
      "\n",
      "plt.rc('text', usetex=True)\n",
      "font = {'family': 'serif', 'size': 35, 'serif': ['computer modern roman']}\n",
      "plt.rc('font', **font)\n",
      "plt.rc('legend', **{'fontsize': 24}) #27 \n",
      "plt.rcParams['text.latex.preamble'] = [r'\\usepackage{amsmath}']\n",
      "\n",
      "plt.rcParams['axes.linewidth'] = 1.0\n",
      "plt.rcParams['xtick.major.size'] = 8\n",
      "plt.rcParams['xtick.minor.size'] = 4\n",
      "plt.rcParams['ytick.major.size'] = 6\n",
      "plt.rcParams['ytick.minor.size'] = 3\n",
      "mpl.rc('lines', linewidth=3)"
     ],
     "language": "python",
     "metadata": {},
     "outputs": [],
     "prompt_number": 15
    },
    {
     "cell_type": "code",
     "collapsed": false,
     "input": [
      "histograma3(np.log10(gm200),np.log10(cm200),np.log10(m200_todas),7,20,12.8,15.9,\n",
      "           'quilombo.pdf','log M$_{200}$/M$_{\\odot}$','N','CMAY'\n",
      "           ,'CMEN','AUM','white',1,'',np.log10(mediana))"
     ],
     "language": "python",
     "metadata": {},
     "outputs": [],
     "prompt_number": 55
    },
    {
     "cell_type": "code",
     "collapsed": false,
     "input": [],
     "language": "python",
     "metadata": {},
     "outputs": [],
     "prompt_number": 23
    },
    {
     "cell_type": "code",
     "collapsed": false,
     "input": [
      "file_obs0='/home/meugenia/Dropbox/tesis/al_final/LR/tablas/LR_minpot3_rmmax_091_band125_nodust_grupo0.txt'\n",
      "m24z0,r24z0,r50z0=np.loadtxt(file_obs0, usecols=[2,3,4],unpack=True) \n",
      "file_obs1='/home/meugenia/Dropbox/tesis/al_final/LR/tablas/LR_minpot3_rmmax_041_band125_nodust_grupo0.txt'\n",
      "m24z1,r24z1,r50z1=np.loadtxt(file_obs1, usecols=[2,3,4],unpack=True)\n",
      "file_obs2='/home/meugenia/Dropbox/tesis/al_final/LR/tablas/LR_minpot3_rmmax_032_band125_nodust_grupo0.txt'\n",
      "m24z2,r24z2,r50z2=np.loadtxt(file_obs2, usecols=[2,3,4],unpack=True)\n",
      "file_obs3='/home/meugenia/Dropbox/tesis/al_final/LR/tablas/LR_minpot3_rmmax_026_band125_nodust_grupo0.txt'\n",
      "m24z3,r24z3,r50z3=np.loadtxt(file_obs3, usecols=[2,3,4],unpack=True)\n",
      "\n",
      "\n",
      "file_sim0='/home/meugenia/Dropbox/tesis/al_final/LR/evolucion/datos/091_LR_minpot3_rmmax_BiasedProgenitor_Masses.txt'\n",
      "m30z0,m50z0,=np.loadtxt(file_sim0, usecols=[7,8],unpack=True) \n",
      "file_sim2='/home/meugenia/Dropbox/tesis/al_final/LR/evolucion/datos/041_LR_minpot3_rmmax_BiasedProgenitor_Masses.txt'\n",
      "m30z2,m50z2,=np.loadtxt(file_sim2, usecols=[7,8],unpack=True) "
     ],
     "language": "python",
     "metadata": {},
     "outputs": [],
     "prompt_number": 16
    },
    {
     "cell_type": "code",
     "collapsed": false,
     "input": [
      "pelipse = '/home/meugenia/Dropbox/tesis/al_final/plots/elipses/parametros.txt'\n",
      "sma,smm = np.loadtxt(pelipse, usecols=[1,2],unpack=True)"
     ],
     "language": "python",
     "metadata": {},
     "outputs": [],
     "prompt_number": 17
    },
    {
     "cell_type": "code",
     "collapsed": false,
     "input": [
      "prog=[0,0,1,0,0,0,0,0,0,1,0,0,0,1,1,1,0,0,0,0,0,1,1,0,1,0,0,1,0,1]"
     ],
     "language": "python",
     "metadata": {},
     "outputs": [],
     "prompt_number": 18
    },
    {
     "cell_type": "code",
     "collapsed": false,
     "input": [
      "m0m1 = np.array([])\n",
      "m0m2 = np.array([])\n",
      "m0m3 = np.array([])\n",
      "m1m2 = np.array([])\n",
      "m1m3 = np.array([])\n",
      "m2m3 = np.array([])\n",
      "\n",
      "R0R1 = np.array([])\n",
      "R0R2 = np.array([])\n",
      "R0R3 = np.array([])\n",
      "R1R2 = np.array([])\n",
      "R1R3 = np.array([])\n",
      "R2R3 = np.array([])\n",
      "\n",
      "r0r1 = np.array([])\n",
      "r0r2 = np.array([])\n",
      "r0r3 = np.array([])\n",
      "r1r2 = np.array([])\n",
      "r1r3 = np.array([])\n",
      "r2r3 = np.array([])\n",
      "\n",
      "s30m0m2 = np.array([])\n",
      "s50m0m2 = np.array([])"
     ],
     "language": "python",
     "metadata": {},
     "outputs": [],
     "prompt_number": 19
    },
    {
     "cell_type": "code",
     "collapsed": false,
     "input": [
      "for reg in range(30):\n",
      "    sreg  = str(reg)\n",
      "    if reg==0 or prog[reg]==0 or reg==30:\n",
      "        continue\n",
      "    else:\n",
      "        m0m1 = np.append(m0m1,  m24z0[reg-1]/float(m24z1[reg-1]))\n",
      "        m0m2 = np.append(m0m2,  m24z0[reg-1]/float(m24z2[reg-1]))\n",
      "        m0m3 = np.append(m0m3,  m24z0[reg-1]/float(m24z3[reg-1]))\n",
      "        m1m2 = np.append(m1m2,  m24z1[reg-1]/float(m24z2[reg-1]))\n",
      "        m1m3 = np.append(m1m3,  m24z1[reg-1]/float(m24z3[reg-1]))\n",
      "        m2m3 = np.append(m2m3,  m24z2[reg-1]/float(m24z3[reg-1]))\n",
      "        \n",
      "        R0R1 = np.append(R0R1,  r24z0[reg-1]/float(r24z1[reg-1]))\n",
      "        R0R2 = np.append(R0R2,  r24z0[reg-1]/float(r24z2[reg-1]))\n",
      "        R0R3 = np.append(R0R3,  r24z0[reg-1]/float(r24z3[reg-1]))\n",
      "        R1R2 = np.append(R1R2,  r24z1[reg-1]/float(r24z2[reg-1]))\n",
      "        R1R3 = np.append(R1R3,  r24z1[reg-1]/float(r24z3[reg-1]))\n",
      "        R2R3 = np.append(R2R3,  r24z2[reg-1]/float(r24z3[reg-1]))\n",
      "        \n",
      "        r0r1 = np.append(r0r1, r50z0[reg-1]/float(r50z1[reg-1]))\n",
      "        r0r2 = np.append(r0r2, r50z0[reg-1]/float(r50z2[reg-1]))\n",
      "        r0r3 = np.append(r0r3, r50z0[reg-1]/float(r50z3[reg-1]))\n",
      "        r1r2 = np.append(r1r2, r50z1[reg-1]/float(r50z2[reg-1]))\n",
      "        r1r3 = np.append(r1r3, r50z1[reg-1]/float(r50z3[reg-1]))\n",
      "        r2r3 = np.append(r2r3, r50z2[reg-1]/float(r50z3[reg-1]))   \n",
      "        \n",
      "        s30m0m2 = np.append(s30m0m2,  m30z0[reg-1]/float(m30z2[reg-1]))\n",
      "        s50m0m2 = np.append(s50m0m2,  m50z0[reg-1]/float(m50z2[reg-1]))"
     ],
     "language": "python",
     "metadata": {},
     "outputs": [],
     "prompt_number": 20
    },
    {
     "cell_type": "code",
     "collapsed": false,
     "input": [
      "h1=m0m2\n",
      "h2=R0R2\n",
      "\n",
      "histograma(h1,h2,5,16,0,6.8,\n",
      "           'cocoientesmr24.pdf','Factor','N','FM$_{\\mu_{24}}\\mid_{z=0}^{z=2}$'\n",
      "           ,'FR$_{\\mu_{24}}\\mid_{z=0}^{z=2}$','white',1,'',np.mean(h1),np.mean(h2),'Mean--FM','Mean--FR')"
     ],
     "language": "python",
     "metadata": {},
     "outputs": [],
     "prompt_number": 104
    },
    {
     "cell_type": "code",
     "collapsed": false,
     "input": [
      "h1=m0m2\n",
      "h2=r0r2\n",
      "\n",
      "histograma(h1,h2,5,14,0,6.8,\n",
      "           'cocoientesmr1medio.pdf','Factor','N','FM$_{\\mu_{24}}\\mid_{z=0}^{z=2}$'\n",
      "           ,'FR$_{1/2}\\mid_{z=0}^{z=2}$','white',1,'',np.mean(h1),np.mean(h2),'Mean--FM','Mean--FR')"
     ],
     "language": "python",
     "metadata": {},
     "outputs": [],
     "prompt_number": 25
    },
    {
     "cell_type": "code",
     "collapsed": false,
     "input": [
      "h1=s30m0m2\n",
      "h2=r0r2\n",
      "histograma(h1,h2,5,15,0.5,3.8,\n",
      "            'cocoientesm30r1medio.pdf','Factor','N','FM$_{R<30Kpc}\\mid_{z=0}^{z=2}$'\n",
      "           ,'FR$_{1/2}\\mid_{z=0}^{z=2}$','white',1,'',np.mean(h1),np.mean(h2),'Mean--FM','Mean--FR')"
     ],
     "language": "python",
     "metadata": {},
     "outputs": [],
     "prompt_number": 106
    },
    {
     "cell_type": "code",
     "collapsed": false,
     "input": [
      "h1=s50m0m2\n",
      "h2=r0r2\n",
      "histograma(h1,h2,5,15,0.5,3.8,\n",
      "            'cocoientesm50r1medio.pdf','Factor','N','FM$_{R<50Kpc}\\mid_{z=0}^{z=2}$'\n",
      "           ,'FR$_{1/2}\\mid_{z=0}^{z=2}$','white',1,'',np.mean(h1),np.mean(h2),'Mean--FM','Mean--FR')\n",
      "           #'cocoientesm50r1medio.pdf','Factor','N','M$_{R<50Kpc}\\mid_{z=0}$/M$_{<50Kpc}\\mid_{z=2}$'\n",
      "           #,'R$_{1/2}\\mid_{z=0}$/ R$_{1/2}\\mid_{z=2}$','white',1,'',np.mean(h1),np.mean(h2),'Mean--FM','Mean--FR')"
     ],
     "language": "python",
     "metadata": {},
     "outputs": [],
     "prompt_number": 107
    },
    {
     "cell_type": "code",
     "collapsed": false,
     "input": [
      "h1=r24z0\n",
      "h2=sma\n",
      "histograma(h1,h2,5,20,30,260,\n",
      "            'tamanos.pdf','Tama\\~no','N'\n",
      "           ,'R$_{\\mu_{24}}$','SMA','white',1,'',np.mean(h1),np.mean(h2),'Mean--R$_{\\mu_{24}}$','Mean--SMA')\n",
      "           #'cocoientesm50r1medio.pdf','Factor','N','M$_{R<50Kpc}\\mid_{z=0}$/M$_{<50Kpc}\\mid_{z=2}$'\n",
      "           #,'R$_{1/2}\\mid_{z=0}$/ R$_{1/2}\\mid_{z=2}$','white',1,'',np.mean(h1),np.mean(h2),'Mean--FM','Mean--FR')"
     ],
     "language": "python",
     "metadata": {},
     "outputs": [],
     "prompt_number": 125
    },
    {
     "cell_type": "code",
     "collapsed": false,
     "input": [],
     "language": "python",
     "metadata": {},
     "outputs": []
    }
   ],
   "metadata": {}
  }
 ]
}