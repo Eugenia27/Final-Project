{
 "metadata": {
  "name": "",
  "signature": "sha256:1091ef1bd718cf726ba2bb6ab428a3750e85d6fd302833bfe5717458ca876718"
 },
 "nbformat": 3,
 "nbformat_minor": 0,
 "worksheets": [
  {
   "cells": [
    {
     "cell_type": "code",
     "collapsed": false,
     "input": [
      "import numpy as np\n",
      "import matplotlib as mpl\n",
      "import matplotlib.pyplot as plt\n",
      "import matplotlib.mlab as mlab\n",
      "from scipy.optimize import curve_fit\n",
      "import scipy.optimize as optimize\n",
      "from matplotlib.ticker import NullFormatter,MultipleLocator, FormatStrFormatter\n",
      "from matplotlib.offsetbox import AnchoredText"
     ],
     "language": "python",
     "metadata": {},
     "outputs": [],
     "prompt_number": 25
    },
    {
     "cell_type": "code",
     "collapsed": false,
     "input": [
      "cp='/home/meugenia/Dropbox/tesis/al_final/LR/LR_minpot3_rmmax/dust/grupo0/mu24/D22/026/mu_medios125_D22_026.txt'\n",
      "sp='/home/meugenia/Dropbox/tesis/al_final/LR/LR_minpot3_rmmax/nodust/grupo0/mu24/D22/026/mu_medios125_D22_026.txt'"
     ],
     "language": "python",
     "metadata": {},
     "outputs": [],
     "prompt_number": 26
    },
    {
     "cell_type": "code",
     "collapsed": false,
     "input": [
      "rcp,sbcp = np.loadtxt(cp,unpack=True)\n",
      "rsp,sbsp = np.loadtxt(sp,unpack=True)"
     ],
     "language": "python",
     "metadata": {},
     "outputs": [],
     "prompt_number": 27
    },
    {
     "cell_type": "code",
     "collapsed": false,
     "input": [
      "from matplotlib.offsetbox import AnchoredText\n",
      "\n",
      "plt.rc('text', usetex=True)\n",
      "font = {'family': 'serif', 'size': 35, 'serif': ['computer modern roman']}\n",
      "plt.rc('font', **font)\n",
      "plt.rc('legend', **{'fontsize': 24}) #27 \n",
      "plt.rcParams['text.latex.preamble'] = [r'\\usepackage{amsmath}']\n",
      "\n",
      "plt.rcParams['axes.linewidth'] = 1.0\n",
      "plt.rcParams['xtick.major.size'] = 8\n",
      "plt.rcParams['xtick.minor.size'] = 4\n",
      "plt.rcParams['ytick.major.size'] = 6\n",
      "plt.rcParams['ytick.minor.size'] = 3\n",
      "plt.rc('lines', linewidth=3)"
     ],
     "language": "python",
     "metadata": {},
     "outputs": [],
     "prompt_number": 28
    },
    {
     "cell_type": "code",
     "collapsed": false,
     "input": [
      "cs = ['#FF3333','#3399FF']\n",
      "fig = plt.figure(figsize=(7, 7))\n",
      "ax = fig.add_subplot(111)  \n",
      "\n",
      "plt.plot(rcp,sbcp,color=cs[0],ls='--',label='Con polvo')\n",
      "plt.plot(rsp,sbsp,color=cs[1],label='Sin polvo')\n",
      "plt.ylabel('$\\mu_{V}$ [$mag/arcsec^{2}$]')\n",
      "plt.xlabel('R [Kpc]') \n",
      "plt.xlim(0,60)\n",
      "plt.ylim(25,14)\n",
      "\n",
      "xticks1 = ax.xaxis.get_major_ticks()\n",
      "for i in range(len(xticks1)):\n",
      "    if i%2==0:\n",
      "        xticks1[i].label1.set_visible(False)\n",
      "            \n",
      "yticks1 = ax.yaxis.get_major_ticks()\n",
      "for k in range(len(yticks1)):\n",
      "    if k%2==0:\n",
      "        yticks1[k].label1.set_visible(False) \n",
      "\n",
      "plt.legend(loc='upper right', frameon=False,scatterpoints=1,borderpad=0.2,\n",
      "        labelspacing=0.1,handlelength=2,handletextpad=0.5,borderaxespad=1) \n",
      "plt.title('BCG-'+str(22)+'  z=3')        \n",
      "plt.savefig('polvo_nopolvo'+str(1)+'D22.pdf', format='pdf', dpi=1300,bbox_inches='tight')\n",
      "plt.show()"
     ],
     "language": "python",
     "metadata": {},
     "outputs": [],
     "prompt_number": 33
    },
    {
     "cell_type": "code",
     "collapsed": false,
     "input": [],
     "language": "python",
     "metadata": {},
     "outputs": []
    }
   ],
   "metadata": {}
  }
 ]
}