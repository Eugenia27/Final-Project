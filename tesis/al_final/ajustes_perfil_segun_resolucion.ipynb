{
 "metadata": {
  "name": "",
  "signature": "sha256:01b5d689b7b98f6002ab69b19a195273f8ccbda1e745d75bf38c01e4037df80a"
 },
 "nbformat": 3,
 "nbformat_minor": 0,
 "worksheets": [
  {
   "cells": [
    {
     "cell_type": "code",
     "collapsed": false,
     "input": [
      "import numpy as np\n",
      "import matplotlib as mpl\n",
      "import matplotlib.pyplot as plt\n",
      "import matplotlib.mlab as mlab\n",
      "from scipy.optimize import curve_fit\n",
      "import scipy.optimize as optimize\n",
      "from matplotlib.ticker import NullFormatter,MultipleLocator, FormatStrFormatter\n",
      "from matplotlib.offsetbox import AnchoredText"
     ],
     "language": "python",
     "metadata": {},
     "outputs": [],
     "prompt_number": 1
    },
    {
     "cell_type": "code",
     "collapsed": false,
     "input": [
      "idem='_minpot3_rmmax_091_125_nodust_grupo0.txt'\n",
      "path='/home/meugenia/Dropbox/tesis/al_final/'\n",
      "flav=['LR','MR','HR']\n",
      "init='15'\n",
      "binn='1'"
     ],
     "language": "python",
     "metadata": {},
     "outputs": [],
     "prompt_number": 2
    },
    {
     "cell_type": "code",
     "collapsed": false,
     "input": [
      "#m24lr,r24lr,r50lr = np.loadtxt(path+flav[0]+'/'+flav[0]+idem, usecols=[2,3,4], unpack=True)\n",
      "m24lr,r24lr,r50lr = np.loadtxt(path+flav[0]+'/tablas/LR_minpot3_rmmax_091_band125_nodust_grupo0.txt', usecols=[2,3,4], unpack=True)\n",
      "m24mr,r24mr,r50mr = np.loadtxt(path+flav[1]+'/'+flav[1]+idem, usecols=[2,3,4], unpack=True)\n",
      "m24hr,r24hr,r50hr = np.loadtxt(path+flav[2]+'/tablas/HR_minpot3_rmmax_091_band125_nodust_grupo0.txt', usecols=[2,3,4], unpack=True)"
     ],
     "language": "python",
     "metadata": {},
     "outputs": [],
     "prompt_number": 3
    },
    {
     "cell_type": "code",
     "collapsed": false,
     "input": [
      "for k in range(29):\n",
      "    c=(r24lr[k]/r50lr[k])\n",
      "    if c>=2.85: \n",
      "        print k,c#,'cMR= ',(r24mr[k]/r50mr[k]),'cHR= ',(r24hr[k]/r50hr[k])  "
     ],
     "language": "python",
     "metadata": {},
     "outputs": [
      {
       "output_type": "stream",
       "stream": "stdout",
       "text": [
        "20 2.95952906549\n"
       ]
      }
     ],
     "prompt_number": 4
    },
    {
     "cell_type": "code",
     "collapsed": false,
     "input": [
      "rlr,mulr =  np.loadtxt(path+flav[0]+'/LR_minpot3_rmmax/nodust/grupo0/mu24/D2/091/desde_'+init+'/bineado'+binn+'/mu_medios125_D2_091.txt',unpack=True)\n",
      "rmr,mumr =  np.loadtxt(path+flav[1]+'/MR_minpot3_rmmax/nodust/grupo0/mu24/D2/091/desde_'+init+'/bineado'+binn+'/mu_medios125_D2_091.txt',unpack=True)\n",
      "rhr,muhr =  np.loadtxt(path+flav[2]+'/HR_minpot3_rmmax/nodust/grupo0/mu24/D2/091/desde_'+init+'/bineado'+binn+'/mu_medios125_D2_091.txt',unpack=True)\n",
      "rlr,ielr =  np.loadtxt(path+flav[0]+'/LR_minpot3_rmmax/nodust/grupo0/mu24/D2/091/desde_'+init+'/bineado'+binn+'/ie_medios125_D2_091.txt',unpack=True)\n",
      "rmr,iemr =  np.loadtxt(path+flav[1]+'/MR_minpot3_rmmax/nodust/grupo0/mu24/D2/091/desde_'+init+'/bineado'+binn+'/ie_medios125_D2_091.txt',unpack=True)\n",
      "rhr,iehr =  np.loadtxt(path+flav[2]+'/HR_minpot3_rmmax/nodust/grupo0/mu24/D2/091/desde_'+init+'/bineado'+binn+'/ie_medios125_D2_091.txt',unpack=True)"
     ],
     "language": "python",
     "metadata": {},
     "outputs": [],
     "prompt_number": 5
    },
    {
     "cell_type": "code",
     "collapsed": false,
     "input": [
      "def sersic_charly_mue(r,mue,re,beta):\n",
      "    return mue + 2.5*(2./beta-0.33)*((r/re)**beta -1)/np.log(10)"
     ],
     "language": "python",
     "metadata": {},
     "outputs": [],
     "prompt_number": 6
    },
    {
     "cell_type": "code",
     "collapsed": false,
     "input": [
      "def sersic_charly_ie(r,ie,re,beta):\n",
      "    return ie*np.exp(-(2./beta-0.33)*((r/re)**beta-1))"
     ],
     "language": "python",
     "metadata": {},
     "outputs": [],
     "prompt_number": 7
    },
    {
     "cell_type": "code",
     "collapsed": false,
     "input": [
      "def sersic_core_ie(r,ib,rb,alfa,gamma,re,n):\n",
      "    return ib*2**(-gamma/alfa)*np.exp((2.*n-0.33)*(2**(1/alfa)*rb//re)**1/n)*(1+(rb/r)**alfa)**(gamma/alfa)*np.exp(-(2.*n-0.33)*((r**alfa+rb**alfa)/re**alfa)**(1/(alfa*n)))"
     ],
     "language": "python",
     "metadata": {},
     "outputs": [],
     "prompt_number": 8
    },
    {
     "cell_type": "code",
     "collapsed": false,
     "input": [
      "def mu(_ie):\n",
      "    return -2.5*np.log10(_ie)-48.6 -0.044"
     ],
     "language": "python",
     "metadata": {},
     "outputs": [],
     "prompt_number": 9
    },
    {
     "cell_type": "code",
     "collapsed": false,
     "input": [
      "def ajustemu(r,mu,r24,p_init):\n",
      "    index = next(x[0] for x in enumerate(r) if x[1] > 1.5*r24)\n",
      "    xdata = r[0:index+1]\n",
      "    ydata = mu[0:index+1]\n",
      "    p=[p_init[0],p_init[1],p_init[2]]\n",
      "    popt, pcov = curve_fit(sersic_charly_mue, xdata, ydata,p)\n",
      "    return popt, pcov"
     ],
     "language": "python",
     "metadata": {},
     "outputs": [],
     "prompt_number": 10
    },
    {
     "cell_type": "code",
     "collapsed": false,
     "input": [
      "def ajusteie(r,ie,r24,p_init):\n",
      "    index = next(x[0] for x in enumerate(r) if x[1] > 1.5*r24)\n",
      "    xdata = r[0:index+1]\n",
      "    ydata = ie[0:index+1]\n",
      "    p=[p_init[0],p_init[1],p_init[2]]\n",
      "    popt, pcov = optimize.curve_fit(sersic_charly_ie, xdata, ydata,p)\n",
      "    return popt, pcov"
     ],
     "language": "python",
     "metadata": {},
     "outputs": [],
     "prompt_number": 11
    },
    {
     "cell_type": "code",
     "collapsed": false,
     "input": [
      "pmu=[24,30,0.17]\n",
      "#pie=[1e-18,30,0.25]"
     ],
     "language": "python",
     "metadata": {},
     "outputs": [],
     "prompt_number": 12
    },
    {
     "cell_type": "code",
     "collapsed": false,
     "input": [
      "lr,lrerr = ajustemu(rlr,mulr,r24lr[1],pmu)\n",
      "#lr,lrerr = ajusteie(rlr,ielr,r24lr[1],pie)"
     ],
     "language": "python",
     "metadata": {},
     "outputs": [],
     "prompt_number": 13
    },
    {
     "cell_type": "code",
     "collapsed": false,
     "input": [
      "mr,mrerr = ajustemu(rmr,mumr,r24mr[1],pmu)\n",
      "#mr,mrerr = ajusteie(rhr,iemr,r24mr[1],pie)"
     ],
     "language": "python",
     "metadata": {},
     "outputs": [],
     "prompt_number": 14
    },
    {
     "cell_type": "code",
     "collapsed": false,
     "input": [
      "hr,hrerr = ajustemu(rhr,muhr,r24hr,pmu)\n",
      "#hr,hrerr = ajusteie(rhr,iehr,r24hr,pie)"
     ],
     "language": "python",
     "metadata": {},
     "outputs": [],
     "prompt_number": 15
    },
    {
     "cell_type": "code",
     "collapsed": false,
     "input": [
      "plt.rc('text', usetex=True)\n",
      "font = {'family': 'serif', 'size': 27, 'serif': ['computer modern roman']}\n",
      "plt.rc('font', **font)\n",
      "plt.rc('legend', **{'fontsize': 25}) \n",
      "plt.rcParams['text.latex.preamble'] = [r'\\usepackage{amsmath}']\n",
      "\n",
      "plt.rcParams['axes.linewidth'] = 1.0\n",
      "plt.rcParams['xtick.major.size'] = 8\n",
      "plt.rcParams['xtick.minor.size'] = 4\n",
      "plt.rcParams['ytick.major.size'] = 6\n",
      "plt.rcParams['ytick.minor.size'] = 3\n",
      "mpl.rc('lines', linewidth=1)"
     ],
     "language": "python",
     "metadata": {},
     "outputs": [],
     "prompt_number": 16
    },
    {
     "cell_type": "code",
     "collapsed": false,
     "input": [
      "fig = plt.figure(figsize=(10,10))\n",
      "ax1 = fig.add_subplot(111)\n",
      "rfit = np.linspace(0,130,1000)\n",
      "if 1==1:\n",
      "    plt.plot(rfit,sersic_charly_mue(rfit,lr[0],lr[1],lr[2]), color='#C0C0C0',lw=2)\n",
      "    plt.plot(rfit,sersic_charly_mue(rfit,mr[0],mr[1],mr[2]), color='#808080',lw=2)\n",
      "    plt.plot(rfit,sersic_charly_mue(rfit,hr[0],hr[1],hr[2]), color='#404040',lw=2)\n",
      "    p1=plt.plot(rlr[1:],mulr[1:], color='#C0C0C0',ms=7,marker='o',mfc='none',mec='#C0C0C0',ls=':',label='LR')\n",
      "    p2=plt.plot(rmr[1:],mumr[1:],color='#808080',ms=8,marker='s',mfc='none',mec='#808080',ls='--',label='MR')\n",
      "    p3=plt.plot(rhr[1:],muhr[1:],color='#404040',ms=8,marker='+',ls='-',label='HR')\n",
      "    plt.ylim(25,20)\n",
      "    plt.xlim(0,130)\n",
      "\n",
      "if 1==0:\n",
      "    plt.plot(rfit,sersic_charly_ie(rfit,lr[0],lr[1],lr[2]), color='#C0C0C0',lw=2)\n",
      "    plt.plot(rfit,sersic_charly_ie(rfit,mr[0],mr[1],mr[2]), color='#808080',lw=2)\n",
      "    plt.plot(rfit,sersic_charly_ie(rfit,hr[0],hr[1],hr[2]), color='#404040',lw=2)\n",
      "    p1=plt.plot(rlr[1:],ielr[1:], color='#C0C0C0',ms=7,marker='o',mfc='none',mec='#C0C0C0',ls=':',label='LR')\n",
      "    p2=plt.plot(rmr[1:],iemr[1:],color='#808080',ms=8,marker='s',mfc='none',mec='#808080',ls='--',label='MR')\n",
      "    p3=plt.plot(rhr[1:],iehr[1:],color='#404040',ms=8,marker='+',ls='-',label='HR')\n",
      "    plt.ylim(0,1e-17)\n",
      "    plt.xlim(5,130)\n",
      "\n",
      "\n",
      "#text1='LR \\n $\\mu_{e}$\\n R$_{e}$ \\n n'\n",
      "#text2='MR \\n $\\mu_{e}$\\n R$_{e}$ \\n n'\n",
      "#text3='HR \\n $\\mu_{e}$\\n R$_{e}$ \\n n'\n",
      "pc  = plt.Rectangle((0,0), 0,0,facecolor='none', label='dummy-tophead',edgecolor='none')\n",
      "\n",
      "\n",
      "w1=str(round(lr[0],2))\n",
      "#w1=\"${0:0.2e}$\".format(lr[0])\n",
      "w2=str(round(lr[1],2))\n",
      "w3=str(round(1/lr[2],2))\n",
      "\n",
      "w4=str(round(round(mr[0],2)))\n",
      "#w4=\"${0:0.2e}$\".format(mr[0])\n",
      "w5=str(round(mr[1],2))\n",
      "w6=str(round(1/mr[2],2))\n",
      "\n",
      "w7=str(round(hr[0],2))\n",
      "#w7=\"${0:0.2e}$\".format(hr[0])\n",
      "w8=str(round(hr[1],2))\n",
      "w9=str(round(1/hr[2],2))\n",
      "\n",
      "\n",
      "objects=[pc,pc,pc,pc,p1[0],pc,pc,pc,p2[0],pc,pc,pc,p3[0],pc,pc,pc]\n",
      "#labels = ['','$\\mu_{e}$: ','$r_{e}: $ ','$n: $ ', 'LR',w1,w2,w3,'MR',w4,w5,w6,'HR',w7,w8,w9]\n",
      "labels = ['','$\\mu_{e}$: ','$r_{e}: $ ','$n: $ ', 'LR',w1,w2,w3,'MR',w4,w5,w6,'HR',w7,w8,w9]\n",
      "\n",
      "ax1.legend(objects,labels,loc='upper right', frameon=False, scatterpoints=1,borderpad=0.1,\n",
      "           labelspacing=0.2,ncol=4,handletextpad=0.2,columnspacing=-0.1)\n",
      "\n",
      "ax1.set_xlabel('R [Kpc]')\n",
      "ax1.set_ylabel('$\\mu_{V}$ [$mag/arcsec^{2}$]')\n",
      "#ax1.set_ylabel(\"I$_{e}$ [$erg s^{-1} cm^{-2} Hz^{-1} sr^{-1} $]\")\n",
      "#ax1.set_xlim(11.2,12.8)\n",
      "xticks1 = ax1.xaxis.get_major_ticks()\n",
      "xticks1[0].label1.set_visible(False)\n",
      "xticks1[-1].label1.set_visible(False)\n",
      "yticks1 = ax1.yaxis.get_major_ticks()\n",
      "yticks1[0].label1.set_visible(False)\n",
      "yticks1[-1].label1.set_visible(False)\n",
      "ax1.minorticks_on()\n",
      "\n",
      "delta=int(binn)*2\n",
      "\n",
      "texto=' Inicio Binneado: '+init+'Kpc\\n Delta Binneado: '+str(delta)+'Kpc'\n",
      "#ax1.annotate(texto, xy=(1, 1), xytext=(-420, -440), fontsize=20,\n",
      "#                 xycoords='axes fraction', textcoords='offset points',\n",
      "#                 horizontalalignment='left', verticalalignment='bottom')         \n",
      "ax1.annotate(texto, xy=(1, 1), xytext=(-210, -210), fontsize=20,\n",
      "                 xycoords='axes fraction', textcoords='offset points',\n",
      "                 horizontalalignment='left', verticalalignment='bottom')   \n",
      "\n",
      "plt.savefig('kk_resoluciones_'+init+'_'+binn+'.pdf', format='pdf', dpi=1500,bbox_inches='tight')\n",
      "plt.show()"
     ],
     "language": "python",
     "metadata": {},
     "outputs": [],
     "prompt_number": 17
    },
    {
     "cell_type": "code",
     "collapsed": false,
     "input": [
      "lr,mr,hr"
     ],
     "language": "python",
     "metadata": {},
     "outputs": [
      {
       "metadata": {},
       "output_type": "pyout",
       "prompt_number": 18,
       "text": [
        "(array([ 23.35532183,  62.92652566,   0.29847951]),\n",
        " array([ 23.87625374,  66.29494299,   0.35811045]),\n",
        " array([  25.43083018,  122.10810592,    0.23712238]))"
       ]
      }
     ],
     "prompt_number": 18
    },
    {
     "cell_type": "code",
     "collapsed": false,
     "input": [
      "1/hr[2]"
     ],
     "language": "python",
     "metadata": {},
     "outputs": [
      {
       "metadata": {},
       "output_type": "pyout",
       "prompt_number": 20,
       "text": [
        "3.9632001007248121"
       ]
      }
     ],
     "prompt_number": 20
    },
    {
     "cell_type": "code",
     "collapsed": false,
     "input": [],
     "language": "python",
     "metadata": {},
     "outputs": [],
     "prompt_number": 99
    },
    {
     "cell_type": "code",
     "collapsed": false,
     "input": [],
     "language": "python",
     "metadata": {},
     "outputs": [],
     "prompt_number": 99
    },
    {
     "cell_type": "code",
     "collapsed": false,
     "input": [],
     "language": "python",
     "metadata": {},
     "outputs": []
    }
   ],
   "metadata": {}
  }
 ]
}