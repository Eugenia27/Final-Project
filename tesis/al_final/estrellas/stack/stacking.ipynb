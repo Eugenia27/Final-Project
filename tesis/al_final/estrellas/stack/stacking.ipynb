{
 "metadata": {
  "name": "",
  "signature": "sha256:2ca7729c80c032c271f6c443775c18dcebd2c5ee170718e8f5f99aaad340c0ef"
 },
 "nbformat": 3,
 "nbformat_minor": 0,
 "worksheets": [
  {
   "cells": [
    {
     "cell_type": "code",
     "collapsed": false,
     "input": [
      "import numpy as np\n",
      "import cython\n",
      "import glob\n",
      "import matplotlib.pyplot as plt\n",
      "import plot as po\n",
      "import bineado as bi\n",
      "#import matplotlib.ticker import NullFormatter,MultipleLocator, FormatStrFormatter\n",
      "from matplotlib.offsetbox import AnchoredText\n",
      "import math as mt\n",
      "import os\n",
      "import histos as h\n",
      "\n",
      "save= 1\n",
      "\n",
      "def stack(snap):\n",
      "    stack=[0,0,1,0,0,0,0,0,0,1,0,0,0,1,1,1,0,0,0,0,1,1,1,0,1,0,0,1,0,1]\n",
      "    rall = np.array([])\n",
      "    metall = np.array([])\n",
      "    ageall = np.array([])\n",
      "    first='true'\n",
      "\n",
      "    for reg in range(30):\n",
      "        sreg  = str(reg)\n",
      "        if reg==0 or stack[reg]==0 or reg==30:\n",
      "    #if reg==0 or reg>2:\n",
      "            continue\n",
      "\n",
      "        #prefijo_inputs='/home/mferraro/inputs/D'+str(reg)+'_LR_minpot3_rmmax_'+snap+'_'\n",
      "        prefijo_inputs='/home/meugenia/0/LR/inputs_grupo0/D'+str(reg)+'_LR_minpot3_rmmax_'+snap+'_'\n",
      "\n",
      "        file_mass=''\n",
      "        for fm in glob.glob(prefijo_inputs+'*NoDust.dat'):\n",
      "            file_mass = fm\n",
      "\n",
      "        file_obs='/home/meugenia/Dropbox/tesis/al_final/LR/tablas/LR_minpot3_rmmax_'+snap+'_band125_nodust_grupo0.txt'\n",
      "        r24=np.loadtxt(file_obs, usecols=[3],unpack=True)\n",
      "\n",
      "        pt    =np.array([])\n",
      "        x     =np.array([])\n",
      "        y     =np.array([])\n",
      "        met   =np.array([])\n",
      "        age   =np.array([])\n",
      "        rnorm =np.zeros(x)\n",
      "        x1    =np.array([])\n",
      "        y1    =np.array([])        \n",
      "        met1  =np.array([])\n",
      "        age1  =np.array([])        \n",
      "\n",
      "        pt,x,y,age,met=np.loadtxt(file_mass,usecols=[0,1,2,4,5],unpack=True,skiprows=1)\n",
      "        \n",
      "        for kk in range(len(age)):\n",
      "            if pt[kk]!=-1 or met[kk]==-666.67:\n",
      "                continue\n",
      "            else:\n",
      "                if age[kk]>0 and age[kk]<50 and (x[kk]**2+y[kk]**2)<=(r24[reg-1])**2:\n",
      "                    age1=np.append(age1,age[kk])\n",
      "                    met1=np.append(met1,met[kk])\n",
      "                    x1=np.append(x1,x[kk])\n",
      "                    y1=np.append(y1,y[kk])\n",
      "\n",
      "        r=np.sqrt(x1**2+y1**2)\n",
      "        rnorm=[value/float(r24[reg-1]) for value in r] \n",
      "        \n",
      "        if first=='false':\n",
      "            rall   =np.concatenate((rall,rnorm),axis=0)\n",
      "            metall =np.concatenate((metall,met1),axis=0)\n",
      "            ageall =np.concatenate((ageall,age1),axis=0)\n",
      "            print len(rall),'  ', len(rnorm)\n",
      "        if first=='true':            \n",
      "            rall   =rnorm\n",
      "            metall =met1\n",
      "            ageall =age1\n",
      "            first='false'\n",
      "            print len(rall),'  ', len(rnorm)\n",
      "\n",
      "\n",
      "        print 'PASE POR '+str(reg)\n",
      "    return rall,ageall,metall\n",
      "\n"
     ],
     "language": "python",
     "metadata": {},
     "outputs": [],
     "prompt_number": 50
    },
    {
     "cell_type": "code",
     "collapsed": false,
     "input": [
      "def bineado(x,entity,bins,init,end):\n",
      "    step=(end-init)/float(bins)\n",
      "    nelements  =np.zeros(bins)\n",
      "    bin_entity =np.zeros(bins)\n",
      "    xbin       =np.zeros(bins)\n",
      "    medians    =np.zeros(bins)\n",
      "    sigmas     =np.zeros(bins)\n",
      "    #perc10     =np.zeros(bins)\n",
      "    perc25     =np.zeros(bins)\n",
      "    perc75     =np.zeros(bins)\n",
      "    #perc90     =np.zeros(bins)\n",
      "\n",
      "    matrixbin  = []\n",
      "    \n",
      "    for j in range(bins):\n",
      "        matrixbin.append([])    \n",
      "    \n",
      "    for i in range(len(entity)):\n",
      "        ibin = int((x[i]-init)/float(step))\n",
      "        if ibin>=bins:\n",
      "            continue\n",
      "        else:\n",
      "            nelements[ibin] += 1\n",
      "            bin_entity[ibin] = bin_entity[ibin] + entity[i]\n",
      "            matrixbin[ibin].append(entity[i])\n",
      "            #if i%1000==0:\n",
      "            #    print ibin, nelements[ibin],bin_entity[ibin]\n",
      "            \n",
      "    for k in range(bins):\n",
      "        medians[k]=np.median(matrixbin[k])\n",
      "        sigmas[k]=np.std(matrixbin[k])\n",
      "        #perc10[k]=np.percentile(matrixbin[k],10)\n",
      "        #perc25[k]=np.percentile(matrixbin[k],25)\n",
      "        perc25[k]=np.percentile(matrixbin[k],25)\n",
      "        perc75[k]=np.percentile(matrixbin[k],75)\n",
      "               \n",
      "    xbin=[init+0.5*(2*i+1)*step for i in range(bins)]    \n",
      "\n",
      "    return nelements,xbin,bin_entity,sigmas,medians,perc25,perc75 \n",
      "#,matrixbin "
     ],
     "language": "python",
     "metadata": {},
     "outputs": [],
     "prompt_number": 58
    },
    {
     "cell_type": "code",
     "collapsed": false,
     "input": [
      "def histograma(h1,h2,bines,ylim,xlim1,xlim2,save,labelx,labely,leg1,leg2,color,ticks,anotacion,m1,m2,t1,t2,pos,c,posan):\n",
      "    fig = plt.figure(num=None, figsize=(8, 8), dpi=80, facecolor='w', edgecolor='k')\n",
      "    ax = fig.add_subplot(111)\n",
      "    if len(h2)!=0:\n",
      "        bins = np.histogram(np.hstack((h1,h2)), bins=bines)[1]\n",
      "        ax.hist(h1, bins=bins, edgecolor=c[0],facecolor='none',histtype='stepfilled',linewidth=1, label=leg1,normed=True)\n",
      "        ax.hist(h2, bins=bins,edgecolor=c[1],facecolor='none',histtype='stepfilled', hatch='//', label=leg2,normed=True)\n",
      "    else:\n",
      "        bins = bines\n",
      "        ax.hist(h1, bins=bins, color=color,facecolor='none',histtype='stepfilled',hatch='xx',linewidth=1, label=leg1)\n",
      "\n",
      "    if m1!='none':\n",
      "        plt.axvline(x=m1,color=c[0],label=t1+'= '+str(round(m1,4)),ls='--',lw=2)\n",
      "    if m2!='none':\n",
      "        plt.axvline(x=m2,color=c[1],label=t2+'= '+str(round(m2,4)),ls='--',lw=2)\n",
      "\n",
      "    plt.xlim(xlim1,xlim2)\n",
      "    plt.ylim(0,ylim)\n",
      "    xticks1 = ax.xaxis.get_major_ticks()\n",
      "    xticks1[0].label1.set_visible(False)\n",
      "    if ticks:\n",
      "        for i in range(len(xticks1)):\n",
      "            if i%2!=0:\n",
      "                xticks1[i].label1.set_visible(False)\n",
      "\n",
      "    yticks1 = ax.yaxis.get_major_ticks()\n",
      "    for i in range(len(yticks1)):\n",
      "            if i%2==0:\n",
      "                yticks1[i].label1.set_visible(False)\n",
      "\n",
      "    yticks1[0].label1.set_visible(False)\n",
      "    if pos==1:\n",
      "        locc='upper left'\n",
      "    elif pos==2:\n",
      "        locc='upper right' \n",
      "    elif pos==3:\n",
      "        locc='lower left'\n",
      "    elif pos==4:\n",
      "        locc='lower right'\n",
      "        \n",
      "    plt.legend(loc=locc, frameon=False,scatterpoints=1,borderpad=0.2,\n",
      "        labelspacing=0.3,handlelength=2,handletextpad=0.5,borderaxespad=1)\n",
      "    plt.xlabel(labelx)\n",
      "    plt.ylabel(labely)\n",
      "    plt.minorticks_on()\n",
      "\n",
      "    ax.annotate(anotacion, xy=(1, 1),color='gray', xytext=(posan[0], posan[1]), fontsize=20,\n",
      "                 xycoords='axes fraction', textcoords='offset points',\n",
      "                 horizontalalignment='left', verticalalignment='bottom')\n",
      "\n",
      "\n",
      "    plt.savefig(save, format='pdf', dpi=1300,bbox_inches='tight')\n",
      "    plt.show()\n",
      "    "
     ],
     "language": "python",
     "metadata": {},
     "outputs": []
    },
    {
     "cell_type": "code",
     "collapsed": false,
     "input": [
      "dist1 ,stars1 ,met1=stack('091')\n",
      "zdist1,zstars1,zmet1=stack('041')\n",
      "#dist1=dist1*100 \n",
      "#zdist1=zdist1*100 \n",
      "if save:\n",
      "    if os.path.exists('stackz0.txt'):\n",
      "        os.remove('stackz0.txt')\n",
      "    \n",
      "    myfile0 = open('stackz0.txt','a')\n",
      "    for d in range(len(dist1)):\n",
      "        myfile0.write('{:10.7g} {:10.7g} {:10.7g} \\n'.format(dist1[d],stars1[d],met1[d]))\n",
      "    myfile0.close()\n",
      "\n",
      "    if os.path.exists('stackz1.txt'):\n",
      "        os.remove('stackz1.txt')\n",
      "    \n",
      "    myfile1 = open('stackz1.txt','a')\n",
      "    for d in range(len(zdist1)):\n",
      "        myfile1.write('{:10.7g} {:10.7g} {:10.7g} \\n'.format(zdist1[d],zstars1[d],zmet1[d]))\n",
      "    myfile1.close()\n"
     ],
     "language": "python",
     "metadata": {},
     "outputs": [
      {
       "output_type": "stream",
       "stream": "stdout",
       "text": [
        "38781    38781\n",
        "PASE POR 2\n",
        "47893"
       ]
      },
      {
       "output_type": "stream",
       "stream": "stdout",
       "text": [
        "    9112\n",
        "PASE POR 9\n",
        "114329"
       ]
      },
      {
       "output_type": "stream",
       "stream": "stdout",
       "text": [
        "    66436\n",
        "PASE POR 13\n",
        "189713"
       ]
      },
      {
       "output_type": "stream",
       "stream": "stdout",
       "text": [
        "    75384\n",
        "PASE POR 14\n",
        "266604"
       ]
      },
      {
       "output_type": "stream",
       "stream": "stdout",
       "text": [
        "    76891\n",
        "PASE POR 15\n",
        "344026"
       ]
      },
      {
       "output_type": "stream",
       "stream": "stdout",
       "text": [
        "    77422\n",
        "PASE POR 20\n",
        "435575"
       ]
      },
      {
       "output_type": "stream",
       "stream": "stdout",
       "text": [
        "    91549\n",
        "PASE POR 21\n",
        "532857"
       ]
      },
      {
       "output_type": "stream",
       "stream": "stdout",
       "text": [
        "    97282\n",
        "PASE POR 22\n",
        "632296"
       ]
      },
      {
       "output_type": "stream",
       "stream": "stdout",
       "text": [
        "    99439\n",
        "PASE POR 24\n",
        "701473"
       ]
      },
      {
       "output_type": "stream",
       "stream": "stdout",
       "text": [
        "    69177\n",
        "PASE POR 27\n",
        "753316"
       ]
      },
      {
       "output_type": "stream",
       "stream": "stdout",
       "text": [
        "    51843\n",
        "PASE POR 29\n",
        "17255"
       ]
      },
      {
       "output_type": "stream",
       "stream": "stdout",
       "text": [
        "    17255\n",
        "PASE POR 2\n",
        "26962"
       ]
      },
      {
       "output_type": "stream",
       "stream": "stdout",
       "text": [
        "    9707\n",
        "PASE POR 9\n",
        "45142"
       ]
      },
      {
       "output_type": "stream",
       "stream": "stdout",
       "text": [
        "    18180\n",
        "PASE POR 13\n",
        "89868"
       ]
      },
      {
       "output_type": "stream",
       "stream": "stdout",
       "text": [
        "    44726\n",
        "PASE POR 14\n",
        "121755"
       ]
      },
      {
       "output_type": "stream",
       "stream": "stdout",
       "text": [
        "    31887\n",
        "PASE POR 15\n",
        "169161"
       ]
      },
      {
       "output_type": "stream",
       "stream": "stdout",
       "text": [
        "    47406\n",
        "PASE POR 20\n",
        "225119"
       ]
      },
      {
       "output_type": "stream",
       "stream": "stdout",
       "text": [
        "    55958\n",
        "PASE POR 21\n",
        "269414"
       ]
      },
      {
       "output_type": "stream",
       "stream": "stdout",
       "text": [
        "    44295\n",
        "PASE POR 22\n",
        "321769"
       ]
      },
      {
       "output_type": "stream",
       "stream": "stdout",
       "text": [
        "    52355\n",
        "PASE POR 24\n",
        "355757"
       ]
      },
      {
       "output_type": "stream",
       "stream": "stdout",
       "text": [
        "    33988\n",
        "PASE POR 27\n",
        "387952"
       ]
      },
      {
       "output_type": "stream",
       "stream": "stdout",
       "text": [
        "    32195\n",
        "PASE POR 29\n"
       ]
      }
     ],
     "prompt_number": 51
    },
    {
     "cell_type": "code",
     "collapsed": false,
     "input": [
      "anb  ,axbin  ,abe  ,asigmas , amedians , ap25 , ap75   = bineado(dist1,stars1,60,0.,1.)\n",
      "zanb ,zaxbin ,zabe ,zasigmas, zamedians, zap25, zap75  = bineado(dist1,zstars1,60,0.,1)\n",
      "mnb  ,mxbin  ,mbe  ,msigmas , mmedians , mp25 , mp75   = bineado(dist1,met1,60,0.,1)\n",
      "zmnb ,zmxbin ,zmbe ,zmsigmas, zmmedians, zmp25, zmp75  = bineado(dist1,zmet1,60,0.,1)"
     ],
     "language": "python",
     "metadata": {},
     "outputs": [],
     "prompt_number": 59
    },
    {
     "cell_type": "code",
     "collapsed": false,
     "input": [
      "amedias = abe/anb\n",
      "zamedias = zabe/zanb\n",
      "mmedias = mbe/mnb\n",
      "zmmedias = zmbe/zmnb"
     ],
     "language": "python",
     "metadata": {},
     "outputs": [],
     "prompt_number": 62
    },
    {
     "cell_type": "code",
     "collapsed": false,
     "input": [
      "plt.rc('text', usetex=True)\n",
      "font = {'family': 'serif', 'size': 25, 'serif': ['computer modern roman']}\n",
      "plt.rc('font', **font)\n",
      "plt.rc('legend', **{'fontsize': 17}) \n",
      "plt.rcParams['text.latex.preamble'] = [r'\\usepackage{amsmath}']\n",
      "plt.rcParams['axes.linewidth'] = 1.0\n",
      "plt.rcParams['xtick.major.size'] = 8\n",
      "plt.rcParams['xtick.minor.size'] = 4\n",
      "plt.rcParams['ytick.major.size'] = 6\n",
      "plt.rcParams['ytick.minor.size'] = 3\n",
      "plt.rc('lines', linewidth=3)"
     ],
     "language": "python",
     "metadata": {},
     "outputs": [],
     "prompt_number": 60
    },
    {
     "cell_type": "code",
     "collapsed": false,
     "input": [
      "cmg='#92602E'\n",
      "cmc='yellow'\n",
      "cag='tomato'\n",
      "cac='#0066CC'"
     ],
     "language": "python",
     "metadata": {},
     "outputs": [],
     "prompt_number": 61
    },
    {
     "cell_type": "code",
     "collapsed": false,
     "input": [
      "amediascore=np.mean([amedias[0],amedias[1],amedias[2],amedias[3],amedias[4],amedias[5],amedias[6],amedias[7]])\n",
      "amediasout=np.mean([amedias[-8],amedias[-7],amedias[-6],amedias[-5],amedias[-4],amedias[-3],amedias[-2],amedias[-1]])\n",
      "zamediascore=np.mean([zamedias[0],zamedias[1],zamedias[2],zamedias[3],zamedias[4],zamedias[5],zamedias[6],zamedias[7]])\n",
      "zamediasout=np.mean([zamedias[-8],zamedias[-7],zamedias[-6],zamedias[-5],zamedias[-4],zamedias[-3],zamedias[-2],zamedias[-1]])\n",
      "mmediascore=np.mean([mmedias[0],mmedias[1],mmedias[2],mmedias[3],mmedias[4],mmedias[5],mmedias[6],mmedias[7]])\n",
      "mmediasout=np.mean([mmedias[-8],mmedias[-7],mmedias[-6],mmedias[-5],mmedias[-4],mmedias[-3],mmedias[-2],mmedias[-1]])\n",
      "zmmediascore=np.mean([zmmedias[0],zmmedias[1],zmmedias[2],zmmedias[3],zmmedias[4],zmmedias[5],zmmedias[6],zmmedias[7]])\n",
      "zmmediasout=np.mean([zmmedias[-8],zmmedias[-7],zmmedias[-6],zmmedias[-5],zmmedias[-4],zmmedias[-3],zmmedias[-2],zmmedias[-1]])"
     ],
     "language": "python",
     "metadata": {},
     "outputs": [],
     "prompt_number": 64
    },
    {
     "cell_type": "code",
     "collapsed": false,
     "input": [
      "acoc=amediascore/float(amediasout)\n",
      "zacoc=zamediascore/(zamediasout)\n",
      "mcoc=mmediascore/(mmediasout)\n",
      "zmcoc=zmmediascore/(zmmediasout)"
     ],
     "language": "python",
     "metadata": {},
     "outputs": [],
     "prompt_number": 73
    },
    {
     "cell_type": "code",
     "collapsed": false,
     "input": [
      "#amedias=np.array([])\n",
      "#asigmas=np.array([])\n",
      "#for i in range(len(axbin)):\n",
      "#    amedias=np.append(amedias,np.mean(amatriz[i]))\n",
      "#    asigmas=np.append(asigmas,np.std(amatriz[i]))"
     ],
     "language": "python",
     "metadata": {},
     "outputs": [],
     "prompt_number": 35
    },
    {
     "cell_type": "code",
     "collapsed": false,
     "input": [
      "#zamedias=np.array([])\n",
      "#zasigmas=np.array([])\n",
      "#for i in range(len(zaxbin)):\n",
      "#    zamedias=np.append(zamedias,np.mean(zamatriz[i]))\n",
      "#    zasigmas=np.append(zasigmas,np.std(zamatriz[i]))#"
     ],
     "language": "python",
     "metadata": {},
     "outputs": [],
     "prompt_number": 36
    },
    {
     "cell_type": "code",
     "collapsed": false,
     "input": [
      "#mmedias=np.array([])\n",
      "#msigmas=np.array([])\n",
      "#for i in range(len(mxbin)):\n",
      "#    mmedias=np.append(mmedias,np.mean(mmatriz[i]))\n",
      "#    msigmas=np.append(msigmas,np.std(mmatriz[i]))"
     ],
     "language": "python",
     "metadata": {},
     "outputs": [],
     "prompt_number": 37
    },
    {
     "cell_type": "code",
     "collapsed": false,
     "input": [
      "#zmmedias=np.array([])\n",
      "#zmsigmas=np.array([])\n",
      "#for i in range(len(zmxbin)):\n",
      "#    zmmedias=np.append(zmmedias,np.mean(zmmatriz[i]))\n",
      "#    zmsigmas=np.append(zmsigmas,np.std(zmmatriz[i]))"
     ],
     "language": "python",
     "metadata": {},
     "outputs": [],
     "prompt_number": 38
    },
    {
     "cell_type": "code",
     "collapsed": false,
     "input": [
      "#po.gradientes_barras_evolucion([axbin,zaxbin],[amedias,zamedias],[asigmas,zasigmas],\n",
      "#                         [0,1.1],[-1,16],['R [Kpc]','Age [Gyr]'],['Edades-Medias\\n z=0','Edades-Medias\\n z=1'],\n",
      "#                         '',[cag,cac],[cag,cac],['black','black'],0,\n",
      " #                        'stack_edad.pdf')"
     ],
     "language": "python",
     "metadata": {},
     "outputs": [],
     "prompt_number": 39
    },
    {
     "cell_type": "code",
     "collapsed": false,
     "input": [
      "##po.gradientes_barras_evolucion([mxbin,zmxbin],[mmedias,zmmedias],[msigmas,zmsigmas],\n",
      "#                         [0,1.1],[-0.01,0.05],['R/R$_{24}$','Z'],['Z-Medias\\n z=0','Z-Medias\\n z=1'],\n",
      "#                         '',[cmg,'gray'],[cmg,'gray'],['black','black'],0,\n",
      "#                         '_stack_metalicidad.pdf')"
     ],
     "language": "python",
     "metadata": {},
     "outputs": [],
     "prompt_number": 46
    },
    {
     "cell_type": "code",
     "collapsed": false,
     "input": [
      "left, width = .60, .3\n",
      "bottom, height = .15, .8\n",
      "right = left + width\n",
      "top = bottom + height"
     ],
     "language": "python",
     "metadata": {},
     "outputs": [],
     "prompt_number": 71
    },
    {
     "cell_type": "code",
     "collapsed": false,
     "input": [
      "    fig = plt.figure(figsize=(7,7))\n",
      "    ax = fig.add_subplot(111)\n",
      "    ax.plot(axbin,amedias,color=cag,label='z=0')#,marker='.',mfc=cag,mec=cag)\n",
      "    ax.plot(zaxbin,zamedias,color=cac,ls='--',label='z=1')#,marker='.',mfc=cac,mec=cac) \n",
      "    #plt.plot(rfit,lineal_model(rfit,apopt[reg][0],apopt[reg][1]),label=text1,color=cag,ls='--')\n",
      "    #plt.plot(rfit,lineal_model(rfit,zapopt[reg][0],zapopt[reg][1]),label=text2,color=cac,ls='--')\n",
      "    ax.fill_between(axbin,amedias+asigmas,amedias-asigmas, edgecolor=cag,\n",
      "                 color='none', facecolor=cag,alpha=0.3,lw=1) \n",
      "    ax.fill_between(zaxbin,zamedias+zasigmas,zamedias-zasigmas, edgecolor=cac,\n",
      "                 color='none', facecolor=cac,alpha=0.3,lw=1)     \n",
      "    #plt.plot(rfit,lineal_model(rfit,mpopt[reg][0],mpopt[reg][1]),label=text3,color=cmg,ls='--')\n",
      "    #plt.plot(rfit,lineal_model(rfit,zmpopt[reg][0],zmpopt[reg][1]),label=text4,color=cmg,ls='--')\n",
      "    \n",
      "    ax.text(left-.2, bottom-0.03, 'Centro/Periferia $\\mid_{z=0}$ = '+\"${0:0.2f}$\".format(acoc),\n",
      "        transform=ax.transAxes, fontsize=20)   \n",
      "\n",
      "    ax.text(left-.2, bottom-0.10, 'Centro/Periferia $\\mid_{z=1}$ = '+\"${0:0.2f}$\".format(zacoc),\n",
      "        transform=ax.transAxes, fontsize=20)\n",
      "    \n",
      "    ax.set_ylim(-2,17)\n",
      "    ax.set_ylabel('Age [Gyr]')\n",
      "    ax.set_xlabel('R/R$_{24}$')\n",
      "    #ax.set_title('STACK')\n",
      "    ax.legend(loc='upper left', frameon=False, scatterpoints=1,borderpad=0.1, labelspacing=0.1,handlelength=2)\n",
      "    xticks = ax.xaxis.get_major_ticks()\n",
      "    for mt in range(len(xticks)):\n",
      "        if mt%2==0:\n",
      "            xticks[mt].label1.set_visible(False)\n",
      "\n",
      "    yticks = ax.yaxis.get_major_ticks()\n",
      "    for mt in range(len(yticks)):\n",
      "        if mt%2!=0:\n",
      "            yticks[mt].label1.set_visible(False)\n",
      "    ax.minorticks_on()       \n",
      "    plt.savefig('aSTACK_EDAD_MEDIAS.pdf', format='pdf', dpi=100,bbox_inches='tight')\n",
      "    plt.show()\n"
     ],
     "language": "python",
     "metadata": {},
     "outputs": [],
     "prompt_number": 133
    },
    {
     "cell_type": "code",
     "collapsed": false,
     "input": [
      "    \n",
      "    fig = plt.figure(figsize=(7,7))\n",
      "    ax = fig.add_subplot(111)\n",
      "    ax.plot(mxbin,mmedias,color=cmg,label='z=0')#,marker='.',mfc=cmg,mec=cmg)\n",
      "    ax.plot(zmxbin,zmmedias,color='yellow',ls='--',label='z=1')#,marker='.',mfc='yellow',mec='yellow')\n",
      "    ax.fill_between(mxbin,mmedias+msigmas,mmedias-msigmas, edgecolor=cmg,\n",
      "                 color='none', facecolor=cmg,alpha=0.3,lw=1) \n",
      "    ax.fill_between(zmxbin,zmmedias+zmsigmas,zmmedias-zmsigmas, edgecolor='yellow',\n",
      "                 color='none', facecolor='yellow',alpha=0.3,lw=1)     \n",
      "    #plt.plot(rfit,lineal_model(rfit,mpopt[reg][0],mpopt[reg][1]),label=text3,color=cmg,ls='--')\n",
      "    #plt.plot(rfit,lineal_model(rfit,zmpopt[reg][0],zmpopt[reg][1]),label=text4,color=cmg,ls='--')\n",
      "    \n",
      "    #ax.text(right, top, 'z=0, R$_{\\mu_{24}}=$ '+str(round(r24z0[reg-1],2))+'\\nz=1, R$_{\\mu_{24}}=$ '+str(round(r24z1[reg-1],2)),\n",
      "    #    horizontalalignment='right',\n",
      "    #    verticalalignment='top',\n",
      "    #    transform=ax.transAxes, fontsize=20)\n",
      "    ax.text(left-.57, top-0.02, 'Centro/Periferia $\\mid_{z=0}$ = '+\"${0:0.2f}$\".format(mcoc),\n",
      "        transform=ax.transAxes, fontsize=20)\n",
      "    \n",
      "    \n",
      "    ax.text(left-.57, top-0.09, 'Centro/Periferia $\\mid_{z=1}$ = '+\"${0:0.2f}$\".format(zmcoc),\n",
      "        transform=ax.transAxes, fontsize=20)    \n",
      "    \n",
      "    ax.set_ylim(-0.006,0.050)\n",
      "    ax.set_ylabel('Z')\n",
      "    ax.set_xlabel('R/R$_{24}$')\n",
      "    #ax.set_title('STACK')\n",
      "    ax.legend(loc='upper right', frameon=False, scatterpoints=1,borderpad=0.1, labelspacing=0.1, handlelength=2)\n",
      "    xticks = ax.xaxis.get_major_ticks()\n",
      "    for mt in range(len(xticks)):\n",
      "        if mt%2==0:\n",
      "            xticks[mt].label1.set_visible(False)\n",
      "\n",
      "    #yticks = ax.yaxis.get_major_ticks()\n",
      "    #for mt in range(len(yticks)):\n",
      "    #    if mt%2!=0:\n",
      "    #        yticks[mt].label1.set_visible(False)\n",
      "    ax.minorticks_on() \n",
      "    plt.savefig('STACK_METALIDIDAD_MEDIAS.pdf', format='pdf', dpi=100,bbox_inches='tight')\n",
      "    plt.show()\n",
      "    "
     ],
     "language": "python",
     "metadata": {},
     "outputs": [],
     "prompt_number": 132
    },
    {
     "cell_type": "code",
     "collapsed": false,
     "input": [
      "    fig = plt.figure(figsize=(7,7))\n",
      "     #amedians , ap25 , ap75 \n",
      "    ax = fig.add_subplot(111)\n",
      "    ax.plot(axbin,amedians,color=cag,label='z=0')#,marker='.',mfc=cag,mec=cag)\n",
      "    ax.plot(zaxbin,zamedians,color=cac,ls='--',label='z=1')#,marker='.',mfc=cac,mec=cac) \n",
      "    #plt.plot(rfit,lineal_model(rfit,apopt[reg][0],apopt[reg][1]),label=text1,color=cag,ls='--')\n",
      "    #plt.plot(rfit,lineal_model(rfit,zapopt[reg][0],zapopt[reg][1]),label=text2,color=cac,ls='--')\n",
      "    ax.fill_between(axbin,ap75,ap25, edgecolor=cag,\n",
      "                 color='none', facecolor=cag,alpha=0.3,lw=1) \n",
      "    ax.fill_between(zaxbin,zap75,zap25, edgecolor=cac,\n",
      "                 color='none', facecolor=cac,alpha=0.3,lw=1)     \n",
      "    #plt.plot(rfit,lineal_model(rfit,mpopt[reg][0],mpopt[reg][1]),label=text3,color=cmg,ls='--')\n",
      "    #plt.plot(rfit,lineal_model(rfit,zmpopt[reg][0],zmpopt[reg][1]),label=text4,color=cmg,ls='--')\n",
      "    \n",
      "    ##ax.text(right, top, 'z=0, R$_{\\mu_{24}}=$ '+str(round(r24z0[reg-1],2))+'\\nz=1, R$_{\\mu_{24}}=$ '+str(round(r24z1[reg-1],2)),\n",
      "    #    horizontalalignment='right',\n",
      "    #    verticalalignment='top',\n",
      "    #    transform=ax.transAxes, fontsize=20)   \n",
      "    ax.text(left, bottom, 'Centro/Periferia= '+str(round(acoc,2))+'\\n z=1, Core/Out= '+str(round(zacoc,2)),\n",
      "        transform=ax.transAxes, fontsize=20)\n",
      "    \n",
      "    ax.set_ylim(-2,17)\n",
      "    ax.set_ylabel('Age [Gyr]')\n",
      "    ax.set_xlabel('R/R$_{24}$')\n",
      "    ax.set_title('STACK')\n",
      "    ax.legend(loc='upper left', frameon=False, scatterpoints=1,borderpad=0.1, labelspacing=0.1,handlelength=2)\n",
      "    xticks = ax.xaxis.get_major_ticks()\n",
      "    for mt in range(len(xticks)):\n",
      "        if mt%2==0:\n",
      "            xticks[mt].label1.set_visible(False)\n",
      "\n",
      "    yticks = ax.yaxis.get_major_ticks()\n",
      "    for mt in range(len(yticks)):\n",
      "        if mt%2!=0:\n",
      "            yticks[mt].label1.set_visible(False)\n",
      "    ax.minorticks_on()       \n",
      "    plt.savefig('STACK_EDAD_medianas.pdf', format='pdf', dpi=100,bbox_inches='tight')\n",
      "    plt.show()\n",
      "\n",
      "    \n",
      "    \n"
     ],
     "language": "python",
     "metadata": {},
     "outputs": [],
     "prompt_number": 82
    },
    {
     "cell_type": "code",
     "collapsed": false,
     "input": [
      "    fig = plt.figure(figsize=(7,7))\n",
      "    ax = fig.add_subplot(111)\n",
      "    ax.plot(mxbin,mmedians,color=cmg,label='z=0')#,marker='.',mfc=cmg,mec=cmg)\n",
      "    ax.plot(zmxbin,zmmedians,color='yellow',ls='--',label='z=1')#,marker='.',mfc='yellow',mec='yellow')\n",
      "    ax.fill_between(mxbin,mp75,mp25, edgecolor=cmg,\n",
      "                 color='none', facecolor=cmg,alpha=0.3,lw=1) \n",
      "    ax.fill_between(zmxbin,zmp75,zmp25, edgecolor='yellow',\n",
      "                 color='none', facecolor='yellow',alpha=0.3,lw=1)     \n",
      "    #plt.plot(rfit,lineal_model(rfit,mpopt[reg][0],mpopt[reg][1]),label=text3,color=cmg,ls='--')\n",
      "    #plt.plot(rfit,lineal_model(rfit,zmpopt[reg][0],zmpopt[reg][1]),label=text4,color=cmg,ls='--')\n",
      "    \n",
      "    #ax.text(right, top, 'z=0, R$_{\\mu_{24}}=$ '+str(round(r24z0[reg-1],2))+'\\nz=1, R$_{\\mu_{24}}=$ '+str(round(r24z1[reg-1],2)),\n",
      "    #    horizontalalignment='right',\n",
      "    #    verticalalignment='top',\n",
      "    #    transform=ax.transAxes, fontsize=20)\n",
      "    ax.text(left, bottom, 'z=0, Core/Out= '+str(round(mcoc,2))+'\\nz=1, Core/Out= '+str(round(zmcoc,2)),\n",
      "        horizontalalignment='right',\n",
      "        verticalalignment='top',\n",
      "        transform=ax.transAxes, fontsize=20)\n",
      "    \n",
      "    ax.set_ylim(0.000,0.036)\n",
      "    ax.set_ylabel('Z')\n",
      "    ax.set_xlabel('R/R$_{24}$')\n",
      "    ax.set_title('STACK')\n",
      "    ax.legend(loc='upper left', frameon=False, scatterpoints=1,borderpad=0.1, labelspacing=0.1, handlelength=2)\n",
      "    xticks = ax.xaxis.get_major_ticks()\n",
      "    for mt in range(len(xticks)):\n",
      "        if mt%2==0:\n",
      "            xticks[mt].label1.set_visible(False)\n",
      "\n",
      "    yticks = ax.yaxis.get_major_ticks()\n",
      "    #for mt in range(len(yticks)):\n",
      "     #   if mt%2!=0:\n",
      "     #       yticks[mt].label1.set_visible(False)\n",
      "    ax.minorticks_on() \n",
      "    plt.savefig('STACK_METALIDIDAD_medianas.pdf', format='pdf', dpi=100,bbox_inches='tight')\n",
      "    plt.show()"
     ],
     "language": "python",
     "metadata": {},
     "outputs": [
      {
       "ename": "IOError",
       "evalue": "[Errno 2] No such file or directory: 'ajustes/STACK_METALIDIDAD_medianas.pdf'",
       "output_type": "pyerr",
       "traceback": [
        "\u001b[1;31m---------------------------------------------------------------------------\u001b[0m\n\u001b[1;31mIOError\u001b[0m                                   Traceback (most recent call last)",
        "\u001b[1;32m<ipython-input-116-02312e4aeb27>\u001b[0m in \u001b[0;36m<module>\u001b[1;34m()\u001b[0m\n\u001b[0;32m     34\u001b[0m  \u001b[1;31m#       yticks[mt].label1.set_visible(False)\u001b[0m\u001b[1;33m\u001b[0m\u001b[1;33m\u001b[0m\u001b[0m\n\u001b[0;32m     35\u001b[0m \u001b[0max\u001b[0m\u001b[1;33m.\u001b[0m\u001b[0mminorticks_on\u001b[0m\u001b[1;33m(\u001b[0m\u001b[1;33m)\u001b[0m\u001b[1;33m\u001b[0m\u001b[0m\n\u001b[1;32m---> 36\u001b[1;33m \u001b[0mplt\u001b[0m\u001b[1;33m.\u001b[0m\u001b[0msavefig\u001b[0m\u001b[1;33m(\u001b[0m\u001b[1;34m'ajustes/STACK_METALIDIDAD_medianas.pdf'\u001b[0m\u001b[1;33m,\u001b[0m \u001b[0mformat\u001b[0m\u001b[1;33m=\u001b[0m\u001b[1;34m'pdf'\u001b[0m\u001b[1;33m,\u001b[0m \u001b[0mdpi\u001b[0m\u001b[1;33m=\u001b[0m\u001b[1;36m100\u001b[0m\u001b[1;33m,\u001b[0m\u001b[0mbbox_inches\u001b[0m\u001b[1;33m=\u001b[0m\u001b[1;34m'tight'\u001b[0m\u001b[1;33m)\u001b[0m\u001b[1;33m\u001b[0m\u001b[0m\n\u001b[0m\u001b[0;32m     37\u001b[0m \u001b[0mplt\u001b[0m\u001b[1;33m.\u001b[0m\u001b[0mshow\u001b[0m\u001b[1;33m(\u001b[0m\u001b[1;33m)\u001b[0m\u001b[1;33m\u001b[0m\u001b[0m\n",
        "\u001b[1;32m/usr/lib64/python2.7/site-packages/matplotlib/pyplot.pyc\u001b[0m in \u001b[0;36msavefig\u001b[1;34m(*args, **kwargs)\u001b[0m\n\u001b[0;32m    575\u001b[0m \u001b[1;32mdef\u001b[0m \u001b[0msavefig\u001b[0m\u001b[1;33m(\u001b[0m\u001b[1;33m*\u001b[0m\u001b[0margs\u001b[0m\u001b[1;33m,\u001b[0m \u001b[1;33m**\u001b[0m\u001b[0mkwargs\u001b[0m\u001b[1;33m)\u001b[0m\u001b[1;33m:\u001b[0m\u001b[1;33m\u001b[0m\u001b[0m\n\u001b[0;32m    576\u001b[0m     \u001b[0mfig\u001b[0m \u001b[1;33m=\u001b[0m \u001b[0mgcf\u001b[0m\u001b[1;33m(\u001b[0m\u001b[1;33m)\u001b[0m\u001b[1;33m\u001b[0m\u001b[0m\n\u001b[1;32m--> 577\u001b[1;33m     \u001b[0mres\u001b[0m \u001b[1;33m=\u001b[0m \u001b[0mfig\u001b[0m\u001b[1;33m.\u001b[0m\u001b[0msavefig\u001b[0m\u001b[1;33m(\u001b[0m\u001b[1;33m*\u001b[0m\u001b[0margs\u001b[0m\u001b[1;33m,\u001b[0m \u001b[1;33m**\u001b[0m\u001b[0mkwargs\u001b[0m\u001b[1;33m)\u001b[0m\u001b[1;33m\u001b[0m\u001b[0m\n\u001b[0m\u001b[0;32m    578\u001b[0m     \u001b[0mdraw\u001b[0m\u001b[1;33m(\u001b[0m\u001b[1;33m)\u001b[0m   \u001b[1;31m# need this if 'transparent=True' to reset colors\u001b[0m\u001b[1;33m\u001b[0m\u001b[0m\n\u001b[0;32m    579\u001b[0m     \u001b[1;32mreturn\u001b[0m \u001b[0mres\u001b[0m\u001b[1;33m\u001b[0m\u001b[0m\n",
        "\u001b[1;32m/usr/lib64/python2.7/site-packages/matplotlib/figure.pyc\u001b[0m in \u001b[0;36msavefig\u001b[1;34m(self, *args, **kwargs)\u001b[0m\n\u001b[0;32m   1474\u001b[0m             \u001b[0mself\u001b[0m\u001b[1;33m.\u001b[0m\u001b[0mset_frameon\u001b[0m\u001b[1;33m(\u001b[0m\u001b[0mframeon\u001b[0m\u001b[1;33m)\u001b[0m\u001b[1;33m\u001b[0m\u001b[0m\n\u001b[0;32m   1475\u001b[0m \u001b[1;33m\u001b[0m\u001b[0m\n\u001b[1;32m-> 1476\u001b[1;33m         \u001b[0mself\u001b[0m\u001b[1;33m.\u001b[0m\u001b[0mcanvas\u001b[0m\u001b[1;33m.\u001b[0m\u001b[0mprint_figure\u001b[0m\u001b[1;33m(\u001b[0m\u001b[1;33m*\u001b[0m\u001b[0margs\u001b[0m\u001b[1;33m,\u001b[0m \u001b[1;33m**\u001b[0m\u001b[0mkwargs\u001b[0m\u001b[1;33m)\u001b[0m\u001b[1;33m\u001b[0m\u001b[0m\n\u001b[0m\u001b[0;32m   1477\u001b[0m \u001b[1;33m\u001b[0m\u001b[0m\n\u001b[0;32m   1478\u001b[0m         \u001b[1;32mif\u001b[0m \u001b[0mframeon\u001b[0m\u001b[1;33m:\u001b[0m\u001b[1;33m\u001b[0m\u001b[0m\n",
        "\u001b[1;32m/usr/lib64/python2.7/site-packages/matplotlib/backend_bases.pyc\u001b[0m in \u001b[0;36mprint_figure\u001b[1;34m(self, filename, dpi, facecolor, edgecolor, orientation, format, **kwargs)\u001b[0m\n\u001b[0;32m   2209\u001b[0m                 \u001b[0morientation\u001b[0m\u001b[1;33m=\u001b[0m\u001b[0morientation\u001b[0m\u001b[1;33m,\u001b[0m\u001b[1;33m\u001b[0m\u001b[0m\n\u001b[0;32m   2210\u001b[0m                 \u001b[0mbbox_inches_restore\u001b[0m\u001b[1;33m=\u001b[0m\u001b[0m_bbox_inches_restore\u001b[0m\u001b[1;33m,\u001b[0m\u001b[1;33m\u001b[0m\u001b[0m\n\u001b[1;32m-> 2211\u001b[1;33m                 **kwargs)\n\u001b[0m\u001b[0;32m   2212\u001b[0m         \u001b[1;32mfinally\u001b[0m\u001b[1;33m:\u001b[0m\u001b[1;33m\u001b[0m\u001b[0m\n\u001b[0;32m   2213\u001b[0m             \u001b[1;32mif\u001b[0m \u001b[0mbbox_inches\u001b[0m \u001b[1;32mand\u001b[0m \u001b[0mrestore_bbox\u001b[0m\u001b[1;33m:\u001b[0m\u001b[1;33m\u001b[0m\u001b[0m\n",
        "\u001b[1;32m/usr/lib64/python2.7/site-packages/matplotlib/backends/backend_pdf.pyc\u001b[0m in \u001b[0;36mprint_pdf\u001b[1;34m(self, filename, **kwargs)\u001b[0m\n\u001b[0;32m   2475\u001b[0m             \u001b[0mfile\u001b[0m \u001b[1;33m=\u001b[0m \u001b[0mfilename\u001b[0m\u001b[1;33m.\u001b[0m\u001b[0m_file\u001b[0m\u001b[1;33m\u001b[0m\u001b[0m\n\u001b[0;32m   2476\u001b[0m         \u001b[1;32melse\u001b[0m\u001b[1;33m:\u001b[0m\u001b[1;33m\u001b[0m\u001b[0m\n\u001b[1;32m-> 2477\u001b[1;33m             \u001b[0mfile\u001b[0m \u001b[1;33m=\u001b[0m \u001b[0mPdfFile\u001b[0m\u001b[1;33m(\u001b[0m\u001b[0mfilename\u001b[0m\u001b[1;33m)\u001b[0m\u001b[1;33m\u001b[0m\u001b[0m\n\u001b[0m\u001b[0;32m   2478\u001b[0m         \u001b[1;32mtry\u001b[0m\u001b[1;33m:\u001b[0m\u001b[1;33m\u001b[0m\u001b[0m\n\u001b[0;32m   2479\u001b[0m             \u001b[0mfile\u001b[0m\u001b[1;33m.\u001b[0m\u001b[0mnewPage\u001b[0m\u001b[1;33m(\u001b[0m\u001b[0mwidth\u001b[0m\u001b[1;33m,\u001b[0m \u001b[0mheight\u001b[0m\u001b[1;33m)\u001b[0m\u001b[1;33m\u001b[0m\u001b[0m\n",
        "\u001b[1;32m/usr/lib64/python2.7/site-packages/matplotlib/backends/backend_pdf.pyc\u001b[0m in \u001b[0;36m__init__\u001b[1;34m(self, filename)\u001b[0m\n\u001b[0;32m    416\u001b[0m         \u001b[0mself\u001b[0m\u001b[1;33m.\u001b[0m\u001b[0mtell_base\u001b[0m \u001b[1;33m=\u001b[0m \u001b[1;36m0\u001b[0m\u001b[1;33m\u001b[0m\u001b[0m\n\u001b[0;32m    417\u001b[0m         \u001b[1;32mif\u001b[0m \u001b[0mis_string_like\u001b[0m\u001b[1;33m(\u001b[0m\u001b[0mfilename\u001b[0m\u001b[1;33m)\u001b[0m\u001b[1;33m:\u001b[0m\u001b[1;33m\u001b[0m\u001b[0m\n\u001b[1;32m--> 418\u001b[1;33m             \u001b[0mfh\u001b[0m \u001b[1;33m=\u001b[0m \u001b[0mopen\u001b[0m\u001b[1;33m(\u001b[0m\u001b[0mfilename\u001b[0m\u001b[1;33m,\u001b[0m \u001b[1;34m'wb'\u001b[0m\u001b[1;33m)\u001b[0m\u001b[1;33m\u001b[0m\u001b[0m\n\u001b[0m\u001b[0;32m    419\u001b[0m         \u001b[1;32melif\u001b[0m \u001b[0mis_writable_file_like\u001b[0m\u001b[1;33m(\u001b[0m\u001b[0mfilename\u001b[0m\u001b[1;33m)\u001b[0m\u001b[1;33m:\u001b[0m\u001b[1;33m\u001b[0m\u001b[0m\n\u001b[0;32m    420\u001b[0m             \u001b[1;32mtry\u001b[0m\u001b[1;33m:\u001b[0m\u001b[1;33m\u001b[0m\u001b[0m\n",
        "\u001b[1;31mIOError\u001b[0m: [Errno 2] No such file or directory: 'ajustes/STACK_METALIDIDAD_medianas.pdf'"
       ]
      }
     ],
     "prompt_number": 116
    },
    {
     "cell_type": "code",
     "collapsed": false,
     "input": [
      "#plt.plot(axbin,abe/anb)\n",
      "#plt.plot(zaxbin,zabe/zanb)\n",
      "#plt.legend(loc='lower right', frameon=False, scatterpoints=1,borderpad=0.5,handletextpad=1,ncol=2)\n",
      "#plt.xlim(0,120) \n",
      "#plt.ylim(0,16)\n",
      "#plt.xlabel('R [Kpc]')\n",
      "#plt.ylabel('Ages')\n",
      "#plt.savefig('todas_edades', format='pdf', dpi=100,bbox_inches='tight')\n",
      "#plt.show()\n"
     ],
     "language": "python",
     "metadata": {},
     "outputs": [],
     "prompt_number": 17
    },
    {
     "cell_type": "code",
     "collapsed": false,
     "input": [
      "#plt.plot(mxbin,mbe/mnb)\n",
      "#plt.plot(zmxbin,zmbe/zmnb)\n",
      "#plt.legend(loc='lower right', frameon=False, scatterpoints=1,borderpad=0.5,handletextpad=1,ncol=2)\n",
      "#plt.xlim(0,120) \n",
      "##plt.ylim(-10,0.1)\n",
      "#plt.xlabel('R [Kpc]')\n",
      "#plt.ylabel('Z')\n",
      "#plt.savefig('todas_metalicidades', format='pdf', dpi=100,bbox_inches='tight')\n",
      "#plt.show()"
     ],
     "language": "python",
     "metadata": {},
     "outputs": [],
     "prompt_number": 24
    },
    {
     "cell_type": "code",
     "collapsed": false,
     "input": [
      "#fig=plt.figure(1, figsize=(7, 7))\n",
      "#ax1 = fig.add_subplot(111)\n",
      "#ax1.minorticks_on()\n",
      "#plt.errorbar(axbin, \n",
      "#        amedias, \n",
      "#        asigmas, \n",
      "#        capsize=1, \n",
      "#        elinewidth=1.,\n",
      "#        markeredgewidth=1,ecolor=cag,color=cag,marker='o',mec='gray',lw=2,label='Ages')\n",
      "#plt.legend(loc='lower right', frameon=False, scatterpoints=1,borderpad=0.5,handletextpad=1,ncol=2)\n",
      "#plt.xlim(0,130) \n",
      "#plt.ylim(10,16)\n",
      "#plt.xlabel('R [Kpc]')\n",
      "#plt.ylabel('Ages')\n",
      "#plt.savefig('todas_edades', format='pdf', dpi=100,bbox_inches='tight')\n",
      "#plt.show()"
     ],
     "language": "python",
     "metadata": {},
     "outputs": [],
     "prompt_number": 25
    },
    {
     "cell_type": "code",
     "collapsed": false,
     "input": [
      "#lim=[2,12,0.02,0.006]\n",
      "#edades1 = stars1[stars1<lim[0]]\n",
      "#edades2 = stars1[stars1>lim[1]]\n",
      "#dcore =8\n",
      "#dout  =30\n",
      "#metalpcore  = [met1[i] for i in range(len(met1)) if met1[i]<lim[3] and dist1[i]<=dcore]\n",
      "#metalrcore  = [met1[i] for i in range(len(met1)) if met1[i]>lim[2] and dist1[i]<=dcore]\n",
      "#metalpout   = [met1[i] for i in range(len(met1)) if met1[i]<lim[3] and dist1[i]>=dout]\n",
      "#metalrout   = [met1[i] for i in range(len(met1)) if met1[i]>lim[2] and dist1[i]>=dout]\n",
      "\n",
      "#ageycore  = [stars1[i] for i in range(len(stars1)) if stars1[i]<lim[0] and dist1[i]<=dcore]\n",
      "#ageocore  = [stars1[i] for i in range(len(stars1)) if stars1[i]>lim[1] and dist1[i]<=dcore]\n",
      "#ageyout   = [stars1[i] for i in range(len(stars1)) if stars1[i]<lim[0] and dist1[i]>=dout]\n",
      "#ageoout   = [stars1[i] for i in range(len(stars1)) if stars1[i]>lim[1] and dist1[i]>=dout]"
     ],
     "language": "python",
     "metadata": {},
     "outputs": [],
     "prompt_number": 172
    },
    {
     "cell_type": "code",
     "collapsed": false,
     "input": [
      "#(h1,h2,bines,ylim,xlim1,xlim2,save,labelx,labely,leg1,leg2,color,ticks,anotacion,m1,m2,t1,t2)\n",
      "#sumacore=len(metalpcore)+len(metalrcore)\n",
      "##pcore=len(metalpcore)*100/float(sumacore)\n",
      "#rcore=len(metalrcore)*100/float(sumacore)\n",
      "\n",
      "#sumaout=len(metalpout)+len(metalrout)\n",
      "#pout=len(metalpout)*100/float(sumaout)\n",
      "#rout=len(metalrout)*100/float(sumaout)\n",
      "\n",
      "#sumacorea=len(ageycore)+len(ageocore)\n",
      "#ocore=len(ageocore)*100/float(sumacorea)\n",
      "#ycore=len(ageycore)*100/float(sumacorea)\n",
      "\n",
      "#sumaouta=len(ageyout)+len(ageoout)\n",
      "#oout=len(ageoout)*100/float(sumaouta)\n",
      "#yout=len(ageyout)*100/float(sumaouta)"
     ],
     "language": "python",
     "metadata": {},
     "outputs": [],
     "prompt_number": 173
    },
    {
     "cell_type": "code",
     "collapsed": false,
     "input": [
      "#mpc=[m/float(sumacore) for m in metalpcore]\n",
      "#mrc=[m/float(sumacore) for m in metalrcore]\n",
      "#mpo=[m/float(sumacore) for m in metalpout]\n",
      "#mro=[m/float(sumacore) for m in metalrout]"
     ],
     "language": "python",
     "metadata": {},
     "outputs": [],
     "prompt_number": 156
    },
    {
     "cell_type": "code",
     "collapsed": false,
     "input": [
      "#posan=[-240, -160]"
     ],
     "language": "python",
     "metadata": {},
     "outputs": [],
     "prompt_number": 192
    },
    {
     "cell_type": "code",
     "collapsed": false,
     "input": [
      "#histograma(metalpcore,metalrcore,30,200,-0.01,0.13,\n",
      "#           'Metcore.pdf','Z','N','Core-Poor'\n",
      "#           ,'Core-Rich','white',0,'Z Poor-Core: '+str(round(pcore,2))+'\\% \\n Z Rich-Core: '+str(round(rcore,2))+'\\%',ageo\n",
      "#           np.mean(metalpcore),np.mean(metalrcore),'Med-Core-Poor','Med-Core-Rich',2,[cmc,cmg],posan)"
     ],
     "language": "python",
     "metadata": {},
     "outputs": [],
     "prompt_number": 168
    },
    {
     "cell_type": "code",
     "collapsed": false,
     "input": [
      "#histograma(metalpout,metalrout,30,200,-0.01,0.13,\n",
      "#           'Metout.pdf','Z','N','Out-Poor'\n",
      "#           ,'Out-Rich','white',0,'Z Poor-Out: '+str(round(pout,2))+'\\% \\n Z Rich-Out: '+str(round(rout,2))+'\\%',\n",
      "#           np.mean(metalpout),np.mean(metalrout),'Med-Core-Out','Med-Core-Out',2,[cmc,cmg],posan)"
     ],
     "language": "python",
     "metadata": {},
     "outputs": [],
     "prompt_number": 185
    },
    {
     "cell_type": "code",
     "collapsed": false,
     "input": [
      "#posan=[-340, -160]"
     ],
     "language": "python",
     "metadata": {},
     "outputs": [],
     "prompt_number": 193
    },
    {
     "cell_type": "code",
     "collapsed": false,
     "input": [
      "#histograma(ageocore,ageycore,30,1.5,-1,15,\n",
      "#           'Agecore.pdf','Age [Gyr]','N','Core-Old'\n",
      "#           ,'Core-Young','white',0,'Age Old-Core: '+str(round(ocore,2))+'\\% \\n Age Young-Core: '+str(round(ycore,2))+'\\%',\n",
      "#           np.mean(ageocore),np.mean(ageycore),'Med-Core-Old','Med-Core-Young',1,[cag,cac],posan)"
     ],
     "language": "python",
     "metadata": {},
     "outputs": [],
     "prompt_number": 195
    },
    {
     "cell_type": "code",
     "collapsed": false,
     "input": [
      "#histograma(ageoout,ageyout,30,1.5,-1,15,\n",
      "#           'Ageout.pdf','Age [Gyr]','N','Core-Out'\n",
      "#           ,'Out-Young','white',0,'Age Old-Out: '+str(round(oout,2))+'\\% \\n Age Young-Out: '+str(round(yout,2))+'\\%',\n",
      "#           np.mean(ageoout),np.mean(ageyout),'Med-Out-Old','Med-Out-Young',1,[cag,cac],posan)\n",
      "\n",
      "#posan=[-240, -160]"
     ],
     "language": "python",
     "metadata": {},
     "outputs": []
    },
    {
     "cell_type": "code",
     "collapsed": false,
     "input": [],
     "language": "python",
     "metadata": {},
     "outputs": []
    }
   ],
   "metadata": {}
  }
 ]
}