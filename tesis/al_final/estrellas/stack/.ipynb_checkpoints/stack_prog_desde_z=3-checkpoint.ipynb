{
 "metadata": {
  "name": "",
  "signature": "sha256:4929ddede40ca5d2180319c7e0f5bc84514dee63515b6ed4a17bf30f1bd08053"
 },
 "nbformat": 3,
 "nbformat_minor": 0,
 "worksheets": [
  {
   "cells": [
    {
     "cell_type": "code",
     "collapsed": false,
     "input": [
      "import numpy as np\n",
      "import cython\n",
      "import glob\n",
      "import matplotlib.pyplot as plt\n",
      "import plot as po\n",
      "import bineado as bi\n",
      "#import matplotlib.ticker import NullFormatter,MultipleLocator, FormatStrFormatter\n",
      "from matplotlib.offsetbox import AnchoredText\n",
      "import math as mt\n",
      "import os\n",
      "import histos as h\n",
      "\n",
      "save= 1\n",
      "\n",
      "def stack(snap):\n",
      "    stack=[0,0,1,0,0,0,0,0,0,1,0,0,0,1,1,1,0,0,0,0,0,1,1,0,1,0,0,1,0,1]\n",
      "    rall = np.array([])\n",
      "    metall = np.array([])\n",
      "    ageall = np.array([])\n",
      "    first='true'\n",
      "\n",
      "    for reg in range(30):\n",
      "        sreg  = str(reg)\n",
      "        if reg==0 or stack[reg]==0 or reg==30:\n",
      "    #if reg==0 or reg>2:\n",
      "            continue\n",
      "\n",
      "        #prefijo_inputs='/home/mferraro/inputs/D'+str(reg)+'_LR_minpot3_rmmax_'+snap+'_'\n",
      "        prefijo_inputs='/home/meugenia/0/LR/inputs_grupo0/D'+str(reg)+'_LR_minpot3_rmmax_'+snap+'_'\n",
      "\n",
      "        file_mass=''\n",
      "        for fm in glob.glob(prefijo_inputs+'*NoDust.dat'):\n",
      "            file_mass = fm\n",
      "\n",
      "        file_obs='/home/meugenia/Dropbox/tesis/al_final/LR/tablas/LR_minpot3_rmmax_'+snap+'_band125_nodust_grupo0.txt'\n",
      "        r24=np.loadtxt(file_obs, usecols=[3],unpack=True)\n",
      "\n",
      "        pt    =np.array([])\n",
      "        x     =np.array([])\n",
      "        y     =np.array([])\n",
      "        met   =np.array([])\n",
      "        age   =np.array([])\n",
      "        rnorm =np.zeros(x)\n",
      "        x1    =np.array([])\n",
      "        y1    =np.array([])        \n",
      "        met1  =np.array([])\n",
      "        age1  =np.array([])        \n",
      "\n",
      "        pt,x,y,age,met=np.loadtxt(file_mass,usecols=[0,1,2,4,5],unpack=True,skiprows=1)\n",
      "        \n",
      "        for kk in range(len(age)):\n",
      "            if pt[kk]!=-1 or met[kk]==-666.67:\n",
      "                continue\n",
      "            else:\n",
      "                if age[kk]>0 and age[kk]<50 and (x[kk]**2+y[kk]**2)<=(r24[reg-1])**2:\n",
      "                    age1=np.append(age1,age[kk])\n",
      "                    met1=np.append(met1,met[kk])\n",
      "                    x1=np.append(x1,x[kk])\n",
      "                    y1=np.append(y1,y[kk])\n",
      "\n",
      "        r=np.sqrt(x1**2+y1**2)\n",
      "        rnorm=[value/float(r24[reg-1]) for value in r] \n",
      "        \n",
      "        if first=='false':\n",
      "            rall   =np.concatenate((rall,rnorm),axis=0)\n",
      "            metall =np.concatenate((metall,met1),axis=0)\n",
      "            ageall =np.concatenate((ageall,age1),axis=0)\n",
      "            #print len(rall),'  ', len(rnorm)\n",
      "        if first=='true':            \n",
      "            rall   =rnorm\n",
      "            metall =met1\n",
      "            ageall =age1\n",
      "            first='false'\n",
      "            #print len(rall),'  ', len(rnorm)\n",
      "\n",
      "\n",
      "        print 'PASE POR '+str(reg)+'  '+snap\n",
      "    return rall,ageall,metall\n"
     ],
     "language": "python",
     "metadata": {},
     "outputs": [],
     "prompt_number": 1
    },
    {
     "cell_type": "code",
     "collapsed": false,
     "input": [
      "def bineado(x,entity,bins,init,end):\n",
      "    step=(end-init)/float(bins)\n",
      "    nelements  =np.zeros(bins)\n",
      "    bin_entity =np.zeros(bins)\n",
      "    xbin       =np.zeros(bins)\n",
      "    medians    =np.zeros(bins)\n",
      "    sigmas     =np.zeros(bins)\n",
      "    #perc10     =np.zeros(bins)\n",
      "    perc25     =np.zeros(bins)\n",
      "    perc75     =np.zeros(bins)\n",
      "    #perc90     =np.zeros(bins)\n",
      "\n",
      "    matrixbin  = []\n",
      "    \n",
      "    for j in range(bins):\n",
      "        matrixbin.append([])    \n",
      "    \n",
      "    for i in range(len(entity)):\n",
      "        ibin = int(mt.floor((x[i]-init)/float(step)))\n",
      "        if ibin>=bins:\n",
      "            continue\n",
      "        else:\n",
      "            nelements[ibin] += 1\n",
      "            bin_entity[ibin] = bin_entity[ibin] + entity[i]\n",
      "            matrixbin[ibin].append(entity[i])\n",
      "            #if i%1000==0:\n",
      "            #    print ibin, nelements[ibin],bin_entity[ibin]\n",
      "            \n",
      "    for k in range(bins):\n",
      "        medians[k]=np.median(matrixbin[k])\n",
      "        sigmas[k]=np.std(matrixbin[k])\n",
      "        #perc10[k]=np.percentile(matrixbin[k],10)\n",
      "        #perc25[k]=np.percentile(matrixbin[k],25)\n",
      "        perc25[k]=np.percentile(matrixbin[k],25)\n",
      "        perc75[k]=np.percentile(matrixbin[k],75)\n",
      "               \n",
      "    xbin=[init+0.5*(2*i+1)*step for i in range(bins)]    \n",
      "\n",
      "    return nelements,xbin,bin_entity,sigmas,medians,perc25,perc75,matrixbin \n",
      "#,matrixbin "
     ],
     "language": "python",
     "metadata": {},
     "outputs": [],
     "prompt_number": 2
    },
    {
     "cell_type": "code",
     "collapsed": false,
     "input": [
      "def histograma(h1,h2,bines,ylim,xlim1,xlim2,save,labelx,labely,leg1,leg2,color,ticks,anotacion,m1,m2,t1,t2,pos,c,posan):\n",
      "    fig = plt.figure(num=None, figsize=(8, 8), dpi=80, facecolor='w', edgecolor='k')\n",
      "    ax = fig.add_subplot(111)\n",
      "    if len(h2)!=0:\n",
      "        bins = np.histogram(np.hstack((h1,h2)), bins=bines)[1]\n",
      "        ax.hist(h1, bins=bins, edgecolor=c[0],facecolor='none',histtype='stepfilled',linewidth=1, label=leg1,normed=True)\n",
      "        ax.hist(h2, bins=bins,edgecolor=c[1],facecolor='none',histtype='stepfilled', hatch='//', label=leg2,normed=True)\n",
      "    else:\n",
      "        bins = bines\n",
      "        ax.hist(h1, bins=bins, color=color,facecolor='none',histtype='stepfilled',hatch='xx',linewidth=1, label=leg1)\n",
      "\n",
      "    if m1!='none':\n",
      "        plt.axvline(x=m1,color=c[0],label=t1+'= '+str(round(m1,4)),ls='--',lw=2)\n",
      "    if m2!='none':\n",
      "        plt.axvline(x=m2,color=c[1],label=t2+'= '+str(round(m2,4)),ls='--',lw=2)\n",
      "\n",
      "    plt.xlim(xlim1,xlim2)\n",
      "    plt.ylim(0,ylim)\n",
      "    xticks1 = ax.xaxis.get_major_ticks()\n",
      "    xticks1[0].label1.set_visible(False)\n",
      "    if ticks:\n",
      "        for i in range(len(xticks1)):\n",
      "            if i%2!=0:\n",
      "                xticks1[i].label1.set_visible(False)\n",
      "\n",
      "    yticks1 = ax.yaxis.get_major_ticks()\n",
      "    for i in range(len(yticks1)):\n",
      "            if i%2==0:\n",
      "                yticks1[i].label1.set_visible(False)\n",
      "\n",
      "    yticks1[0].label1.set_visible(False)\n",
      "    if pos==1:\n",
      "        locc='upper left'\n",
      "    elif pos==2:\n",
      "        locc='upper right' \n",
      "    elif pos==3:\n",
      "        locc='lower left'\n",
      "    elif pos==4:\n",
      "        locc='lower right'\n",
      "        \n",
      "    plt.legend(loc=locc, frameon=False,scatterpoints=1,borderpad=0.2,\n",
      "        labelspacing=0.3,handlelength=2,handletextpad=0.5,borderaxespad=1)\n",
      "    plt.xlabel(labelx)\n",
      "    plt.ylabel(labely)\n",
      "    plt.minorticks_on()\n",
      "\n",
      "    ax.annotate(anotacion, xy=(1, 1),color='gray', xytext=(posan[0], posan[1]), fontsize=20,\n",
      "                 xycoords='axes fraction', textcoords='offset points',\n",
      "                 horizontalalignment='left', verticalalignment='bottom')\n",
      "\n",
      "\n",
      "    plt.savefig(save, format='pdf', dpi=1300,bbox_inches='tight')\n",
      "    plt.show()"
     ],
     "language": "python",
     "metadata": {},
     "outputs": [],
     "prompt_number": 3
    },
    {
     "cell_type": "code",
     "collapsed": false,
     "input": [
      "dist1   ,stars1   ,met1    =stack('091')\n",
      "zdist1  ,zstars1  ,zmet1   =stack('041')\n",
      "zzdist1 ,zzstars1 ,zzmet1  =stack('032')\n",
      "zzzdist1,zzzstars1,zzzmet1 =stack('026')"
     ],
     "language": "python",
     "metadata": {},
     "outputs": [
      {
       "output_type": "stream",
       "stream": "stdout",
       "text": [
        "PASE POR 2  091\n",
        "PASE POR 9  091"
       ]
      },
      {
       "output_type": "stream",
       "stream": "stdout",
       "text": [
        "\n",
        "PASE POR 13  091"
       ]
      },
      {
       "output_type": "stream",
       "stream": "stdout",
       "text": [
        "\n",
        "PASE POR 14  091"
       ]
      },
      {
       "output_type": "stream",
       "stream": "stdout",
       "text": [
        "\n",
        "PASE POR 15  091"
       ]
      },
      {
       "output_type": "stream",
       "stream": "stdout",
       "text": [
        "\n",
        "PASE POR 21  091"
       ]
      },
      {
       "output_type": "stream",
       "stream": "stdout",
       "text": [
        "\n",
        "PASE POR 22  091"
       ]
      },
      {
       "output_type": "stream",
       "stream": "stdout",
       "text": [
        "\n",
        "PASE POR 24  091"
       ]
      },
      {
       "output_type": "stream",
       "stream": "stdout",
       "text": [
        "\n",
        "PASE POR 27  091"
       ]
      },
      {
       "output_type": "stream",
       "stream": "stdout",
       "text": [
        "\n",
        "PASE POR 29  091"
       ]
      },
      {
       "output_type": "stream",
       "stream": "stdout",
       "text": [
        "\n",
        "PASE POR 2  041"
       ]
      },
      {
       "output_type": "stream",
       "stream": "stdout",
       "text": [
        "\n",
        "PASE POR 9  041"
       ]
      },
      {
       "output_type": "stream",
       "stream": "stdout",
       "text": [
        "\n",
        "PASE POR 13  041"
       ]
      },
      {
       "output_type": "stream",
       "stream": "stdout",
       "text": [
        "\n",
        "PASE POR 14  041"
       ]
      },
      {
       "output_type": "stream",
       "stream": "stdout",
       "text": [
        "\n",
        "PASE POR 15  041"
       ]
      },
      {
       "output_type": "stream",
       "stream": "stdout",
       "text": [
        "\n",
        "PASE POR 21  041"
       ]
      },
      {
       "output_type": "stream",
       "stream": "stdout",
       "text": [
        "\n",
        "PASE POR 22  041"
       ]
      },
      {
       "output_type": "stream",
       "stream": "stdout",
       "text": [
        "\n",
        "PASE POR 24  041"
       ]
      },
      {
       "output_type": "stream",
       "stream": "stdout",
       "text": [
        "\n",
        "PASE POR 27  041"
       ]
      },
      {
       "output_type": "stream",
       "stream": "stdout",
       "text": [
        "\n",
        "PASE POR 29  041"
       ]
      },
      {
       "output_type": "stream",
       "stream": "stdout",
       "text": [
        "\n",
        "PASE POR 2  032"
       ]
      },
      {
       "output_type": "stream",
       "stream": "stdout",
       "text": [
        "\n",
        "PASE POR 9  032"
       ]
      },
      {
       "output_type": "stream",
       "stream": "stdout",
       "text": [
        "\n",
        "PASE POR 13  032"
       ]
      },
      {
       "output_type": "stream",
       "stream": "stdout",
       "text": [
        "\n",
        "PASE POR 14  032"
       ]
      },
      {
       "output_type": "stream",
       "stream": "stdout",
       "text": [
        "\n",
        "PASE POR 15  032"
       ]
      },
      {
       "output_type": "stream",
       "stream": "stdout",
       "text": [
        "\n",
        "PASE POR 21  032"
       ]
      },
      {
       "output_type": "stream",
       "stream": "stdout",
       "text": [
        "\n",
        "PASE POR 22  032"
       ]
      },
      {
       "output_type": "stream",
       "stream": "stdout",
       "text": [
        "\n",
        "PASE POR 24  032"
       ]
      },
      {
       "output_type": "stream",
       "stream": "stdout",
       "text": [
        "\n",
        "PASE POR 27  032"
       ]
      },
      {
       "output_type": "stream",
       "stream": "stdout",
       "text": [
        "\n",
        "PASE POR 29  032"
       ]
      },
      {
       "output_type": "stream",
       "stream": "stdout",
       "text": [
        "\n",
        "PASE POR 2  026"
       ]
      },
      {
       "output_type": "stream",
       "stream": "stdout",
       "text": [
        "\n",
        "PASE POR 9  026"
       ]
      },
      {
       "output_type": "stream",
       "stream": "stdout",
       "text": [
        "\n",
        "PASE POR 13  026"
       ]
      },
      {
       "output_type": "stream",
       "stream": "stdout",
       "text": [
        "\n",
        "PASE POR 14  026"
       ]
      },
      {
       "output_type": "stream",
       "stream": "stdout",
       "text": [
        "\n",
        "PASE POR 15  026"
       ]
      },
      {
       "output_type": "stream",
       "stream": "stdout",
       "text": [
        "\n",
        "PASE POR 21  026"
       ]
      },
      {
       "output_type": "stream",
       "stream": "stdout",
       "text": [
        "\n",
        "PASE POR 22  026"
       ]
      },
      {
       "output_type": "stream",
       "stream": "stdout",
       "text": [
        "\n",
        "PASE POR 24  026"
       ]
      },
      {
       "output_type": "stream",
       "stream": "stdout",
       "text": [
        "\n",
        "PASE POR 27  026"
       ]
      },
      {
       "output_type": "stream",
       "stream": "stdout",
       "text": [
        "\n",
        "PASE POR 29  026"
       ]
      },
      {
       "output_type": "stream",
       "stream": "stdout",
       "text": [
        "\n"
       ]
      }
     ],
     "prompt_number": 4
    },
    {
     "cell_type": "code",
     "collapsed": false,
     "input": [
      "anb  ,axbin  ,abe  ,asigmas , amedians , ap25 , ap75,amtx                   = bineado(dist1,stars1,55,0.,1.)\n",
      "zanb ,zaxbin ,zabe ,zasigmas, zamedians, zap25, zap75,zamtx                 = bineado(zdist1,zstars1,55,0.,1)\n",
      "zzanb ,zzaxbin ,zzabe ,zzasigmas, zzamedians, zzap25, zzap75,zzamtx         = bineado(zzdist1,zzstars1,55,0.,1)\n",
      "zzzanb ,zzzaxbin ,zzzabe ,zzzasigmas, zzzamedians, zzzap25, zzzap75,zzzamtx = bineado(zzzdist1,zzzstars1,55,0.,1)\n",
      "mnb  ,mxbin  ,mbe  ,msigmas , mmedians , mp25 , mp75,mtx                    = bineado(dist1,met1,55,0.,1)\n",
      "zmnb ,zmxbin ,zmbe ,zmsigmas, zmmedians, zmp25, zmp75,zmtx                  = bineado(zdist1,zmet1,55,0.,1)\n",
      "zzmnb ,zzmxbin ,zzmbe ,zzmsigmas, zzmmedians, zzmp25, zzmp75,zzmmtx         = bineado(zzdist1,zzmet1,55,0.,1)\n",
      "zzzmnb ,zzzmxbin ,zzzmbe ,zzzmsigmas, zzzmmedians, zzzmp25, zzzmp75,zzzmmtx = bineado(zzzdist1,zzzmet1,55,0.,1)"
     ],
     "language": "python",
     "metadata": {},
     "outputs": [],
     "prompt_number": 5
    },
    {
     "cell_type": "code",
     "collapsed": false,
     "input": [
      "amedias = abe/anb\n",
      "zamedias = zabe/zanb\n",
      "zzamedias = zzabe/zzanb\n",
      "zzzamedias = zzzabe/zzzanb\n",
      "\n",
      "mmedias = mbe/mnb\n",
      "zmmedias = zmbe/zmnb\n",
      "zzmmedias = zzmbe/zzmnb\n",
      "zzzmmedias = zzzmbe/zzzmnb"
     ],
     "language": "python",
     "metadata": {},
     "outputs": [],
     "prompt_number": 6
    },
    {
     "cell_type": "code",
     "collapsed": false,
     "input": [
      "plt.rc('text', usetex=True)\n",
      "font = {'family': 'serif', 'size': 25, 'serif': ['computer modern roman']}\n",
      "plt.rc('font', **font)\n",
      "plt.rc('legend', **{'fontsize': 25}) \n",
      "plt.rcParams['text.latex.preamble'] = [r'\\usepackage{amsmath}']\n",
      "plt.rcParams['axes.linewidth'] = 1.0\n",
      "plt.rcParams['xtick.major.size'] = 8\n",
      "plt.rcParams['xtick.minor.size'] = 4\n",
      "plt.rcParams['ytick.major.size'] = 6\n",
      "plt.rcParams['ytick.minor.size'] = 3\n",
      "plt.rc('lines', linewidth=2)"
     ],
     "language": "python",
     "metadata": {},
     "outputs": [],
     "prompt_number": 7
    },
    {
     "cell_type": "code",
     "collapsed": false,
     "input": [
      "c0='#FF6666'\n",
      "c1='#FF66B2'\n",
      "c2='#B266FF'\n",
      "c3='#66B2FF'"
     ],
     "language": "python",
     "metadata": {},
     "outputs": [],
     "prompt_number": 8
    },
    {
     "cell_type": "code",
     "collapsed": false,
     "input": [],
     "language": "python",
     "metadata": {},
     "outputs": []
    },
    {
     "cell_type": "code",
     "collapsed": false,
     "input": [
      "    #EDADES\n",
      "    fig = plt.figure(figsize=(7,7))\n",
      "    ax = fig.add_subplot(111)\n",
      "    ax.plot(axbin,amedias,color=c0,label='z=0')#,marker='.',mfc=cag,mec=cag)\n",
      "    ax.plot(zaxbin,zamedias,color=c1,label='z=1')#,marker='.',mfc=cac,mec=cac) \n",
      "    ax.plot(zzaxbin,zzamedias,color=c2,label='z=2')#,marker='.',mfc=cag,mec=cag)\n",
      "    ax.plot(zzzaxbin,zzzamedias,color=c3,label='z=3')#,marker='.',mfc=cac,mec=cac) \n",
      "    #plt.plot(rfit,lineal_model(rfit,apopt[reg][0],apopt[reg][1]),label=text1,color=cag,ls='--')\n",
      "    #plt.plot(rfit,lineal_model(rfit,zapopt[reg][0],zapopt[reg][1]),label=text2,color=cac,ls='--')\n",
      "    ax.fill_between(axbin,amedias+asigmas,amedias-asigmas, edgecolor=c0,\n",
      "                 color='none', facecolor=c0,alpha=0.2,lw=2) \n",
      "    ax.fill_between(zaxbin,zamedias+zasigmas,zamedias-zasigmas, edgecolor=c1,\n",
      "                 color='none', facecolor=c1,alpha=0.2,lw=2)\n",
      "    ax.fill_between(zzaxbin,zzamedias+zzasigmas,zzamedias-zzasigmas, edgecolor=c2,\n",
      "                 color='none', facecolor=c2,alpha=0.2,lw=2)           \n",
      "    ax.fill_between(zzzaxbin,zzzamedias+zzzasigmas,zzzamedias-zzzasigmas, edgecolor=c3,\n",
      "                 color='none', facecolor=c3,alpha=0.2,lw=2)   \n",
      "    \n",
      "    ax.plot(axbin,amedias+asigmas, color=c0, lw=0.8,ls=':')\n",
      "    ax.plot(axbin,amedias-asigmas, color=c0, lw=0.8,ls=':')\n",
      "    ax.plot(zaxbin,zamedias+zasigmas, color=c1, lw=0.8,ls=':')\n",
      "    ax.plot(zaxbin,zamedias-zasigmas, color=c1, lw=0.8,ls=':')       \n",
      "    ax.plot(zzaxbin,zzamedias+zzasigmas, color=c2, lw=0.8,ls=':')\n",
      "    ax.plot(zzaxbin,zzamedias-zzasigmas, color=c2, lw=0.8,ls=':')\n",
      "    ax.plot(zzzaxbin,zzzamedias+zzzasigmas, color=c3, lw=0.8,ls=':')\n",
      "    ax.plot(zzzaxbin,zzzamedias-zzzasigmas, color=c3, lw=0.8,ls=':')     \n",
      "    #plt.plot(rfit,lineal_model(rfit,mpopt[reg][0],mpopt[reg][1]),label=text3,color=cmg,ls='--')\n",
      "    #plt.plot(rfit,lineal_model(rfit,zmpopt[reg][0],zmpopt[reg][1]),label=text4,color=cmg,ls='--')\n",
      "    \n",
      "    #ax.text(right, top, 'z=0, R$_{\\mu_{24}}=$ '+str(round(r24z0[reg-1],2))+'\\nz=1, R$_{\\mu_{24}}=$ '+str(round(r24z1[reg-1],2)),\n",
      "    #    horizontalalignment='right',\n",
      "    #    verticalalignment='top',\n",
      "    #    transform=ax.transAxes, fontsize=20)   \n",
      "    #ax.text(left, bottom, 'z=0, Core/Out= '+str(round(acoc,2))+'\\nz=1, Core/Out= '+str(round(zacoc,2)),\n",
      "    #    horizontalalignment='right',\n",
      "    #    verticalalignment='top',\n",
      "    #    transform=ax.transAxes, fontsize=20)\n",
      "    \n",
      "    ax.set_ylim(-2,17)\n",
      "    ax.set_ylabel('Age [Gyr]')\n",
      "    ax.set_xlabel('R/R$_{24}$')\n",
      "    ax.legend(loc='upper left', frameon=False, scatterpoints=1,borderpad=0.1, labelspacing=0.1,handlelength=2,ncol=2)\n",
      "    xticks = ax.xaxis.get_major_ticks()\n",
      "    for mt in range(len(xticks)):\n",
      "        if mt%2==0:\n",
      "            xticks[mt].label1.set_visible(False)\n",
      "\n",
      "    yticks = ax.yaxis.get_major_ticks()\n",
      "    for mt in range(len(yticks)):\n",
      "        if mt%2!=0:\n",
      "            yticks[mt].label1.set_visible(False)\n",
      "    ax.minorticks_on()       \n",
      "    plt.savefig('EDADES-PROG.pdf', format='pdf', dpi=100,bbox_inches='tight')\n",
      "    plt.show()"
     ],
     "language": "python",
     "metadata": {},
     "outputs": [
      {
       "output_type": "stream",
       "stream": "stderr",
       "text": [
        "/usr/lib64/python2.7/site-packages/matplotlib/collections.py:590: FutureWarning:\n",
        "\n",
        "elementwise comparison failed; returning scalar instead, but in the future will perform elementwise comparison\n",
        "\n"
       ]
      }
     ],
     "prompt_number": 9
    },
    {
     "cell_type": "code",
     "collapsed": false,
     "input": [
      "cm0='#3F190B'\n",
      "cm1='#6B4E35'\n",
      "cm2='#B67300'\n",
      "cm3='#FFEF04'"
     ],
     "language": "python",
     "metadata": {},
     "outputs": [],
     "prompt_number": 43
    },
    {
     "cell_type": "code",
     "collapsed": false,
     "input": [
      "    #METALICIDADES\n",
      "    fig = plt.figure(figsize=(7,7))\n",
      "    ax = fig.add_subplot(111)\n",
      "    ax.plot(mxbin,mmedias,color=c0,label='z=0')#,marker='.',mfc=cag,mec=cag)\n",
      "    ax.plot(zmxbin,zmmedias,color=c1,label='z=1')#,marker='.',mfc=cac,mec=cac) \n",
      "    ax.plot(zzmxbin,zzmmedias,color=c2,label='z=2')#,marker='.',mfc=cag,mec=cag)\n",
      "    ax.plot(zzzmxbin,zzzmmedias,color=c3,label='z=3')#,marker='.',mfc=cac,mec=cac) \n",
      "    #plt.plot(rfit,lineal_model(rfit,apopt[reg][0],apopt[reg][1]),label=text1,color=cag,ls='--')\n",
      "    #plt.plot(rfit,lineal_model(rfit,zapopt[reg][0],zapopt[reg][1]),label=text2,color=cac,ls='--')\n",
      "    ax.fill_between(mxbin,mmedias+msigmas,mmedias-msigmas, edgecolor=c0,\n",
      "                 color='none', facecolor=c0,alpha=0.1,lw=2) \n",
      "    ax.fill_between(zmxbin,zmmedias+zmsigmas,zmmedias-zmsigmas, edgecolor=c1,\n",
      "                 color='none', facecolor=c1,alpha=0.1,lw=2)\n",
      "    ax.fill_between(zzmxbin,zzmmedias+zzmsigmas,zzmmedias-zzmsigmas, edgecolor=c2,\n",
      "                 color='none', facecolor=c2,alpha=0.1,lw=2)           \n",
      "    ax.fill_between(zzzmxbin,zzzmmedias+zzzmsigmas,zzzmmedias-zzzmsigmas, edgecolor=c3,\n",
      "                 color='none', facecolor=c3,alpha=0.1,lw=2)\n",
      "   \n",
      "    ax.plot(mxbin,mmedias+msigmas, color=c0, lw=0.8,ls=':')\n",
      "    ax.plot(mxbin,mmedias-msigmas, color=c0, lw=0.8,ls=':')\n",
      "    ax.plot(zmxbin,zmmedias+zmsigmas, color=c1, lw=0.8,ls=':')\n",
      "    ax.plot(zmxbin,zmmedias-zmsigmas, color=c1, lw=0.8,ls=':')       \n",
      "    ax.plot(zzmxbin,zzmmedias+zzmsigmas, color=c2, lw=0.8,ls=':')\n",
      "    ax.plot(zzmxbin,zzmmedias-zzmsigmas, color=c2, lw=0.8,ls=':')\n",
      "    ax.plot(zzzmxbin,zzzmmedias+zzzmsigmas, color=c3, lw=0.8,ls=':')\n",
      "    ax.plot(zzzmxbin,zzzmmedias-zzzmsigmas, color=c3, lw=0.8,ls=':')   \n",
      "    \n",
      "    #plt.plot(rfit,lineal_model(rfit,mpopt[reg][0],mpopt[reg][1]),label=text3,color=cmg,ls='--')\n",
      "    #plt.plot(rfit,lineal_model(rfit,zmpopt[reg][0],zmpopt[reg][1]),label=text4,color=cmg,ls='--')\n",
      "    \n",
      "    #ax.text(right, top, 'z=0, R$_{\\mu_{24}}=$ '+str(round(r24z0[reg-1],2))+'\\nz=1, R$_{\\mu_{24}}=$ '+str(round(r24z1[reg-1],2)),\n",
      "    #    horizontalalignment='right',\n",
      "    #    verticalalignment='top',\n",
      "    #    transform=ax.transAxes, fontsize=20)   \n",
      "    #ax.text(left, bottom, 'z=0, Core/Out= '+str(round(acoc,2))+'\\nz=1, Core/Out= '+str(round(zacoc,2)),\n",
      "    #    horizontalalignment='right',\n",
      "    #    verticalalignment='top',\n",
      "    #    transform=ax.transAxes, fontsize=20)\n",
      "    \n",
      "    ax.set_ylim(-0.01,0.05)\n",
      "    ax.set_ylabel('Z')\n",
      "    ax.set_xlabel('R/R$_{24}$')\n",
      "    ax.legend(loc='upper left', frameon=False, scatterpoints=1,borderpad=0.1, labelspacing=0.1,handlelength=2,ncol=2)\n",
      "    xticks = ax.xaxis.get_major_ticks()\n",
      "    for mt in range(len(xticks)):\n",
      "        if mt%2==0:\n",
      "            xticks[mt].label1.set_visible(False)\n",
      "\n",
      "    yticks = ax.yaxis.get_major_ticks()\n",
      "    for mt in range(len(yticks)):\n",
      "        if mt%2!=0:\n",
      "            yticks[mt].label1.set_visible(False)\n",
      "    ax.minorticks_on()       \n",
      "    plt.savefig('METALICIDADES-PROG.pdf', format='pdf', dpi=100,bbox_inches='tight')\n",
      "    plt.show()"
     ],
     "language": "python",
     "metadata": {},
     "outputs": [],
     "prompt_number": 10
    },
    {
     "cell_type": "code",
     "collapsed": false,
     "input": [
      "jovenes_poor  = [s for s in stars1 if s>=12]\n",
      "viejas        = [s for s in stars1 if s<=1]\n",
      "medias        = [s for s in stars1 if s<12 and s>1 ]\n",
      "djovenes      = [dist1[i] for i in range(len(dist1)) if starsi[i]>=12]\n"
     ],
     "language": "python",
     "metadata": {},
     "outputs": [],
     "prompt_number": 5
    },
    {
     "cell_type": "code",
     "collapsed": false,
     "input": [
      "zdist1  ,zstars1  ,zmet1   "
     ],
     "language": "python",
     "metadata": {},
     "outputs": []
    },
    {
     "cell_type": "code",
     "collapsed": false,
     "input": [
      "zzdist1 ,zzstars1 ,zzmet1 "
     ],
     "language": "python",
     "metadata": {},
     "outputs": []
    },
    {
     "cell_type": "code",
     "collapsed": false,
     "input": [
      "zzzdist1,zzzstars1,zzzmet1 "
     ],
     "language": "python",
     "metadata": {},
     "outputs": []
    },
    {
     "cell_type": "code",
     "collapsed": false,
     "input": [
      "int(mt.floor(2))"
     ],
     "language": "python",
     "metadata": {},
     "outputs": [
      {
       "metadata": {},
       "output_type": "pyout",
       "prompt_number": 34,
       "text": [
        "2"
       ]
      }
     ],
     "prompt_number": 34
    },
    {
     "cell_type": "code",
     "collapsed": false,
     "input": [
      "file_obs0='/home/meugenia/Dropbox/tesis/al_final/LR/tablas/LR_minpot3_rmmax_091_band125_nodust_grupo0.txt'\n",
      "m24z0,r24z0,r50z0=np.loadtxt(file_obs0, usecols=[2,3,4],unpack=True) \n",
      "file_obs1='/home/meugenia/Dropbox/tesis/al_final/LR/tablas/LR_minpot3_rmmax_041_band125_nodust_grupo0.txt'\n",
      "m24z1,r24z1,r50z1=np.loadtxt(file_obs1, usecols=[2,3,4],unpack=True)\n",
      "file_obs2='/home/meugenia/Dropbox/tesis/al_final/LR/tablas/LR_minpot3_rmmax_032_band125_nodust_grupo0.txt'\n",
      "m24z2,r24z2,r50z2=np.loadtxt(file_obs2, usecols=[2,3,4],unpack=True)\n",
      "file_obs3='/home/meugenia/Dropbox/tesis/al_final/LR/tablas/LR_minpot3_rmmax_026_band125_nodust_grupo0.txt'\n",
      "m24z3,r24z3,r50z3=np.loadtxt(file_obs3, usecols=[2,3,4],unpack=True)\n",
      "\n",
      "\n",
      "file_sim0='/home/meugenia/Dropbox/tesis/al_final/LR/evolucion/datos/091_LR_minpot3_rmmax_BiasedProgenitor_Masses.txt'\n",
      "m30z0,m50z0,=np.loadtxt(file_sim0, usecols=[7,8],unpack=True) \n",
      "file_sim2='/home/meugenia/Dropbox/tesis/al_final/LR/evolucion/datos/041_LR_minpot3_rmmax_BiasedProgenitor_Masses.txt'\n",
      "m30z2,m50z2,=np.loadtxt(file_sim2, usecols=[7,8],unpack=True) "
     ],
     "language": "python",
     "metadata": {},
     "outputs": [],
     "prompt_number": 29
    },
    {
     "cell_type": "code",
     "collapsed": false,
     "input": [
      "prog=[0,0,1,0,0,0,0,0,0,1,0,0,0,1,1,1,0,0,0,0,0,1,1,0,1,0,0,1,0,1]"
     ],
     "language": "python",
     "metadata": {},
     "outputs": [],
     "prompt_number": 30
    },
    {
     "cell_type": "code",
     "collapsed": false,
     "input": [
      "m0m1 = np.array([])\n",
      "m0m2 = np.array([])\n",
      "m0m3 = np.array([])\n",
      "m1m2 = np.array([])\n",
      "m1m3 = np.array([])\n",
      "m2m3 = np.array([])\n",
      "\n",
      "R0R1 = np.array([])\n",
      "R0R2 = np.array([])\n",
      "R0R3 = np.array([])\n",
      "R1R2 = np.array([])\n",
      "R1R3 = np.array([])\n",
      "R2R3 = np.array([])\n",
      "\n",
      "r0r1 = np.array([])\n",
      "r0r2 = np.array([])\n",
      "r0r3 = np.array([])\n",
      "r1r2 = np.array([])\n",
      "r1r3 = np.array([])\n",
      "r2r3 = np.array([])\n",
      "\n",
      "s30m0m2 = np.array([])\n",
      "s50m0m2 = np.array([])"
     ],
     "language": "python",
     "metadata": {},
     "outputs": [],
     "prompt_number": 31
    },
    {
     "cell_type": "code",
     "collapsed": false,
     "input": [
      "for reg in range(30):\n",
      "    sreg  = str(reg)\n",
      "    if reg==0 or prog[reg]==0 or reg==30:\n",
      "        continue\n",
      "    else:\n",
      "        m0m1 = np.append(m0m1,  m24z0[reg-1]/float(m24z1[reg-1]))\n",
      "        m0m2 = np.append(m0m2,  m24z0[reg-1]/float(m24z2[reg-1]))\n",
      "        m0m3 = np.append(m0m3,  m24z0[reg-1]/float(m24z3[reg-1]))\n",
      "        m1m2 = np.append(m1m2,  m24z1[reg-1]/float(m24z2[reg-1]))\n",
      "        m1m3 = np.append(m1m3,  m24z1[reg-1]/float(m24z3[reg-1]))\n",
      "        m2m3 = np.append(m2m3,  m24z2[reg-1]/float(m24z3[reg-1]))\n",
      "        \n",
      "        R0R1 = np.append(R0R1,  r24z0[reg-1]/float(r24z1[reg-1]))\n",
      "        R0R2 = np.append(R0R2,  r24z0[reg-1]/float(r24z2[reg-1]))\n",
      "        R0R3 = np.append(R0R3,  r24z0[reg-1]/float(r24z3[reg-1]))\n",
      "        R1R2 = np.append(R1R2,  r24z1[reg-1]/float(r24z2[reg-1]))\n",
      "        R1R3 = np.append(R1R3,  r24z1[reg-1]/float(r24z3[reg-1]))\n",
      "        R2R3 = np.append(R2R3,  r24z2[reg-1]/float(r24z3[reg-1]))\n",
      "        \n",
      "        r0r1 = np.append(r0r1, r50z0[reg-1]/float(r50z1[reg-1]))\n",
      "        r0r2 = np.append(r0r2, r50z0[reg-1]/float(r50z2[reg-1]))\n",
      "        r0r3 = np.append(r0r3, r50z0[reg-1]/float(r50z3[reg-1]))\n",
      "        r1r2 = np.append(r1r2, r50z1[reg-1]/float(r50z2[reg-1]))\n",
      "        r1r3 = np.append(r1r3, r50z1[reg-1]/float(r50z3[reg-1]))\n",
      "        r2r3 = np.append(r2r3, r50z2[reg-1]/float(r50z3[reg-1]))   \n",
      "        \n",
      "        s30m0m2 = np.append(s30m0m2,  m30z0[reg-1]/float(m30z2[reg-1]))\n",
      "        s50m0m2 = np.append(s50m0m2,  m50z0[reg-1]/float(m50z2[reg-1]))"
     ],
     "language": "python",
     "metadata": {},
     "outputs": [],
     "prompt_number": 32
    },
    {
     "cell_type": "code",
     "collapsed": false,
     "input": [
      "#histograma(h1,h2,bines,ylim,xlim1,xlim2,save,labelx,labely,leg1,leg2,color,ticks,anotacion,m1,m2,t1,t2,pos,c,posan)"
     ],
     "language": "python",
     "metadata": {},
     "outputs": [],
     "prompt_number": 33
    },
    {
     "cell_type": "code",
     "collapsed": false,
     "input": [
      "h1=m0m2\n",
      "h2=R0R2\n",
      "fig = plt.figure(num=None, figsize=(8, 8), dpi=80, facecolor='w', edgecolor='k')\n",
      "ax = fig.add_subplot(111)\n",
      "bins = np.histogram(np.hstack((h1,h2)), bins=5)[1]\n",
      "ax.hist(h1, bins=bins, edgecolor='black',facecolor='none',histtype='stepfilled',linewidth=1, label='M24--z2z0')\n",
      "ax.hist(h2, bins=bins,edgecolor='black',facecolor='none',histtype='stepfilled', hatch='//', label='R24--z2z0')\n",
      "ax.axvline(x=np.mean(m0m2),label='Media M0M2: '+\"${0:0.2f}$\".format(np.mean(m0m2)))\n",
      "ax.axvline(x=np.mean(R0R2),ls='--',label='Media R0R2: '\"${0:0.2f}$\".format(np.mean(R0R2)))\n",
      "ax.legend(loc='upper right', frameon=False, scatterpoints=1,borderpad=0.1, labelspacing=0.1,handlelength=2)\n",
      "plt.ylim(0,12)\n",
      "plt.show()"
     ],
     "language": "python",
     "metadata": {},
     "outputs": [],
     "prompt_number": 35
    },
    {
     "cell_type": "code",
     "collapsed": false,
     "input": [
      "h1=m0m2\n",
      "h2=r0r2\n",
      "fig = plt.figure(num=None, figsize=(8, 8), dpi=80, facecolor='w', edgecolor='k')\n",
      "ax = fig.add_subplot(111)\n",
      "bins = np.histogram(np.hstack((h1,h2)), bins=5)[1]\n",
      "ax.hist(h1, bins=bins, edgecolor='black',facecolor='none',histtype='stepfilled',linewidth=1, label='M24--z2z0')\n",
      "ax.hist(h2, bins=bins,edgecolor='black',facecolor='none',histtype='stepfilled', hatch='//', label='R24--z2z0')\n",
      "ax.axvline(x=np.mean(m0m2),label='Media M0M2: '+\"${0:0.2f}$\".format(np.mean(m0m2)))\n",
      "ax.axvline(x=np.mean(r0r2),ls='--',label='Media R0R2: '\"${0:0.2f}$\".format(np.mean(r0r2)))\n",
      "ax.legend(loc='upper right', frameon=False, scatterpoints=1,borderpad=0.1, labelspacing=0.1,handlelength=2)\n",
      "plt.ylim(0,12)\n",
      "plt.show()"
     ],
     "language": "python",
     "metadata": {},
     "outputs": [],
     "prompt_number": 36
    },
    {
     "cell_type": "code",
     "collapsed": false,
     "input": [
      "h1=m0m1\n",
      "h2=R0R1\n",
      "fig = plt.figure(num=None, figsize=(8, 8), dpi=80, facecolor='w', edgecolor='k')\n",
      "ax = fig.add_subplot(111)\n",
      "bins = np.histogram(np.hstack((h1,h2)), bins=5)[1]\n",
      "ax.hist(h1, bins=bins, edgecolor='black',facecolor='none',histtype='stepfilled',linewidth=1, label='M24--z2z0')\n",
      "ax.hist(h2, bins=bins,edgecolor='black',facecolor='none',histtype='stepfilled', hatch='//', label='R24--z2z0')\n",
      "ax.axvline(x=np.mean(m0m1),label='Media M0M2: '+\"${0:0.2f}$\".format(np.mean(m0m1)))\n",
      "ax.axvline(x=np.mean(R0R1),ls='--',label='Media R0R2: '\"${0:0.2f}$\".format(np.mean(R0R1)))\n",
      "ax.legend(loc='upper right', frameon=False, scatterpoints=1,borderpad=0.1, labelspacing=0.1,handlelength=2)\n",
      "plt.ylim(0,12)\n",
      "plt.show()"
     ],
     "language": "python",
     "metadata": {},
     "outputs": [],
     "prompt_number": 39
    },
    {
     "cell_type": "code",
     "collapsed": false,
     "input": [
      "h1=m0m1\n",
      "h2=r0r1\n",
      "fig = plt.figure(num=None, figsize=(8, 8), dpi=80, facecolor='w', edgecolor='k')\n",
      "ax = fig.add_subplot(111)\n",
      "bins = np.histogram(np.hstack((h1,h2)), bins=5)[1]\n",
      "ax.hist(h1, bins=bins, edgecolor='black',facecolor='none',histtype='stepfilled',linewidth=1, label='M24--z2z0')\n",
      "ax.hist(h2, bins=bins,edgecolor='black',facecolor='none',histtype='stepfilled', hatch='//', label='R24--z2z0')\n",
      "ax.axvline(x=np.mean(m0m1),label='Media M0M2: '+\"${0:0.2f}$\".format(np.mean(m0m1)))\n",
      "ax.axvline(x=np.mean(r0r1),ls='--',label='Media R0R2: '\"${0:0.2f}$\".format(np.mean(r0r1)))\n",
      "ax.legend(loc='upper right', frameon=False, scatterpoints=1,borderpad=0.1, labelspacing=0.1,handlelength=2)\n",
      "plt.ylim(0,12)\n",
      "plt.show()"
     ],
     "language": "python",
     "metadata": {},
     "outputs": [],
     "prompt_number": 40
    },
    {
     "cell_type": "code",
     "collapsed": false,
     "input": [
      "h1=s30m0m2\n",
      "h2=r0r2\n",
      "fig = plt.figure(num=None, figsize=(8, 8), dpi=80, facecolor='w', edgecolor='k')\n",
      "ax = fig.add_subplot(111)\n",
      "bins = np.histogram(np.hstack((h1,h2)), bins=5)[1]\n",
      "ax.hist(h1, bins=bins, edgecolor='black',facecolor='none',histtype='stepfilled',linewidth=1, label='M24--z2z0')\n",
      "ax.hist(h2, bins=bins,edgecolor='black',facecolor='none',histtype='stepfilled', hatch='//', label='R24--z2z0')\n",
      "ax.axvline(x=np.mean(s30m0m2),label='Media M0M2: '+\"${0:0.2f}$\".format(np.mean(s30m0m2)))\n",
      "ax.axvline(x=np.mean(r0r2),ls='--',label='Media R0R2: '\"${0:0.2f}$\".format(np.mean(r0r2)))\n",
      "ax.legend(loc='upper right', frameon=False, scatterpoints=1,borderpad=0.1, labelspacing=0.1,handlelength=2)\n",
      "plt.ylim(0,12)\n",
      "plt.show()"
     ],
     "language": "python",
     "metadata": {},
     "outputs": [],
     "prompt_number": 37
    },
    {
     "cell_type": "code",
     "collapsed": false,
     "input": [
      "h1=s50m0m2\n",
      "h2=r0r2\n",
      "fig = plt.figure(num=None, figsize=(8, 8), dpi=80, facecolor='w', edgecolor='k')\n",
      "ax = fig.add_subplot(111)\n",
      "bins = np.histogram(np.hstack((h1,h2)), bins=5)[1]\n",
      "ax.hist(h1, bins=bins, edgecolor='black',facecolor='none',histtype='stepfilled',linewidth=1, label='M24--z2z0')\n",
      "ax.hist(h2, bins=bins,edgecolor='black',facecolor='none',histtype='stepfilled', hatch='//', label='R24--z2z0')\n",
      "ax.axvline(x=np.mean(s50m0m2),label='Media M0M2: '+\"${0:0.2f}$\".format(np.mean(s50m0m2)))\n",
      "ax.axvline(x=np.mean(r0r2),ls='--',label='Media R0R2: '\"${0:0.2f}$\".format(np.mean(r0r2)))\n",
      "ax.legend(loc='upper right', frameon=False, scatterpoints=1,borderpad=0.1, labelspacing=0.1,handlelength=2)\n",
      "plt.ylim(0,12)\n",
      "plt.show()"
     ],
     "language": "python",
     "metadata": {},
     "outputs": [],
     "prompt_number": 38
    },
    {
     "cell_type": "code",
     "collapsed": false,
     "input": [
      "1.28**2"
     ],
     "language": "python",
     "metadata": {},
     "outputs": [
      {
       "metadata": {},
       "output_type": "pyout",
       "prompt_number": 50,
       "text": [
        "1.6384"
       ]
      }
     ],
     "prompt_number": 50
    },
    {
     "cell_type": "code",
     "collapsed": false,
     "input": [
      "file_coc='/home/meugenia/Dropbox/tesis/al_final/estrellas/stack/cocientes.txt'\n"
     ],
     "language": "python",
     "metadata": {},
     "outputs": []
    }
   ],
   "metadata": {}
  }
 ]
}