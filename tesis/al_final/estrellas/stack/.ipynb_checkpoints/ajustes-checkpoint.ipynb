{
 "metadata": {
  "name": "",
  "signature": "sha256:fcfc10e700620d3fd316ae127932ac5a0daf3b4652d3316642ee28f96295c67b"
 },
 "nbformat": 3,
 "nbformat_minor": 0,
 "worksheets": [
  {
   "cells": [
    {
     "cell_type": "code",
     "collapsed": false,
     "input": [
      "import numpy as np\n",
      "import cython\n",
      "import glob\n",
      "import matplotlib.pyplot as plt\n",
      "import plot as po\n",
      "import bineado as bi\n",
      "#import matplotlib.ticker import NullFormatter,MultipleLocator, FormatStrFormatter\n",
      "from matplotlib.offsetbox import AnchoredText\n",
      "import math as mt\n",
      "import os\n",
      "import histos as h\n",
      "from scipy.optimize import curve_fit\n",
      "\n"
     ],
     "language": "python",
     "metadata": {},
     "outputs": [],
     "prompt_number": 1
    },
    {
     "cell_type": "code",
     "collapsed": false,
     "input": [
      "zsun=0.0134\n",
      "#zsun=0.0189 #olova"
     ],
     "language": "python",
     "metadata": {},
     "outputs": [],
     "prompt_number": 2
    },
    {
     "cell_type": "code",
     "collapsed": false,
     "input": [
      "c0='#FF0000'\n",
      "#c1='#660033'\n",
      "c1='orange'\n",
      "c2='#006600'\n",
      "c3='#000066'"
     ],
     "language": "python",
     "metadata": {},
     "outputs": [],
     "prompt_number": 3
    },
    {
     "cell_type": "code",
     "collapsed": false,
     "input": [
      "left, width = .60, .3\n",
      "bottom, height = .15, .8\n",
      "right = left + width\n",
      "top = bottom + height"
     ],
     "language": "python",
     "metadata": {},
     "outputs": [],
     "prompt_number": 4
    },
    {
     "cell_type": "code",
     "collapsed": false,
     "input": [
      "def bineado(x,entity,bins,init,end):\n",
      "    step=(end-init)/float(bins)\n",
      "    nelements  =np.zeros(bins)\n",
      "    bin_entity =np.zeros(bins)\n",
      "    xbin       =np.zeros(bins)\n",
      "    medians    =np.zeros(bins)\n",
      "    sigmas     =np.zeros(bins)\n",
      "    #perc10     =np.zeros(bins)\n",
      "    perc25     =np.zeros(bins)\n",
      "    perc75     =np.zeros(bins)\n",
      "    #perc90     =np.zeros(bins)\n",
      "\n",
      "    matrixbin  = []\n",
      "    \n",
      "    for j in range(bins):\n",
      "        matrixbin.append([])    \n",
      "    \n",
      "    for i in range(len(entity)):\n",
      "        ibin = int((x[i]-init)/float(step))\n",
      "        if ibin>=bins:\n",
      "            continue\n",
      "        else:\n",
      "            nelements[ibin] += 1\n",
      "            bin_entity[ibin] = bin_entity[ibin] + entity[i]\n",
      "            matrixbin[ibin].append(entity[i])\n",
      "            #if i%1000==0:\n",
      "                #print ibin, nelements[ibin],bin_entity[ibin]\n",
      "            \n",
      "    for k in range(bins):\n",
      "        medians[k]=np.median(matrixbin[k])\n",
      "        sigmas[k]=np.std(matrixbin[k])\n",
      "        #perc10[k]=np.percentile(matrixbin[k],10)\n",
      "        #perc25[k]=np.percentile(matrixbin[k],25)\n",
      "        #perc75[k]=np.percentile(matrixbin[k],75)\n",
      "        #perc90[k]=np.percentile(matrixbin[k],90)\n",
      "    nelements=[e if e>0 else 1e-29 for e in nelements]           \n",
      "    xbin=[init+0.5*(2*i+1)*step for i in range(bins)]    \n",
      "    print 'SALI DE BINEADO'\n",
      "    return nelements,xbin,bin_entity,sigmas#,perc25,perc75 \n",
      "#,matrixbin "
     ],
     "language": "python",
     "metadata": {},
     "outputs": [],
     "prompt_number": 5
    },
    {
     "cell_type": "code",
     "collapsed": false,
     "input": [
      "plt.rc('text', usetex=True)\n",
      "font = {'family': 'serif', 'size': 25, 'serif': ['computer modern roman']}\n",
      "plt.rc('font', **font)\n",
      "plt.rc('legend', **{'fontsize': 17}) \n",
      "plt.rcParams['text.latex.preamble'] = [r'\\usepackage{amsmath}']\n",
      "plt.rcParams['axes.linewidth'] = 1.0\n",
      "plt.rcParams['xtick.major.size'] = 8\n",
      "plt.rcParams['xtick.minor.size'] = 4\n",
      "plt.rcParams['ytick.major.size'] = 6\n",
      "plt.rcParams['ytick.minor.size'] = 3\n",
      "plt.rc('lines', linewidth=2)"
     ],
     "language": "python",
     "metadata": {},
     "outputs": [],
     "prompt_number": 6
    },
    {
     "cell_type": "code",
     "collapsed": false,
     "input": [
      "def lineal_model(x,a,b):\n",
      "    return a*x+b"
     ],
     "language": "python",
     "metadata": {},
     "outputs": [],
     "prompt_number": 7
    },
    {
     "cell_type": "code",
     "collapsed": false,
     "input": [
      "def muestra(reg,snap): \n",
      "        #prefijo_inputs='/home/mferraro/inputs/D'+str(reg)+'_LR_minpot3_rmmax_'+snap+'_'\n",
      "    prefijo_inputs='/home/meugenia/0/HR/inputs_grupo0/D'+str(reg)+'_HR_minpot3_rmmax_'+snap+'_'\n",
      "\n",
      "    file_mass=''\n",
      "    for fm in glob.glob(prefijo_inputs+'*NoDust.dat'):\n",
      "        file_mass = fm\n",
      "\n",
      "    file_obs='/home/meugenia/Dropbox/tesis/al_final/HR/tablas/HR_minpot3_rmmax_'+snap+'_band125_nodust_grupo0.txt'\n",
      "    r24=np.loadtxt(file_obs, usecols=[3],unpack=True) \n",
      "    pt    =np.array([])\n",
      "    x     =np.array([])\n",
      "    y     =np.array([])\n",
      "    met   =np.array([])\n",
      "    age   =np.array([])\n",
      "    rnorm =np.zeros(x)\n",
      "    x1    =np.array([])\n",
      "    y1    =np.array([])        \n",
      "    met1  =np.array([])\n",
      "    age1  =np.array([])        \n",
      "\n",
      "    pt,x,y,age,met=np.loadtxt(file_mass,usecols=[0,1,2,4,5],unpack=True,skiprows=1)\n",
      "        \n",
      "    for kk in range(len(age)):\n",
      "        if pt[kk]!=-1 or met[kk]==-666.67:\n",
      "            continue\n",
      "        else:\n",
      "            if age[kk]>0 and age[kk]<50 and (x[kk]**2+y[kk]**2)<=(r24[reg-1])**2 and np.sqrt(x[kk]**2+y[kk]**2)>0.: #/(r24[reg-1])>10**(-2.5):\n",
      "                age1=np.append(age1,age[kk])\n",
      "                met1=np.append(met1,met[kk])\n",
      "                x1=np.append(x1,x[kk])\n",
      "                y1=np.append(y1,y[kk])\n",
      "\n",
      "    r1=np.sqrt(x1**2+y1**2)\n",
      "    rnorm=[value/float(r24[reg-1]) for value in r1] \n",
      "    print 'PASE POR '+str(reg)\n",
      "    return x1,y1,r1,rnorm,age1,met1"
     ],
     "language": "python",
     "metadata": {},
     "outputs": [],
     "prompt_number": 42
    },
    {
     "cell_type": "code",
     "collapsed": false,
     "input": [
      "x1p= []\n",
      "y1p= []\n",
      "dist1p= []\n",
      "dist1= []\n",
      "stars1= []\n",
      "met1= []\n",
      "zx1p= []\n",
      "zy1p= []\n",
      "zdist1p= []\n",
      "zdist1= []\n",
      "zstars1= []\n",
      "zmet1= []\n",
      "zzx1p= []\n",
      "zzy1p= []\n",
      "zzdist1p= []\n",
      "zzdist1= []\n",
      "zzstars1= []\n",
      "zzmet1= []\n",
      "zzzx1p= []\n",
      "zzzy1p= []\n",
      "zzzdist1p= []\n",
      "zzzdist1= []\n",
      "zzzstars1= []\n",
      "zzzmet1= []\n",
      "\n",
      "\n",
      "anb= []\n",
      "axbin= []\n",
      "abe= []\n",
      "amedians= []\n",
      "astd= []\n",
      "zanb= []\n",
      "zaxbin= []\n",
      "zabe= []\n",
      "zastd= []\n",
      "zzanb= []\n",
      "zzaxbin= []\n",
      "zzabe= []\n",
      "zzastd= []\n",
      "zzzanb= []\n",
      "zzzaxbin= []\n",
      "zzzabe= []\n",
      "zzzastd= []\n",
      "\n",
      "mnb= []\n",
      "mxbin= []\n",
      "mbe= []\n",
      "mstd= []\n",
      "zmnb= []\n",
      "zmxbin= []\n",
      "zmbe= []\n",
      "zmstd= []\n",
      "zzmnb= []\n",
      "zzmxbin= []\n",
      "zzmbe= []\n",
      "zzmstd= []\n",
      "zzzmnb= []\n",
      "zzzmxbin= []\n",
      "zzzmbe= []\n",
      "zzzmstd= [] \n",
      "\n",
      "apopt= []\n",
      "zapopt= []\n",
      "zzapopt= []\n",
      "zzzapopt= []\n",
      "    \n",
      "mpopt= []\n",
      "zmpopt= []\n",
      "zzmpopt= []\n",
      "zzzmpopt= []"
     ],
     "language": "python",
     "metadata": {},
     "outputs": [],
     "prompt_number": 43
    },
    {
     "cell_type": "code",
     "collapsed": false,
     "input": [
      "for m in range(30):\n",
      "    x1p.append([]) \n",
      "    y1p.append([])\n",
      "    dist1p.append([])\n",
      "    dist1.append([])\n",
      "    stars1.append([])\n",
      "    met1.append([])\n",
      "\n",
      "    zx1p.append([]) \n",
      "    zy1p.append([])\n",
      "    zdist1p.append([])\n",
      "    zdist1.append([])\n",
      "    zstars1.append([])\n",
      "    zmet1.append([])\n",
      "\n",
      "    zzx1p.append([]) \n",
      "    zzy1p.append([])\n",
      "    zzdist1p.append([])\n",
      "    zzdist1.append([])\n",
      "    zzstars1.append([])\n",
      "    zzmet1.append([])    \n",
      "    \n",
      "    zzzx1p.append([]) \n",
      "    zzzy1p.append([])\n",
      "    zzzdist1p.append([])\n",
      "    zzzdist1.append([])\n",
      "    zzzstars1.append([])\n",
      "    zzzmet1.append([])\n",
      "    \n",
      "    anb.append([])\n",
      "    axbin.append([])\n",
      "    abe.append([])\n",
      "    astd.append([])\n",
      "    zanb.append([])\n",
      "    zaxbin.append([])\n",
      "    zabe.append([])\n",
      "    zastd.append([])\n",
      "    zzanb.append([])\n",
      "    zzaxbin.append([])\n",
      "    zzabe.append([])\n",
      "    zzastd.append([])\n",
      "    zzzanb.append([])\n",
      "    zzzaxbin.append([])\n",
      "    zzzabe.append([])\n",
      "    zzzastd.append([])    \n",
      "\n",
      "    mnb.append([])\n",
      "    mxbin.append([])\n",
      "    mbe.append([])\n",
      "    mstd.append([])\n",
      "    zmnb.append([])\n",
      "    zmxbin.append([])\n",
      "    zmbe.append([])\n",
      "    zmstd.append([])\n",
      "    zzmnb.append([])\n",
      "    zzmxbin.append([])\n",
      "    zzmbe.append([])\n",
      "    zzmstd.append([])\n",
      "    zzzmnb.append([])\n",
      "    zzzmxbin.append([])\n",
      "    zzzmbe.append([])\n",
      "    zzzmstd.append([]) \n",
      "        \n",
      "    apopt.append([])\n",
      "    zapopt.append([])\n",
      "    zzapopt.append([])\n",
      "    zzzapopt.append([])    \n",
      "    mpopt.append([])\n",
      "    zmpopt.append([])\n",
      "    zzmpopt.append([])\n",
      "    zzzmpopt.append([])"
     ],
     "language": "python",
     "metadata": {},
     "outputs": [],
     "prompt_number": 44
    },
    {
     "cell_type": "code",
     "collapsed": false,
     "input": [
      "len(dist1)"
     ],
     "language": "python",
     "metadata": {},
     "outputs": [
      {
       "metadata": {},
       "output_type": "pyout",
       "prompt_number": 45,
       "text": [
        "30"
       ]
      }
     ],
     "prompt_number": 45
    },
    {
     "cell_type": "code",
     "collapsed": false,
     "input": [
      "file_obs0='/home/meugenia/Dropbox/tesis/al_final/HR/tablas/HR_minpot3_rmmax_091_band125_nodust_grupo0.txt'\n",
      "r24z0=np.loadtxt(file_obs0, usecols=[3],unpack=True) \n",
      "file_obs1='/home/meugenia/Dropbox/tesis/al_final/HR/tablas/HR_minpot3_rmmax_041_band125_nodust_grupo0.txt'\n",
      "r24z1=np.loadtxt(file_obs1, usecols=[3],unpack=True)\n",
      "file_obs2='/home/meugenia/Dropbox/tesis/al_final/HR/tablas/HR_minpot3_rmmax_032_band125_nodust_grupo0.txt'\n",
      "r24z2=np.loadtxt(file_obs2, usecols=[3],unpack=True)\n",
      "file_obs3='/home/meugenia/Dropbox/tesis/al_final/HR/tablas/HR_minpot3_rmmax_026_band125_nodust_grupo0.txt'\n",
      "r24z3=np.loadtxt(file_obs3, usecols=[3],unpack=True)\n",
      "\n",
      "if 1==0:\n",
      "    if os.path.exists('/home/meugenia/Dropbox/tesis/al_final/estrellas/stack/ajustes/ajustes.txt'):\n",
      "        os.remove('/home/meugenia/Dropbox/tesis/al_final/estrellas/stack/ajustes/ajustes.txt')  \n",
      "if 1==0:\n",
      "    if os.path.exists('/home/meugenia/Dropbox/tesis/al_final/estrellas/stack/ajustes2/ajustes2.txt'):\n",
      "        os.remove('/home/meugenia/Dropbox/tesis/al_final/estrellas/stack/ajustes2/ajustes2.txt') \n",
      "        \n",
      "for reg in range(30):\n",
      "    sreg  = str(reg)\n",
      "    if reg==0 or reg==30 or reg!=2:\n",
      "        continue\n",
      "    x1p[reg],y1p[reg],dist1p[reg],dist1[reg],stars1[reg],met1[reg]=muestra(reg,'091')\n",
      "    zx1p[reg],zy1p[reg],zdist1p[reg],zdist1[reg],zstars1[reg],zmet1[reg]=muestra(reg,'041')\n",
      "    zzx1p[reg],zzy1p[reg],zzdist1p[reg],zzdist1[reg],zzstars1[reg],zzmet1[reg]=muestra(reg,'032')\n",
      "    zzzx1p[reg],zzzy1p[reg],zzzdist1p[reg],zzzdist1[reg],zzzstars1[reg],zzzmet1[reg]=muestra(reg,'026')    \n",
      "\n",
      "    anb[reg]  ,axbin[reg]  ,abe[reg]  ,astd[reg]             = bineado(dist1[reg]   ,stars1[reg],55,0.,1.)\n",
      "    zanb[reg] ,zaxbin[reg] ,zabe[reg] ,zastd[reg]            = bineado(zdist1[reg]  ,zstars1[reg],55,0.,1.)\n",
      "    zzanb[reg] ,zzaxbin[reg] ,zzabe[reg] ,zzastd[reg]        = bineado(zzdist1[reg] ,zzstars1[reg],55,0.,1.)\n",
      "    zzzanb[reg] ,zzzaxbin[reg] ,zzzabe[reg] ,zzzastd[reg]    = bineado(zzzdist1[reg],zzzstars1[reg],55,0.,1.)    \n",
      "    mnb[reg]  ,mxbin[reg]  ,mbe[reg]  ,mstd[reg]             = bineado(dist1[reg]   ,met1[reg]/zsun,55,0.,1.)\n",
      "    zmnb[reg] ,zmxbin[reg] ,zmbe[reg] ,zmstd[reg]            = bineado(zdist1[reg]  ,zmet1[reg]/zsun,55,0.,1.)\n",
      "    zzmnb[reg] ,zzmxbin[reg] ,zzmbe[reg] ,zzmstd[reg]        = bineado(zzdist1[reg] ,zzmet1[reg]/zsun,55,0.,1.)\n",
      "    zzzmnb[reg] ,zzzmxbin[reg] ,zzzmbe[reg] ,zzzmstd[reg]    = bineado(zzzdist1[reg],zzzmet1[reg]/zsun,55,0.,1.)    \n",
      "    \n",
      "    #anb[reg],axbin[reg] ,abe[reg],astd[reg] = bineado(dist1[reg],stars1[reg],50,0.,1.)#-3.2,-1e-7)\n",
      "    #zanb[reg] ,zaxbin[reg] ,zabe[reg] ,zastd[reg]= bineado(np.log10(zdist1[reg]) ,zstars1[reg],50,np.min(np.log10(zdist1[reg])),np.max(np.log10(zdist1[reg])))\n",
      "    #zzanb[reg] ,zzaxbin[reg] ,zzabe[reg] ,zzastd[reg] = bineado(np.log10(zzdist1[reg]) ,zzstars1[reg],50,np.min(np.log10(zzdist1[reg])),np.max(np.log10(zzdist1[reg])))\n",
      "    #zzzanb[reg] ,zzzaxbin[reg] ,zzzabe[reg] ,zzzastd[reg]= bineado(np.log10(zzzdist1[reg]) ,zzzstars1[reg],50,np.min(np.log10(zzzdist1[reg])),np.max(np.log10(zzzdist1[reg]))) \n",
      "    \n",
      "    #mnb[reg]  ,mxbin[reg]  ,mbe[reg]  ,mstd[reg]= bineado(dist1[reg] ,met1[reg]/zsun,50,0.,1.)#-3.2,-1e-7)\n",
      "    #zmnb[reg] ,zmxbin[reg] ,zmbe[reg] ,zmstd[reg] = bineado(np.log10(zdist1[reg]) ,zmet1[reg]/zsun,50,np.min(np.log10(zdist1[reg])),np.max(np.log10(zdist1[reg])))\n",
      "    #zzmnb[reg] ,zzmxbin[reg] ,zzmbe[reg] ,zzmstd[reg] = bineado(np.log10(zzdist1[reg]) ,zzmet1[reg]/zsun,50,np.min(np.log10(zzdist1[reg])),np.max(np.log10(zzdist1[reg])))\n",
      "    #zzzmnb[reg] ,zzzmxbin[reg] ,zzzmbe[reg] ,zzzmstd[reg]= bineado(np.log10(zzzdist1[reg]) ,zzzmet1[reg]/zsun,50,np.min(np.log10(zzzdist1[reg])),np.max(np.log10(zzzdist1[reg])))\n",
      "    \n",
      "    \n",
      "    #anb[reg]   ,axbin[reg]   ,abe[reg]   ,astd[reg]    = bineado(np.log10(dist1[reg])   ,stars1[reg]   ,23,np.min(np.log10(dist1[reg])),np.max(np.log10(dist1[reg])))    \n",
      "    #zanb[reg]  ,zaxbin[reg]  ,zabe[reg]  ,zastd[reg]   = bineado(np.log10(zdist1[reg])  ,zstars1[reg]  ,6,np.min(np.log10(dist1[reg])),np.max(np.log10(dist1[reg])))    \n",
      "    #zzanb[reg] ,zzaxbin[reg] ,zzabe[reg] ,zzastd[reg]  = bineado(np.log10(zzdist1[reg]) ,zzstars1[reg] ,6,np.min(np.log10(dist1[reg])),np.max(np.log10(dist1[reg])))    \n",
      "    #zzzanb[reg],zzzaxbin[reg],zzzabe[reg],zzzastd[reg] = bineado(np.log10(zzzdist1[reg]),zzzstars1[reg],6,np.min(np.log10(dist1[reg])),np.max(np.log10(dist1[reg])))        \n",
      "    #mnb[reg]   ,mxbin[reg]   ,mbe[reg]   ,mstd[reg]    = bineado(np.log10(dist1[reg])   ,met1[reg]/zsun   ,23,np.min(np.log10(dist1[reg])),np.max(np.log10(dist1[reg])))  \n",
      "    #zmnb[reg]  ,zmxbin[reg]  ,zmbe[reg]  ,zmstd[reg]   = bineado(np.log10(zdist1[reg])  ,zmet1[reg]/zsun  ,6,np.min(np.log10(dist1[reg])),np.max(np.log10(dist1[reg])))  \n",
      "    #zzmnb[reg] ,zzmxbin[reg] ,zzmbe[reg] ,zzmstd[reg]  = bineado(np.log10(zzdist1[reg]) ,zzmet1[reg]/zsun ,6,np.min(np.log10(dist1[reg])),np.max(np.log10(dist1[reg])))  \n",
      "    #zzzmnb[reg],zzzmxbin[reg],zzzmbe[reg],zzzmstd[reg] = bineado(np.log10(zzzdist1[reg]),zzzmet1[reg]/zsun,6,np.min(np.log10(dist1[reg])),np.max(np.log10(dist1[reg])))  \n",
      "    \n",
      "    #print abe[reg]\n",
      "    amedias = abe[reg]/anb[reg]\n",
      "    zamedias = zabe[reg]/zanb[reg]\n",
      "    zzamedias = zzabe[reg]/zzanb[reg]\n",
      "    zzzamedias = zzzabe[reg]/zzzanb[reg]  \n",
      "    \n",
      "    mmedias = mbe[reg]/mnb[reg]\n",
      "    zmmedias = zmbe[reg]/zmnb[reg]\n",
      "    zzmmedias = zzmbe[reg]/zzmnb[reg]\n",
      "    zzzmmedias = zzzmbe[reg]/zzzmnb[reg]\n",
      "    #print amedias\n",
      "    #print axbin[reg]\n",
      "    \n",
      "    #apopt[reg] , apcov  = curve_fit(lineal_model, axbin[reg]  , amedias)\n",
      "    #zapopt[reg], zapcov = curve_fit(lineal_model, zaxbin[reg] ,zamedias)\n",
      "    #zzapopt[reg], zzapcov = curve_fit(lineal_model, zzaxbin[reg] ,zzamedias)\n",
      "    #zzzapopt[reg], zzzapcov = curve_fit(lineal_model, zzzaxbin[reg] ,zzzamedias)    \n",
      "    #mpopt[reg] , mpcov  = curve_fit(lineal_model, mxbin[reg]  , mmedias)\n",
      "    #zmpopt[reg], zmpcov = curve_fit(lineal_model, zmxbin[reg] ,zmmedias)\n",
      "    #zzmpopt[reg], zzmpcov = curve_fit(lineal_model, zzmxbin[reg] ,zzmmedias)\n",
      "    #zzzmpopt[reg], zzzmpcov = curve_fit(lineal_model, zzzmxbin[reg] ,zzzmmedias)\n",
      "\n",
      "    \n",
      "    apopt[reg]   ,apcov     = curve_fit(lineal_model, np.log10(axbin[reg])   , np.log10(amedias))\n",
      "    zapopt[reg]  ,zapcov    = curve_fit(lineal_model, np.log10(zaxbin[reg])  ,np.log10(zamedias))\n",
      "    zzapopt[reg] ,zzapcov   = curve_fit(lineal_model, np.log10(zzaxbin[reg]) ,np.log10(zzamedias))\n",
      "    zzzapopt[reg],zzzapcov  = curve_fit(lineal_model, np.log10(zzzaxbin[reg]),np.log10(zzzamedias))    \n",
      "    mpopt[reg]   , mpcov    = curve_fit(lineal_model, np.log10(mxbin[reg])   , np.log10(mmedias))\n",
      "    zmpopt[reg]  , zmpcov   = curve_fit(lineal_model, np.log10(zmxbin[reg])  ,np.log10(zmmedias))\n",
      "    zzmpopt[reg] , zzmpcov  = curve_fit(lineal_model, np.log10(zzmxbin[reg]) ,np.log10(zzmmedias))\n",
      "    zzzmpopt[reg], zzzmpcov = curve_fit(lineal_model, np.log10(zzzmxbin[reg]),np.log10(zzzmmedias))\n",
      "        \n",
      "        \n",
      "    #apopt[reg]   ,apcov    = curve_fit(lineal_model, axbin[reg]   ,np.log10(amedias))\n",
      "    #zapopt[reg]  ,zapcov   = curve_fit(lineal_model, zaxbin[reg]  ,np.log10(zamedias))\n",
      "    #zzapopt[reg] ,zzapcov  = curve_fit(lineal_model, zzaxbin[reg] ,np.log10(zzamedias))\n",
      "    #zzzapopt[reg],zzzapcov = curve_fit(lineal_model, zzzaxbin[reg],np.log10(zzzamedias))\n",
      "    #mpopt[reg]   ,mpcov    = curve_fit(lineal_model, mxbin[reg]   ,np.log10(mmedias))\n",
      "    #zmpopt[reg]  ,zmpcov   = curve_fit(lineal_model, zmxbin[reg]  ,np.log10(zmmedias))\n",
      "    #zzmpopt[reg] ,zzmpcov  = curve_fit(lineal_model, zzmxbin[reg] ,np.log10(zzmmedias))\n",
      "    #zzzmpopt[reg],zzzmpcov = curve_fit(lineal_model, zzzmxbin[reg],np.log10(zzzmmedias))\n",
      "                \n",
      "        \n",
      "        \n",
      "    #amediascore=np.mean([amedias[0],amedias[1],amedias[2],amedias[3],amedias[4],amedias[5],amedias[6]])\n",
      "    #amediasout=np.mean([amedias[-7],amedias[-6],amedias[-5],amedias[-4],amedias[-3],amedias[-2],amedias[-1]])\n",
      "    #zamediascore=np.mean([zamedias[0],zamedias[1],zamedias[2],zamedias[3],zamedias[4],zamedias[5],zamedias[6]])\n",
      "    #zamediasout=np.mean([zamedias[-7],zamedias[-6],zamedias[-5],zamedias[-4],zamedias[-3],zamedias[-2],zamedias[-1]])\n",
      "    #zzamediascore=np.mean([zzamedias[0],zzamedias[1],zzamedias[2],zzamedias[3],zzamedias[4],zzamedias[5],zzamedias[6]])\n",
      "    #zzamediasout=np.mean([zzamedias[-7],zzamedias[-6],zzamedias[-5],zzamedias[-4],zzamedias[-3],zzamedias[-2],zzamedias[-1]])\n",
      "    #zzzamediascore=np.mean([zzzamedias[0],zzzamedias[1],zzzamedias[2],zzzamedias[3],zzzamedias[4],zzzamedias[5],zzzamedias[6]])\n",
      "    #zzzamediasout=np.mean([zzzamedias[-7],zzzamedias[-6],zzzamedias[-5],zzzamedias[-4],zzzamedias[-3],zzzamedias[-2],zzzamedias[-1]])    \n",
      "    \n",
      "    #mmediascore=np.mean([mmedias[0],mmedias[1],mmedias[2],mmedias[3],mmedias[4],mmedias[5],mmedias[6]])\n",
      "    #mmediasout=np.mean([mmedias[-7],mmedias[-6],mmedias[-5],mmedias[-4],mmedias[-3],mmedias[-2],mmedias[-1]])\n",
      "    #zmmediascore=np.mean([zmmedias[0],zmmedias[1],zmmedias[2],zmmedias[3],zmmedias[4],zmmedias[5],zmmedias[6]])\n",
      "    #zmmediasout=np.mean([zmmedias[-7],zmmedias[-6],zmmedias[-5],zmmedias[-4],zmmedias[-3],zmmedias[-2],zmmedias[-1]])    \n",
      "    #zzmmediascore=np.mean([zzmmedias[0],zzmmedias[1],zzmmedias[2],zzmmedias[3],zzmmedias[4],zzmmedias[5],zzmmedias[6]])\n",
      "    #zzmmediasout=np.mean([zzmmedias[-7],zzmmedias[-6],zzmmedias[-5],zzmmedias[-4],zzmmedias[-3],zzmmedias[-2],zzmmedias[-1]])    \n",
      "    #zzzmmediascore=np.mean([zzzmmedias[0],zzzmmedias[1],zzzmmedias[2],zzzmmedias[3],zzzmmedias[4],zzzmmedias[5],zzzmmedias[6]])\n",
      "    #zzzmmediasout=np.mean([zzzmmedias[-7],zzzmmedias[-6],zzzmmedias[-5],zzzmmedias[-4],zzzmmedias[-3],zzzmmedias[-2],zzzmmedias[-1]])\n",
      "\n",
      "    #acoc=amediascore/amediasout\n",
      "    #zacoc=zamediascore/(zamediasout)\n",
      "    #zzacoc=zzamediascore/(zzamediasout)\n",
      "    #zzzacoc=zzzamediascore/(zzzamediasout)\n",
      "\n",
      "    #mcoc=mmediascore/(mmediasout)\n",
      "    #zmcoc=zmmediascore/(zmmediasout)\n",
      "    #zzmcoc=zzmmediascore/(zzmmediasout)\n",
      "    #zzzmcoc=zzzmmediascore/(zzzmmediasout)\n",
      "    \n",
      "    #text1='z=0   a= '+str(round(apopt[reg][0],5))+'  b= '+str(round(apopt[reg][1],5))\n",
      "    #text2='z=1   a= '+str(round(zapopt[reg][0],5))+'  b= '+str(round(zapopt[reg][1],5))\n",
      "    #text3='z=0   a= '+str(round(mpopt[reg][0],5))+'  b= '+str(round(mpopt[reg][1],5))\n",
      "    #text4='z=1   a= '+str(round(zmpopt[reg][0],5))+'  b= '+str(round(zmpopt[reg][1],5))\n",
      "    \n",
      "    \n",
      "    fig = plt.figure(figsize=(7,7))\n",
      "    ax = fig.add_subplot(111)\n",
      "    \n",
      "    ax.plot(np.log10(axbin[reg]),np.log10(amedias),color=c0,label='z=0'+' -- a= '+\"${0:0.2f}$\".format(apopt[reg][0])+' -- b= '+\"${0:0.2f}$\".format(apopt[reg][1])+' -- R$_{\\mu_{24}}$ = '+\"${0:0.2f}$\".format(r24z0[reg-1]))\n",
      "    ax.plot(np.log10(zaxbin[reg]),np.log10(zamedias),color=c1,label='z=1'+' -- a= '+\"${0:0.2f}$\".format(zapopt[reg][0])+' -- b= '+\"${0:0.2f}$\".format(zzapopt[reg][1])+' -- R$_{\\mu_{24}}$ = '+\"${0:0.2f}$\".format(r24z1[reg-1]))\n",
      "    ax.plot(np.log10(zzaxbin[reg]),np.log10(zzamedias),color=c2,label='z=2'+' -- a= '+\"${0:0.2f}$\".format(zzapopt[reg][0])+' -- b= '+\"${0:0.2f}$\".format(zzapopt[reg][1])+' -- R$_{\\mu_{24}}$ = '+\"${0:0.2f}$\".format(r24z2[reg-1]))\n",
      "    ax.plot(np.log10(zzzaxbin[reg]),np.log10(zzzamedias),color=c3,label='z=3'+' -- a= '+\"${0:0.2f}$\".format(zzzapopt[reg][0])+' -- b= '+\"${0:0.2f}$\".format(zzzapopt[reg][1])+' -- R$_{\\mu_{24}}$ = '+\"${0:0.2f}$\".format(r24z3[reg-1]))    \n",
      "\n",
      "    #ax.plot(axbin[reg],np.log10(amedias),color=c0,label='z=0'+' -- a= '+\"${0:0.2f}$\".format(apopt[reg][0])+' -- b= '+\"${0:0.2f}$\".format(apopt[reg][1])+' -- R$_{\\mu_{24}}$ = '+\"${0:0.2f}$\".format(r24z0[reg-1]))\n",
      "    #ax.plot(zaxbin[reg],np.log10(zamedias),color=c1,label='z=1'+' -- a= '+\"${0:0.2f}$\".format(zapopt[reg][0])+' -- b= '+\"${0:0.2f}$\".format(zzapopt[reg][1])+' -- R$_{\\mu_{24}}$ = '+\"${0:0.2f}$\".format(r24z1[reg-1]))\n",
      "    #ax.plot(zzaxbin[reg],np.log10(zzamedias),color=c2,label='z=2'+' -- a= '+\"${0:0.2f}$\".format(zzapopt[reg][0])+' -- b= '+\"${0:0.2f}$\".format(zzapopt[reg][1])+' -- R$_{\\mu_{24}}$ = '+\"${0:0.2f}$\".format(r24z2[reg-1]))\n",
      "    #ax.plot(zzzaxbin[reg],np.log10(zzzamedias),color=c3,label='z=3'+' -- a= '+\"${0:0.2f}$\".format(zzzapopt[reg][0])+' -- b= '+\"${0:0.2f}$\".format(zzzapopt[reg][1])+' -- R$_{\\mu_{24}}$ = '+\"${0:0.2f}$\".format(r24z3[reg-1]))    \n",
      "    \n",
      "    \n",
      "    #rfit=(np.linspace(-1.8,0.01,200))\n",
      "    rfit=(np.linspace(-0.,1.,200))\n",
      "    plt.plot(rfit,lineal_model(rfit,apopt[reg][0],apopt[reg][1]),color=c0,ls='--')\n",
      "    plt.plot(rfit,lineal_model(rfit,zapopt[reg][0],zapopt[reg][1]),color=c1,ls='--')\n",
      "    plt.plot(rfit,lineal_model(rfit,zzapopt[reg][0],zzapopt[reg][1]),color=c2,ls='--')    \n",
      "    plt.plot(rfit,lineal_model(rfit,zzzapopt[reg][0],zzzapopt[reg][1]),color=c3,ls='--')\n",
      "\n",
      "    \n",
      "    ax.fill_between(np.log10(axbin[reg]),np.log10(amedias+astd[reg]),np.log10(amedias-astd[reg]), edgecolor=c0,\n",
      "                color='none', facecolor=c0,alpha=0.2,lw=1) \n",
      "    ax.fill_between(np.log10(zaxbin[reg]),np.log10(zamedias+zastd[reg]),np.log10(zamedias-zastd[reg]), edgecolor=c1,\n",
      "                 color='none', facecolor=c1,alpha=0.2,lw=1)     \n",
      "    ax.fill_between(np.log10(zzaxbin[reg]),np.log10(zzamedias+zzastd[reg]),np.log10(zzamedias-zzastd[reg]), edgecolor=c2,\n",
      "                 color='none', facecolor=c2,alpha=0.2,lw=1)\n",
      "    ax.fill_between(np.log10(zzzaxbin[reg]),np.log10(zzzamedias+zzzastd[reg]),np.log10(abs(zzzamedias-zzzastd[reg])), edgecolor=c3,\n",
      "                 color='none', facecolor=c3,alpha=0.2,lw=1)       \n",
      "    \n",
      "   \n",
      "    #ax.plot(np.log10(zzzaxbin[reg]),np.log10(zzzamedias+zzzastd[reg]))\n",
      "    #ax.plot(np.log10(zzzaxbin[reg]),np.log10(zzzamedias-zzzastd[reg]))\n",
      "    #ax.text(right-0.2, top, 'R$_{\\mu_{24}}$  $\\mid_{z=0}$ = '+\"${0:0.2f}$\".format(r24z0[reg-1]),\n",
      "    #    transform=ax.transAxes, fontsize=20)\n",
      "   # \n",
      "   # ax.text(right-0.2, top-0.05, 'R$_{\\mu_{24}}$  $\\mid_{z=1}$ = '+\"${0:0.2f}$\".format(r24z1[reg-1]),\n",
      "   #     transform=ax.transAxes, fontsize=20)    \n",
      "   # \n",
      "   # ax.text(right-0.2, top-0.10, 'R$_{\\mu_{24}}$  $\\mid_{z=2}$ = '+\"${0:0.2f}$\".format(r24z2[reg-1]),\n",
      "   #     transform=ax.transAxes, fontsize=20)\n",
      "   ## \n",
      "    #ax.text(right-0.2, top-0.15, 'R$_{\\mu_{24}}$  $\\mid_{z=3}$ = '+\"${0:0.2f}$\".format(r24z3[reg-1]),\n",
      "    #    transform=ax.transAxes, fontsize=20)       \n",
      "    \n",
      "    #ax.text(left, bottom, 'z=0, Center/Out= '+str(round(acoc,2))+'\\nz=1, Core/Out= '+str(round(zacoc,2)),\n",
      "    #    horizontalalignment='right',\n",
      "    #    verticalalignment='top',\n",
      "    #    transform=ax.transAxes, fontsize=20)\n",
      "    \n",
      "    #ax.text(left-0.2, bottom-0.0, 'Center/Outer $\\mid_{z=0}$ = '+\"${0:0.2f}$\".format(acoc),\n",
      "    #    transform=ax.transAxes, fontsize=20)   \n",
      "    #ax.text(left-0.2, bottom-0.6, 'Center/Outer $\\mid_{z=1}$ = '+\"${0:0.2f}$\".format(zacoc),\n",
      "    #    transform=ax.transAxes, fontsize=20)         \n",
      "    #ax.text(left-0.2, bottom-0.12, 'Center/Outer $\\mid_{z=1}$ = '+\"${0:0.2f}$\".format(zzacoc),\n",
      "    #    transform=ax.transAxes, fontsize=20)            \n",
      "    #ax.text(left-0.2, bottom-0.18, 'Center/Outer $\\mid_{z=1}$ = '+\"${0:0.2f}$\".format(zzzacoc),\n",
      "    #    transform=ax.transAxes, fontsize=20)   \n",
      "\n",
      "  \n",
      "    ax.set_ylim(-1.5,2.5)\n",
      "    ax.set_xlim(-2.,0.)    \n",
      "    #ax.set_xlim(0.,1.)     \n",
      "    ax.set_ylabel('log Age/Gyr')\n",
      "    ax.set_xlabel('log R/R$_{24}$')\n",
      "    ax.set_title('BCG-'+str(reg))\n",
      "    ax.legend(loc='upper left', frameon=False, scatterpoints=1,borderpad=0.1, labelspacing=0.1,handlelength=2)\n",
      "    xticks = ax.xaxis.get_major_ticks()\n",
      "    for mt in range(len(xticks)):\n",
      "        if mt%2==0:\n",
      "            xticks[mt].label1.set_visible(False)#\n",
      "\n",
      "    yticks = ax.yaxis.get_major_ticks()\n",
      "    for mt in range(len(yticks)):\n",
      "        if mt%2!=0:\n",
      "            yticks[mt].label1.set_visible(False)\n",
      "    ax.minorticks_on()       \n",
      "    plt.savefig('BCG-'+str(reg)+'_edad_HR.pdf', format='pdf', dpi=100,bbox_inches='tight')\n",
      "    #plt.savefig('_BCG-'+str(reg)+'_edad_pos.pdf', format='pdf', dpi=100,bbox_inches='tight')\n",
      "    plt.show()\n",
      "\n",
      "    \n",
      "    \n",
      "    fig = plt.figure(figsize=(7,7))\n",
      "    ax = fig.add_subplot(111)\n",
      "\n",
      "    ax.plot(np.log10(mxbin[reg]),np.log10(mmedias),color=c0,label='z=0'+' -- a= '+\"${0:0.2f}$\".format(mpopt[reg][0])+' -- b= '+\"${0:0.2f}$\".format(mpopt[reg][1]))#+' -- C/O = '+\"${0:0.2f}$\".format(mcoc))#,marker='.',mfc=cmg,mec=cmg)\n",
      "    ax.plot(np.log10(zmxbin[reg]),np.log10(zmmedias),color=c1,label='z=1'+' -- a= '+\"${0:0.2f}$\".format(zmpopt[reg][0])+' -- b= '+\"${0:0.2f}$\".format(zmpopt[reg][1]))#+' -- C/O = '+\"${0:0.2f}$\".format(zmcoc))#,marker='.',mfc='yellow',mec='yellow')\n",
      "    ax.plot(np.log10(zzmxbin[reg]),np.log10(zzmmedias),color=c2,label='z=2'+' -- a= '+\"${0:0.2f}$\".format(zzmpopt[reg][0])+' -- b= '+\"${0:0.2f}$\".format(zzmpopt[reg][1]))#+' -- C/O = '+\"${0:0.2f}$\".format(zzmcoc))#,marker='.',mfc=cmg,mec=cmg)\n",
      "    ax.plot(np.log10(zzzmxbin[reg]),np.log10(zzzmmedias),color=c3,label='z=3'+' -- a= '+\"${0:0.2f}$\".format(zzzmpopt[reg][0])+' -- b= '+\"${0:0.2f}$\".format(zzzmpopt[reg][1]))#+' -- C/O = '+\"${0:0.2f}$\".format(zzzmcoc))#,marker='.',mfc='yellow',mec='yellow')    \n",
      "\n",
      "    #ax.plot(mxbin[reg],np.log10(mmedias),color=c0,label='z=0'+' -- a= '+\"${0:0.2f}$\".format(mpopt[reg][0])+' -- b= '+\"${0:0.2f}$\".format(mpopt[reg][1]))#+' -- C/O = '+\"${0:0.2f}$\".format(mcoc))#,marker='.',mfc=cmg,mec=cmg)\n",
      "    #ax.plot(zmxbin[reg],np.log10(zmmedias),color=c1,label='z=1'+' -- a= '+\"${0:0.2f}$\".format(zmpopt[reg][0])+' -- b= '+\"${0:0.2f}$\".format(zmpopt[reg][1]))#+' -- C/O = '+\"${0:0.2f}$\".format(zmcoc))#,marker='.',mfc='yellow',mec='yellow')\n",
      "    #ax.plot(zzmxbin[reg],np.log10(zzmmedias),color=c2,label='z=2'+' -- a= '+\"${0:0.2f}$\".format(zzmpopt[reg][0])+' -- b= '+\"${0:0.2f}$\".format(zzmpopt[reg][1]))#+' -- C/O = '+\"${0:0.2f}$\".format(zzmcoc))#,marker='.',mfc=cmg,mec=cmg)\n",
      "    #ax.plot(zzzmxbin[reg],np.log10(zzzmmedias),color=c3,label='z=3'+' -- a= '+\"${0:0.2f}$\".format(zzzmpopt[reg][0])+' -- b= '+\"${0:0.2f}$\".format(zzzmpopt[reg][1]))#+' -- C/O = '+\"${0:0.2f}$\".format(zzzmcoc))#,marker='.',mfc='yellow',mec='yellow')    \n",
      "       \n",
      "    \n",
      "    #rfit=(np.linspace(-2.5,0.01,200))\n",
      "    ##rfit=(np.linspace(-0.,1.,200))\n",
      "    plt.plot(rfit,lineal_model(rfit,mpopt[reg][0],mpopt[reg][1]),color=c0,ls='--')\n",
      "    plt.plot(rfit,lineal_model(rfit,zmpopt[reg][0],zmpopt[reg][1]),color=c1,ls='--')\n",
      "    plt.plot(rfit,lineal_model(rfit,zzmpopt[reg][0],zzmpopt[reg][1]),color=c2,ls='--')    \n",
      "    plt.plot(rfit,lineal_model(rfit,zzzmpopt[reg][0],zzzmpopt[reg][1]),color=c3,ls='--')\n",
      "    \n",
      "    ax.fill_between(np.log10(mxbin[reg]),np.log10(mmedias+0.4*mstd[reg]),np.log10(mmedias-0.4*mstd[reg]), edgecolor=c0,\n",
      "                 color='none', facecolor=c0,alpha=0.2,lw=1) \n",
      "    ax.fill_between(np.log10(zmxbin[reg]),np.log10(zmmedias+0.4*zmstd[reg]),np.log10(zmmedias-0.4*zmstd[reg]), edgecolor=c1,\n",
      "                 color='none', facecolor=c1,alpha=0.2,lw=1)\n",
      "    ax.fill_between(np.log10(zzmxbin[reg]),np.log10(zzmmedias+0.4*zzmstd[reg]),np.log10(zzmmedias-0.4*zzmstd[reg]), edgecolor=c2,\n",
      "                 color='none', facecolor=c2,alpha=0.2,lw=1) \n",
      "    ax.fill_between(np.log10(zzzmxbin[reg]),np.log10(zzzmmedias+0.4*zzzmstd[reg]),np.log10(zzzmmedias-0.4*zzzmstd[reg]), edgecolor=c3,\n",
      "                 color='none', facecolor=c3,alpha=0.2,lw=1)          \n",
      "\n",
      "    \n",
      "    \n",
      "    #plt.plot(rfit,lineal_model(rfit,mpopt[reg][0],mpopt[reg][1]),label=text3,color=cmg,ls='--')\n",
      "    #plt.plot(rfit,lineal_model(rfit,zmpopt[reg][0],zmpopt[reg][1]),label=text4,color=cmg,ls='--')\n",
      "    \n",
      "    ##ax.text(right, top, 'z=0, R$_{\\mu_{24}}=$ '+str(round(r24z0[reg-1],2))+'\\nz=1, R$_{\\mu_{24}}=$ '+str(round(r24z1[reg-1],2)),\n",
      "    ##    horizontalalignment='right',\n",
      "    ##    verticalalignment='top',\n",
      "    ##    transform=ax.transAxes, fontsize=20)\n",
      "    ##ax.text(left, bottom, 'z=0, Core/Out= '+str(round(mcoc,2))+'\\nz=1, Core/Out= '+str(round(zmcoc,2)),\n",
      "    ##    horizontalalignment='right',\n",
      "    ##    verticalalignment='top',\n",
      "    ##    transform=ax.transAxes, fontsize=20)\n",
      "\n",
      "    ##ax.text(left-.17, top-0.02, 'Center/Outer $\\mid_{z=0}$ = '+\"${0:0.2f}$\".format(mcoc),\n",
      "    ##    transform=ax.transAxes, fontsize=20)\n",
      "    ##ax.text(left-.17, top-0.08, 'Centro/Outer $\\mid_{z=1}$ = '+\"${0:0.2f}$\".format(zmcoc),\n",
      "    ##    transform=ax.transAxes, fontsize=20) \n",
      "    ##ax.text(left-.17, top-0.14, 'Center/Outer $\\mid_{z=2}$ = '+\"${0:0.2f}$\".format(zzmcoc),\n",
      "    ##    transform=ax.transAxes, fontsize=20)\n",
      "    ##ax.text(left-.17, top-0.20, 'Centro/Outer $\\mid_{z=3}$ = '+\"${0:0.2f}$\".format(zzzmcoc),\n",
      "    ##    transform=ax.transAxes, fontsize=20)\n",
      "        \n",
      "    \n",
      "    ax.set_ylim(-1.,1.)\n",
      "    #ax.set_xlim(-0.,1.)\n",
      "    ax.set_xlim(-2.,0.)    \n",
      "    ax.set_ylabel('[Z/H]')\n",
      "    ax.set_xlabel('log R/R$_{24}$')\n",
      "    ax.set_title('BCG-'+str(reg))\n",
      "    ax.legend(loc='upper left', frameon=False, scatterpoints=1,borderpad=0.1, labelspacing=0.1, handlelength=2)\n",
      "    xticks = ax.xaxis.get_major_ticks()\n",
      "    for mt in range(len(xticks)):\n",
      "        if mt%2==0:\n",
      "            xticks[mt].label1.set_visible(False)\n",
      "\n",
      "    yticks = ax.yaxis.get_major_ticks()\n",
      "    for mt in range(len(yticks)):\n",
      "        if mt%2!=0:\n",
      "            yticks[mt].label1.set_visible(False)\n",
      "    ax.minorticks_on() \n",
      "    #plt.savefig('ajustes/_BCG-'+str(reg)+'_metalicidades.pdf', format='pdf', dpi=100,bbox_inches='tight')\n",
      "    plt.savefig('BCG-'+str(reg)+'_metalicid_HR.pdf', format='pdf', dpi=100,bbox_inches='tight')\n",
      "    #plt.savefig('_BCG-'+str(reg)+'_metalicidad_pos.pdf', format='pdf', dpi=100,bbox_inches='tight')\n",
      "    plt.show()\n",
      "    \n",
      "    if 1==1:  \n",
      "        pp = open('/home/meugenia/Dropbox/tesis/al_final/estrellas/stack/ajustes/ajusteshr.txt','a')\n",
      "        pp.write('D{:5d} {:10.4g} {:10.4g} {:10.4g} {:10.4g} {:10.4g} {:10.4g} {:10.4g} {:10.4g} {:10.4g} {:10.4g} {:10.4g} {:10.4g} {:10.4g} {:10.4g} {:10.4g} {:10.4g} \\n'.format(\n",
      "        reg,apopt[reg][0],apopt[reg][1],zapopt[reg][0],zapopt[reg][1],zzapopt[reg][0],zzapopt[reg][1],zzzapopt[reg][0],zzzapopt[reg][1],\n",
      "        mpopt[reg][0],mpopt[reg][1],zmpopt[reg][0],zmpopt[reg][1], zzmpopt[reg][0],zzmpopt[reg][1],zzzmpopt[reg][0],zzzmpopt[reg][1]))\n",
      "        pp.close() \n",
      "        #pp = open('z0ajustes.txt','a')\n",
      "        #pp.write('D{:5d} {:10.7g} {:10.7g} {:10.7g} {:10.7g} {:10.7g} {:10.7g} {:10.7g} {:10.7g}\\n'.format(reg,acoc,zacoc,zzacoc,zzzacoc, #mcoc,zmcoc,zzmcoc,zzzmcoc))\n",
      "        #pp.write('D{:5d} {:10.7g} {:10.7g} {:10.7g} {:10.7g}\\n'.format(reg,apopt[reg][0],apopt[reg][1],mpopt[reg][0],mpopt[reg][1]))\n",
      "        #pp.close()        \n"
     ],
     "language": "python",
     "metadata": {},
     "outputs": [
      {
       "output_type": "stream",
       "stream": "stdout",
       "text": [
        "PASE POR 2\n",
        "PASE POR 2"
       ]
      },
      {
       "output_type": "stream",
       "stream": "stdout",
       "text": [
        "\n",
        "PASE POR 2"
       ]
      },
      {
       "output_type": "stream",
       "stream": "stdout",
       "text": [
        "\n",
        "PASE POR 2"
       ]
      },
      {
       "output_type": "stream",
       "stream": "stdout",
       "text": [
        "\n",
        "SALI DE BINEADO"
       ]
      },
      {
       "output_type": "stream",
       "stream": "stdout",
       "text": [
        "\n",
        "SALI DE BINEADO"
       ]
      },
      {
       "output_type": "stream",
       "stream": "stdout",
       "text": [
        "\n",
        "SALI DE BINEADO"
       ]
      },
      {
       "output_type": "stream",
       "stream": "stdout",
       "text": [
        "\n",
        "SALI DE BINEADO\n",
        "SALI DE BINEADO"
       ]
      },
      {
       "output_type": "stream",
       "stream": "stdout",
       "text": [
        "\n",
        "SALI DE BINEADO"
       ]
      },
      {
       "output_type": "stream",
       "stream": "stdout",
       "text": [
        "\n",
        "SALI DE BINEADO"
       ]
      },
      {
       "output_type": "stream",
       "stream": "stdout",
       "text": [
        "\n",
        "SALI DE BINEADO\n"
       ]
      }
     ],
     "prompt_number": 49
    },
    {
     "cell_type": "code",
     "collapsed": false,
     "input": [
      "amedias"
     ],
     "language": "python",
     "metadata": {},
     "outputs": []
    },
    {
     "cell_type": "code",
     "collapsed": false,
     "input": [],
     "language": "python",
     "metadata": {},
     "outputs": []
    },
    {
     "cell_type": "code",
     "collapsed": false,
     "input": [],
     "language": "python",
     "metadata": {},
     "outputs": []
    },
    {
     "cell_type": "code",
     "collapsed": false,
     "input": [],
     "language": "python",
     "metadata": {},
     "outputs": []
    },
    {
     "cell_type": "code",
     "collapsed": false,
     "input": [],
     "language": "python",
     "metadata": {},
     "outputs": []
    },
    {
     "cell_type": "code",
     "collapsed": false,
     "input": [],
     "language": "python",
     "metadata": {},
     "outputs": []
    },
    {
     "cell_type": "code",
     "collapsed": false,
     "input": [
      "    \n",
      "    if 1==0:\n",
      "        #if os.path.exists('ajuste_edadz0.txt'):\n",
      "        #    os.remove('ajuste_edadz0.txt')    \n",
      "        me0 = open('ajuste_edadz0.txt','a')\n",
      "        me0.write('{:5.1f} {:10.7g} {:10.7g} \\n'.format(reg,apopt[reg][0],apopt[reg][1]))\n",
      "        me0.close()\n",
      "        \n",
      "        #if os.path.exists('ajuste_edadz1.txt'):\n",
      "        #    os.remove('ajuste_edadz1.txt')    \n",
      "        me1 = open('ajuste_edadz1.txt','a')\n",
      "        me1.write('{:5.1f} {:10.7g} {:10.7g} \\n'.format(reg,zapopt[reg][0],zapopt[reg][1]))\n",
      "        me1.close()\n",
      "        \n",
      "        #if os.path.exists('ajuste_metz0.txt'):\n",
      "        #    os.remove('ajuste_metz0.txt')    \n",
      "        mm0 = open('ajuste_metz0.txt','a')\n",
      "        mm0.write('{:5.1f} {:10.7g} {:10.7g} \\n'.format(reg,mpopt[reg][0],mpopt[reg][1]))\n",
      "        mm0.close()\n",
      "        \n",
      "        #if os.path.exists('ajuste_metz1.txt'):\n",
      "        #    os.remove('ajuste_metz1.txt')    \n",
      "        mm1 = open('ajuste_metz1.txt','a')\n",
      "        mm1.write('{:5.1f} {:10.7g} {:10.7g} \\n'.format(reg,zmpopt[reg][0],zmpopt[reg][1]))\n",
      "        mm1.close()\n",
      "\n",
      "    #print 'D{:5d} {:10.7g} {:10.7g} {:10.7g} {:10.7g} {:10.7g} {:10.7g} {:10.7g} {:10.7g}\\n'.format(reg,acoc,zacoc,zzacoc,zzzacoc,mcoc,zmcoc,zzmcoc,zzzmcoc)\n",
      "    if 1==0:\n",
      "        #if os.path.exists('ajuste_edadz0.txt'):\n",
      "        #    os.remove('ajuste_edadz0.txt')    \n",
      "        pp = open('z0ajustes.txt','a')\n",
      "        #pp.write('D{:5d} {:10.7g} {:10.7g} {:10.7g} {:10.7g} {:10.7g} {:10.7g} {:10.7g} {:10.7g}\\n'.format(reg,acoc,zacoc,zzacoc,zzzacoc, #mcoc,zmcoc,zzmcoc,zzzmcoc))\n",
      "        pp.write('D{:5d} {:10.7g} {:10.7g} {:10.7g} {:10.7g}\\n'.format(reg,apopt[reg][0],apopt[reg][1],mpopt[reg][0],mpopt[reg][1]))\n",
      "        pp.close()"
     ],
     "language": "python",
     "metadata": {},
     "outputs": [
      {
       "ename": "IndexError",
       "evalue": "list index out of range",
       "output_type": "pyerr",
       "traceback": [
        "\u001b[1;31m---------------------------------------------------------------------------\u001b[0m\n\u001b[1;31mIndexError\u001b[0m                                Traceback (most recent call last)",
        "\u001b[1;32m<ipython-input-30-635e62a372f1>\u001b[0m in \u001b[0;36m<module>\u001b[1;34m()\u001b[0m\n\u001b[0;32m     31\u001b[0m     \u001b[0mpp\u001b[0m \u001b[1;33m=\u001b[0m \u001b[0mopen\u001b[0m\u001b[1;33m(\u001b[0m\u001b[1;34m'z0ajustes.txt'\u001b[0m\u001b[1;33m,\u001b[0m\u001b[1;34m'a'\u001b[0m\u001b[1;33m)\u001b[0m\u001b[1;33m\u001b[0m\u001b[0m\n\u001b[0;32m     32\u001b[0m     \u001b[1;31m#pp.write('D{:5d} {:10.7g} {:10.7g} {:10.7g} {:10.7g} {:10.7g} {:10.7g} {:10.7g} {:10.7g}\\n'.format(reg,acoc,zacoc,zzacoc,zzzacoc,                                                                    #mcoc,zmcoc,zzmcoc,zzzmcoc))\u001b[0m\u001b[1;33m\u001b[0m\u001b[1;33m\u001b[0m\u001b[0m\n\u001b[1;32m---> 33\u001b[1;33m     \u001b[0mpp\u001b[0m\u001b[1;33m.\u001b[0m\u001b[0mwrite\u001b[0m\u001b[1;33m(\u001b[0m\u001b[1;34m'D{:5d} {:10.7g} {:10.7g} {:10.7g} {:10.7g}\\n'\u001b[0m\u001b[1;33m.\u001b[0m\u001b[0mformat\u001b[0m\u001b[1;33m(\u001b[0m\u001b[0mreg\u001b[0m\u001b[1;33m,\u001b[0m\u001b[0mapopt\u001b[0m\u001b[1;33m[\u001b[0m\u001b[0mreg\u001b[0m\u001b[1;33m]\u001b[0m\u001b[1;33m[\u001b[0m\u001b[1;36m0\u001b[0m\u001b[1;33m]\u001b[0m\u001b[1;33m,\u001b[0m\u001b[0mapopt\u001b[0m\u001b[1;33m[\u001b[0m\u001b[0mreg\u001b[0m\u001b[1;33m]\u001b[0m\u001b[1;33m[\u001b[0m\u001b[1;36m1\u001b[0m\u001b[1;33m]\u001b[0m\u001b[1;33m,\u001b[0m\u001b[0mmpopt\u001b[0m\u001b[1;33m[\u001b[0m\u001b[0mreg\u001b[0m\u001b[1;33m]\u001b[0m\u001b[1;33m[\u001b[0m\u001b[1;36m0\u001b[0m\u001b[1;33m]\u001b[0m\u001b[1;33m,\u001b[0m\u001b[0mmpopt\u001b[0m\u001b[1;33m[\u001b[0m\u001b[0mreg\u001b[0m\u001b[1;33m]\u001b[0m\u001b[1;33m[\u001b[0m\u001b[1;36m1\u001b[0m\u001b[1;33m]\u001b[0m\u001b[1;33m)\u001b[0m\u001b[1;33m)\u001b[0m\u001b[1;33m\u001b[0m\u001b[0m\n\u001b[0m\u001b[0;32m     34\u001b[0m     \u001b[0mpp\u001b[0m\u001b[1;33m.\u001b[0m\u001b[0mclose\u001b[0m\u001b[1;33m(\u001b[0m\u001b[1;33m)\u001b[0m\u001b[1;33m\u001b[0m\u001b[0m\n",
        "\u001b[1;31mIndexError\u001b[0m: list index out of range"
       ]
      }
     ],
     "prompt_number": 30
    },
    {
     "cell_type": "code",
     "collapsed": false,
     "input": [],
     "language": "python",
     "metadata": {},
     "outputs": []
    },
    {
     "cell_type": "code",
     "collapsed": false,
     "input": [],
     "language": "python",
     "metadata": {},
     "outputs": []
    },
    {
     "cell_type": "code",
     "collapsed": false,
     "input": [],
     "language": "python",
     "metadata": {},
     "outputs": []
    },
    {
     "cell_type": "code",
     "collapsed": false,
     "input": [
      "rr,ee= zip(*sorted(zip(dist1[1] ,stars1[1])))\n",
      "print rr[:10]"
     ],
     "language": "python",
     "metadata": {},
     "outputs": [
      {
       "output_type": "stream",
       "stream": "stdout",
       "text": [
        "(0.0006816332940714566, 0.001363250883392226, 0.0018353173596229381, 0.0019872558472425663, 0.0019872558472425663, 0.0020731222213630626, 0.0021555286371095486, 0.002286285130351375, 0.0024099298491475156, 0.0024099298491475156)\n"
       ]
      }
     ],
     "prompt_number": 73
    },
    {
     "cell_type": "code",
     "collapsed": false,
     "input": [
      "lanb ,laxbin,labe,lastd = bineado(rr ,ee,50,np.min(rr),np.max(rr))\n",
      "llanb ,llaxbin,llabe,llastd = bineado(np.log10(rr) ,ee,50,np.log10(np.min(rr)),np.log10(np.max(rr)))"
     ],
     "language": "python",
     "metadata": {},
     "outputs": [
      {
       "output_type": "stream",
       "stream": "stdout",
       "text": [
        "SALI DE BINEADO\n",
        "SALI DE BINEADO"
       ]
      },
      {
       "output_type": "stream",
       "stream": "stdout",
       "text": [
        "\n"
       ]
      }
     ],
     "prompt_number": 68
    },
    {
     "cell_type": "code",
     "collapsed": false,
     "input": [
      "plt.plot(laxbin,labe/lanb )\n",
      "plt.show()"
     ],
     "language": "python",
     "metadata": {},
     "outputs": [],
     "prompt_number": 69
    },
    {
     "cell_type": "code",
     "collapsed": false,
     "input": [
      "plt.plot(llaxbin,llabe/llanb )\n",
      "plt.show()"
     ],
     "language": "python",
     "metadata": {},
     "outputs": [],
     "prompt_number": 57
    },
    {
     "cell_type": "code",
     "collapsed": false,
     "input": [
      "10**(-2.5)"
     ],
     "language": "python",
     "metadata": {},
     "outputs": [
      {
       "metadata": {},
       "output_type": "pyout",
       "prompt_number": 55,
       "text": [
        "0.0031622776601683794"
       ]
      }
     ],
     "prompt_number": 55
    },
    {
     "cell_type": "code",
     "collapsed": false,
     "input": [
      "011**2"
     ],
     "language": "python",
     "metadata": {},
     "outputs": [
      {
       "metadata": {},
       "output_type": "pyout",
       "prompt_number": 58,
       "text": [
        "81"
       ]
      }
     ],
     "prompt_number": 58
    },
    {
     "cell_type": "code",
     "collapsed": false,
     "input": [
      "0.01**2"
     ],
     "language": "python",
     "metadata": {},
     "outputs": [
      {
       "metadata": {},
       "output_type": "pyout",
       "prompt_number": 60,
       "text": [
        "0.0001"
       ]
      }
     ],
     "prompt_number": 60
    },
    {
     "cell_type": "code",
     "collapsed": false,
     "input": [
      "lala=[.1,.2,.3,.4,.5,.6,.7,.8,.9,.10]\n",
      "pe  =[1,2,3,4,5,6,7,8,9,10]"
     ],
     "language": "python",
     "metadata": {},
     "outputs": [],
     "prompt_number": 115
    },
    {
     "cell_type": "code",
     "collapsed": false,
     "input": [
      "llala=np.log10(lala)"
     ],
     "language": "python",
     "metadata": {},
     "outputs": [],
     "prompt_number": 116
    },
    {
     "cell_type": "code",
     "collapsed": false,
     "input": [
      "llala"
     ],
     "language": "python",
     "metadata": {},
     "outputs": [
      {
       "metadata": {},
       "output_type": "pyout",
       "prompt_number": 117,
       "text": [
        "array([-1.        , -0.69897   , -0.52287875, -0.39794001, -0.30103   ,\n",
        "       -0.22184875, -0.15490196, -0.09691001, -0.04575749, -1.        ])"
       ]
      }
     ],
     "prompt_number": 117
    },
    {
     "cell_type": "code",
     "collapsed": false,
     "input": [
      "init=0.5 \n",
      "end=10.5\n",
      "bins=10\n",
      "step=(end-init)/float(bins)\n",
      "nelements=np.zeros(bins)\n",
      "bin_entity=np.zeros(bins)\n",
      "\n",
      "for i in range(len(lala)):\n",
      "    ibin = int(abs(lala[i]-init)/float(step))\n",
      "    if ibin>=bins:\n",
      "        continue\n",
      "    else:\n",
      "        nelements[ibin] += 1\n",
      "        bin_entity[ibin] = bin_entity[ibin] + lala[i]\n",
      "            #if i%1000==0:\n",
      "                #print ibin, nelements[ibin],bin_entity[ibin]\n",
      "xbin=[init+0.5*(2*i+1)*step for i in range(bins)]    \n",
      "                    "
     ],
     "language": "python",
     "metadata": {},
     "outputs": [],
     "prompt_number": 96
    },
    {
     "cell_type": "code",
     "collapsed": false,
     "input": [
      "plt.scatter(xbin,bin_entity/nelements)\n",
      "plt.show()"
     ],
     "language": "python",
     "metadata": {},
     "outputs": [],
     "prompt_number": 97
    },
    {
     "cell_type": "code",
     "collapsed": false,
     "input": [
      "end"
     ],
     "language": "python",
     "metadata": {},
     "outputs": [
      {
       "metadata": {},
       "output_type": "pyout",
       "prompt_number": 122,
       "text": [
        "-0.82390874094431876"
       ]
      }
     ],
     "prompt_number": 122
    },
    {
     "cell_type": "code",
     "collapsed": false,
     "input": [
      "init=np.log10(0.05) \n",
      "end=np.log10(1.05)\n",
      "bins=10\n",
      "step=(end-init)/float(bins)\n",
      "nelements=np.zeros(bins)\n",
      "bin_entity=np.zeros(bins)\n",
      "\n",
      "for i in range(len(llala)):\n",
      "    print (llala[i]-init)/float(step)\n",
      "    ibin = int((llala[i]-init)/float(step))\n",
      "    if ibin>=bins:\n",
      "        continue\n",
      "    else:\n",
      "        nelements[ibin] += 1\n",
      "        bin_entity[ibin] = bin_entity[ibin] + lala[i]\n",
      "            #if i%1000==0:\n",
      "                #print ibin, nelements[ibin],bin_entity[ibin]\n",
      "nelements=[e if e>0 else  for e in nelements]\n",
      "xbin=[init+0.5*(2*i+1)*step for i in range(bins)]   "
     ],
     "language": "python",
     "metadata": {},
     "outputs": [
      {
       "output_type": "stream",
       "stream": "stdout",
       "text": [
        "2.27670248697\n",
        "4.55340497394\n",
        "5.88519055411\n",
        "6.83010746091\n",
        "7.56304195516\n",
        "8.16189304108\n",
        "8.66821441982\n",
        "9.10680994788\n",
        "9.49367862126\n",
        "2.27670248697\n"
       ]
      }
     ],
     "prompt_number": 136
    },
    {
     "cell_type": "code",
     "collapsed": false,
     "input": [
      "plt.scatter(xbin,bin_entity/nelements)\n",
      "plt.show()"
     ],
     "language": "python",
     "metadata": {},
     "outputs": [],
     "prompt_number": 137
    },
    {
     "cell_type": "code",
     "collapsed": false,
     "input": [
      "nelements"
     ],
     "language": "python",
     "metadata": {},
     "outputs": [
      {
       "metadata": {},
       "output_type": "pyout",
       "prompt_number": 138,
       "text": [
        "array([ 0.,  0.,  2.,  0.,  1.,  1.,  1.,  1.,  2.,  2.])"
       ]
      }
     ],
     "prompt_number": 138
    },
    {
     "cell_type": "code",
     "collapsed": false,
     "input": [
      "for i in range(len(xbin)):\n",
      "    if i==0:\n",
      "        continue\n",
      "    print xbin[i]-xbin[i-1]  "
     ],
     "language": "python",
     "metadata": {},
     "outputs": [
      {
       "output_type": "stream",
       "stream": "stdout",
       "text": [
        "0.132221929473\n",
        "0.132221929473\n",
        "0.132221929473\n",
        "0.132221929473\n",
        "0.132221929473\n",
        "0.132221929473\n",
        "0.132221929473\n",
        "0.132221929473\n",
        "0.132221929473\n"
       ]
      }
     ],
     "prompt_number": 102
    },
    {
     "cell_type": "code",
     "collapsed": false,
     "input": [
      "np.min(dist1[1]), np.max(dist1[1]), np.log10(np.min(dist1[1])), np.log10(np.max(dist1[1]))"
     ],
     "language": "python",
     "metadata": {},
     "outputs": [
      {
       "metadata": {},
       "output_type": "pyout",
       "prompt_number": 172,
       "text": [
        "(0.0034081507657513308,\n",
        " 0.9999830714364929,\n",
        " -2.4674812016736474,\n",
        " -7.3520439476299481e-06)"
       ]
      }
     ],
     "prompt_number": 172
    },
    {
     "cell_type": "code",
     "collapsed": false,
     "input": [
      "1/50."
     ],
     "language": "python",
     "metadata": {},
     "outputs": [
      {
       "metadata": {},
       "output_type": "pyout",
       "prompt_number": 173,
       "text": [
        "0.02"
       ]
      }
     ],
     "prompt_number": 173
    },
    {
     "cell_type": "code",
     "collapsed": false,
     "input": [
      "2.5/50."
     ],
     "language": "python",
     "metadata": {},
     "outputs": [
      {
       "metadata": {},
       "output_type": "pyout",
       "prompt_number": 174,
       "text": [
        "0.05"
       ]
      }
     ],
     "prompt_number": 174
    },
    {
     "cell_type": "code",
     "collapsed": false,
     "input": [
      "for i in range(30):\n",
      "    if i==0 or i>5:\n",
      "        continue\n",
      "    anb,axbin,abe,astd = bineado(dist1[i] ,stars1[i],50,np.min(dist1[i]),np.max(dist1[i]))\n",
      "    plt.plot(axbin,abe/anb)\n",
      "    plt.yscale('log')\n",
      "    plt.xscale('log')\n",
      "    plt.ylim(8,13)\n",
      "    plt.show()"
     ],
     "language": "python",
     "metadata": {},
     "outputs": [
      {
       "output_type": "stream",
       "stream": "stdout",
       "text": [
        "SALI DE BINEADO\n",
        "SALI DE BINEADO"
       ]
      },
      {
       "output_type": "stream",
       "stream": "stdout",
       "text": [
        "\n",
        "SALI DE BINEADO"
       ]
      },
      {
       "output_type": "stream",
       "stream": "stdout",
       "text": [
        "\n",
        "SALI DE BINEADO"
       ]
      },
      {
       "output_type": "stream",
       "stream": "stdout",
       "text": [
        "\n",
        "SALI DE BINEADO"
       ]
      },
      {
       "output_type": "stream",
       "stream": "stdout",
       "text": [
        "\n"
       ]
      }
     ],
     "prompt_number": 20
    },
    {
     "cell_type": "code",
     "collapsed": false,
     "input": [
      "for i in range(len(axbin)):\n",
      "    #print 10**(axbin[i])\n",
      "    if i>0:\n",
      "        print axbin[i]-axbin[i-1],10**(axbin[i])-10**(axbin[i-1])\n",
      "        "
     ],
     "language": "python",
     "metadata": {},
     "outputs": [
      {
       "output_type": "stream",
       "stream": "stdout",
       "text": [
        "0.546057645618 0.0024969127693\n",
        "0.546057645618 0.00877932276812\n",
        "0.546057645618 0.0308687228543\n",
        "0.546057645618 0.10853662359\n",
        "0.546057645618 0.381622482921\n"
       ]
      }
     ],
     "prompt_number": 104
    },
    {
     "cell_type": "code",
     "collapsed": false,
     "input": [
      "plt.plot(axbin[1],abe[1]/anb[1])\n",
      "plt.yscale('log')\n",
      "plt.xscale('log')\n",
      "plt.show()"
     ],
     "language": "python",
     "metadata": {},
     "outputs": [
      {
       "ename": "ValueError",
       "evalue": "Data has no positive values, and therefore can not be log-scaled.",
       "output_type": "pyerr",
       "traceback": [
        "\u001b[1;31m---------------------------------------------------------------------------\u001b[0m\n\u001b[1;31mValueError\u001b[0m                                Traceback (most recent call last)",
        "\u001b[1;32m<ipython-input-15-9a2ce1d9dc88>\u001b[0m in \u001b[0;36m<module>\u001b[1;34m()\u001b[0m\n\u001b[0;32m      1\u001b[0m \u001b[0mplt\u001b[0m\u001b[1;33m.\u001b[0m\u001b[0mplot\u001b[0m\u001b[1;33m(\u001b[0m\u001b[0maxbin\u001b[0m\u001b[1;33m[\u001b[0m\u001b[1;36m1\u001b[0m\u001b[1;33m]\u001b[0m\u001b[1;33m,\u001b[0m\u001b[0mabe\u001b[0m\u001b[1;33m[\u001b[0m\u001b[1;36m1\u001b[0m\u001b[1;33m]\u001b[0m\u001b[1;33m/\u001b[0m\u001b[0manb\u001b[0m\u001b[1;33m[\u001b[0m\u001b[1;36m1\u001b[0m\u001b[1;33m]\u001b[0m\u001b[1;33m)\u001b[0m\u001b[1;33m\u001b[0m\u001b[0m\n\u001b[0;32m      2\u001b[0m \u001b[0mplt\u001b[0m\u001b[1;33m.\u001b[0m\u001b[0myscale\u001b[0m\u001b[1;33m(\u001b[0m\u001b[1;34m'log'\u001b[0m\u001b[1;33m)\u001b[0m\u001b[1;33m\u001b[0m\u001b[0m\n\u001b[1;32m----> 3\u001b[1;33m \u001b[0mplt\u001b[0m\u001b[1;33m.\u001b[0m\u001b[0mxscale\u001b[0m\u001b[1;33m(\u001b[0m\u001b[1;34m'log'\u001b[0m\u001b[1;33m)\u001b[0m\u001b[1;33m\u001b[0m\u001b[0m\n\u001b[0m\u001b[0;32m      4\u001b[0m \u001b[0mplt\u001b[0m\u001b[1;33m.\u001b[0m\u001b[0mshow\u001b[0m\u001b[1;33m(\u001b[0m\u001b[1;33m)\u001b[0m\u001b[1;33m\u001b[0m\u001b[0m\n",
        "\u001b[1;32m/usr/lib64/python2.7/site-packages/matplotlib/pyplot.pyc\u001b[0m in \u001b[0;36mxscale\u001b[1;34m(*args, **kwargs)\u001b[0m\n\u001b[0;32m   1538\u001b[0m     \"\"\"\n\u001b[0;32m   1539\u001b[0m     \u001b[0max\u001b[0m \u001b[1;33m=\u001b[0m \u001b[0mgca\u001b[0m\u001b[1;33m(\u001b[0m\u001b[1;33m)\u001b[0m\u001b[1;33m\u001b[0m\u001b[0m\n\u001b[1;32m-> 1540\u001b[1;33m     \u001b[0max\u001b[0m\u001b[1;33m.\u001b[0m\u001b[0mset_xscale\u001b[0m\u001b[1;33m(\u001b[0m\u001b[1;33m*\u001b[0m\u001b[0margs\u001b[0m\u001b[1;33m,\u001b[0m \u001b[1;33m**\u001b[0m\u001b[0mkwargs\u001b[0m\u001b[1;33m)\u001b[0m\u001b[1;33m\u001b[0m\u001b[0m\n\u001b[0m\u001b[0;32m   1541\u001b[0m     \u001b[0mdraw_if_interactive\u001b[0m\u001b[1;33m(\u001b[0m\u001b[1;33m)\u001b[0m\u001b[1;33m\u001b[0m\u001b[0m\n\u001b[0;32m   1542\u001b[0m \u001b[1;33m\u001b[0m\u001b[0m\n",
        "\u001b[1;32m/usr/lib64/python2.7/site-packages/matplotlib/axes/_base.pyc\u001b[0m in \u001b[0;36mset_xscale\u001b[1;34m(self, value, **kwargs)\u001b[0m\n\u001b[0;32m   2605\u001b[0m             \u001b[0mkwargs\u001b[0m\u001b[1;33m[\u001b[0m\u001b[1;34m'nonposx'\u001b[0m\u001b[1;33m]\u001b[0m \u001b[1;33m=\u001b[0m \u001b[1;34m'clip'\u001b[0m\u001b[1;33m\u001b[0m\u001b[0m\n\u001b[0;32m   2606\u001b[0m         \u001b[0mself\u001b[0m\u001b[1;33m.\u001b[0m\u001b[0mxaxis\u001b[0m\u001b[1;33m.\u001b[0m\u001b[0m_set_scale\u001b[0m\u001b[1;33m(\u001b[0m\u001b[0mvalue\u001b[0m\u001b[1;33m,\u001b[0m \u001b[1;33m**\u001b[0m\u001b[0mkwargs\u001b[0m\u001b[1;33m)\u001b[0m\u001b[1;33m\u001b[0m\u001b[0m\n\u001b[1;32m-> 2607\u001b[1;33m         \u001b[0mself\u001b[0m\u001b[1;33m.\u001b[0m\u001b[0mautoscale_view\u001b[0m\u001b[1;33m(\u001b[0m\u001b[0mscaley\u001b[0m\u001b[1;33m=\u001b[0m\u001b[0mFalse\u001b[0m\u001b[1;33m)\u001b[0m\u001b[1;33m\u001b[0m\u001b[0m\n\u001b[0m\u001b[0;32m   2608\u001b[0m         \u001b[0mself\u001b[0m\u001b[1;33m.\u001b[0m\u001b[0m_update_transScale\u001b[0m\u001b[1;33m(\u001b[0m\u001b[1;33m)\u001b[0m\u001b[1;33m\u001b[0m\u001b[0m\n\u001b[0;32m   2609\u001b[0m \u001b[1;33m\u001b[0m\u001b[0m\n",
        "\u001b[1;32m/usr/lib64/python2.7/site-packages/matplotlib/axes/_base.pyc\u001b[0m in \u001b[0;36mautoscale_view\u001b[1;34m(self, tight, scalex, scaley)\u001b[0m\n\u001b[0;32m   1958\u001b[0m                 \u001b[0mx1\u001b[0m \u001b[1;33m+=\u001b[0m \u001b[0mdelta\u001b[0m\u001b[1;33m\u001b[0m\u001b[0m\n\u001b[0;32m   1959\u001b[0m             \u001b[1;32mif\u001b[0m \u001b[1;32mnot\u001b[0m \u001b[0m_tight\u001b[0m\u001b[1;33m:\u001b[0m\u001b[1;33m\u001b[0m\u001b[0m\n\u001b[1;32m-> 1960\u001b[1;33m                 \u001b[0mx0\u001b[0m\u001b[1;33m,\u001b[0m \u001b[0mx1\u001b[0m \u001b[1;33m=\u001b[0m \u001b[0mxlocator\u001b[0m\u001b[1;33m.\u001b[0m\u001b[0mview_limits\u001b[0m\u001b[1;33m(\u001b[0m\u001b[0mx0\u001b[0m\u001b[1;33m,\u001b[0m \u001b[0mx1\u001b[0m\u001b[1;33m)\u001b[0m\u001b[1;33m\u001b[0m\u001b[0m\n\u001b[0m\u001b[0;32m   1961\u001b[0m             \u001b[0mself\u001b[0m\u001b[1;33m.\u001b[0m\u001b[0mset_xbound\u001b[0m\u001b[1;33m(\u001b[0m\u001b[0mx0\u001b[0m\u001b[1;33m,\u001b[0m \u001b[0mx1\u001b[0m\u001b[1;33m)\u001b[0m\u001b[1;33m\u001b[0m\u001b[0m\n\u001b[0;32m   1962\u001b[0m \u001b[1;33m\u001b[0m\u001b[0m\n",
        "\u001b[1;32m/usr/lib64/python2.7/site-packages/matplotlib/ticker.pyc\u001b[0m in \u001b[0;36mview_limits\u001b[1;34m(self, vmin, vmax)\u001b[0m\n\u001b[0;32m   1523\u001b[0m         \u001b[1;32mif\u001b[0m \u001b[0mminpos\u001b[0m \u001b[1;33m<=\u001b[0m \u001b[1;36m0\u001b[0m \u001b[1;32mor\u001b[0m \u001b[1;32mnot\u001b[0m \u001b[0mnp\u001b[0m\u001b[1;33m.\u001b[0m\u001b[0misfinite\u001b[0m\u001b[1;33m(\u001b[0m\u001b[0mminpos\u001b[0m\u001b[1;33m)\u001b[0m\u001b[1;33m:\u001b[0m\u001b[1;33m\u001b[0m\u001b[0m\n\u001b[0;32m   1524\u001b[0m             raise ValueError(\n\u001b[1;32m-> 1525\u001b[1;33m                 \u001b[1;34m\"Data has no positive values, and therefore can not be \"\u001b[0m\u001b[1;33m\u001b[0m\u001b[0m\n\u001b[0m\u001b[0;32m   1526\u001b[0m                 \"log-scaled.\")\n\u001b[0;32m   1527\u001b[0m \u001b[1;33m\u001b[0m\u001b[0m\n",
        "\u001b[1;31mValueError\u001b[0m: Data has no positive values, and therefore can not be log-scaled."
       ]
      }
     ],
     "prompt_number": 15
    },
    {
     "cell_type": "code",
     "collapsed": false,
     "input": [
      "h1=dist1[1]\n",
      "h2=np.log10(dist1[1])\n",
      "fig = plt.figure(num=None, figsize=(8, 8), dpi=80, facecolor='w', edgecolor='k')\n",
      "ax = fig.add_subplot(111)\n",
      "bins = np.histogram(np.hstack((h1,h2)), bins=10)[1]\n",
      "ax.hist(h1, bins=bins, edgecolor='black',facecolor='none',histtype='stepfilled',linewidth=1, label='dist')\n",
      "ax.hist(h2, bins=bins,edgecolor='black',facecolor='none',histtype='stepfilled', hatch='//', label='log dist')\n",
      "ax.axvline(x=np.mean(h1),label='dist: '+\"${0:0.2f}$\".format(np.mean(h1)))\n",
      "ax.axvline(x=np.mean(h2),ls='--',label='log dist: '\"${0:0.2f}$\".format(np.mean(h2)))\n",
      "ax.legend(loc='upper left', frameon=False, scatterpoints=1,borderpad=0.1, labelspacing=0.1,handlelength=2)\n",
      "plt.xlim(-3.5,2)\n",
      "plt.show()"
     ],
     "language": "python",
     "metadata": {},
     "outputs": [],
     "prompt_number": 88
    },
    {
     "cell_type": "code",
     "collapsed": false,
     "input": [
      "1/0.001"
     ],
     "language": "python",
     "metadata": {},
     "outputs": [
      {
       "metadata": {},
       "output_type": "pyout",
       "prompt_number": 96,
       "text": [
        "1000.0"
       ]
      }
     ],
     "prompt_number": 96
    },
    {
     "cell_type": "code",
     "collapsed": false,
     "input": [
      "h1=dist1[1]\n",
      "h2=[np.log10(1./d) for d in dist1[1]]\n",
      "fig = plt.figure(num=None, figsize=(8, 8), dpi=80, facecolor='w', edgecolor='k')\n",
      "ax = fig.add_subplot(111)\n",
      "#bins = np.histogram(np.hstack((h1,h2)), bins=50)[1]\n",
      "#ax.hist(h1, bins=bins, edgecolor='black',facecolor='none',histtype='stepfilled',linewidth=1, label='dist')\n",
      "ax.hist(h2, bins=20)#edgecolor='black',facecolor='none',histtype='stepfilled', hatch='//', label='log dist')\n",
      "#ax.axvline(x=np.mean(h1),label='dist: '+\"${0:0.2f}$\".format(np.mean(h1)))\n",
      "#ax.axvline(x=np.mean(h2),ls='--',label='log dist: '\"${0:0.2f}$\".format(np.mean(h2)))\n",
      "ax.legend(loc='upper left', frameon=False, scatterpoints=1,borderpad=0.1, labelspacing=0.1,handlelength=2)\n",
      "plt.show()"
     ],
     "language": "python",
     "metadata": {},
     "outputs": [],
     "prompt_number": 94
    },
    {
     "cell_type": "code",
     "collapsed": false,
     "input": [
      "bins = np.logspace(np.log10(np.min(dist1[1])),\n",
      "                    np.log10(np.max(dist1[1])),\n",
      "                    num=20)"
     ],
     "language": "python",
     "metadata": {},
     "outputs": [
      {
       "ename": "TypeError",
       "evalue": "unsupported operand type(s) for /: 'float' and 'list'",
       "output_type": "pyerr",
       "traceback": [
        "\u001b[1;31m---------------------------------------------------------------------------\u001b[0m\n\u001b[1;31mTypeError\u001b[0m                                 Traceback (most recent call last)",
        "\u001b[1;32m<ipython-input-79-5f351e3e00d6>\u001b[0m in \u001b[0;36m<module>\u001b[1;34m()\u001b[0m\n\u001b[1;32m----> 1\u001b[1;33m bins = np.logspace(np.log10(np.min(1./dist1[1])),\n\u001b[0m\u001b[0;32m      2\u001b[0m                     \u001b[0mnp\u001b[0m\u001b[1;33m.\u001b[0m\u001b[0mlog10\u001b[0m\u001b[1;33m(\u001b[0m\u001b[0mnp\u001b[0m\u001b[1;33m.\u001b[0m\u001b[0mmax\u001b[0m\u001b[1;33m(\u001b[0m\u001b[1;36m1.\u001b[0m\u001b[1;33m/\u001b[0m\u001b[0mdist1\u001b[0m\u001b[1;33m[\u001b[0m\u001b[1;36m1\u001b[0m\u001b[1;33m]\u001b[0m\u001b[1;33m)\u001b[0m\u001b[1;33m)\u001b[0m\u001b[1;33m,\u001b[0m\u001b[1;33m\u001b[0m\u001b[0m\n\u001b[0;32m      3\u001b[0m                     num=20)\n",
        "\u001b[1;31mTypeError\u001b[0m: unsupported operand type(s) for /: 'float' and 'list'"
       ]
      }
     ],
     "prompt_number": 79
    },
    {
     "cell_type": "code",
     "collapsed": false,
     "input": [
      "r=np.linspace(0.01,1.,100)\n",
      "lala=[1,100,100]"
     ],
     "language": "python",
     "metadata": {},
     "outputs": [],
     "prompt_number": 13
    },
    {
     "cell_type": "code",
     "collapsed": false,
     "input": [
      "init=np.min(r)\n",
      "end=np.max(r)\n",
      "bins=10\n",
      "step=(end-init)/float(bins)\n",
      "nelements=np.zeros(bins)\n",
      "bin_entity=np.zeros(bins)\n",
      "\n",
      "for i in range(len(llala)):\n",
      "    print (llala[i]-init)/float(step)\n",
      "    ibin = int((llala[i]-init)/float(step))\n",
      "    if ibin>=bins:\n",
      "        continue\n",
      "    else:\n",
      "        nelements[ibin] += 1\n",
      "        bin_entity[ibin] = bin_entity[ibin] + lala[i]\n",
      "            #if i%1000==0:\n",
      "                #print ibin, nelements[ibin],bin_entity[ibin]\n",
      "nelements=[e if e>0 else  for e in nelements]\n",
      "xbin=[init+0.5*(2*i+1)*step for i in range(bins)]   "
     ],
     "language": "python",
     "metadata": {},
     "outputs": []
    },
    {
     "cell_type": "code",
     "collapsed": false,
     "input": [
      "#np.log10(zzzamedias-zzzastd[1])\n",
      "zzzamedias-zzzastd[1]"
     ],
     "language": "python",
     "metadata": {},
     "outputs": [
      {
       "metadata": {},
       "output_type": "pyout",
       "prompt_number": 36,
       "text": [
        "array([-0.01070856, -0.0087073 , -0.0118916 , -0.01026978,  0.02713987,\n",
        "        0.03697765,  0.09559512,  0.14540915,  0.18674106,  0.20905178,\n",
        "        0.17191077,  0.23497571,  0.36037029,  0.27990306,  0.17828774,\n",
        "        0.20218242,  0.13340977,  0.23630546,  0.21019793,  0.26449716,\n",
        "        0.26220928,  0.21699742,  0.2054451 ,  0.19964052,  0.12246084,\n",
        "        0.31951053,  0.20051034,  0.2224412 ,  0.17244969,  0.24458933,\n",
        "        0.14648044,  0.33426652,  0.27949111,  0.08307446,  0.12355001,\n",
        "        0.21706317,  0.12652601,  0.0294777 ,  0.25989413,  0.23448397,\n",
        "        0.26219167,  0.25629111,  0.1040168 ,  0.22506606,  0.18797598,\n",
        "        0.20977024,  0.34407785,  0.23337021,  0.23641263,  0.60249566,\n",
        "        0.27116718,  0.44826699,  0.47482735,  0.34971464,  0.43483232])"
       ]
      }
     ],
     "prompt_number": 36
    },
    {
     "cell_type": "code",
     "collapsed": false,
     "input": [
      "fileg='/home/meugenia/Dropbox/tesis/al_final/estrellas/stack/ajustes/ajustes.txt'\n",
      "ge,zge,zzge,zzzge,gm,zgm,zzgm,zzzgm=np.loadtxt(fileg,usecols=[2,4,6,8,10,12,14,16],unpack=True)"
     ],
     "language": "python",
     "metadata": {},
     "outputs": [],
     "prompt_number": 30
    },
    {
     "cell_type": "code",
     "collapsed": false,
     "input": [
      "plt.rc('text', usetex=True)\n",
      "font = {'family': 'serif', 'size': 25, 'serif': ['computer modern roman']}\n",
      "plt.rc('font', **font)\n",
      "plt.rc('legend', **{'fontsize': 23}) \n",
      "plt.rcParams['text.latex.preamble'] = [r'\\usepackage{amsmath}']\n",
      "plt.rcParams['axes.linewidth'] = 1.0\n",
      "plt.rcParams['xtick.major.size'] = 8\n",
      "plt.rcParams['xtick.minor.size'] = 4\n",
      "plt.rcParams['ytick.major.size'] = 6\n",
      "plt.rcParams['ytick.minor.size'] = 3\n",
      "plt.rc('lines', linewidth=2)"
     ],
     "language": "python",
     "metadata": {},
     "outputs": [],
     "prompt_number": 42
    },
    {
     "cell_type": "code",
     "collapsed": false,
     "input": [
      "#G-METALICIDADES Z0\n",
      "h1=gm\n",
      "fig = plt.figure(num=None, figsize=(8, 8), dpi=80, facecolor='w', edgecolor='k')\n",
      "ax = fig.add_subplot(111)\n",
      "bins = 6 #np.histogram(np.hstack((h1,h2)), bins=5)[1]\n",
      "ax.hist(h1, bins=bins, edgecolor='black',facecolor='gray',histtype='stepfilled',linewidth=1)#, label='$\\Delta$ [Z/H]/logR/R$_{24}$')\n",
      "#ax.axvline(x=np.mean(s50m0m2),label='Media M0M2: '+\"${0:0.2f}$\".format(np.mean(s50m0m2)))\n",
      "ax.axvline(x=np.mean(h1),ls='--',label='Mean: '+\"${0:0.2f}$\".format(np.mean(h1)))\n",
      "ax.legend(loc='upper left', frameon=False, scatterpoints=1,borderpad=0.1, labelspacing=0.1,handlelength=2)\n",
      "#plt.ylim(0,12)\n",
      "ax.set_xlabel('$\\Delta$ [Z/H]/log[R/R$_{24}$]')\n",
      "ax.set_ylabel('N')\n",
      "ax.set_ylim(0,13)\n",
      "ax.set_xlim(-0.14,-0.03)\n",
      "xticks = ax.xaxis.get_major_ticks()\n",
      "for mt in range(len(xticks)):\n",
      "    if mt%2==0:\n",
      "        xticks[mt].label1.set_visible(False)\n",
      "yticks = ax.yaxis.get_major_ticks()\n",
      "for mt in range(len(yticks)):\n",
      "    if mt%2!=0:\n",
      "        yticks[mt].label1.set_visible(False)\n",
      "ax.minorticks_on()\n",
      "plt.savefig('ajustes/gradiente_metalicidad_z0.pdf', format='pdf', dpi=100,bbox_inches='tight')\n",
      "plt.show()"
     ],
     "language": "python",
     "metadata": {},
     "outputs": [],
     "prompt_number": 133
    },
    {
     "cell_type": "code",
     "collapsed": false,
     "input": [
      "#G-METALICIDADES Z1\n",
      "h1=zgm\n",
      "fig = plt.figure(num=None, figsize=(8, 8), dpi=80, facecolor='w', edgecolor='k')\n",
      "ax = fig.add_subplot(111)\n",
      "bins = 6 #np.histogram(np.hstack((h1,h2)), bins=5)[1]\n",
      "ax.hist(h1, bins=bins, edgecolor='black',facecolor='gray',histtype='stepfilled',linewidth=1)#, label='$\\Delta$ [Z/H]/logR/R$_{24}$')\n",
      "#ax.axvline(x=np.mean(s50m0m2),label='Media M0M2: '+\"${0:0.2f}$\".format(np.mean(s50m0m2)))\n",
      "ax.axvline(x=np.mean(h1),ls='--',label='Mean: '+\"${0:0.2f}$\".format(np.mean(h1)))\n",
      "ax.legend(loc='upper left', frameon=False, scatterpoints=1,borderpad=0.1, labelspacing=0.1,handlelength=2)\n",
      "#plt.ylim(0,12)\n",
      "ax.set_xlabel('$\\Delta$ [Z/H]/log[R/R$_{24}$]')\n",
      "ax.set_ylabel('N')\n",
      "ax.set_ylim(0,13)\n",
      "ax.set_xlim(-0.24,-0.03)\n",
      "xticks = ax.xaxis.get_major_ticks()\n",
      "for mt in range(len(xticks)):\n",
      "    if mt%2==0:\n",
      "        xticks[mt].label1.set_visible(False)\n",
      "yticks = ax.yaxis.get_major_ticks()\n",
      "for mt in range(len(yticks)):\n",
      "    if mt%2!=0:\n",
      "        yticks[mt].label1.set_visible(False)\n",
      "ax.minorticks_on()\n",
      "plt.savefig('ajustes/gradiente_metalicidad_z1.pdf', format='pdf', dpi=100,bbox_inches='tight')\n",
      "plt.show()"
     ],
     "language": "python",
     "metadata": {},
     "outputs": [],
     "prompt_number": 134
    },
    {
     "cell_type": "code",
     "collapsed": false,
     "input": [
      "#G-METALICIDADES Z2\n",
      "h1=zzgm\n",
      "fig = plt.figure(num=None, figsize=(8, 8), dpi=80, facecolor='w', edgecolor='k')\n",
      "ax = fig.add_subplot(111)\n",
      "bins = 6 #np.histogram(np.hstack((h1,h2)), bins=5)[1]\n",
      "ax.hist(h1, bins=bins, edgecolor='black',facecolor='gray',histtype='stepfilled',linewidth=1)#, label='$\\Delta$ [Z/H]/logR/R$_{24}$')\n",
      "#ax.axvline(x=np.mean(s50m0m2),label='Media M0M2: '+\"${0:0.2f}$\".format(np.mean(s50m0m2)))\n",
      "ax.axvline(x=np.mean(h1),ls='--',label='Mean: '+\"${0:0.2f}$\".format(np.mean(h1)))\n",
      "ax.legend(loc='upper left', frameon=False, scatterpoints=1,borderpad=0.1, labelspacing=0.1,handlelength=2)\n",
      "#plt.ylim(0,12)\n",
      "ax.set_xlabel('$\\Delta$ [Z/H]/log[R/R$_{24}$]')\n",
      "ax.set_ylabel('N')\n",
      "ax.set_ylim(0,13)\n",
      "ax.set_xlim(-0.4,0.05)\n",
      "xticks = ax.xaxis.get_major_ticks()\n",
      "for mt in range(len(xticks)):\n",
      "    if mt%2==0:\n",
      "        xticks[mt].label1.set_visible(False)\n",
      "yticks = ax.yaxis.get_major_ticks()\n",
      "for mt in range(len(yticks)):\n",
      "    if mt%2!=0:\n",
      "        yticks[mt].label1.set_visible(False)\n",
      "ax.minorticks_on()\n",
      "plt.savefig('ajustes/gradiente_metalicidad_z2.pdf', format='pdf', dpi=100,bbox_inches='tight')\n",
      "plt.show()"
     ],
     "language": "python",
     "metadata": {},
     "outputs": [],
     "prompt_number": 135
    },
    {
     "cell_type": "code",
     "collapsed": false,
     "input": [
      "#G-METALICIDADES Z3\n",
      "h1=zzzgm\n",
      "fig = plt.figure(num=None, figsize=(8, 8), dpi=80, facecolor='w', edgecolor='k')\n",
      "ax = fig.add_subplot(111)\n",
      "bins = 6 #np.histogram(np.hstack((h1,h2)), bins=5)[1]\n",
      "ax.hist(h1, bins=bins, edgecolor='black',facecolor='gray',histtype='stepfilled',linewidth=1)#, label='$\\Delta$ [Z/H]/logR/R$_{24}$')\n",
      "#ax.axvline(x=np.mean(s50m0m2),label='Media M0M2: '+\"${0:0.2f}$\".format(np.mean(s50m0m2)))\n",
      "ax.axvline(x=np.mean(h1),ls='--',label='Mean: '+\"${0:0.2f}$\".format(np.mean(h1)))\n",
      "ax.legend(loc='upper left', frameon=False, scatterpoints=1,borderpad=0.1, labelspacing=0.1,handlelength=2)\n",
      "#plt.ylim(0,12)\n",
      "ax.set_xlabel('$\\Delta$ [Z/H]/log[R/R$_{24}$]')\n",
      "ax.set_ylabel('N')\n",
      "ax.set_ylim(0,13)\n",
      "ax.set_xlim(-0.5,0.03)\n",
      "xticks = ax.xaxis.get_major_ticks()\n",
      "for mt in range(len(xticks)):\n",
      "    if mt%2==0:\n",
      "        xticks[mt].label1.set_visible(False)\n",
      "yticks = ax.yaxis.get_major_ticks()\n",
      "for mt in range(len(yticks)):\n",
      "    if mt%2!=0:\n",
      "        yticks[mt].label1.set_visible(False)\n",
      "ax.minorticks_on()\n",
      "plt.savefig('ajustes/gradiente_metalicidad_z3.pdf', format='pdf', dpi=100,bbox_inches='tight')\n",
      "plt.show()"
     ],
     "language": "python",
     "metadata": {},
     "outputs": [],
     "prompt_number": 136
    },
    {
     "cell_type": "code",
     "collapsed": false,
     "input": [
      "#G-EDADES Z0\n",
      "h1=ge\n",
      "fig = plt.figure(num=None, figsize=(8, 8), dpi=80, facecolor='w', edgecolor='k')\n",
      "ax = fig.add_subplot(111)\n",
      "bins = 6 #np.histogram(np.hstack((h1,h2)), bins=5)[1]\n",
      "ax.hist(h1, bins=bins, edgecolor='black',facecolor='gray',histtype='stepfilled',linewidth=1)#, label='$\\Delta$ [Z/H]/logR/R$_{24}$')\n",
      "#ax.axvline(x=np.mean(s50m0m2),label='Media M0M2: '+\"${0:0.2f}$\".format(np.mean(s50m0m2)))\n",
      "ax.axvline(x=np.mean(h1),ls='--',label='Mean: '+\"${0:0.2f}$\".format(np.mean(h1)))\n",
      "ax.legend(loc='upper left', frameon=False, scatterpoints=1,borderpad=0.1, labelspacing=0.1,handlelength=2)\n",
      "#plt.ylim(0,12)\n",
      "ax.set_xlabel('$\\Delta$ log[Age/Gyr]/log[R/R$_{24}$]')\n",
      "ax.set_ylabel('N')\n",
      "xticks = ax.xaxis.get_major_ticks()\n",
      "ax.set_ylim(0,13)\n",
      "#ax.set_xlim(-0.14,0.03)\n",
      "for mt in range(len(xticks)):\n",
      "    if mt%2==0:\n",
      "        xticks[mt].label1.set_visible(False)\n",
      "yticks = ax.yaxis.get_major_ticks()\n",
      "for mt in range(len(yticks)):\n",
      "    if mt%2!=0:\n",
      "        yticks[mt].label1.set_visible(False)\n",
      "ax.minorticks_on()\n",
      "plt.savefig('ajustes/gradiente_edad_z0.pdf', format='pdf', dpi=100,bbox_inches='tight')\n",
      "plt.show()"
     ],
     "language": "python",
     "metadata": {},
     "outputs": [],
     "prompt_number": 137
    },
    {
     "cell_type": "code",
     "collapsed": false,
     "input": [
      "#G-EDADES Z1\n",
      "h1=zge\n",
      "fig = plt.figure(num=None, figsize=(8, 8), dpi=80, facecolor='w', edgecolor='k')\n",
      "ax = fig.add_subplot(111)\n",
      "bins = 6 #np.histogram(np.hstack((h1,h2)), bins=5)[1]\n",
      "ax.hist(h1, bins=bins, edgecolor='black',facecolor='gray',histtype='stepfilled',linewidth=1)#, label='$\\Delta$ [Z/H]/logR/R$_{24}$')\n",
      "#ax.axvline(x=np.mean(s50m0m2),label='Media M0M2: '+\"${0:0.2f}$\".format(np.mean(s50m0m2)))\n",
      "ax.axvline(x=np.mean(h1),ls='--',label='Mean: '+\"${0:0.2f}$\".format(np.mean(h1)))\n",
      "ax.legend(loc='upper left', frameon=False, scatterpoints=1,borderpad=0.1, labelspacing=0.1,handlelength=2)\n",
      "#plt.ylim(0,12)\n",
      "ax.set_xlabel('$\\Delta$ log[Age/Gyr]/log[R/R$_{24}$]')\n",
      "ax.set_ylabel('N')\n",
      "ax.set_ylim(0,13)\n",
      "ax.set_xlim(-0.16,0.03)\n",
      "xticks = ax.xaxis.get_major_ticks()\n",
      "for mt in range(len(xticks)):\n",
      "    if mt%2==0:\n",
      "        xticks[mt].label1.set_visible(False)\n",
      "yticks = ax.yaxis.get_major_ticks()\n",
      "for mt in range(len(yticks)):\n",
      "    if mt%2!=0:\n",
      "        yticks[mt].label1.set_visible(False)\n",
      "ax.minorticks_on() \n",
      "plt.savefig('ajustes/gradiente_edad_z1.pdf', format='pdf', dpi=100,bbox_inches='tight')\n",
      "plt.show()"
     ],
     "language": "python",
     "metadata": {},
     "outputs": [],
     "prompt_number": 138
    },
    {
     "cell_type": "code",
     "collapsed": false,
     "input": [
      "#G-EDADES Z2\n",
      "h1=zzge\n",
      "fig = plt.figure(num=None, figsize=(8, 8), dpi=80, facecolor='w', edgecolor='k')\n",
      "ax = fig.add_subplot(111)\n",
      "bins = 6 #np.histogram(np.hstack((h1,h2)), bins=5)[1]\n",
      "ax.hist(h1, bins=bins, edgecolor='black',facecolor='gray',histtype='stepfilled',linewidth=1)#, label='$\\Delta$ [Z/H]/logR/R$_{24}$')\n",
      "#ax.axvline(x=np.mean(s50m0m2),label='Media M0M2: '+\"${0:0.2f}$\".format(np.mean(s50m0m2)))\n",
      "ax.axvline(x=np.mean(h1),ls='--',label='Mean: '+\"${0:0.2f}$\".format(np.mean(h1)))\n",
      "ax.legend(loc='upper left', frameon=False, scatterpoints=1,borderpad=0.1, labelspacing=0.1,handlelength=2)\n",
      "#plt.ylim(0,12)\n",
      "ax.set_xlabel('$\\Delta$ log[Age/Gyr]/log[R/R$_{24}$]')\n",
      "ax.set_ylabel('N')\n",
      "xticks = ax.xaxis.get_major_ticks()\n",
      "ax.set_ylim(0,13)\n",
      "ax.set_xlim(-0.27,0.0)\n",
      "for mt in range(len(xticks)):\n",
      "    if mt%2==0:\n",
      "        xticks[mt].label1.set_visible(False)\n",
      "yticks = ax.yaxis.get_major_ticks()\n",
      "for mt in range(len(yticks)):\n",
      "    if mt%2!=0:\n",
      "        yticks[mt].label1.set_visible(False)\n",
      "ax.minorticks_on() \n",
      "plt.savefig('ajustes/gradiente_edad_z2.pdf', format='pdf', dpi=100,bbox_inches='tight')\n",
      "plt.show()"
     ],
     "language": "python",
     "metadata": {},
     "outputs": [],
     "prompt_number": 139
    },
    {
     "cell_type": "code",
     "collapsed": false,
     "input": [
      "#G-EDADES Z3\n",
      "h1=zzzge\n",
      "fig = plt.figure(num=None, figsize=(8, 8), dpi=80, facecolor='w', edgecolor='k')\n",
      "ax = fig.add_subplot(111)\n",
      "bins = 6 #np.histogram(np.hstack((h1,h2)), bins=5)[1]\n",
      "ax.hist(h1, bins=bins, edgecolor='black',facecolor='gray',histtype='stepfilled',linewidth=1)#, label='$\\Delta$ [Z/H]/logR/R$_{24}$')\n",
      "#ax.axvline(x=np.mean(s50m0m2),label='Media M0M2: '+\"${0:0.2f}$\".format(np.mean(s50m0m2)))\n",
      "ax.axvline(x=np.mean(h1),ls='--',label='Mean: '+\"${0:0.2f}$\".format(np.mean(h1)))\n",
      "ax.legend(loc='upper left', frameon=False, scatterpoints=1,borderpad=0.1, labelspacing=0.1,handlelength=2)\n",
      "#plt.ylim(0,12)\n",
      "ax.set_xlabel('$\\Delta$ log[Age/Gyr]/log[R/R$_{24}$]')\n",
      "ax.set_ylabel('N')\n",
      "xticks = ax.xaxis.get_major_ticks()\n",
      "ax.set_ylim(0,13)\n",
      "ax.set_xlim(-0.33,0.36)\n",
      "for mt in range(len(xticks)):\n",
      "    if mt%2==0:\n",
      "        xticks[mt].label1.set_visible(False)\n",
      "yticks = ax.yaxis.get_major_ticks()\n",
      "for mt in range(len(yticks)):\n",
      "    if mt%2!=0:\n",
      "        yticks[mt].label1.set_visible(False)\n",
      "ax.minorticks_on()\n",
      "plt.savefig('ajustes/gradiente_edad_z3.pdf', format='pdf', dpi=100,bbox_inches='tight')\n",
      "plt.show()"
     ],
     "language": "python",
     "metadata": {},
     "outputs": [],
     "prompt_number": 140
    },
    {
     "cell_type": "code",
     "collapsed": false,
     "input": [],
     "language": "python",
     "metadata": {},
     "outputs": []
    }
   ],
   "metadata": {}
  }
 ]
}