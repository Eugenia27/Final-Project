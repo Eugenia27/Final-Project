{
 "metadata": {
  "name": "",
  "signature": "sha256:9c8b37c14cd0eb6fb5eaf4fa31bf7097f857b98a9ece5446eb9f92b7437188e9"
 },
 "nbformat": 3,
 "nbformat_minor": 0,
 "worksheets": [
  {
   "cells": [
    {
     "cell_type": "code",
     "collapsed": false,
     "input": [
      "import numpy as np\n",
      "import cython\n",
      "import glob\n",
      "import matplotlib.pyplot as plt\n",
      "import plot as po\n",
      "import bineado as bi\n",
      "#import matplotlib.ticker import NullFormatter,MultipleLocator, FormatStrFormatter\n",
      "from matplotlib.offsetbox import AnchoredText\n",
      "import math as mt\n",
      "import os\n",
      "\n",
      "save= 1\n",
      "\n",
      "def stack(snap):\n",
      "    stack=[0,0,1,0,0,0,0,0,0,1,0,0,0,1,1,1,0,0,0,0,1,1,1,0,1,0,0,1,0,1]\n",
      "    rall = np.array([])\n",
      "    metall = np.array([])\n",
      "    ageall = np.array([])\n",
      "    first='true'\n",
      "\n",
      "    for reg in range(30):\n",
      "        sreg  = str(reg)\n",
      "        if reg==0 or stack[reg]==0 or reg==30:\n",
      "    #if reg==0 or reg>2:\n",
      "            continue\n",
      "\n",
      "        #prefijo_inputs='/home/mferraro/inputs/D'+str(reg)+'_LR_minpot3_rmmax_'+snap+'_'\n",
      "        prefijo_inputs='/home/meugenia/0/LR/inputs_grupo0/D'+str(reg)+'_LR_minpot3_rmmax_'+snap+'_'\n",
      "\n",
      "        file_mass=''\n",
      "        for fm in glob.glob(prefijo_inputs+'*NoDust.dat'):\n",
      "            file_mass = fm\n",
      "\n",
      "        file_obs='/home/meugenia/Dropbox/tesis/al_final/LR/tablas/LR_minpot3_rmmax_'+snap+'_band125_nodust_grupo0.txt'\n",
      "        r24=np.loadtxt(file_obs, usecols=[3],unpack=True)\n",
      "\n",
      "        pt    =np.array([])\n",
      "        x     =np.array([])\n",
      "        y     =np.array([])\n",
      "        met   =np.array([])\n",
      "        age   =np.array([])\n",
      "        rnorm =np.zeros(x)\n",
      "        x1    =np.array([])\n",
      "        y1    =np.array([])        \n",
      "        met1  =np.array([])\n",
      "        age1  =np.array([])        \n",
      "\n",
      "        pt,x,y,age,met=np.loadtxt(file_mass,usecols=[0,1,2,4,5],unpack=True,skiprows=1)\n",
      "        \n",
      "        for kk in range(len(age)):\n",
      "            if pt[kk]!=-1 or met[kk]==-666.67:\n",
      "                continue\n",
      "            else:\n",
      "                if age[kk]>0 and age[kk]<50:\n",
      "                    age1=np.append(age1,age[kk])\n",
      "                    met1=np.append(met1,met[kk])\n",
      "                    x1=np.append(x1,x[kk])\n",
      "                    y1=np.append(y1,y[kk])\n",
      "\n",
      "        r=np.sqrt(x1**2+y1**2)\n",
      "        rnorm=[value/float(r24[reg-1]) for value in r] \n",
      "        \n",
      "        if first=='false':\n",
      "            rall   =np.concatenate((rall,rnorm),axis=0)\n",
      "            metall =np.concatenate((metall,met1),axis=0)\n",
      "            ageall =np.concatenate((ageall,age1),axis=0)\n",
      "            print len(rall),'  ', len(rnorm)\n",
      "        if first=='true':            \n",
      "            rall   =rnorm\n",
      "            metall =met1\n",
      "            ageall =age1\n",
      "            first='false'\n",
      "            print len(rall),'  ', len(rnorm)\n",
      "\n",
      "\n",
      "        print 'PASE POR '+str(reg)\n",
      "    return rall,ageall,metall\n",
      "\n"
     ],
     "language": "python",
     "metadata": {},
     "outputs": [],
     "prompt_number": 7
    },
    {
     "cell_type": "code",
     "collapsed": false,
     "input": [
      "dist1 ,stars1 ,met1=stack('091')\n",
      "zdist1,zstars1,zmet1=stack('041')\n",
      "#dist1=dist1*100 \n",
      "#zdist1=zdist1*100 \n",
      "if save:\n",
      "    if os.path.exists('stackz0.txt'):\n",
      "        os.remove('stackz0.txt')\n",
      "    \n",
      "    myfile0 = open('stackz0.txt','a')\n",
      "    for d in range(len(dist1)):\n",
      "        myfile0.write('{:10.7g} {:10.7g} {:10.7g} \\n'.format(dist1[d],stars1[d],met1[d]))\n",
      "    myfile0.close()\n",
      "\n",
      "    if os.path.exists('stackz1.txt'):\n",
      "        os.remove('stackz1.txt')\n",
      "    \n",
      "    myfile1 = open('stackz1.txt','a')\n",
      "    for d in range(len(zdist1)):\n",
      "        myfile1.write('{:10.7g} {:10.7g} {:10.7g} \\n'.format(zdist1[d],zstars1[d],zmet1[d]))\n",
      "    myfile1.close()\n"
     ],
     "language": "python",
     "metadata": {},
     "outputs": [
      {
       "output_type": "stream",
       "stream": "stdout",
       "text": [
        "63728    63728\n",
        "PASE POR 2\n",
        "89524"
       ]
      },
      {
       "output_type": "stream",
       "stream": "stdout",
       "text": [
        "    25796\n",
        "PASE POR 9\n",
        "192554"
       ]
      },
      {
       "output_type": "stream",
       "stream": "stdout",
       "text": [
        "    103030\n",
        "PASE POR 13\n",
        "311104"
       ]
      },
      {
       "output_type": "stream",
       "stream": "stdout",
       "text": [
        "    118550\n",
        "PASE POR 14\n",
        "426226"
       ]
      },
      {
       "output_type": "stream",
       "stream": "stdout",
       "text": [
        "    115122\n",
        "PASE POR 15\n",
        "539208"
       ]
      },
      {
       "output_type": "stream",
       "stream": "stdout",
       "text": [
        "    112982\n",
        "PASE POR 20\n",
        "679575"
       ]
      },
      {
       "output_type": "stream",
       "stream": "stdout",
       "text": [
        "    140367\n",
        "PASE POR 21\n",
        "835815"
       ]
      },
      {
       "output_type": "stream",
       "stream": "stdout",
       "text": [
        "    156240\n",
        "PASE POR 22\n",
        "977351"
       ]
      },
      {
       "output_type": "stream",
       "stream": "stdout",
       "text": [
        "    141536\n",
        "PASE POR 24\n",
        "1089350"
       ]
      },
      {
       "output_type": "stream",
       "stream": "stdout",
       "text": [
        "    111999\n",
        "PASE POR 27\n",
        "1179154"
       ]
      },
      {
       "output_type": "stream",
       "stream": "stdout",
       "text": [
        "    89804\n",
        "PASE POR 29\n",
        "29402"
       ]
      },
      {
       "output_type": "stream",
       "stream": "stdout",
       "text": [
        "    29402\n",
        "PASE POR 2\n",
        "44462"
       ]
      },
      {
       "output_type": "stream",
       "stream": "stdout",
       "text": [
        "    15060\n",
        "PASE POR 9\n",
        "75374"
       ]
      },
      {
       "output_type": "stream",
       "stream": "stdout",
       "text": [
        "    30912\n",
        "PASE POR 13\n",
        "134510"
       ]
      },
      {
       "output_type": "stream",
       "stream": "stdout",
       "text": [
        "    59136\n",
        "PASE POR 14\n",
        "182098"
       ]
      },
      {
       "output_type": "stream",
       "stream": "stdout",
       "text": [
        "    47588\n",
        "PASE POR 15\n",
        "243710"
       ]
      },
      {
       "output_type": "stream",
       "stream": "stdout",
       "text": [
        "    61612\n",
        "PASE POR 20\n",
        "312109"
       ]
      },
      {
       "output_type": "stream",
       "stream": "stdout",
       "text": [
        "    68399\n",
        "PASE POR 21\n",
        "376030"
       ]
      },
      {
       "output_type": "stream",
       "stream": "stdout",
       "text": [
        "    63921\n",
        "PASE POR 22\n",
        "446263"
       ]
      },
      {
       "output_type": "stream",
       "stream": "stdout",
       "text": [
        "    70233\n",
        "PASE POR 24\n",
        "497502"
       ]
      },
      {
       "output_type": "stream",
       "stream": "stdout",
       "text": [
        "    51239\n",
        "PASE POR 27\n",
        "542225"
       ]
      },
      {
       "output_type": "stream",
       "stream": "stdout",
       "text": [
        "    44723\n",
        "PASE POR 29\n"
       ]
      }
     ],
     "prompt_number": 3
    },
    {
     "cell_type": "code",
     "collapsed": false,
     "input": [
      "len(met1)"
     ],
     "language": "python",
     "metadata": {},
     "outputs": [
      {
       "metadata": {},
       "output_type": "pyout",
       "prompt_number": 4,
       "text": [
        "1179154"
       ]
      }
     ],
     "prompt_number": 4
    },
    {
     "cell_type": "code",
     "collapsed": false,
     "input": [
      "def bineado(x,entity,bins,init,end):\n",
      "    step=(end-init)/bins\n",
      "    nelements  =np.zeros(bins)\n",
      "    bin_entity =np.zeros(bins)\n",
      "    xbin       =np.zeros(bins)\n",
      "    medians    =np.zeros(bins)\n",
      "\n",
      "    matrixbin  = []\n",
      "    \n",
      "    for j in range(bins):\n",
      "        matrixbin.append([])    \n",
      "    \n",
      "    for i in range(len(entity)):\n",
      "        ibin = int(mt.floor((x[i]-init/step)))\n",
      "        if ibin>=bins:\n",
      "            continue\n",
      "        else:\n",
      "            nelements[ibin] += 1\n",
      "            bin_entity[ibin] = bin_entity[ibin] + entity[i]\n",
      "            matrixbin[ibin].append(entity[i])\n",
      "            if i%1000==0:\n",
      "                print ibin, nelements[ibin],bin_entity[ibin]\n",
      "            \n",
      "    for k in range(bins):\n",
      "        medians[k]=np.median(matrixbin[k])\n",
      "        \n",
      "    xbin=[init+0.5*(2*i+1)*step for i in range(bins)]    \n",
      "    return nelements,xbin,bin_entity,medians,matrixbin "
     ],
     "language": "python",
     "metadata": {},
     "outputs": [],
     "prompt_number": 5
    },
    {
     "cell_type": "code",
     "collapsed": false,
     "input": [
      "anb  ,axbin  ,abe  ,amedians, amatriz   = bineado(dist1,stars1,60,0,np.max(dist1))\n",
      "zanb ,zaxbin ,zabe ,zamedians,zamatriz  = bineado(zdist1,zstars1,60,0,np.max(dist1))\n",
      "mnb  ,mxbin  ,mbe  ,mmedians, mmatriz   = bineado(dist1,met1,60,0,np.max(dist1))\n",
      "zmnb ,zmxbin ,zmbe ,zmmedians,zmmatriz  = bineado(zdist1,zmet1,60,0,np.max(dist1))"
     ],
     "language": "python",
     "metadata": {},
     "outputs": [
      {
       "ename": "NameError",
       "evalue": "global name 'mt' is not defined",
       "output_type": "pyerr",
       "traceback": [
        "\u001b[1;31m---------------------------------------------------------------------------\u001b[0m\n\u001b[1;31mNameError\u001b[0m                                 Traceback (most recent call last)",
        "\u001b[1;32m<ipython-input-6-03506143b585>\u001b[0m in \u001b[0;36m<module>\u001b[1;34m()\u001b[0m\n\u001b[1;32m----> 1\u001b[1;33m \u001b[0manb\u001b[0m  \u001b[1;33m,\u001b[0m\u001b[0maxbin\u001b[0m  \u001b[1;33m,\u001b[0m\u001b[0mabe\u001b[0m  \u001b[1;33m,\u001b[0m\u001b[0mamedians\u001b[0m\u001b[1;33m,\u001b[0m \u001b[0mamatriz\u001b[0m   \u001b[1;33m=\u001b[0m \u001b[0mbineado\u001b[0m\u001b[1;33m(\u001b[0m\u001b[0mdist1\u001b[0m\u001b[1;33m,\u001b[0m\u001b[0mstars1\u001b[0m\u001b[1;33m,\u001b[0m\u001b[1;36m60\u001b[0m\u001b[1;33m,\u001b[0m\u001b[1;36m0\u001b[0m\u001b[1;33m,\u001b[0m\u001b[0mnp\u001b[0m\u001b[1;33m.\u001b[0m\u001b[0mmax\u001b[0m\u001b[1;33m(\u001b[0m\u001b[0mdist1\u001b[0m\u001b[1;33m)\u001b[0m\u001b[1;33m)\u001b[0m\u001b[1;33m\u001b[0m\u001b[0m\n\u001b[0m\u001b[0;32m      2\u001b[0m \u001b[0mzanb\u001b[0m \u001b[1;33m,\u001b[0m\u001b[0mzaxbin\u001b[0m \u001b[1;33m,\u001b[0m\u001b[0mzabe\u001b[0m \u001b[1;33m,\u001b[0m\u001b[0mzamedians\u001b[0m\u001b[1;33m,\u001b[0m\u001b[0mzamatriz\u001b[0m  \u001b[1;33m=\u001b[0m \u001b[0mbineado\u001b[0m\u001b[1;33m(\u001b[0m\u001b[0mzdist1\u001b[0m\u001b[1;33m,\u001b[0m\u001b[0mzstars1\u001b[0m\u001b[1;33m,\u001b[0m\u001b[1;36m60\u001b[0m\u001b[1;33m,\u001b[0m\u001b[1;36m0\u001b[0m\u001b[1;33m,\u001b[0m\u001b[0mnp\u001b[0m\u001b[1;33m.\u001b[0m\u001b[0mmax\u001b[0m\u001b[1;33m(\u001b[0m\u001b[0mdist1\u001b[0m\u001b[1;33m)\u001b[0m\u001b[1;33m)\u001b[0m\u001b[1;33m\u001b[0m\u001b[0m\n\u001b[0;32m      3\u001b[0m \u001b[0mmnb\u001b[0m  \u001b[1;33m,\u001b[0m\u001b[0mmxbin\u001b[0m  \u001b[1;33m,\u001b[0m\u001b[0mmbe\u001b[0m  \u001b[1;33m,\u001b[0m\u001b[0mmmedians\u001b[0m\u001b[1;33m,\u001b[0m \u001b[0mmmatriz\u001b[0m   \u001b[1;33m=\u001b[0m \u001b[0mbineado\u001b[0m\u001b[1;33m(\u001b[0m\u001b[0mdist1\u001b[0m\u001b[1;33m,\u001b[0m\u001b[0mmet1\u001b[0m\u001b[1;33m,\u001b[0m\u001b[1;36m60\u001b[0m\u001b[1;33m,\u001b[0m\u001b[1;36m0\u001b[0m\u001b[1;33m,\u001b[0m\u001b[0mnp\u001b[0m\u001b[1;33m.\u001b[0m\u001b[0mmax\u001b[0m\u001b[1;33m(\u001b[0m\u001b[0mdist1\u001b[0m\u001b[1;33m)\u001b[0m\u001b[1;33m)\u001b[0m\u001b[1;33m\u001b[0m\u001b[0m\n\u001b[0;32m      4\u001b[0m \u001b[0mzmnb\u001b[0m \u001b[1;33m,\u001b[0m\u001b[0mzmxbin\u001b[0m \u001b[1;33m,\u001b[0m\u001b[0mzmbe\u001b[0m \u001b[1;33m,\u001b[0m\u001b[0mzmmedians\u001b[0m\u001b[1;33m,\u001b[0m\u001b[0mzmmatriz\u001b[0m  \u001b[1;33m=\u001b[0m \u001b[0mbineado\u001b[0m\u001b[1;33m(\u001b[0m\u001b[0mzdist1\u001b[0m\u001b[1;33m,\u001b[0m\u001b[0mzmet1\u001b[0m\u001b[1;33m,\u001b[0m\u001b[1;36m60\u001b[0m\u001b[1;33m,\u001b[0m\u001b[1;36m0\u001b[0m\u001b[1;33m,\u001b[0m\u001b[0mnp\u001b[0m\u001b[1;33m.\u001b[0m\u001b[0mmax\u001b[0m\u001b[1;33m(\u001b[0m\u001b[0mdist1\u001b[0m\u001b[1;33m)\u001b[0m\u001b[1;33m)\u001b[0m\u001b[1;33m\u001b[0m\u001b[0m\n",
        "\u001b[1;32m<ipython-input-5-007619c0541a>\u001b[0m in \u001b[0;36mbineado\u001b[1;34m(x, entity, bins, init, end)\u001b[0m\n\u001b[0;32m     12\u001b[0m \u001b[1;33m\u001b[0m\u001b[0m\n\u001b[0;32m     13\u001b[0m     \u001b[1;32mfor\u001b[0m \u001b[0mi\u001b[0m \u001b[1;32min\u001b[0m \u001b[0mrange\u001b[0m\u001b[1;33m(\u001b[0m\u001b[0mlen\u001b[0m\u001b[1;33m(\u001b[0m\u001b[0mentity\u001b[0m\u001b[1;33m)\u001b[0m\u001b[1;33m)\u001b[0m\u001b[1;33m:\u001b[0m\u001b[1;33m\u001b[0m\u001b[0m\n\u001b[1;32m---> 14\u001b[1;33m         \u001b[0mibin\u001b[0m \u001b[1;33m=\u001b[0m \u001b[0mint\u001b[0m\u001b[1;33m(\u001b[0m\u001b[0mmt\u001b[0m\u001b[1;33m.\u001b[0m\u001b[0mfloor\u001b[0m\u001b[1;33m(\u001b[0m\u001b[1;33m(\u001b[0m\u001b[0mx\u001b[0m\u001b[1;33m[\u001b[0m\u001b[0mi\u001b[0m\u001b[1;33m]\u001b[0m\u001b[1;33m-\u001b[0m\u001b[0minit\u001b[0m\u001b[1;33m/\u001b[0m\u001b[0mstep\u001b[0m\u001b[1;33m)\u001b[0m\u001b[1;33m)\u001b[0m\u001b[1;33m)\u001b[0m\u001b[1;33m\u001b[0m\u001b[0m\n\u001b[0m\u001b[0;32m     15\u001b[0m         \u001b[1;32mif\u001b[0m \u001b[0mibin\u001b[0m\u001b[1;33m>=\u001b[0m\u001b[0mbins\u001b[0m\u001b[1;33m:\u001b[0m\u001b[1;33m\u001b[0m\u001b[0m\n\u001b[0;32m     16\u001b[0m             \u001b[1;32mcontinue\u001b[0m\u001b[1;33m\u001b[0m\u001b[0m\n",
        "\u001b[1;31mNameError\u001b[0m: global name 'mt' is not defined"
       ]
      }
     ],
     "prompt_number": 6
    },
    {
     "cell_type": "code",
     "collapsed": false,
     "input": [
      "plt.rc('text', usetex=True)\n",
      "font = {'family': 'serif', 'size': 25, 'serif': ['computer modern roman']}\n",
      "plt.rc('font', **font)\n",
      "plt.rc('legend', **{'fontsize': 17}) \n",
      "plt.rcParams['text.latex.preamble'] = [r'\\usepackage{amsmath}']\n",
      "plt.rcParams['axes.linewidth'] = 1.0\n",
      "plt.rcParams['xtick.major.size'] = 8\n",
      "plt.rcParams['xtick.minor.size'] = 4\n",
      "plt.rcParams['ytick.major.size'] = 6\n",
      "plt.rcParams['ytick.minor.size'] = 3\n",
      "plt.rc('lines', linewidth=3)"
     ],
     "language": "python",
     "metadata": {},
     "outputs": [],
     "prompt_number": 112
    },
    {
     "cell_type": "code",
     "collapsed": false,
     "input": [
      "cmg='#92602E'\n",
      "cmc='black'\n",
      "cag='tomato'\n",
      "cac='#0066CC'"
     ],
     "language": "python",
     "metadata": {},
     "outputs": [],
     "prompt_number": 113
    },
    {
     "cell_type": "code",
     "collapsed": false,
     "input": [
      "amedias=np.array([])\n",
      "asigmas=np.array([])\n",
      "for i in range(len(axbin)):\n",
      "    amedias=np.append(amedias,np.mean(amatriz[i]))\n",
      "    asigmas=np.append(asigmas,np.std(amatriz[i]))"
     ],
     "language": "python",
     "metadata": {},
     "outputs": [],
     "prompt_number": 114
    },
    {
     "cell_type": "code",
     "collapsed": false,
     "input": [
      "zamedias=np.array([])\n",
      "zasigmas=np.array([])\n",
      "for i in range(len(zaxbin)):\n",
      "    zamedias=np.append(zamedias,np.mean(zamatriz[i]))\n",
      "    zasigmas=np.append(zasigmas,np.std(zamatriz[i]))"
     ],
     "language": "python",
     "metadata": {},
     "outputs": [],
     "prompt_number": 115
    },
    {
     "cell_type": "code",
     "collapsed": false,
     "input": [
      "mmedias=np.array([])\n",
      "msigmas=np.array([])\n",
      "for i in range(len(mxbin)):\n",
      "    mmedias=np.append(mmedias,np.mean(mmatriz[i]))\n",
      "    msigmas=np.append(msigmas,np.std(mmatriz[i]))"
     ],
     "language": "python",
     "metadata": {},
     "outputs": [],
     "prompt_number": 116
    },
    {
     "cell_type": "code",
     "collapsed": false,
     "input": [
      "zmmedias=np.array([])\n",
      "zmsigmas=np.array([])\n",
      "for i in range(len(zmxbin)):\n",
      "    zmmedias=np.append(zmmedias,np.mean(zmmatriz[i]))\n",
      "    zmsigmas=np.append(zmsigmas,np.std(zmmatriz[i]))"
     ],
     "language": "python",
     "metadata": {},
     "outputs": [],
     "prompt_number": 117
    },
    {
     "cell_type": "code",
     "collapsed": false,
     "input": [
      "po.gradientes_barras_evolucion([axbin,zaxbin],[amedias,zamedias],[asigmas,zasigmas],\n",
      "                         [0,2],[-1,16],['R [Kpc]','Age [Gyr]'],['Edades-Medias\\n z=0','Edades-Medias\\n z=1'],\n",
      "                         '',[cag,cac],[cag,cac],['black','black'],0,\n",
      "                         'stack_edad.pdf')"
     ],
     "language": "python",
     "metadata": {},
     "outputs": [],
     "prompt_number": 118
    },
    {
     "cell_type": "code",
     "collapsed": false,
     "input": [
      "po.gradientes_barras_evolucion([mxbin,zmxbin],[mmedias,zmmedias],[msigmas,zmsigmas],\n",
      "                         [0,2],[-0.01,0.05],['R [Kpc]','Z'],['Z-Medias\\n z=0','Z-Medias\\n z=1'],\n",
      "                         '',[cmg,'gray'],[cmg,'gray'],['black','black'],0,\n",
      "                         'stack_metalicidad.pdf')"
     ],
     "language": "python",
     "metadata": {},
     "outputs": [],
     "prompt_number": 17
    },
    {
     "cell_type": "code",
     "collapsed": false,
     "input": [
      "plt.plot(axbin,abe/anb)\n",
      "plt.plot(zaxbin,zabe/zanb)\n",
      "plt.legend(loc='lower right', frameon=False, scatterpoints=1,borderpad=0.5,handletextpad=1,ncol=2)\n",
      "plt.xlim(0,240) \n",
      "plt.ylim(0,16)\n",
      "plt.xlabel('R [Kpc]')\n",
      "plt.ylabel('Ages')\n",
      "plt.savefig('todas_edades', format='pdf', dpi=100,bbox_inches='tight')\n",
      "plt.show()"
     ],
     "language": "python",
     "metadata": {},
     "outputs": [],
     "prompt_number": 119
    },
    {
     "cell_type": "code",
     "collapsed": false,
     "input": [
      "plt.plot(mxbin,mbe/mnb)\n",
      "plt.plot(zmxbin,zmbe/zmnb)\n",
      "plt.legend(loc='lower right', frameon=False, scatterpoints=1,borderpad=0.5,handletextpad=1,ncol=2)\n",
      "plt.xlim(0,240) \n",
      "#plt.ylim(-10,0.1)\n",
      "plt.xlabel('R [Kpc]')\n",
      "plt.ylabel('Z')\n",
      "plt.savefig('todas_metalicidades', format='pdf', dpi=100,bbox_inches='tight')\n",
      "plt.show()"
     ],
     "language": "python",
     "metadata": {},
     "outputs": [],
     "prompt_number": 121
    },
    {
     "cell_type": "code",
     "collapsed": false,
     "input": [
      "mnb"
     ],
     "language": "python",
     "metadata": {},
     "outputs": [
      {
       "metadata": {},
       "output_type": "pyout",
       "prompt_number": 103,
       "text": [
        "array([ 12.,   0.,   0.,   3.,   2.,   4.,   1.,   4.,   0.,   2.,   4.,\n",
        "         4.,   3.,   1.,   6.,   2.,   7.,   2.,   5.,   5.,   9.,   6.,\n",
        "         2.,   5.,   3.,   4.,   6.,   4.,   5.,   7.,  11.,   4.,  11.,\n",
        "         9.,   8.,   7.,   7.,  12.,   5.,  12.,  14.,   9.,   7.,   9.,\n",
        "        10.,   8.,   9.,  11.,  14.,  13.,  12.,  13.,  11.,   9.,  10.,\n",
        "        18.,   8.,  10.,  20.,   7.])"
       ]
      }
     ],
     "prompt_number": 103
    },
    {
     "cell_type": "code",
     "collapsed": false,
     "input": [
      "fig=plt.figure(1, figsize=(7, 7))\n",
      "ax1 = fig.add_subplot(111)\n",
      "ax1.minorticks_on()\n",
      "plt.errorbar(axbin, \n",
      "        amedias, \n",
      "        asigmas, \n",
      "        capsize=1, \n",
      "        elinewidth=1.,\n",
      "        markeredgewidth=1,ecolor=cag,color=cag,marker='o',mec='gray',lw=2,label='Ages')\n",
      "plt.legend(loc='lower right', frameon=False, scatterpoints=1,borderpad=0.5,handletextpad=1,ncol=2)\n",
      "plt.xlim(0,130) \n",
      "plt.ylim(10,16)\n",
      "plt.xlabel('R [Kpc]')\n",
      "plt.ylabel('Ages')\n",
      "plt.savefig('todas_edades', format='pdf', dpi=100,bbox_inches='tight')\n",
      "plt.show()"
     ],
     "language": "python",
     "metadata": {},
     "outputs": [],
     "prompt_number": 88
    },
    {
     "cell_type": "code",
     "collapsed": false,
     "input": [
      "axbin"
     ],
     "language": "python",
     "metadata": {},
     "outputs": [
      {
       "metadata": {},
       "output_type": "pyout",
       "prompt_number": 122,
       "text": [
        "[6.6000260931444839,\n",
        " 19.80007827943345,\n",
        " 33.000130465722421,\n",
        " 46.200182652011385,\n",
        " 59.400234838300356,\n",
        " 72.600287024589321,\n",
        " 85.800339210878292,\n",
        " 99.000391397167263,\n",
        " 112.20044358345622,\n",
        " 125.40049576974519,\n",
        " 138.60054795603415,\n",
        " 151.80060014232313,\n",
        " 165.00065232861209,\n",
        " 178.20070451490108,\n",
        " 191.40075670119003,\n",
        " 204.60080888747899,\n",
        " 217.80086107376798,\n",
        " 231.00091326005693,\n",
        " 244.20096544634589,\n",
        " 257.40101763263488,\n",
        " 270.60106981892386,\n",
        " 283.80112200521279,\n",
        " 297.00117419150178,\n",
        " 310.20122637779076,\n",
        " 323.40127856407969,\n",
        " 336.60133075036867,\n",
        " 349.80138293665766,\n",
        " 363.00143512294659,\n",
        " 376.20148730923557,\n",
        " 389.40153949552456,\n",
        " 402.60159168181349,\n",
        " 415.80164386810247,\n",
        " 429.00169605439146,\n",
        " 442.20174824068044,\n",
        " 455.40180042696937,\n",
        " 468.60185261325836,\n",
        " 481.80190479954734,\n",
        " 495.00195698583627,\n",
        " 508.20200917212526,\n",
        " 521.40206135841424,\n",
        " 534.60211354470323,\n",
        " 547.80216573099221,\n",
        " 561.00221791728109,\n",
        " 574.20227010357007,\n",
        " 587.40232228985906,\n",
        " 600.60237447614804,\n",
        " 613.80242666243703,\n",
        " 627.00247884872601,\n",
        " 640.20253103501489,\n",
        " 653.40258322130387,\n",
        " 666.60263540759286,\n",
        " 679.80268759388184,\n",
        " 693.00273978017083,\n",
        " 706.20279196645981,\n",
        " 719.40284415274868,\n",
        " 732.60289633903767,\n",
        " 745.80294852532666,\n",
        " 759.00300071161564,\n",
        " 772.20305289790463,\n",
        " 785.40310508419361]"
       ]
      }
     ],
     "prompt_number": 122
    },
    {
     "cell_type": "code",
     "collapsed": false,
     "input": [],
     "language": "python",
     "metadata": {},
     "outputs": []
    }
   ],
   "metadata": {}
  }
 ]
}