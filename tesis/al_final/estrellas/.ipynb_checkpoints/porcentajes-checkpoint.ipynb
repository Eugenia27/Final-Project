{
 "metadata": {
  "name": "",
  "signature": "sha256:9815d28375b857ff73af731d877359af87c8c1e6bea070b3a519663b668739f2"
 },
 "nbformat": 3,
 "nbformat_minor": 0,
 "worksheets": [
  {
   "cells": [
    {
     "cell_type": "code",
     "collapsed": false,
     "input": [
      "import numpy as np\n",
      "import glob\n",
      "import matplotlib.pyplot as plt\n",
      "import math as mt\n",
      "from matplotlib.ticker import NullFormatter,MultipleLocator, FormatStrFormatter\n",
      "from matplotlib.offsetbox import AnchoredText\n",
      "import scatter_histo as sh\n",
      "import bineado as bi\n",
      "import gradientes as grad\n",
      "import cargando_datos as cd"
     ],
     "language": "python",
     "metadata": {},
     "outputs": [],
     "prompt_number": 1
    },
    {
     "cell_type": "code",
     "collapsed": false,
     "input": [
      "    plt.rc('text', usetex=True)\n",
      "    font = {'family': 'serif', 'size': 24, 'serif': ['computer modern roman']}\n",
      "    plt.rc('font', **font)\n",
      "    plt.rc('legend', **{'fontsize': 20}) \n",
      "    plt.rcParams['text.latex.preamble'] = [r'\\usepackage{amsmath}']\n",
      "\n",
      "    plt.rcParams['axes.linewidth'] = 1.0\n",
      "    plt.rcParams['xtick.major.size'] = 8\n",
      "    plt.rcParams['xtick.minor.size'] = 4\n",
      "    plt.rcParams['ytick.major.size'] = 6\n",
      "    plt.rcParams['ytick.minor.size'] = 3\n",
      "    plt.rc('lines', linewidth=1)"
     ],
     "language": "python",
     "metadata": {},
     "outputs": [],
     "prompt_number": 33
    },
    {
     "cell_type": "code",
     "collapsed": false,
     "input": [
      "def metalicidades_limit(x1,y1,met1,stars1,limr,limp):\n",
      "    xmb  =np.array([])\n",
      "    ymb  =np.array([])    \n",
      "    z1   =np.array([])\n",
      "    s1   =np.array([])\n",
      "    xmr  =np.array([])\n",
      "    ymr  =np.array([])    \n",
      "    z2   =np.array([])\n",
      "    s2   =np.array([])    \n",
      "    for i in range(len(x1)):\n",
      "        if met1[i]<=limr[1] and met1[i]>=limr[0]:\n",
      "            z1 = np.append(z1,met1[i])\n",
      "            s1 = np.append(s1,stars1[i])\n",
      "            xmb= np.append(xmb,x1[i])\n",
      "            ymb= np.append(ymb,y1[i])\n",
      "        elif met1[i]<=limp[1] and met1[i]>=limp[0]: \n",
      "            z2 = np.append(z2,met1[i])\n",
      "            s2 = np.append(s2,stars1[i])            \n",
      "            xmr= np.append(xmr,x1[i])\n",
      "            ymr= np.append(ymr,y1[i])\n",
      "    return z1,s1,xmb,ymb,z2,s2,xmr,ymr\n"
     ],
     "language": "python",
     "metadata": {},
     "outputs": [],
     "prompt_number": 8
    },
    {
     "cell_type": "code",
     "collapsed": false,
     "input": [
      "cmg='#92602E'\n",
      "cmc='black'\n",
      "cag='tomato'\n",
      "cac='#0066CC'"
     ],
     "language": "python",
     "metadata": {},
     "outputs": [],
     "prompt_number": 2
    },
    {
     "cell_type": "code",
     "collapsed": false,
     "input": [
      "reg=9"
     ],
     "language": "python",
     "metadata": {},
     "outputs": [],
     "prompt_number": 3
    },
    {
     "cell_type": "code",
     "collapsed": false,
     "input": [
      "dist1,stars1,met1,x1,y1,xb,yb,sb,xr,yr,sr=cd.cargo_datos(reg,'091',0,1,12,14)"
     ],
     "language": "python",
     "metadata": {},
     "outputs": [
      {
       "output_type": "stream",
       "stream": "stdout",
       "text": [
        "/home/meugenia/0/LR/inputs_grupo0/D9_LR_minpot3_rmmax_091_sub0_L500kpc_NoDust.dat\n"
       ]
      }
     ],
     "prompt_number": 4
    },
    {
     "cell_type": "code",
     "collapsed": false,
     "input": [
      "zdist1,zstars1,zmet1,zx1,zy1,zxb,zyb,zsb,zxr,zyr,zsr=cd.cargo_datos(reg,'041',0,1,4,6)"
     ],
     "language": "python",
     "metadata": {},
     "outputs": [
      {
       "output_type": "stream",
       "stream": "stdout",
       "text": [
        "/home/meugenia/0/LR/inputs_grupo0/D9_LR_minpot3_rmmax_041_sub0_L500kpc_NoDust.dat\n"
       ]
      }
     ],
     "prompt_number": 5
    },
    {
     "cell_type": "code",
     "collapsed": false,
     "input": [
      "zsun=0.0134\n",
      "uage=13.8\n",
      "limr=[0.032,np.max(met1)] \n",
      "limp=[0.000,0.006]\n",
      "\n",
      "z1,s1,xmb,ymb,z2,s2,xmr,ymr =metalicidades_limit(x1,y1,met1,stars1,limr,limp)"
     ],
     "language": "python",
     "metadata": {},
     "outputs": [],
     "prompt_number": 26
    },
    {
     "cell_type": "code",
     "collapsed": false,
     "input": [
      "plt.scatter(stars1,met1,marker='.',color='black',s=0.1)\n",
      "plt.scatter(s1,z1,marker='.',s=0.1,color='blue',label='Z$>0.032$')\n",
      "plt.scatter(s2[s2>12],z2[s2>12],marker='.',s=0.1,color='red',label='Z$<0.006$ $\\&$ Age$>12Gyr$')\n",
      "plt.axhline(y=zsun,color='yellow',lw=4,ls='--', label='Z$_{\\odot}$')\n",
      "plt.axvline(x=13.8,color='green',lw=4,ls='--',label='H$_{0}^{-1}$')\n",
      "plt.axvline(x=13,color='green',lw=1,label='13 Gyr')\n",
      "plt.xlim(0,14)\n",
      "plt.ylim(-0.001,0.07)\n",
      "lgnd=plt.legend(loc='upper left', frameon=False, scatterpoints=1,borderpad=0.1, labelspacing=0.2,handletextpad=0.1)\n",
      "lgnd.legendHandles[3]._sizes = [500]\n",
      "lgnd.legendHandles[4]._sizes = [500]\n",
      "plt.ylabel('Z')\n",
      "plt.xlabel('Age [Gyr]')\n",
      "plt.savefig('picaso.pdf', format='pdf', dpi=100,bbox_inches='tight')\n",
      "plt.show()"
     ],
     "language": "python",
     "metadata": {},
     "outputs": [],
     "prompt_number": 51
    },
    {
     "cell_type": "code",
     "collapsed": false,
     "input": [],
     "language": "python",
     "metadata": {},
     "outputs": [],
     "prompt_number": 57
    },
    {
     "cell_type": "code",
     "collapsed": false,
     "input": [
      "sh.superplot([xr,xb],[yr,yb],[cag,cac],['Age$>$11Gyr','Age$<$3Gyr'],'D'+str(reg)+'splotz0.pdf',24,24,3)"
     ],
     "language": "python",
     "metadata": {},
     "outputs": [],
     "prompt_number": 42
    },
    {
     "cell_type": "code",
     "collapsed": false,
     "input": [
      "sh.superplot([zxr,zxb],[zyr,zyb],[cag,cac],['Age$>$6Gyr','Age$<$1Gyr'],'D'+str(reg)+'splotz1.pdf',24,24,3)"
     ],
     "language": "python",
     "metadata": {},
     "outputs": [],
     "prompt_number": 43
    },
    {
     "cell_type": "code",
     "collapsed": false,
     "input": [
      "sh.superplot([xmb,xmr],[ymb,ymr],[cmg,cmc],['Z$\\sim$0.02','Z$\\sim$0.006'],'D'+str(reg)+'mplotz0.pdf',24,24,3)"
     ],
     "language": "python",
     "metadata": {},
     "outputs": [],
     "prompt_number": 27
    },
    {
     "cell_type": "code",
     "collapsed": false,
     "input": [
      "sh.superplot([zxmb,zxmr],[zymb,zymr],[cmg,cmc],['Z$>$0.004','Z$<$0.004'],'D'+str(reg)+'mplotz1.pdf',24,24,3)"
     ],
     "language": "python",
     "metadata": {},
     "outputs": [],
     "prompt_number": 45
    },
    {
     "cell_type": "code",
     "collapsed": false,
     "input": [
      "#anb  ,axbin  ,abe  ,amedians, amatriz   = bi.bineado(dist1,stars1,60,0,np.max(dist1)+5)\n",
      "#zanb ,zaxbin ,zabe ,zamedians,zamatriz  = bi.bineado(zdist1,zstars1,60,0,np.max(dist1)+5)\n",
      "#mnb  ,mxbin  ,mbe  ,mmedians, mmatriz   = bi.bineado(dist1,met1,60,0,np.max(dist1)+5)\n",
      "#zmnb ,zmxbin ,zmbe ,zmmedians,zmmatriz  = bi.bineado(zdist1,zmet1,60,0,np.max(dist1)+5)"
     ],
     "language": "python",
     "metadata": {},
     "outputs": []
    },
    {
     "cell_type": "code",
     "collapsed": false,
     "input": [
      "#d=[dist1,np.sqrt(xb**2+yb**2),np.sqrt(xr**2+yr**2)]\n",
      "#t=[stars1,sb,sr]\n",
      "#c1=['black',cac,cag]\n",
      "#text1=['Ages','Ages$<$3Gyr','Ages$>$11Gyr']\n",
      "#limy=[-0.2,14]\n",
      "#limx=[0,130]\n",
      "#labels=['R [Kpc]','Age [Gyr]']\n",
      "#statistics=[abe/anb,amedians]\n",
      "#tbin=axbin\n",
      "#c2=['black','gray']\n",
      "#text2=['Medias','Medianas']\n",
      "#psave='D'+str(reg)+'scat_grad_z0_stars.pdf'\n",
      "#grad.scat_mas_gradiente(d,t,labels,c1,text1,limx,limy,tbin,statistics,c2,text2,psave,24,24,3)"
     ],
     "language": "python",
     "metadata": {},
     "outputs": [],
     "prompt_number": 46
    },
    {
     "cell_type": "code",
     "collapsed": false,
     "input": [
      "#d=[dist1,np.sqrt(xmb**2+ymb**2),np.sqrt(xmr**2+ymr**2)]\n",
      "#t=[met1,z1,z2]\n",
      "#c1=['gray',cmg,cmc]\n",
      "#text1=['Z','Z$>$0.004','Z$<$0.004']\n",
      "#limy=[-0.01,0.1]\n",
      "#limx=[0,130]\n",
      "#labels=['R [Kpc]','Z']\n",
      "#statistics=[mbe/mnb,mmedians]\n",
      "#tbin=axbin\n",
      "#c2=['black','gray']\n",
      "#text2=['Medias','Medianas']\n",
      "#psave='D'+str(reg)+'scat_grad_z0_met.pdf'\n",
      "#grad.scat_mas_gradiente(d,t,labels,c1,text1,limx,limy,tbin,statistics,c2,text2,psave,24,24,3)"
     ],
     "language": "python",
     "metadata": {},
     "outputs": [],
     "prompt_number": 47
    },
    {
     "cell_type": "code",
     "collapsed": false,
     "input": [
      "#d=[zdist1,np.sqrt(zxb**2+zyb**2),np.sqrt(zxr**2+zyr**2)]\n",
      "#t=[zstars1,zsb,zsr]\n",
      "#c1=['black',cac,cag]\n",
      "#text1=['Ages','Ages$<$3Gyr','Ages$>$11Gyr']\n",
      "#limy=[-0.01,14]\n",
      "#limx=[0,130]\n",
      "#labels=['R [Kpc]','Age [Gyr]']\n",
      "#statistics=[zabe/zanb,zamedians]\n",
      "#tbin=zaxbin\n",
      "#c2=['black','gray']\n",
      "#text2=['Medias','Medianas']\n",
      "#psave='D'+str(reg)+'scat_grad_z1_stars.pdf'\n",
      "#grad.scat_mas_gradiente(d,t,labels,c1,text1,limx,limy,tbin,statistics,c2,text2,psave,24,24,3,matriz)\n",
      "\n",
      "\n"
     ],
     "language": "python",
     "metadata": {},
     "outputs": [
      {
       "output_type": "stream",
       "stream": "stderr",
       "text": [
        "/usr/lib64/python2.7/site-packages/matplotlib/collections.py:590: FutureWarning: elementwise comparison failed; returning scalar instead, but in the future will perform elementwise comparison\n",
        "  if self._edgecolors == str('face'):\n"
       ]
      }
     ],
     "prompt_number": 16
    },
    {
     "cell_type": "code",
     "collapsed": false,
     "input": [
      "#d=[zdist1,np.sqrt(zxmb**2+zymb**2),np.sqrt(zxmr**2+zymr**2)]\n",
      "#t=[zmet1,zz1,zz2]\n",
      "#c1=['black',cmg,cmc]\n",
      "#text1=['Ages','Z$>$0.004','Z$<$0.004']\n",
      "#limy=[-0.01,0.1]\n",
      "#limx=[0,130]\n",
      "#labels=['R [Kpc]','Z']\n",
      "#statistics=[mbe/mnb,mmedians]\n",
      "#tbin=axbin\n",
      "#c2=['black','gray']\n",
      "#text2=['Medias','Medianas']\n",
      "#psave='D'+str(reg)+'scat_grad_z1_met.pdf'\n",
      "#grad.scat_mas_gradiente(d,t,labels,c1,text1,limx,limy,tbin,statistics,c2,text2,psave,24,24,3)"
     ],
     "language": "python",
     "metadata": {},
     "outputs": []
    },
    {
     "cell_type": "code",
     "collapsed": false,
     "input": [
      "#limy=[9,12]\n",
      "#limx=[0,130]\n",
      "#statistics1=[abe/anb,amedians]\n",
      "#tbin=axbin\n",
      "#c1=[cag,'#CC0000']\n",
      "#text1=['Medias a z=0,','Medianas a z=0,']\n",
      "#psave='D'+str(reg)+'gradiente_estrellas.pdf'\n",
      "#statistics2=[zabe/zanb,zamedians]\n",
      "#c2=[cac,'#000099']\n",
      "#labels=['R [Kpc]','Age [Gyr]']\n",
      "#text2=['Medias a z=1','Medianas a z=1']\n",
      "#cmed1=cac\n",
      "#cmed2='gray'\n",
      "#grad.gradiente_evolucion(limx,limy,labels,tbin,statistics1,c1,text1,statistics2,c2,text2,'false','false','true',cmed1,cmed2,psave,24,24,3)"
     ],
     "language": "python",
     "metadata": {},
     "outputs": [],
     "prompt_number": 37
    },
    {
     "cell_type": "code",
     "collapsed": false,
     "input": [
      "#limy=[0.001,0.025]\n",
      "#limx=[0,130]\n",
      "#statistics1=[mbe/mnb,mmedians]\n",
      "#tbin=mxbin\n",
      "#c1=[cmg,'#CC0000']\n",
      "#text1=['Medias a z=0,','Medianas a z=0,']\n",
      "#psave='D'+str(reg)+'gradiente_metalicidades3.pdf'\n",
      "#statistics2=[zmbe/zmnb,zmmedians]\n",
      "#c2=[cmc,'#000099']\n",
      "#labels=['R [Kpc]','Z']\n",
      "#text2=['Medias a z=1','Medianas a z=1']\n",
      "#cmed1=cmc\n",
      "#cmed2='gray'\n",
      "#grad.gradiente_evolucion(limx,limy,labels,tbin,statistics1,c1,text1,statistics2,c2,text2,'true','false','false',cmed1,cmed2,psave,24,24,3)"
     ],
     "language": "python",
     "metadata": {},
     "outputs": [],
     "prompt_number": 51
    },
    {
     "cell_type": "code",
     "collapsed": false,
     "input": [
      "a=np.array([5,5,5,5,5])\n",
      "b=np.array([1,1,1,1])\n",
      "\n",
      "c=np.append(a,b)\n",
      "c"
     ],
     "language": "python",
     "metadata": {},
     "outputs": [
      {
       "metadata": {},
       "output_type": "pyout",
       "prompt_number": 54,
       "text": [
        "array([5, 5, 5, 5, 5, 1, 1, 1, 1])"
       ]
      }
     ],
     "prompt_number": 54
    },
    {
     "cell_type": "code",
     "collapsed": false,
     "input": [],
     "language": "python",
     "metadata": {},
     "outputs": [],
     "prompt_number": 14
    },
    {
     "cell_type": "code",
     "collapsed": false,
     "input": [],
     "language": "python",
     "metadata": {},
     "outputs": [],
     "prompt_number": 55
    },
    {
     "cell_type": "code",
     "collapsed": false,
     "input": [],
     "language": "python",
     "metadata": {},
     "outputs": []
    }
   ],
   "metadata": {}
  }
 ]
}