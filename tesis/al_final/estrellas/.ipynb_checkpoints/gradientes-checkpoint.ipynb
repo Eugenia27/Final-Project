{
 "metadata": {
  "name": "",
  "signature": "sha256:c4466f8e0c1c538c6eb0a833d4742ff6cf0c7d95a4fe69ae8057bc1cf6a25f79"
 },
 "nbformat": 3,
 "nbformat_minor": 0,
 "worksheets": [
  {
   "cells": [
    {
     "cell_type": "code",
     "collapsed": false,
     "input": [
      "import numpy as np\n",
      "import glob\n",
      "import matplotlib.pyplot as plt\n",
      "import math as mt\n",
      "from matplotlib.ticker import NullFormatter,MultipleLocator, FormatStrFormatter\n",
      "from matplotlib.offsetbox import AnchoredText\n",
      "import scatter_histo as sh\n",
      "import bineado as bi\n",
      "import gradientes as grad\n",
      "import cargando_datos as cd"
     ],
     "language": "python",
     "metadata": {},
     "outputs": [],
     "prompt_number": 1
    },
    {
     "cell_type": "code",
     "collapsed": false,
     "input": [
      "def gradientes_barras(axbin,amedias,asigmas,limx,limy,labels,legend,title,cl,ce,cm):\n",
      "    fig=plt.figure(1, figsize=(7, 7))\n",
      "    ax1 = fig.add_subplot(111)\n",
      "    ax1.minorticks_on()\n",
      "    plt.errorbar(axbin, \n",
      "        amedias, \n",
      "        asigmas, \n",
      "        capsize=1, \n",
      "        elinewidth=1.,\n",
      "        markeredgewidth=1,ecolor=ce,color=cl,marker='o',mec=cm,lw=2,label=legend)\n",
      "    plt.legend(loc='lower right', frameon=False, scatterpoints=1,borderpad=0.5,handletextpad=0.001)#,ncol=2,columnspacing=0.1)\n",
      "    plt.xlim(limx[0],limx[1])\n",
      "    plt.ylim(limy[0],limy[1])\n",
      "    plt.xlabel(labels[0])\n",
      "    plt.ylabel(labels[1])\n",
      "    plt.show()"
     ],
     "language": "python",
     "metadata": {},
     "outputs": [],
     "prompt_number": 2
    },
    {
     "cell_type": "code",
     "collapsed": false,
     "input": [
      "def gradientes_barras_evolucion(axbin,amedias,asigmas,limx,limy,labels,legends,title,cl,ce,cm,comparar,psave):\n",
      "    fig=plt.figure(1, figsize=(7, 7))\n",
      "    ax1 = fig.add_subplot(111)\n",
      "    ax1.minorticks_on()\n",
      "    plt.errorbar(axbin[0], \n",
      "        amedias[0], \n",
      "        asigmas[0], \n",
      "        capsize=1, \n",
      "        elinewidth=1.,\n",
      "        markeredgewidth=1,ecolor=ce[0],color=cl[0],marker='o',mec=cm[0],lw=2,label=legends[0])\n",
      "    if comparar==1:\n",
      "        delta=amedias[0][0]-amedias[1][0]\n",
      "        comp=amedias[1]+delta\n",
      "        plt.errorbar(axbin[1], \n",
      "        comp, \n",
      "        asigmas[1], \n",
      "        capsize=1, \n",
      "        elinewidth=1.,\n",
      "        markeredgewidth=1,ecolor=ce[1],color=cl[1],marker='o',mec=cm[1],lw=2,label=legends[1]+'(+'+str(round(delta,5))+')')                \n",
      "    else:\n",
      "        plt.errorbar(axbin[1], \n",
      "        amedias[1], \n",
      "        asigmas[1], \n",
      "        capsize=1, \n",
      "        elinewidth=1.,\n",
      "        markeredgewidth=1,ecolor=ce[1],color=cl[1],marker='o',mec=cm[1],lw=2,label=legends[1])\n",
      "    \n",
      "    plt.legend(loc='lower right', frameon=False, scatterpoints=1,borderpad=0.5,handletextpad=1,ncol=2)\n",
      "    plt.xlim(limx[0],limx[1])\n",
      "    plt.ylim(limy[0],limy[1])\n",
      "    plt.xlabel(labels[0])\n",
      "    plt.ylabel(labels[1])\n",
      "    plt.savefig(psave, format='pdf', dpi=100,bbox_inches='tight')\n",
      "    plt.show()"
     ],
     "language": "python",
     "metadata": {},
     "outputs": [],
     "prompt_number": 3
    },
    {
     "cell_type": "code",
     "collapsed": false,
     "input": [
      "cmg='#92602E'\n",
      "cmc='black'\n",
      "cag='red'\n",
      "cac='blue'"
     ],
     "language": "python",
     "metadata": {},
     "outputs": [],
     "prompt_number": 16
    },
    {
     "cell_type": "code",
     "collapsed": false,
     "input": [
      "reg=29"
     ],
     "language": "python",
     "metadata": {},
     "outputs": [],
     "prompt_number": 5
    },
    {
     "cell_type": "code",
     "collapsed": false,
     "input": [
      "dist1,stars1,met1,x1,y1,xb,yb,sb,xr,yr,sr=cd.cargo_datos(reg,'091',0,3,11,13)"
     ],
     "language": "python",
     "metadata": {},
     "outputs": [
      {
       "output_type": "stream",
       "stream": "stdout",
       "text": [
        "/home/meugenia/0/LR/inputs_grupo0/D29_LR_minpot3_rmmax_091_sub0_L500kpc_NoDust.dat\n"
       ]
      }
     ],
     "prompt_number": 6
    },
    {
     "cell_type": "code",
     "collapsed": false,
     "input": [
      "zdist1,zstars1,zmet1,zx1,zy1,zxb,zyb,zsb,zxr,zyr,zsr=cd.cargo_datos(reg,'041',0,1,4,13)"
     ],
     "language": "python",
     "metadata": {},
     "outputs": [
      {
       "output_type": "stream",
       "stream": "stdout",
       "text": [
        "/home/meugenia/0/LR/inputs_grupo0/D29_LR_minpot3_rmmax_041_sub0_L500kpc_NoDust.dat\n"
       ]
      }
     ],
     "prompt_number": 7
    },
    {
     "cell_type": "code",
     "collapsed": false,
     "input": [
      "anb  ,axbin  ,abe  ,amedians, amatriz   = bi.bineado(dist1,stars1,60,0,np.max(dist1)+5)\n",
      "zanb ,zaxbin ,zabe ,zamedians,zamatriz  = bi.bineado(zdist1,zstars1,60,0,np.max(dist1)+5)\n",
      "mnb  ,mxbin  ,mbe  ,mmedians, mmatriz   = bi.bineado(dist1,met1,60,0,np.max(dist1)+5)\n",
      "zmnb ,zmxbin ,zmbe ,zmmedians,zmmatriz  = bi.bineado(zdist1,zmet1,60,0,np.max(dist1)+5)"
     ],
     "language": "python",
     "metadata": {},
     "outputs": [],
     "prompt_number": 8
    },
    {
     "cell_type": "code",
     "collapsed": false,
     "input": [
      "plt.rc('text', usetex=True)\n",
      "font = {'family': 'serif', 'size': 25, 'serif': ['computer modern roman']}\n",
      "plt.rc('font', **font)\n",
      "plt.rc('legend', **{'fontsize': 17}) \n",
      "plt.rcParams['text.latex.preamble'] = [r'\\usepackage{amsmath}']\n",
      "plt.rcParams['axes.linewidth'] = 1.0\n",
      "plt.rcParams['xtick.major.size'] = 8\n",
      "plt.rcParams['xtick.minor.size'] = 4\n",
      "plt.rcParams['ytick.major.size'] = 6\n",
      "plt.rcParams['ytick.minor.size'] = 3\n",
      "plt.rc('lines', linewidth=4)\n"
     ],
     "language": "python",
     "metadata": {},
     "outputs": [],
     "prompt_number": 9
    },
    {
     "cell_type": "code",
     "collapsed": false,
     "input": [
      "amedias=np.array([])\n",
      "asigmas=np.array([])\n",
      "for i in range(len(axbin)):\n",
      "    amedias=np.append(amedias,np.mean(amatriz[i]))\n",
      "    asigmas=np.append(asigmas,np.std(amatriz[i]))"
     ],
     "language": "python",
     "metadata": {},
     "outputs": [],
     "prompt_number": 10
    },
    {
     "cell_type": "code",
     "collapsed": false,
     "input": [
      "zamedias=np.array([])\n",
      "zasigmas=np.array([])\n",
      "for i in range(len(zaxbin)):\n",
      "    zamedias=np.append(zamedias,np.mean(zamatriz[i]))\n",
      "    zasigmas=np.append(zasigmas,np.std(zamatriz[i]))"
     ],
     "language": "python",
     "metadata": {},
     "outputs": [],
     "prompt_number": 11
    },
    {
     "cell_type": "code",
     "collapsed": false,
     "input": [
      "mmedias=np.array([])\n",
      "msigmas=np.array([])\n",
      "for i in range(len(mxbin)):\n",
      "    mmedias=np.append(mmedias,np.mean(mmatriz[i]))\n",
      "    msigmas=np.append(msigmas,np.std(mmatriz[i]))"
     ],
     "language": "python",
     "metadata": {},
     "outputs": [],
     "prompt_number": 12
    },
    {
     "cell_type": "code",
     "collapsed": false,
     "input": [
      "zmmedias=np.array([])\n",
      "zmsigmas=np.array([])\n",
      "for i in range(len(zmxbin)):\n",
      "    zmmedias=np.append(zmmedias,np.mean(zmmatriz[i]))\n",
      "    zmsigmas=np.append(zmsigmas,np.std(zmmatriz[i]))"
     ],
     "language": "python",
     "metadata": {},
     "outputs": [],
     "prompt_number": 13
    },
    {
     "cell_type": "code",
     "collapsed": false,
     "input": [
      "gradientes_barras_evolucion([axbin,zaxbin],[amedias,zamedias],[asigmas,zasigmas],\n",
      "                         [0,130],[-1,16],['R [Kpc]','Age [Gyr]'],['Edades-Medias\\n z=0','Edades-Medias\\n z=1'],\n",
      "                         'BCG-'+str(reg),[cag,cac],[cag,cac],['black','black'],0,\n",
      "                         'gradientes/D'+str(reg)+'no_comparacion_evolucion_edad.pdf')"
     ],
     "language": "python",
     "metadata": {},
     "outputs": [
      {
       "output_type": "stream",
       "stream": "stderr",
       "text": [
        "/usr/lib64/python2.7/site-packages/matplotlib/collections.py:590: FutureWarning: elementwise comparison failed; returning scalar instead, but in the future will perform elementwise comparison\n",
        "  if self._edgecolors == str('face'):\n"
       ]
      }
     ],
     "prompt_number": 14
    },
    {
     "cell_type": "code",
     "collapsed": false,
     "input": [
      "gradientes_barras_evolucion([mxbin,zmxbin],[mmedias,zmmedias],[msigmas,zmsigmas],\n",
      "                         [0,130],[-0.01,0.05],['R [Kpc]','Z'],['Z-Medias\\n z=0','Z-Medias\\n z=1'],\n",
      "                         'BCG-'+str(reg),[cmg,'gray'],[cmg,'gray'],['black','black'],0,\n",
      "                         'gradientes/D'+str(reg)+'no_comparacion_evolucion_metalicidad.pdf')"
     ],
     "language": "python",
     "metadata": {},
     "outputs": [],
     "prompt_number": 15
    },
    {
     "cell_type": "code",
     "collapsed": false,
     "input": [],
     "language": "python",
     "metadata": {},
     "outputs": [],
     "prompt_number": 15
    },
    {
     "cell_type": "code",
     "collapsed": false,
     "input": [
      "plt.figure(1, figsize=(8, 8))\n",
      "plt.scatter(dist1,stars1,marker='.',s=0.1)\n",
      "plt.xlim(0,130)\n",
      "#plt.ylim(0.001,0.032)\n",
      "plt.show()"
     ],
     "language": "python",
     "metadata": {},
     "outputs": [],
     "prompt_number": 16
    },
    {
     "cell_type": "code",
     "collapsed": false,
     "input": [],
     "language": "python",
     "metadata": {},
     "outputs": []
    }
   ],
   "metadata": {}
  }
 ]
}