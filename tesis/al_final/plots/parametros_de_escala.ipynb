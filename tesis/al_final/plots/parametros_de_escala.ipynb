{
 "metadata": {
  "kernelspec": {
   "display_name": "Python 3",
   "language": "python",
   "name": "python3"
  },
  "language_info": {
   "codemirror_mode": {
    "name": "ipython",
    "version": 3
   },
   "file_extension": ".py",
   "mimetype": "text/x-python",
   "name": "python",
   "nbconvert_exporter": "python",
   "pygments_lexer": "ipython3",
   "version": "3.6.0"
  },
  "name": "",
  "signature": "sha256:b49ec0f5c101bb35eb133a90d93c48ab6006942b185ff6d13da6661058009db8"
 },
 "nbformat": 3,
 "nbformat_minor": 0,
 "worksheets": [
  {
   "cells": [
    {
     "cell_type": "code",
     "collapsed": true,
     "input": [
      "import numpy as np\n",
      "import matplotlib as mpl\n",
      "import matplotlib.pyplot as plt \n",
      "from scipy.optimize import curve_fit\n",
      "from matplotlib.ticker import NullFormatter#,MultipleLocator, FormatStrFormatter\n",
      "from matplotlib.offsetbox import AnchoredText\n",
      "import os\n",
      "import math as mt"
     ],
     "language": "python",
     "metadata": {},
     "outputs": [],
     "prompt_number": 2
    },
    {
     "cell_type": "code",
     "collapsed": true,
     "input": [
      "path_plots  = '/home/meugenia/Dropbox/tesis/al_final/plots/parametros_de_escala/'\n",
      "carpetaM200 = '/home/meugenia/Dropbox/tesis/al_final/LR/evolucion/datos/'\n",
      "pathpcum2   = '/home/meugenia/Dropbox/tesis/al_final/plots/bineado_perfiles2/'\n",
      "pref        = 'LR_minpot3_rmmax_'\n",
      "suf         = '_band125_nodust_grupo'                              #0mu25.txt'\n",
      "tablas      = '/home/meugenia/Dropbox/tesis/al_final/LR/tablas/'\n",
      "path_regs0  = '/home/meugenia/Dropbox/tesis/al_final/plots/bineado_perfiles/'\n",
      "path_regs1  = '/home/meugenia/Dropbox/tesis/al_final/plots/bineado_perfiles_grupo1/'\n",
      "path_files  = '/home/meugenia/Dropbox/tesis/al_final/plots/'"
     ],
     "language": "python",
     "metadata": {},
     "outputs": [],
     "prompt_number": 2
    },
    {
     "cell_type": "code",
     "collapsed": true,
     "input": [
      "m200   = np.loadtxt(carpetaM200+'091_LR_minpot3_rmmax_BiasedProgenitor_Masses.txt', usecols=[5],unpack=True)\n",
      "m200c2 = np.loadtxt(carpetaM200+'masas200_cum2.txt', usecols=[1],unpack=True)"
     ],
     "language": "python",
     "metadata": {},
     "outputs": [],
     "prompt_number": 3
    },
    {
     "cell_type": "code",
     "collapsed": false,
     "input": [
      "m091,rmu24_091     = np.loadtxt(tablas+pref+'091'+suf+'0.txt',usecols=[2,3], unpack=True)\n",
      "m041,rmu24_041     = np.loadtxt(tablas+pref+'041'+suf+'0.txt',usecols=[2,3], unpack=True)\n",
      "m091c2,rmu24_091c2 = np.loadtxt(tablas+pref+'091'+suf+'1.txt',usecols=[2,3], unpack=True)"
     ],
     "language": "python",
     "metadata": {},
     "outputs": [],
     "prompt_number": 4
    },
    {
     "cell_type": "code",
     "collapsed": true,
     "input": [
      "def sersic_charly_mue(r,mue,re,beta):\n",
      "    return mue + 2.5*(2./beta-0.33)*((r/re)**beta -1)/np.log(10)"
     ],
     "language": "python",
     "metadata": {},
     "outputs": [],
     "prompt_number": 5
    },
    {
     "cell_type": "code",
     "collapsed": true,
     "input": [
      "#Distingo regiones grandes de chicas\n",
      "n_tot_regiones = 30\n",
      "agn_bien       = np.array([0,1,1,1,1,1,1,1,1,1,1,1,1,1,1,1,1,1,1,1,1,1,1,1,1,1,1,1,1,1])\n",
      "grandes        = np.array([0,1,0,0,0,0,1,1,1,0,1,1,1,1,1,1,1,1,1,1,1,1,1,1,1,1,1,1,1,1])\n",
      "chicas         = np.array([0,0,1,1,1,1,0,0,0,1,0,0,0,0,0,0,0,0,0,0,0,0,0,0,0,0,0,0,0,0])\n",
      "banda = '125'"
     ],
     "language": "python",
     "metadata": {},
     "outputs": [],
     "prompt_number": 6
    },
    {
     "cell_type": "code",
     "collapsed": false,
     "input": [
      "#Cargo los vectores de distancia radial y brillo superficial de cada regi\u00f3n, para cada redshift por medio de datos guardados.\n",
      "limite_oficial_grandes = 43\n",
      "r_026_reg   = np.zeros((n_tot_regiones,limite_oficial_grandes ))\n",
      "r_032_reg   = np.zeros((n_tot_regiones,limite_oficial_grandes ))\n",
      "r_041_reg   = np.zeros((n_tot_regiones,limite_oficial_grandes ))\n",
      "r_091_reg   = np.zeros((n_tot_regiones,limite_oficial_grandes ))\n",
      "mu_026_reg  = np.zeros((n_tot_regiones,limite_oficial_grandes ))\n",
      "mu_032_reg  = np.zeros((n_tot_regiones,limite_oficial_grandes ))\n",
      "mu_041_reg  = np.zeros((n_tot_regiones,limite_oficial_grandes ))\n",
      "mu_091_reg  = np.zeros((n_tot_regiones,limite_oficial_grandes ))\n",
      "\n",
      "for j in range(n_tot_regiones):\n",
      "    if agn_bien[j] == 0:\n",
      "        continue\n",
      "    with open(path_regs0+'mu_medios125_D'+str(j)+'_041.txt') as f:\n",
      "        lineas041 = len(f.readlines())\n",
      "    limite041 = lineas041 - limite_oficial_grandes \n",
      "    r_041_reg[j]  = np.genfromtxt(path_regs0+'mu_medios125_D'+str(j)+'_041.txt', usecols=[0] , unpack=True,skip_footer= limite041)\n",
      "    mu_041_reg[j] = np.genfromtxt(path_regs0+'mu_medios125_D'+str(j)+'_041.txt', usecols=[1] , unpack=True,skip_footer= limite041)    \n",
      "\n",
      "for j in range(n_tot_regiones):\n",
      "    if agn_bien[j] == 0:\n",
      "        continue\n",
      "    with open(path_regs0+'mu_medios125_D'+str(j)+'_091.txt') as f:\n",
      "        lineas091 = len(f.readlines())\n",
      "    limite091 = lineas091 - limite_oficial_grandes \n",
      "    r_091_reg[j]  = np.genfromtxt(path_regs0+'mu_medios125_D'+str(j)+'_091.txt', usecols=[0] , unpack=True,skip_footer= limite091)\n",
      "    mu_091_reg[j] = np.genfromtxt(path_regs0+'mu_medios125_D'+str(j)+'_091.txt', usecols=[1] , unpack=True,skip_footer= limite091)   "
     ],
     "language": "python",
     "metadata": {},
     "outputs": [],
     "prompt_number": 7
    },
    {
     "cell_type": "code",
     "collapsed": true,
     "input": [
      "#Cargo los vectores de distancia radial y brillo superficial de cada regi\u00f3n, para cada redshift por medio de datos guardados segundos cumulo\n",
      "limite_oficial_grandes = 43\n",
      "r_091_reg2   = np.zeros((n_tot_regiones,limite_oficial_grandes ))\n",
      "mu_091_reg2  = np.zeros((n_tot_regiones,limite_oficial_grandes ))\n",
      "\n",
      "for j in range(n_tot_regiones):\n",
      "    if agn_bien[j] == 0:\n",
      "        continue\n",
      "    if j==27:\n",
      "        continue\n",
      "    with open(path_regs1+'mu_medios125_D'+str(j)+'_091.txt') as f:\n",
      "        lineas0912 = len(f.readlines())\n",
      "    limite0912 = lineas0912 - limite_oficial_grandes \n",
      "    r_091_reg2[j]  = np.genfromtxt(path_regs1+'mu_medios125_D'+str(j)+'_091.txt', usecols=[0] , unpack=True,skip_footer= limite0912)\n",
      "    mu_091_reg2[j] = np.genfromtxt(path_regs1+'mu_medios125_D'+str(j)+'_091.txt', usecols=[1] , unpack=True,skip_footer= limite0912)  "
     ],
     "language": "python",
     "metadata": {},
     "outputs": [],
     "prompt_number": 8
    },
    {
     "cell_type": "code",
     "collapsed": false,
     "input": [
      "mu_091_reg2[28]"
     ],
     "language": "python",
     "metadata": {},
     "outputs": [
      {
       "metadata": {},
       "output_type": "pyout",
       "prompt_number": 9,
       "text": [
        "array([ 20.29,  21.39,  21.89,  22.39,  22.72,  23.06,  23.38,  23.67,\n",
        "        23.92,  24.11,  24.22,  24.49,  24.69,  24.93,  25.11,  25.19,\n",
        "        25.05,  25.62,  25.63,  25.72,  25.91,  25.97,  26.04,  26.2 ,\n",
        "        26.31,  26.59,  26.34,  26.51,  26.72,  26.93,  27.16,  27.13,\n",
        "        27.21,  27.36,  27.44,  27.68,  27.52,  27.43,  27.44,  27.6 ,\n",
        "        27.29,  27.86,  27.85])"
       ]
      }
     ],
     "prompt_number": 9
    },
    {
     "cell_type": "code",
     "collapsed": true,
     "input": [
      "#Hago ajustes 1componente de Sersic. Comentar Linea que guarda resultados en caso de no querer modificar los ya obtenidos \n",
      "#Los ajuste estan hechos dentro de Rmu24\n",
      "#os.remove('ajustes_acotados_z0.txt')\n",
      "#ajustes = open('ajustes_acotados_z0.txt','a')\n",
      "#for i in range(30):\n",
      "#    if i == 0:\n",
      "#        continue\n",
      "#    index = next(x[0] for x in enumerate(r_091_reg[i]) if x[1] > rmu24_091[i-1])\n",
      "#    if i == 9:\n",
      "#        index = index+10    \n",
      "#    xdata = r_091_reg[i][1:index+1]\n",
      "#    ydata = mu_091_reg[i][1:index+1]\n",
      "#    popt, pcov = curve_fit(func, xdata, ydata)    \n",
      "#    ajustes.write('{mue:9.3f} {re:9.3f} {n:9.3f} {errmue:9.3g} {errre:9.3g} {errn:9.3g}\\n'.format(mue=popt[0], re=popt[1], n=popt[2],\n",
      "#    errmue=pcov[0][0], errre=pcov[1][1], errn=pcov[2][2]))\n",
      "\n",
      "#ajustes.close() "
     ],
     "language": "python",
     "metadata": {},
     "outputs": [],
     "prompt_number": 10
    },
    {
     "cell_type": "code",
     "collapsed": true,
     "input": [
      "#Hago ajustes 1componente de Sersic. Comentar Linea que guarda resultados en caso de no querer modificar los ya obtenidos \n",
      "#Los ajuste estan hechos dentro de Rmu24\n",
      "#os.remove('ajustes_acotados_z1.txt')\n",
      "#ajustes = open('ajustes_acotados_z1.txt','a')\n",
      "#for i in range(30):\n",
      "#    if i == 0:\n",
      "#        continue\n",
      "#    index = next(x[0] for x in enumerate(r_041_reg[i]) if x[1] > rmu24_041[i-1])\n",
      "#    if i == 9:\n",
      "#        index = index+1\n",
      "#    xdata = r_041_reg[i][1:index+1]\n",
      "#    ydata = mu_041_reg[i][1:index+1]\n",
      "#    popt, pcov = curve_fit(func, xdata, ydata)    \n",
      "#    ajustes.write('{mue:9.3f} {re:9.3f} {n:9.3f} {errmue:9.3g} {errre:9.3g} {errn:9.3g}\\n'.format(mue=popt[0], re=popt[1], n=popt[2],\n",
      "#    errmue=pcov[0][0], errre=pcov[1][1], errn=pcov[2][2]))\n",
      "\n",
      "#ajustes.close() "
     ],
     "language": "python",
     "metadata": {},
     "outputs": [],
     "prompt_number": 11
    },
    {
     "cell_type": "code",
     "collapsed": false,
     "input": [
      "#Hago ajustes 1componente de Sersic. Comentar Linea que guarda resultados en caso de no querer modificar los ya obtenidos \n",
      "#Los ajuste estan hechos dentro de Rmu24\n",
      "#Para las BCGs del segundo cumulo!!!!\n",
      "\n",
      "#if os.path.exists('ajustes_z0_mu_grupo1.txt'):\n",
      "#    os.remove('ajustes_z0_mu_grupo1.txt')#\n",
      "\n",
      "#ajustes = open('ajustes_z0_mu_grupo1.txt','a')\n",
      "#for i in range(30):\n",
      "#    if i == 0 or i==27:\n",
      "#        continue\n",
      "#    elif i==4:\n",
      "#        index = next(x[0] for x in enumerate(r_091_reg2[i]) if x[1] > rmu24_091c2[i-1])    \n",
      "#        xdata = r_091_reg2[i][1:index+2]\n",
      "#        ydata = mu_091_reg2[i][1:index+2]\n",
      "#        p=[19,50,0.9]\n",
      "#        popt, pcov = curve_fit(sersic_charly_mue, xdata, ydata,p)\n",
      "#    elif i==18:\n",
      "#        index = next(x[0] for x in enumerate(r_091_reg2[i]) if x[1] > rmu24_091c2[i-1])    \n",
      "#        xdata = r_091_reg2[i][2:index+3]\n",
      "#        ydata = mu_091_reg2[i][2:index+3]\n",
      "#        p=[19,50,0.7]\n",
      "#        popt, pcov = curve_fit(sersic_charly_mue, xdata, ydata,p)        \n",
      "#        #print i , r_091_reg2[i][index-1], r_091_reg2[i][index], rmu24_091c2[i-1]\n",
      "#        #print i , mu_091_reg2[i][index-1], mu_091_reg2[i][index]        \n",
      "#    elif i>27:\n",
      "#        index = next(x[0] for x in enumerate(r_091_reg2[i]) if x[1] > rmu24_091c2[i-2])    \n",
      "#        xdata = r_091_reg2[i][1:index+1]\n",
      "#        ydata = mu_091_reg2[i][1:index+1]\n",
      "#        p=[22,90,0.4]\n",
      "#        popt, pcov = curve_fit(sersic_charly_mue, xdata, ydata,p)\n",
      "#        if i==29:\n",
      "#            index = next(x[0] for x in enumerate(r_091_reg2[i]) if x[1] > rmu24_091c2[i-2])    \n",
      "#            xdata = r_091_reg2[i][1:index+3]\n",
      "#            ydata = mu_091_reg2[i][1:index+3]\n",
      "#            p=[22,90,0.4]\n",
      "#            popt, pcov = curve_fit(sersic_charly_mue, xdata, ydata,p)            \n",
      "#        #print i , r_091_reg2[i][index-1], r_091_reg2[i][index], rmu24_091c2[i-2]\n",
      "#        #print i , mu_091_reg2[i][index-1], mu_091_reg2[i][index]        \n",
      "#    else:\n",
      "#        index = next(x[0] for x in enumerate(r_091_reg2[i]) if x[1] > rmu24_091c2[i-1])    \n",
      "#        xdata = r_091_reg2[i][1:index+1]\n",
      "#        ydata = mu_091_reg2[i][1:index+1]\n",
      "#        p=[22,90,0.4]\n",
      "#        popt, pcov = curve_fit(sersic_charly_mue, xdata, ydata,p)\n",
      "#        #print i , r_091_reg2[i][index-1], r_091_reg2[i][index], rmu24_091c2[i-1]\n",
      "#        #print i , mu_091_reg2[i][index-1], mu_091_reg2[i][index]\n",
      "#    print i,'mue= ',popt[0],\"  re= \",popt[1],\"  n= \" ,popt[2]   \n",
      "#    ajustes.write('{mue:9.3f} {re:9.3f} {n:9.3f} {errmue:9.3g} {errre:9.3g} {errn:9.3g}\\n'.format(\n",
      "#    mue=popt[0], re=popt[1], n=popt[2],\n",
      "#    errmue=pcov[0][0], errre=pcov[1][1], errn=pcov[2][2]))\n",
      "\n",
      "#ajustes.close() "
     ],
     "language": "python",
     "metadata": {},
     "outputs": [],
     "prompt_number": 12
    },
    {
     "cell_type": "code",
     "collapsed": true,
     "input": [
      "#Leo masas y parametros de estructura\n",
      "mue,re,n,errmue,errre,errn             = np.loadtxt(path_files+'ajustes_z0_mu.txt', unpack=True)#, skiprows=1)\n",
      "mue1,re1,n1,errmue1,errre1,errn1       = np.loadtxt(path_files+'ajustes_z1_mu.txt', unpack=True)#, skiprows=1)\n",
      "#cmue,cre,cn,cerrmue,cerrre,cerrn       = np.loadtxt('ajustes_acotados_z0_charly.txt', unpack=True)#, skiprows=1)\n",
      "#cmue1,cre1,cn1,cerrmue1,cerrre1,cerrn1 = np.loadtxt('ajustes_acotados_z1_charly.txt', unpack=True)#, skiprows=1)\n",
      "muec2,rec2,nc2                         = np.loadtxt(path_files+'ajustes_z0_mu_grupo1.txt', usecols=[0,1,2],unpack=True)"
     ],
     "language": "python",
     "metadata": {},
     "outputs": [],
     "prompt_number": 13
    },
    {
     "cell_type": "code",
     "collapsed": true,
     "input": [
      "plt.rc('text', usetex=True)\n",
      "font = {'family': 'serif', 'size': 27, 'serif': ['computer modern roman']}\n",
      "plt.rc('font', **font)\n",
      "plt.rc('legend', **{'fontsize': 25}) \n",
      "plt.rcParams['text.latex.preamble'] = [r'\\usepackage{amsmath}']\n",
      "\n",
      "plt.rcParams['axes.linewidth'] = 1.0\n",
      "plt.rcParams['xtick.major.size'] = 8\n",
      "plt.rcParams['xtick.minor.size'] = 4\n",
      "plt.rcParams['ytick.major.size'] = 6\n",
      "plt.rcParams['ytick.minor.size'] = 3\n",
      "mpl.rc('lines', linewidth=3)"
     ],
     "language": "python",
     "metadata": {},
     "outputs": [],
     "prompt_number": 14
    },
    {
     "cell_type": "code",
     "collapsed": false,
     "input": [
      "#Plot de perfiles mas ajustes\n",
      "#fig = plt.figure(figsize=(50,50))\n",
      "#r_fit=np.linspace(0,120,100)\n",
      "#i=1\n",
      "#for ii in range(6):\n",
      "#    for jj in range(5):\n",
      "#        ax=plt.subplot2grid((6,5), (ii,jj))\n",
      "#        if i == 30:\n",
      "#            plt.plot(r_091_reg[1],mu_091_reg[1], color= 'black', label = 'Ref Limites')\n",
      "#            plt.ylim(25,19)\n",
      "#            plt.xlim(0,120)\n",
      "#            ax.yaxis.tick_right()\n",
      "#            ax.set_xlabel('R [Kpc]')\n",
      "#            xticks = ax.xaxis.get_major_ticks()\n",
      "#            xticks[0].label1.set_visible(False)\n",
      "#            xticks[-1].label1.set_visible(False)\n",
      "#            #yticks = ax.yaxis.get_major_ticks()\n",
      "#            #yticks[2].label1.set_visible(False)\n",
      "#            #yticks[-1].label1.set_visible(False)\n",
      "#            #ax.set_ylabel('$\\mu$ [$mag/arcsec^{2}$]')  \n",
      "#        else:\n",
      "#            plt.ylim(25,19)\n",
      "#            plt.xlim(0,120)\n",
      "#            plt.plot(r_091_reg[i],mu_091_reg[i], color= '#CC6600', label = 'M$_{\\mu_{24}}$= '+str(m091[i-1]),linewidth=1)\n",
      "#            plt.plot(r_041_reg[i],mu_041_reg[i], color= '#00CC66',linewidth=1)\n",
      "#            y0=func(r_fit,mue[i-1],re[i-1],n[i-1])\n",
      "#            y1=func(r_fit,mue1[i-1],re1[i-1],n1[i-1])\n",
      "##            cy0=charly(r_fit,cmue[i-1],cre[i-1],cn[i-1])\n",
      "##            cy1=charly(r_fit,cmue1[i-1],cre1[i-1],cn1[i-1])            \n",
      "#            plt.plot(r_fit,y0,label='z=0 \\n $\\mu_{e}=$'+str(round(mue[i-1],2))+'\\n $r_{e}$='+str(round(re[i-1],2))+'\\n n='+str(round(n[i-1],2)),\n",
      "#                     linestyle='--',linewidth=1,color='#663300')\n",
      "#            plt.plot(r_fit,y1,label='z=1 \\n$\\mu_{e}=$'+str(round(mue1[i-1],2))+'\\n $r_{e}$='+str(round(re1[i-1],2))+'\\n n='+str(round(n1[i-1],2)),\n",
      "#                     linestyle='--',linewidth=1,color='#006633')\n",
      "#            \n",
      "##            plt.plot(r_fit,cy0,label='z=0 charly \\n $\\mu_{e}=$'+str(round(cmue[i-1],2))+'\\n $r_{e}$='+str(round(cre[i-1],2))+'\\n n='+str(round(cn[i-1],2)),\n",
      "##                     linestyle=':',linewidth=1,color='red')\n",
      "##            plt.plot(r_fit,cy1,label='z=1 charly \\n$\\mu_{e}=$'+str(round(cmue1[i-1],2))+'\\n $r_{e}$='+str(round(cre1[i-1],2))+'\\n n='+str(round(cn1[i-1],2)),\n",
      "##                     linestyle=':',linewidth=1,color='blue')  \n",
      "#            \n",
      "#            ax.yaxis.set_major_formatter(NullFormatter())\n",
      "#            ax.xaxis.set_major_formatter(NullFormatter())\n",
      "#            ax.legend(loc='upper right', frameon=False, scatterpoints=1,borderpad=0.1,handletextpad=0.001)\n",
      "#            i=i+1\n",
      "#            \n",
      "#def func(r, mu_e, r_e, n):\n",
      "#    return mu_e + (2.5*(0.868*n-0.142))*((r/r_e)**(1./n)-1)             \n",
      "#plt.savefig(path_plots+'perfilesyajustes.pdf', format='pdf', dpi=1500,bbox_inches='tight')            \n",
      "#plt.subplots_adjust(wspace=0, hspace=0)\n",
      "#plt.show()"
     ],
     "language": "python",
     "metadata": {},
     "outputs": [],
     "prompt_number": 15
    },
    {
     "cell_type": "code",
     "collapsed": false,
     "input": [
      "m_todas     = np.concatenate([m091c2,m091])\n",
      "mue_todas   = np.concatenate([muec2,mue])\n",
      "re_todas    = np.concatenate([rec2,re])\n",
      "n_todas     = np.concatenate([nc2,n])\n",
      "m200_todas  = np.concatenate([m200c2,m200])"
     ],
     "language": "python",
     "metadata": {},
     "outputs": [],
     "prompt_number": 16
    },
    {
     "cell_type": "code",
     "collapsed": false,
     "input": [
      "len(m091c2),len(nc2)"
     ],
     "language": "python",
     "metadata": {},
     "outputs": [
      {
       "metadata": {},
       "output_type": "pyout",
       "prompt_number": 17,
       "text": [
        "(28, 28)"
       ]
      }
     ],
     "prompt_number": 17
    },
    {
     "cell_type": "code",
     "collapsed": true,
     "input": [
      "#m_todas_sub=np.delete(m_todas,(26))\n",
      "m_todas_sub=m_todas\n",
      "m200_todas_sub=sub=np.delete(m200_todas,(26))"
     ],
     "language": "python",
     "metadata": {},
     "outputs": [],
     "prompt_number": 18
    },
    {
     "cell_type": "code",
     "collapsed": false,
     "input": [
      "mediana = np.median(m200_todas_sub)\n",
      "print mediana"
     ],
     "language": "python",
     "metadata": {},
     "outputs": [
      {
       "output_type": "stream",
       "stream": "stdout",
       "text": [
        "5.902e+14\n"
       ]
      }
     ],
     "prompt_number": 19
    },
    {
     "cell_type": "code",
     "collapsed": false,
     "input": [
      "len(n_todas),len(m_todas),len(m200_todas_sub)"
     ],
     "language": "python",
     "metadata": {},
     "outputs": [
      {
       "metadata": {},
       "output_type": "pyout",
       "prompt_number": 20,
       "text": [
        "(57, 57, 57)"
       ]
      }
     ],
     "prompt_number": 20
    },
    {
     "cell_type": "code",
     "collapsed": false,
     "input": [
      "#Distingo regiones grandes de chicas\n",
      "m200chicas  = np.array([])\n",
      "mchicas     = np.array([])\n",
      "nchicas     = np.array([])\n",
      "muechicas   = np.array([])\n",
      "rechicas    = np.array([])\n",
      "m200grandes = np.array([])\n",
      "mgrandes    = np.array([])\n",
      "ngrandes    = np.array([])\n",
      "muegrandes  = np.array([])\n",
      "regrandes   = np.array([])\n",
      "\n",
      "for i in range(len(m_todas_sub)+1):\n",
      "    if i==0:\n",
      "        continue\n",
      "    if m200_todas[i] < mediana:\n",
      "        print 'chica:' ,i\n",
      "        m200chicas = np.append(m200chicas  ,m200_todas[i-1])\n",
      "        mchicas   = np.append(mchicas   ,m_todas[i-1])\n",
      "        nchicas   = np.append(nchicas   ,n_todas[i-1])\n",
      "        rechicas  = np.append(rechicas  ,re_todas[i-1])\n",
      "        muechicas = np.append(muechicas ,mue_todas[i-1])\n",
      "    else:\n",
      "        print 'grande:' ,i\n",
      "        m200grandes = np.append(m200grandes ,m200_todas[i-1])\n",
      "        mgrandes    = np.append(mgrandes    ,m_todas[i-1])\n",
      "        ngrandes    = np.append(ngrandes    ,n_todas[i-1])\n",
      "        regrandes   = np.append(regrandes   ,re_todas[i-1])\n",
      "        muegrandes  = np.append(muegrandes  ,mue_todas[i-1]) "
     ],
     "language": "python",
     "metadata": {},
     "outputs": [
      {
       "output_type": "stream",
       "stream": "stdout",
       "text": [
        "chica: 1\n",
        "chica: 2\n",
        "chica: 3\n",
        "chica: 4\n",
        "chica: 5\n",
        "chica: 6\n",
        "chica: 7\n",
        "chica: 8\n",
        "grande: 9\n",
        "chica: 10\n",
        "chica: 11\n",
        "chica: 12\n",
        "chica: 13\n",
        "grande: 14\n",
        "chica: 15\n",
        "chica: 16\n",
        "chica: 17\n",
        "chica: 18\n",
        "chica: 19\n",
        "chica: 20\n",
        "chica: 21\n",
        "chica: 22\n",
        "chica: 23\n",
        "chica: 24\n",
        "grande: 25\n",
        "chica: 26\n",
        "chica: 27\n",
        "grande: 28\n",
        "grande: 29\n",
        "chica: 30\n",
        "grande: 31\n",
        "chica: 32\n",
        "chica: 33\n",
        "grande: 34\n",
        "grande: 35\n",
        "grande: 36\n",
        "chica: 37\n",
        "grande: 38\n",
        "grande: 39\n",
        "grande: 40\n",
        "grande: 41\n",
        "grande: 42\n",
        "grande: 43\n",
        "grande: 44\n",
        "grande: 45\n",
        "grande: 46\n",
        "grande: 47\n",
        "grande: 48\n",
        "grande: 49\n",
        "grande: 50\n",
        "grande: 51\n",
        "grande: 52\n",
        "grande: 53\n",
        "grande: 54\n",
        "grande: 55\n",
        "grande: 56\n",
        "grande: 57\n"
       ]
      }
     ],
     "prompt_number": 21
    },
    {
     "cell_type": "code",
     "collapsed": false,
     "input": [
      "regrandes2   = regrandes  [regrandes < 200]\n",
      "ngrandes2    = ngrandes   [regrandes < 200]\n",
      "muegrandes2  = muegrandes [regrandes < 200]\n",
      "mgrandes2    = mgrandes   [regrandes < 200]\n",
      "m200grandes2 = m200grandes[regrandes < 200]\n",
      "rechicas2    = rechicas   [rechicas  < 200]\n",
      "nchicas2     = nchicas    [rechicas  < 200]\n",
      "muechicas2   = muechicas  [rechicas  < 200]\n",
      "mchicas2     = mchicas    [rechicas  < 200]\n",
      "m200chicas2  = m200chicas [rechicas  < 200]"
     ],
     "language": "python",
     "metadata": {},
     "outputs": [],
     "prompt_number": 22
    },
    {
     "cell_type": "code",
     "collapsed": false,
     "input": [
      "regrandes"
     ],
     "language": "python",
     "metadata": {},
     "outputs": [
      {
       "metadata": {},
       "output_type": "pyout",
       "prompt_number": 23,
       "text": [
        "array([   24.333,    66.965,    67.891,  1421.895,   191.34 ,    55.324,\n",
        "          85.855,    91.722,   108.04 ,    90.878,   162.04 ,   107.99 ,\n",
        "        9581.9  ,    80.777,    80.898,   130.51 ,   145.62 ,   108.02 ,\n",
        "         111.74 ,    60.182,   120.24 ,   170.88 ,   447.22 ,    91.974,\n",
        "         368.58 ,    81.154,  3191.   ,   107.71 ,   158.94 ])"
       ]
      }
     ],
     "prompt_number": 23
    },
    {
     "cell_type": "code",
     "collapsed": true,
     "input": [
      "text1 = 'AUM1' #'log M$_{200}$/M$_\\odot>$ '+str(round(np.log10(mediana),2))\n",
      "text2 = 'AUM2'#'log M$_{200}$/M$_\\odot<$ '+str(round(np.log10(mediana),2))+' '"
     ],
     "language": "python",
     "metadata": {},
     "outputs": [],
     "prompt_number": 24
    },
    {
     "cell_type": "code",
     "collapsed": false,
     "input": [
      "#Plot parametros estructura 1\n",
      "fig = plt.figure(figsize=(7,7))\n",
      "ax1 = fig.add_subplot(111)\n",
      "ax1.scatter(np.log10(mgrandes2),muegrandes2, marker='v',s=500, color='#FF8000', alpha=0.7,label=text1)\n",
      "ax1.scatter(np.log10(mchicas2),muechicas2, marker='v',s=500, color='#FF8000', alpha=0.7,label=text2,edgecolor='black',hatch='///')\n",
      "\n",
      "ax1.legend(loc='upper left', frameon=False, scatterpoints=1,borderpad=0.1, labelspacing=0.2,handletextpad=0.1)\n",
      "\n",
      "ax1.set_xlabel('log $M_{\\star}$/$M_{\\odot}$')\n",
      "ax1.set_ylabel('$\\mu_{e}$ [$mag/arcsec^{2}$]')\n",
      "#ax1.set_xlim(11.2,12.8)\n",
      "ax1.set_ylim(27,20)\n",
      "xticks1 = ax1.xaxis.get_major_ticks()\n",
      "xticks1[0].label1.set_visible(False)\n",
      "xticks1[-1].label1.set_visible(False)\n",
      "yticks1 = ax1.yaxis.get_major_ticks()\n",
      "yticks1[0].label1.set_visible(False)\n",
      "yticks1[-1].label1.set_visible(False)\n",
      "ax1.minorticks_on()\n",
      "ax1.annotate('z=0', xy=(1, 1), xytext=(-370, -370), fontsize=30,\n",
      "                 xycoords='axes fraction', textcoords='offset points',\n",
      "                 horizontalalignment='left', verticalalignment='bottom')         \n",
      "\n",
      "plt.savefig(path_plots+'mevsm.pdf', format='pdf', dpi=1500,bbox_inches='tight')\n",
      "plt.show() "
     ],
     "language": "python",
     "metadata": {},
     "outputs": [
      {
       "output_type": "stream",
       "stream": "stderr",
       "text": [
        "/usr/lib64/python2.7/site-packages/matplotlib/collections.py:590: FutureWarning: elementwise comparison failed; returning scalar instead, but in the future will perform elementwise comparison\n",
        "  if self._edgecolors == str('face'):\n"
       ]
      }
     ],
     "prompt_number": 25
    },
    {
     "cell_type": "code",
     "collapsed": false,
     "input": [
      "#Plot parametros estructura 2\n",
      "fig = plt.figure(figsize=(7,7))\n",
      "ax1 = fig.add_subplot(111)  \n",
      "\n",
      "ax1.scatter(np.log10(mgrandes2), regrandes2,  marker='v',s=500, color='#FF8000',label=text1, alpha=0.7)#,hatch='$////////////////$',edgecolor='forestgreen',linewidth='1', alpha=0.8, label='M(R$<$0.1R$_{500}$)' )    \n",
      "ax1.scatter(np.log10(mchicas2),rechicas2,  marker='v',s=500, color='#FF8000',label=text2, alpha=0.7,edgecolor='black',hatch='///')#,hatch='$////////////////$',edgecolor='forestgreen',linewidth='1', alpha=0.8, label='M(R$<$0.1R$_{500}$)' )    \n",
      "ax1.legend(loc='upper left', frameon=False, scatterpoints=1,borderpad=0.1, labelspacing=0.2,handletextpad=0.1)\n",
      "ax1.set_ylim(-10,250)\n",
      "xticks1 = ax1.xaxis.get_major_ticks()\n",
      "xticks1[0].label1.set_visible(False)\n",
      "xticks1[-1].label1.set_visible(False)\n",
      "ax1.set_ylabel('R$_{e}$ [$Kpc$]')\n",
      "ax1.set_xlabel('log $M_{\\star}$/$M_{\\odot}$')\n",
      "ax1.minorticks_on()\n",
      "\n",
      "#--------------------------------------------------------------------------------------------------------\n",
      "\n",
      "\n",
      "plt.savefig(path_plots+'mvsre.pdf', format='pdf', dpi=1500,bbox_inches='tight')\n",
      "#plt.savefig('parametros_estructura_submuestra.eps', format='eps', dpi=1500,bbox_inches='tight')\n",
      "\n",
      "plt.show() "
     ],
     "language": "python",
     "metadata": {},
     "outputs": [],
     "prompt_number": 26
    },
    {
     "cell_type": "code",
     "collapsed": false,
     "input": [
      "#Plot parametros estructura 3\n",
      "fig = plt.figure(figsize=(7,7))\n",
      "ax1 = fig.add_subplot(111)\n",
      "ax1.scatter( np.log10(mgrandes2),ngrandes2, marker='v',s=500, color='#FF8000',label=text1, alpha=0.7)#,hatch='$////////////////$',edgecolor='forestgreen',linewidth='1', alpha=0.8, label='M(R$<$0.1R$_{500}$)' )    \n",
      "ax1.scatter(np.log10(mchicas2),nchicas2, marker='v',s=500, color='#FF8000',label=text2, alpha=0.7,edgecolor='black',hatch='///')\n",
      "#ax1.set_ylim(-1,7) \n",
      "#ax1.set_xlim(11.2,12.8)\n",
      "ax1.legend(loc='upper left', frameon=False, scatterpoints=1,borderpad=0.1, labelspacing=0.2,handletextpad=0.1)\n",
      "\n",
      "xticks1 = ax1.xaxis.get_major_ticks()\n",
      "xticks1[0].label1.set_visible(False)\n",
      "xticks1[-1].label1.set_visible(False)\n",
      "ax1.set_ylabel('n')\n",
      "ax1.set_xlabel('log $M_{\\star}$/$M_{\\odot}$')\n",
      "ax1.set_ylim(-1,4)\n",
      "ax1.minorticks_on()\n",
      "\n",
      "\n",
      "ax1.annotate('z=0', xy=(1, 1), xytext=(-370, -370), fontsize=30,\n",
      "                 xycoords='axes fraction', textcoords='offset points',\n",
      "                 horizontalalignment='left', verticalalignment='bottom')         \n",
      "\n",
      "plt.savefig(path_plots+'mvsn.pdf', format='pdf', dpi=1500,bbox_inches='tight')\n",
      "\n",
      "plt.show() "
     ],
     "language": "python",
     "metadata": {},
     "outputs": [],
     "prompt_number": 27
    },
    {
     "cell_type": "code",
     "collapsed": true,
     "input": [
      "def medianas(_nbin,_x,_y):\n",
      "    x=_x\n",
      "    y=_y\n",
      "    nbin = _nbin\n",
      "    elements_bin   = np.zeros(nbin)\n",
      "    min_x           = np.min(x)-0.2\n",
      "    max_x           = np.max(x)+0.2\n",
      "    ymatrix         =  []\n",
      "    sumy            = np.zeros(nbin)\n",
      "    binx            = np.array([])\n",
      "    medianx         = np.array([])\n",
      "    \n",
      "    for j in range(nbin):\n",
      "        ymatrix.append([])\n",
      "    \n",
      "    deltax = (max_x-min_x)/nbin\n",
      "        \n",
      "    for i in range(len(x)):\n",
      "        binn = int(mt.floor((x[i] - min_x)/deltax))\n",
      "        elements_bin[binn] += 1\n",
      "        ymatrix[binn].append(y[i])\n",
      "        sumy[binn]=sumy[binn]+y[i]\n",
      "        #j+=1\n",
      "        #print ('bin: ',binn, '    mue: ', mue[binn])\n",
      "    \n",
      "    for ii in range(nbin):\n",
      "        binx        = np.append(binx, min_x+(2*ii+1)*deltax/2.)\n",
      "        medianx     = np.append(medianx, np.median(ymatrix[ii]))\n",
      "        sumy[ii]    = sumy[ii]/elements_bin[ii]\n",
      "        print (binx[ii],medianx[ii])\n",
      "        \n",
      "    return binx, medianx, sumy \n",
      "    "
     ],
     "language": "python",
     "metadata": {},
     "outputs": [],
     "prompt_number": 28
    },
    {
     "cell_type": "code",
     "collapsed": false,
     "input": [
      "nbin     = 3\n",
      "binmg    = np.zeros(nbin)\n",
      "mediansg = np.zeros(nbin)\n",
      "sumamueg = np.zeros(nbin) \n",
      "binmc    = np.zeros(nbin)\n",
      "mediansc = np.zeros(nbin)\n",
      "sumamuc  = np.zeros(nbin) \n",
      "\n",
      "binmg,mediansg,sumamueg = medianas(nbin,np.log10(mgrandes2),muegrandes2)\n",
      "binmc,mediansc,sumamuec = medianas(nbin,np.log10(mchicas2),muechicas2)\n"
     ],
     "language": "python",
     "metadata": {},
     "outputs": [
      {
       "output_type": "stream",
       "stream": "stdout",
       "text": [
        "(11.498671712949768, 24.030000000000001)\n",
        "(12.009896165814737, 24.190000000000001)\n",
        "(12.521120618679706, 23.559000000000001)\n",
        "(11.279952789177573, 24.115499999999997)\n",
        "(11.767338225531061, 23.640500000000003)\n",
        "(12.254723661884549, 23.495000000000001)\n"
       ]
      }
     ],
     "prompt_number": 29
    },
    {
     "cell_type": "code",
     "collapsed": false,
     "input": [
      "#Plot parametros estructura 1\n",
      "fig = plt.figure(figsize=(7,7))\n",
      "ax1 = fig.add_subplot(111)\n",
      "p1=ax1.scatter(np.log10(mgrandes2),muegrandes2,edgecolor='#808080', marker='x',s=200,linewidth=4, facecolor='black', alpha=0.7)#,label=text1)\n",
      "p2=ax1.scatter(np.log10(mchicas2),muechicas2, marker='+',s=200,linewidth=2, color='#C0C0C0', alpha=0.7)#,label=text2)\n",
      "\n",
      "l1=ax1.plot(binmg,mediansg,marker='.', markersize=25, color='#FF8000', alpha=0.7,zorder=1)\n",
      "l2=ax1.plot(binmc,mediansc,marker='.', markersize=25, alpha=0.9,color='black',\n",
      "           label=text2,markeredgecolor='black',markerfacecolor='#FF8000',markeredgewidth=2 )\n",
      "\n",
      "#ax1.plot(binmg,sumamue,marker='.', markersize=25, color='red', alpha=0.7,zorder=1,label=text1)\n",
      "\n",
      "#ax1.scatter(binmg,mediansg, marker='.',s=500, color='#FF8000', alpha=0.9,label=text1,zorder=2)\n",
      "#ax1.scatter(binmc[:-1],mediansc[:-1], marker='.',s=500, color='#FF8000', alpha=0.9,\n",
      "#            label=text2,edgecolor='black',hatch='+',zorder=2)\n",
      "objects=[p1,p2,l1[0],l2[0]]\n",
      "labels =['AUM1','AUM2','Med-AUM1','Med-AUM2']\n",
      "ax1.legend(objects,labels,loc='upper left', frameon=False, scatterpoints=1,\n",
      "           ncol=2,borderpad=0.1, labelspacing=0.2,handletextpad=0.1,columnspacing=1.9)\n",
      "\n",
      "ax1.set_xlabel('log M$_{\\mu_{24}}$/M$_{\\odot}$')\n",
      "ax1.set_ylabel('$\\mu_{e}$ [$mag/arcsec^{2}$]')\n",
      "#ax1.set_xlim(11.2,12.8)\n",
      "ax1.set_ylim(28,19)\n",
      "xticks1 = ax1.xaxis.get_major_ticks()\n",
      "xticks1[0].label1.set_visible(False)\n",
      "xticks1[-1].label1.set_visible(False)\n",
      "yticks1 = ax1.yaxis.get_major_ticks()\n",
      "yticks1[0].label1.set_visible(False)\n",
      "yticks1[-1].label1.set_visible(False)\n",
      "\n",
      "for i in range(len(yticks1)):\n",
      "    if i%2==0:\n",
      "        yticks1[i].label1.set_visible(False)\n",
      "\n",
      "ax1.minorticks_on()\n",
      "ax1.annotate('z=0', xy=(1, 1), xytext=(-370, -390), fontsize=30,\n",
      "                 xycoords='axes fraction', textcoords='offset points',\n",
      "                 horizontalalignment='left', verticalalignment='bottom')         \n",
      "\n",
      "plt.savefig(path_plots+'mevsm_medians.pdf', format='pdf', dpi=1500,bbox_inches='tight')\n",
      "plt.show() "
     ],
     "language": "python",
     "metadata": {},
     "outputs": [],
     "prompt_number": 30
    },
    {
     "cell_type": "code",
     "collapsed": false,
     "input": [
      "nbin       = 3\n",
      "binmg      = np.zeros(nbin)\n",
      "mediansreg = np.zeros(nbin)\n",
      "sumareg    = np.zeros(nbin) \n",
      "binmc      = np.zeros(nbin)\n",
      "mediansrec = np.zeros(nbin)\n",
      "sumarec    = np.zeros(nbin) \n",
      "\n",
      "binmg,mediansreg,sumareg = medianas(nbin,np.log10(mgrandes2),regrandes2)\n",
      "binmc,mediansrec,sumarec = medianas(nbin,np.log10(mchicas2),rechicas2)"
     ],
     "language": "python",
     "metadata": {},
     "outputs": [
      {
       "output_type": "stream",
       "stream": "stdout",
       "text": [
        "(11.498671712949768, 45.649000000000001)\n",
        "(12.009896165814737, 67.891000000000005)\n",
        "(12.521120618679706, 107.98999999999999)\n",
        "(11.279952789177573, 30.657000000000004)\n",
        "(11.767338225531061, 52.316500000000005)\n",
        "(12.254723661884549, 77.259)\n"
       ]
      }
     ],
     "prompt_number": 31
    },
    {
     "cell_type": "code",
     "collapsed": false,
     "input": [
      "fig = plt.figure(figsize=(7,7))\n",
      "ax1 = fig.add_subplot(111)\n",
      "\n",
      "p1=ax1.scatter(np.log10(mgrandes2),regrandes2, edgecolor='#808080', marker='x',s=200,linewidth=4, facecolor='black', alpha=0.7)#,label=text1)\n",
      "p2=ax1.scatter(np.log10(mchicas2),rechicas2, marker='+',s=200,linewidth=2, color='#C0C0C0', alpha=0.7)#,label=text2)\n",
      "\n",
      "l1=ax1.plot(binmg,mediansreg,marker='.', markersize=25, color='#FF8000', alpha=0.7,zorder=1,label=text1)\n",
      "l2=ax1.plot(binmc,mediansrec,marker='.', markersize=25, alpha=0.9,color='black',\n",
      "           label=text2,markeredgecolor='black',markerfacecolor='#FF8000',markeredgewidth=2 )\n",
      "\n",
      "#ax1.plot(binmg,sumamue,marker='.', markersize=25, color='red', alpha=0.7,zorder=1,label=text1)\n",
      "\n",
      "#ax1.scatter(binmg,mediansg, marker='.',s=500, color='#FF8000', alpha=0.9,label=text1,zorder=2)\n",
      "#ax1.scatter(binmc[:-1],mediansc[:-1], marker='.',s=500, color='#FF8000', alpha=0.9,\n",
      "#            label=text2,edgecolor='black',hatch='+',zorder=2)\n",
      "\n",
      "objects=[p1,p2,l1[0],l2[0]]\n",
      "labels =['AUM1','AUM2','Med-AUM1','Med-AUM2']\n",
      "ax1.legend(objects,labels,loc='upper left', frameon=False, scatterpoints=1,\n",
      "           ncol=2,borderpad=0.1, labelspacing=0.2,handletextpad=0.1,columnspacing=1.9)\n",
      "\n",
      "ax1.set_xlabel('log M$_{\\mu_{24}}$/M$_{\\odot}$')\n",
      "ax1.set_ylabel('R$_{e}$ [$Kpc$]')\n",
      "#ax1.set_xlim(11.2,12.8)\n",
      "ax1.set_ylim(0,260,19)\n",
      "xticks1 = ax1.xaxis.get_major_ticks()\n",
      "xticks1[0].label1.set_visible(False)\n",
      "xticks1[-1].label1.set_visible(False)\n",
      "yticks1 = ax1.yaxis.get_major_ticks()\n",
      "yticks1[0].label1.set_visible(False)\n",
      "yticks1[-1].label1.set_visible(False)\n",
      "ax1.minorticks_on()\n",
      "ax1.annotate('z=0', xy=(1, 1), xytext=(-100, -390), fontsize=30,\n",
      "                 xycoords='axes fraction', textcoords='offset points',\n",
      "                 horizontalalignment='left', verticalalignment='bottom')         \n",
      "\n",
      "plt.savefig(path_plots+'revsm_medians.pdf', format='pdf', dpi=1500,bbox_inches='tight')\n",
      "plt.show() "
     ],
     "language": "python",
     "metadata": {},
     "outputs": [],
     "prompt_number": 32
    },
    {
     "cell_type": "code",
     "collapsed": false,
     "input": [
      "nbin       = 3\n",
      "binmg      = np.zeros(nbin)\n",
      "mediansng = np.zeros(nbin)\n",
      "sumang    = np.zeros(nbin) \n",
      "binmc      = np.zeros(nbin)\n",
      "mediansnc = np.zeros(nbin)\n",
      "sumanc    = np.zeros(nbin) \n",
      "\n",
      "binmg,mediansng,sumang = medianas(nbin,np.log10(mgrandes2),ngrandes2)\n",
      "binmc,mediansnc,sumanc = medianas(nbin,np.log10(mchicas2),nchicas2)"
     ],
     "language": "python",
     "metadata": {},
     "outputs": [
      {
       "output_type": "stream",
       "stream": "stdout",
       "text": [
        "(11.498671712949768, 1.498)\n",
        "(12.009896165814737, 0.74099999999999999)\n",
        "(12.521120618679706, 0.52190000000000003)\n",
        "(11.279952789177573, 0.70350000000000001)\n",
        "(11.767338225531061, 0.75449999999999995)\n",
        "(12.254723661884549, 0.52049999999999996)\n"
       ]
      }
     ],
     "prompt_number": 33
    },
    {
     "cell_type": "code",
     "collapsed": false,
     "input": [
      "fig = plt.figure(figsize=(7,7))\n",
      "ax1 = fig.add_subplot(111)\n",
      "\n",
      "p1=ax1.scatter(np.log10(mgrandes2),ngrandes2,edgecolor='#808080', marker='x',s=200,linewidth=4, facecolor='black', alpha=0.7)#,label=text1)\n",
      "p2=ax1.scatter(np.log10(mchicas2),nchicas2, marker='+',s=200,linewidth=2, color='#C0C0C0', alpha=0.7)#,label=text2)\n",
      "\n",
      "l1=ax1.plot(binmg,mediansng,marker='.', markersize=25, color='#FF8000', alpha=0.7,zorder=1)\n",
      "l2=ax1.plot(binmc,mediansnc,marker='.', markersize=25, alpha=0.9,color='black',\n",
      "           label=text2,markeredgecolor='black',markerfacecolor='#FF8000',markeredgewidth=2 )\n",
      "\n",
      "#ax1.plot(binmg,sumamue,marker='.', markersize=25, color='red', alpha=0.7,zorder=1,label=text1)\n",
      "\n",
      "#ax1.scatter(binmg,mediansg, marker='.',s=500, color='#FF8000', alpha=0.9,label=text1,zorder=2)\n",
      "#ax1.scatter(binmc[:-1],mediansc[:-1], marker='.',s=500, color='#FF8000', alpha=0.9,\n",
      "#            label=text2,edgecolor='black',hatch='+',zorder=2)\n",
      "\n",
      "objects=[p1,p2,l1[0],l2[0]]\n",
      "labels =['AUM1','AUM2','Med-AUM1','Med-AUM2']\n",
      "ax1.legend(objects,labels,loc='upper left', frameon=False, scatterpoints=1,\n",
      "           ncol=2,borderpad=0.1, labelspacing=0.2,handletextpad=0.1,columnspacing=1.9)\n",
      "\n",
      "ax1.set_xlabel('log M$_{\\mu_{24}}$/M$_{\\odot}$')\n",
      "ax1.set_ylabel('n')\n",
      "\n",
      "#ax1.set_xlim(11.2,12.8)\n",
      "ax1.set_ylim(-1,4)\n",
      "xticks1 = ax1.xaxis.get_major_ticks()\n",
      "xticks1[0].label1.set_visible(False)\n",
      "xticks1[-1].label1.set_visible(False)\n",
      "yticks1 = ax1.yaxis.get_major_ticks()\n",
      "yticks1[0].label1.set_visible(False)\n",
      "yticks1[-1].label1.set_visible(False)\n",
      "ax1.minorticks_on()\n",
      "ax1.annotate('z=0', xy=(1, 1), xytext=(-370, -390), fontsize=30,\n",
      "                 xycoords='axes fraction', textcoords='offset points',\n",
      "                 horizontalalignment='left', verticalalignment='bottom')         \n",
      "\n",
      "plt.savefig(path_plots+'nvsm_medians.pdf', format='pdf', dpi=1500,bbox_inches='tight')\n",
      "plt.show() "
     ],
     "language": "python",
     "metadata": {},
     "outputs": [],
     "prompt_number": 34
    },
    {
     "cell_type": "code",
     "collapsed": false,
     "input": [
      "nbin       = 3\n",
      "binmg      = np.zeros(nbin)\n",
      "mediansng = np.zeros(nbin)\n",
      "sumang    = np.zeros(nbin) \n",
      "binmc      = np.zeros(nbin)\n",
      "mediansnc = np.zeros(nbin)\n",
      "sumanc    = np.zeros(nbin) \n",
      "\n",
      "brg,medg,sumamueg = medianas(nbin,np.log10(regrandes2),muegrandes2)\n",
      "brc,medc,sumamuec = medianas(nbin,np.log10(rechicas2),muechicas2)"
     ],
     "language": "python",
     "metadata": {},
     "outputs": [
      {
       "output_type": "stream",
       "stream": "stdout",
       "text": [
        "(1.4021306750382394, 22.867999999999999)\n",
        "(1.8340007128735847, 23.298999999999999)\n",
        "(2.2658707507089302, 24.417999999999999)\n",
        "(1.3991899786398669, 23.605)\n",
        "(1.7702664317922019, 23.608000000000001)\n",
        "(2.1413428849445366, 24.434000000000001)\n"
       ]
      }
     ],
     "prompt_number": 35
    },
    {
     "cell_type": "code",
     "collapsed": false,
     "input": [
      "brg"
     ],
     "language": "python",
     "metadata": {},
     "outputs": [
      {
       "metadata": {},
       "output_type": "pyout",
       "prompt_number": 36,
       "text": [
        "array([ 1.40213068,  1.83400071,  2.26587075])"
       ]
      }
     ],
     "prompt_number": 36
    },
    {
     "cell_type": "code",
     "collapsed": true,
     "input": [
      "#kormendy\n",
      "fig = plt.figure(figsize=(7,7))\n",
      "ax1 = fig.add_subplot(111)\n",
      "\n",
      "p1=ax1.scatter(np.log10(regrandes2),muegrandes2,edgecolor='#808080', marker='x',s=200,linewidth=4, facecolor='black', alpha=0.7)#,label=text1)\n",
      "p2=ax1.scatter(np.log10(rechicas2),muechicas2, edgecolor='#C0C0C0',marker='+',s=200,linewidth=2, color='#C0C0C0', alpha=0.7)#,label=text2)\n",
      "\n",
      "l1=ax1.plot(brg,medg,marker='.', markersize=25, color='#FF8000', alpha=0.7,zorder=1)\n",
      "l2=ax1.plot(brc,medc,marker='.', markersize=25, alpha=0.9,color='black',\n",
      "           label=text2,markeredgecolor='black',markerfacecolor='#FF8000',markeredgewidth=2 )\n",
      "\n",
      "objects=[p1,p2,l1[0],l2[0]]\n",
      "labels =['AUM1','AUM2','Med-AUM1','Med-AUM2']\n",
      "ax1.legend(objects,labels,loc='upper left', frameon=False, scatterpoints=1,\n",
      "           ncol=2,borderpad=0.1, labelspacing=0.2,handletextpad=0.1,columnspacing=1.9)\n",
      "\n",
      "\n",
      "ax1.set_xlabel('log R$_{e}$/Kpc')\n",
      "ax1.set_ylabel('$\\mu_{e}$ [$mag/arcsec^{2}$]')\n",
      "ax1.set_ylim(25.5,21)\n",
      "xticks1 = ax1.xaxis.get_major_ticks()\n",
      "xticks1[0].label1.set_visible(False)\n",
      "xticks1[-1].label1.set_visible(False)\n",
      "yticks1 = ax1.yaxis.get_major_ticks()\n",
      "yticks1[0].label1.set_visible(False)\n",
      "yticks1[-1].label1.set_visible(False)\n",
      "\n",
      "for i in range(len(yticks1)):\n",
      "    if i%2==0:\n",
      "        yticks1[i].label1.set_visible(False)\n",
      "\n",
      "\n",
      "plt.savefig(path_plots+'kormendy.pdf', format='pdf', dpi=1500,bbox_inches='tight')\n",
      "\n",
      "plt.show()"
     ],
     "language": "python",
     "metadata": {},
     "outputs": [],
     "prompt_number": 37
    },
    {
     "cell_type": "code",
     "collapsed": false,
     "input": [],
     "language": "python",
     "metadata": {},
     "outputs": [],
     "prompt_number": 39
    },
    {
     "cell_type": "code",
     "collapsed": false,
     "input": [],
     "language": "python",
     "metadata": {},
     "outputs": []
    }
   ],
   "metadata": {}
  }
 ]
}