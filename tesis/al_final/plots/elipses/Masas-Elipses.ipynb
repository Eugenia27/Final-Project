{
 "metadata": {
  "name": "",
  "signature": "sha256:2fbe54700a0b73aed8bd85fb527304da113d21c5be981e60d92de6310adf6355"
 },
 "nbformat": 3,
 "nbformat_minor": 0,
 "worksheets": [
  {
   "cells": [
    {
     "cell_type": "code",
     "collapsed": false,
     "input": [
      "import numpy as np\n",
      "import matplotlib as mpl\n",
      "import matplotlib.pyplot as plt\n",
      "from matplotlib.patches import Ellipse\n",
      "import glob"
     ],
     "language": "python",
     "metadata": {},
     "outputs": [],
     "prompt_number": 1
    },
    {
     "cell_type": "code",
     "collapsed": false,
     "input": [
      "path_carpeta='/home/meugenia/Dropbox/tesis/al_final/'\n",
      "path_carpeta_LR='/home/meugenia/Dropbox/tesis/al_final/LR/tablas/'\n",
      "path_inputs='/home/meugenia/0/LR/inputs_grupo0/'"
     ],
     "language": "python",
     "metadata": {},
     "outputs": [],
     "prompt_number": 7
    },
    {
     "cell_type": "code",
     "collapsed": false,
     "input": [
      "reg  =22\n",
      "flav =1\n",
      "snap =3"
     ],
     "language": "python",
     "metadata": {},
     "outputs": [],
     "prompt_number": 3
    },
    {
     "cell_type": "code",
     "collapsed": false,
     "input": [
      "rreg   = [\"NONE\",\"D1\",\"D2\",\"D3\",\"D4\",\"D5\",\"D6\",\"D7\",\"D8\",\"D9\",\"D10\",\"D11\",\"D12\",\"D13\",\"D14\",\n",
      "          \"D15\",\"D16\",\"D17\",\"D18\",\"D19\",\"D20\",\"D21\",\"D22\",\"D23\",\"D24\",\"D25\",\"D26\",\"D27\",\"D28\",\"D29\"]\n",
      "fflav  = [\"LR_CSF\",\"LR_minpot3_rmmax\",\"MR_minpot3_rmmax\"]\n",
      "ssnap  = [\"026\",\"032\",\"041\",\"091\"]"
     ],
     "language": "python",
     "metadata": {},
     "outputs": [],
     "prompt_number": 4
    },
    {
     "cell_type": "code",
     "collapsed": false,
     "input": [
      "aa,bb,xx0,yy0,phi,chi = np.loadtxt('parametros.txt', usecols=[1,2,3,4,5,6], unpack=True)\n",
      "m24,r24 = np.loadtxt(path_carpeta_LR+'LR_minpot3_rmmax_091_band125_nodust_grupo0.txt', usecols=[2,3], unpack=True)"
     ],
     "language": "python",
     "metadata": {},
     "outputs": [],
     "prompt_number": 5
    },
    {
     "cell_type": "code",
     "collapsed": false,
     "input": [
      "x,y,sb = np.loadtxt(path_carpeta+'sb_091/sb_091_D'+str(reg), unpack=True)\n",
      "mm=0\n",
      "primeraparte = path_inputs+rreg[reg]+'_'+fflav[flav]+'_'+ssnap[snap]\n",
      "for path_mass in glob.glob(primeraparte + '*_NoDust.dat'):\n",
      "    mm+=1\n",
      "path_mass_data = path_mass\n",
      "ptype,posx,posy,posz,pmass = np.loadtxt(path_mass_data , skiprows=1 , usecols=[0,1,2,3,8] , unpack=True)"
     ],
     "language": "python",
     "metadata": {},
     "outputs": [],
     "prompt_number": 8
    },
    {
     "cell_type": "code",
     "collapsed": false,
     "input": [
      "path_mass_data"
     ],
     "language": "python",
     "metadata": {},
     "outputs": [
      {
       "metadata": {},
       "output_type": "pyout",
       "prompt_number": 9,
       "text": [
        "'/home/meugenia/0/LR/inputs_grupo0/D22_LR_minpot3_rmmax_091_sub0_L500kpc_NoDust.dat'"
       ]
      }
     ],
     "prompt_number": 9
    },
    {
     "cell_type": "code",
     "collapsed": false,
     "input": [
      "a,b,x0,y0,pa=aa[reg-1],bb[reg-1],xx0[reg-1],yy0[reg-1],phi[reg-1]\n",
      "print a,b,x0,y0,pa*180/np.pi"
     ],
     "language": "python",
     "metadata": {},
     "outputs": [
      {
       "output_type": "stream",
       "stream": "stdout",
       "text": [
        "247.32 91.051 -0.3258 -2.182 88.837106135\n"
       ]
      }
     ],
     "prompt_number": 10
    },
    {
     "cell_type": "code",
     "collapsed": false,
     "input": [
      "theta= np.linspace(0,2*np.pi,300)\n",
      "xm   =-x0 + a*np.cos(theta)*np.cos(pa) + b*np.sin(theta)*np.sin(pa)\n",
      "ym   = y0 - a*np.cos(theta)*np.sin(pa) + b*np.sin(theta)*np.cos(pa)\n",
      "xm2  =-x0 + a*np.cos(theta)*np.cos(np.pi-pa) - b*np.sin(theta)*np.sin(np.pi-pa)\n",
      "ym2  = y0 + a*np.cos(theta)*np.sin(np.pi-pa) + b*np.sin(theta)*np.cos(np.pi-pa)"
     ],
     "language": "python",
     "metadata": {},
     "outputs": [],
     "prompt_number": 11
    },
    {
     "cell_type": "code",
     "collapsed": false,
     "input": [
      "c=np.sqrt(a*a-b*b)\n",
      "apo1= np.array([a*np.cos(np.pi-pa) , a*np.sin(np.pi-pa)])\n",
      "c1= np.array([c*np.cos(np.pi-pa), c*np.sin(np.pi-pa)])\n",
      "c2=-c1\n",
      "apo2= -apo1"
     ],
     "language": "python",
     "metadata": {},
     "outputs": [],
     "prompt_number": 12
    },
    {
     "cell_type": "code",
     "collapsed": false,
     "input": [
      "plt.figure(figsize=(7,7))\n",
      "plt.plot(xm,ym,color='red')\n",
      "plt.scatter(c1[0]-x0,c1[1]+y0,s=100,color='blue')\n",
      "plt.scatter(c2[0]-x0,c2[1]+y0,s=100,color='blue')\n",
      "plt.plot([apo1[0]-x0, apo2[0]-x0],[apo1[1]+y0,apo2[1]+y0])\n",
      "plt.scatter(apo1[0]-x0,apo1[1]+y0,color='red')\n",
      "plt.scatter(apo2[0]-x0,apo2[1]+y0,color='red')\n",
      "plt.scatter(-x0,y0,color='red')\n",
      "plt.xlim(-200,200)\n",
      "plt.ylim(-200,200)\n",
      "plt.show()"
     ],
     "language": "python",
     "metadata": {},
     "outputs": [
      {
       "output_type": "stream",
       "stream": "stderr",
       "text": [
        "/usr/lib64/python2.7/site-packages/matplotlib/collections.py:590: FutureWarning: elementwise comparison failed; returning scalar instead, but in the future will perform elementwise comparison\n",
        "  if self._edgecolors == str('face'):\n"
       ]
      }
     ],
     "prompt_number": 13
    },
    {
     "cell_type": "code",
     "collapsed": false,
     "input": [
      "xmassc     = np.array([])\n",
      "ymassc     = np.array([])\n",
      "cirmass    = np.array([])\n",
      "masa_mu24c = 0.\n",
      "for i in range(len(posx)):\n",
      "    if ptype[i] !=-1:\n",
      "        continue\n",
      "    dc1 = ((posx[i]-(c1[0]-x0))**2+(posy[i]-(c1[1]+y0))**2)**0.5\n",
      "    dc2 = ((posx[i]-(c2[0]-x0))**2+(posy[i]-(c2[1]+y0))**2)**0.5\n",
      "    d   = (posx[i]**2+posy[i]**2)**0.5\n",
      "    if (dc1 + dc2 - 2*a) > 0 and (d-r24[reg-1]) <=0:\n",
      "        masa_mu24c = masa_mu24c + pmass[i]\n",
      "        xmassc  = np.append(xmassc,posx[i])\n",
      "        ymassc  = np.append(ymassc,posy[i])\n",
      "        cirmass = np.append(cirmass, pmass[i])"
     ],
     "language": "python",
     "metadata": {},
     "outputs": [],
     "prompt_number": 14
    },
    {
     "cell_type": "code",
     "collapsed": false,
     "input": [
      "xmass   = np.array([])\n",
      "ymass   = np.array([])\n",
      "ellmass  = np.array([])\n",
      "masa_mu24=0\n",
      "for i in range(len(posx)):\n",
      "    if ptype[i] !=-1:\n",
      "        continue\n",
      "    dc1 = ((posx[i]-(c1[0]-x0))**2+(posy[i]-(c1[1]+y0))**2)**0.5\n",
      "    dc2 = ((posx[i]-(c2[0]-x0))**2+(posy[i]-(c2[1]+y0))**2)**0.5\n",
      "    if (dc1 + dc2 - 2*a) <= 0:\n",
      "        masa_mu24 = masa_mu24 + pmass[i]\n",
      "        xmass = np.append(xmass,posx[i])\n",
      "        ymass = np.append(ymass,posy[i])\n",
      "        ellmass= np.append(ellmass, pmass[i])"
     ],
     "language": "python",
     "metadata": {},
     "outputs": [],
     "prompt_number": 15
    },
    {
     "cell_type": "code",
     "collapsed": false,
     "input": [
      "xmu   = np.array([])\n",
      "ymu   = np.array([])\n",
      "mumu  = np.array([]) \n",
      "for i in range(len(x)):\n",
      "    if sb[i]<24.0005:\n",
      "        xmu   = np.append(xmu  , x[i])\n",
      "        ymu   = np.append(ymu  , y[i])\n",
      "        mumu  = np.append(mumu , sb[i])"
     ],
     "language": "python",
     "metadata": {},
     "outputs": [],
     "prompt_number": 16
    },
    {
     "cell_type": "code",
     "collapsed": false,
     "input": [
      "from matplotlib.offsetbox import AnchoredText\n",
      "\n",
      "plt.rc('text', usetex=True)\n",
      "font = {'family': 'serif', 'size': 30, 'serif': ['computer modern roman']}\n",
      "plt.rc('font', **font)\n",
      "plt.rc('legend', **{'fontsize': 24}) #27 \n",
      "plt.rcParams['text.latex.preamble'] = [r'\\usepackage{amsmath}']\n",
      "\n",
      "plt.rcParams['axes.linewidth'] = 1.0\n",
      "plt.rcParams['xtick.major.size'] = 8\n",
      "plt.rcParams['xtick.minor.size'] = 4\n",
      "plt.rcParams['ytick.major.size'] = 6\n",
      "plt.rcParams['ytick.minor.size'] = 3\n",
      "mpl.rc('lines', linewidth=2)"
     ],
     "language": "python",
     "metadata": {},
     "outputs": [],
     "prompt_number": 17
    },
    {
     "cell_type": "code",
     "collapsed": false,
     "input": [
      "fig=plt.figure(figsize=(9,9))\n",
      "ax = fig.add_subplot(111)\n",
      "\n",
      "plt.scatter(xmu,ymu,s=0.9,color='#25AE60',marker='.',label='')\n",
      "plt.scatter(xmass,ymass,s=0.02,color='#FFB300',marker='.',alpha=0.9,label='')\n",
      "plt.scatter(xmassc,ymassc,s=0.2,color='#7200A4',marker='.',alpha=0.9,label='')\n",
      "\n",
      "plt.plot(xm,ym,color='#FFB300')\n",
      "circle1=plt.Circle((0, 0),r24[reg-1], edgecolor='#7200A4', facecolor='none', linewidth=2)\n",
      "\n",
      "l1 = plt.Line2D((0, 1), (0, 0), color='#25AE60',linewidth=2)\n",
      "l2 = plt.Line2D((0, 1), (0, 0), color='#FFB300',linewidth=2)\n",
      "l3 = plt.Line2D((0, 1), (0, 0), color='#7200A4',linewidth=2)\n",
      "\n",
      "text3='M$_{\\mu_{24},circulo}$'\n",
      "text2='M$_{\\mu_{24},elipse}$'\n",
      "text1='$\\mu < 24$'\n",
      "\n",
      "objects = [l1,l2,l3]\n",
      "labels = [text1,text2,text3]\n",
      "\n",
      "plt.legend(objects,labels,loc='upper left', fontsize=25,frameon=False, \n",
      "           ncol=3,scatterpoints=1, borderpad=0.2, labelspacing=0.1,handlelength=0.2)\n",
      "#l.get_texts()[0].set_color('white')\n",
      "#l.get_texts()[1].set_color('white')\n",
      "plt.gcf().gca().add_artist(circle1)\n",
      "#plt.gcf().gca().add_artist(elipse)\n",
      "\n",
      "xticks = ax.xaxis.get_major_ticks()\n",
      "xticks[0].label1.set_visible(False)\n",
      "xticks[-1].label1.set_visible(False)\n",
      "yticks = ax.yaxis.get_major_ticks()\n",
      "yticks[0].label1.set_visible(False)\n",
      "yticks[-1].label1.set_visible(False)\n",
      "\n",
      "ax.minorticks_on()\n",
      "plt.xlim(-300,300)\n",
      "plt.ylim(-300,300)\n",
      "plt.xlabel('X [Kpc]')\n",
      "plt.ylabel('Y [Kpc]')\n",
      "plt.savefig('D'+str(reg)+'elipse-circ.pdf', format='pdf', dpi=500,bbox_inches='tight')\n",
      "plt.show()"
     ],
     "language": "python",
     "metadata": {},
     "outputs": [],
     "prompt_number": 22
    },
    {
     "cell_type": "code",
     "collapsed": false,
     "input": [
      "myfile = open(ssnap[snap]+'masas_elipses.txt','a')\n",
      "myfile.write('{reg:4s} {mass:10.5g}\\n'.format(reg='D'+str(reg),mass=masa_mu24))\n",
      "myfile.close()"
     ],
     "language": "python",
     "metadata": {},
     "outputs": [],
     "prompt_number": 19
    },
    {
     "cell_type": "code",
     "collapsed": false,
     "input": [
      "me = np.loadtxt(ssnap[snap]+'masas_elipses.txt', usecols=[1], unpack=True)"
     ],
     "language": "python",
     "metadata": {},
     "outputs": [],
     "prompt_number": 501
    },
    {
     "cell_type": "code",
     "collapsed": false,
     "input": [
      "aa,bb,xx0,yy0,phi,chi \n",
      "m24,r24"
     ],
     "language": "python",
     "metadata": {},
     "outputs": []
    },
    {
     "cell_type": "code",
     "collapsed": false,
     "input": [
      "exc = np.array([])\n",
      "for i in range(len(aa)):\n",
      "    valor = np.sqrt(1-(bb[i]/aa[i])**2)\n",
      "    print i, valor\n",
      "    exc= np.append(exc,valor)"
     ],
     "language": "python",
     "metadata": {},
     "outputs": [
      {
       "output_type": "stream",
       "stream": "stdout",
       "text": [
        "0 0.850349447782\n",
        "1 0.743662366613\n",
        "2 0.859324852779\n",
        "3 0.90189164068\n",
        "4 0.825070285741\n",
        "5 0.861630979563\n",
        "6 0.904410950696\n",
        "7 0.808223385115\n",
        "8 0.892129834253\n",
        "9 0.867855497554\n",
        "10 0.687389411162\n",
        "11 0.732282911213\n",
        "12 0.881382801449\n",
        "13 0.888402735744\n",
        "14 0.545523942538\n",
        "15 0.800364488637\n",
        "16 0.622844626735\n",
        "17 0.86280598129\n",
        "18 0.839927513023\n",
        "19 0.768996873998\n",
        "20 0.588049735373\n",
        "21 0.929766182838\n",
        "22 0.853819998797\n",
        "23 0.807464757981\n",
        "24 0.830748188964\n",
        "25 0.731777208239\n",
        "26 0.787401734835\n",
        "27 0.926265827339\n",
        "28 0.612177839249\n"
       ]
      }
     ],
     "prompt_number": 7
    },
    {
     "cell_type": "code",
     "collapsed": false,
     "input": [
      "print exc"
     ],
     "language": "python",
     "metadata": {},
     "outputs": [
      {
       "output_type": "stream",
       "stream": "stdout",
       "text": [
        "[ 0.85034945  0.74366237  0.85932485  0.90189164  0.82507029  0.86163098\n",
        "  0.90441095  0.80822339  0.89212983  0.8678555   0.68738941  0.73228291\n",
        "  0.8813828   0.88840274  0.54552394  0.80036449  0.62284463  0.86280598\n",
        "  0.83992751  0.76899687  0.58804974  0.92976618  0.85382     0.80746476\n",
        "  0.83074819  0.73177721  0.78740173  0.92626583  0.61217784]\n"
       ]
      }
     ],
     "prompt_number": 8
    },
    {
     "cell_type": "code",
     "collapsed": false,
     "input": [
      "np.argmax(exc, axis=0)"
     ],
     "language": "python",
     "metadata": {},
     "outputs": [
      {
       "metadata": {},
       "output_type": "pyout",
       "prompt_number": 9,
       "text": [
        "21"
       ]
      }
     ],
     "prompt_number": 9
    },
    {
     "cell_type": "code",
     "collapsed": false,
     "input": [],
     "language": "python",
     "metadata": {},
     "outputs": [
      {
       "output_type": "stream",
       "stream": "stdout",
       "text": [
        "0.929766182838 0.929766182838\n"
       ]
      }
     ],
     "prompt_number": 10
    },
    {
     "cell_type": "code",
     "collapsed": false,
     "input": [],
     "language": "python",
     "metadata": {},
     "outputs": [],
     "prompt_number": 19
    },
    {
     "cell_type": "code",
     "collapsed": false,
     "input": [],
     "language": "python",
     "metadata": {},
     "outputs": []
    }
   ],
   "metadata": {}
  }
 ]
}