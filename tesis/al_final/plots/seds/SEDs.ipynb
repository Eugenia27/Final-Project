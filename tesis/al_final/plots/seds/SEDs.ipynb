{
 "metadata": {
  "name": "",
  "signature": "sha256:5e603342e6823d83c3047b2d75420e3721ab7aa7334965da11c540f85625fe04"
 },
 "nbformat": 3,
 "nbformat_minor": 0,
 "worksheets": [
  {
   "cells": [
    {
     "cell_type": "code",
     "collapsed": false,
     "input": [
      "import numpy as np\n",
      "import matplotlib.pyplot as plt"
     ],
     "language": "python",
     "metadata": {},
     "outputs": [],
     "prompt_number": 7
    },
    {
     "cell_type": "code",
     "collapsed": false,
     "input": [
      "sednd = '/home/meugenia/Dropbox/tesis/al_final/plots/seds/SEDs_nodust/'\n",
      "sedwd = '/home/meugenia/Dropbox/tesis/al_final/plots/seds/SEDs_dust/'\n",
      "dust  = '__sed_026.txt'\n",
      "nodust= '__sed_026_NoDust.txt' \n",
      "save  = '/home/meugenia/Dropbox/tesis/al_final/plots/seds/plots_seds/'"
     ],
     "language": "python",
     "metadata": {},
     "outputs": [],
     "prompt_number": 8
    },
    {
     "cell_type": "code",
     "collapsed": false,
     "input": [
      "from matplotlib.offsetbox import AnchoredText\n",
      "\n",
      "plt.rc('text', usetex=True)\n",
      "font = {'family': 'serif', 'size': 35, 'serif': ['computer modern roman']}\n",
      "plt.rc('font', **font)\n",
      "plt.rc('legend', **{'fontsize': 24}) #27 \n",
      "plt.rcParams['text.latex.preamble'] = [r'\\usepackage{amsmath}']\n",
      "\n",
      "plt.rcParams['axes.linewidth'] = 1.0\n",
      "plt.rcParams['xtick.major.size'] = 8\n",
      "plt.rcParams['xtick.minor.size'] = 4\n",
      "plt.rcParams['ytick.major.size'] = 6\n",
      "plt.rcParams['ytick.minor.size'] = 3\n",
      "plt.rc('lines', linewidth=3)"
     ],
     "language": "python",
     "metadata": {},
     "outputs": [],
     "prompt_number": 9
    },
    {
     "cell_type": "code",
     "collapsed": false,
     "input": [
      "for j in range(30):\n",
      "    if j!=22:\n",
      "        continue\n",
      "    fig = plt.figure(figsize=(7, 7))\n",
      "    ax = fig.add_subplot(111)        \n",
      "        \n",
      "    wave_wd,sed_wd=np.loadtxt(sedwd+'D'+str(j)+dust  ,skiprows=8,usecols=[0,9],unpack=True)\n",
      "    wave_nd,sed_nd=np.loadtxt(sednd+'D'+str(j)+nodust,skiprows=8,usecols=[0,9],unpack=True)\n",
      "\n",
      "    cs = ['#FF3333','#3399FF']\n",
      "    \n",
      "    plt.plot(np.log10(wave_wd)-4,np.log10(wave_wd*sed_wd),color=cs[0],label='Con polvo',linestyle='--')\n",
      "    plt.plot(np.log10(wave_nd)-4,np.log10(wave_nd*sed_nd),color=cs[1],label='Sin polvo')\n",
      "   \n",
      "    plt.legend(loc='lower left', frameon=False,scatterpoints=1,borderpad=0.2,\n",
      "        labelspacing=0.1,handlelength=2,handletextpad=0.5,borderaxespad=1) \n",
      " \n",
      "    xticks1 = ax.xaxis.get_major_ticks()\n",
      "    for i in range(len(xticks1)):\n",
      "        if i%2==0:\n",
      "            xticks1[i].label1.set_visible(False)\n",
      "            \n",
      "    yticks1 = ax.yaxis.get_major_ticks()\n",
      "    for k in range(len(yticks1)):\n",
      "        if k%2==0:\n",
      "            yticks1[k].label1.set_visible(False) \n",
      "            \n",
      "    plt.title('BCG-'+str(j)+'  z=3')        \n",
      "    plt.xlabel('log $\\lambda$ $[\\mu m]$')        \n",
      "    plt.ylabel('log $\\lambda$L$_{\\lambda}$ $[10^{30}erg/s]$')        \n",
      "    plt.savefig(save+'sed_D'+str(j)+'.pdf', format='pdf', dpi=1300,bbox_inches='tight')\n",
      "    plt.show()"
     ],
     "language": "python",
     "metadata": {},
     "outputs": [],
     "prompt_number": 14
    },
    {
     "cell_type": "code",
     "collapsed": false,
     "input": [],
     "language": "python",
     "metadata": {},
     "outputs": [],
     "prompt_number": 11
    },
    {
     "cell_type": "code",
     "collapsed": false,
     "input": [],
     "language": "python",
     "metadata": {},
     "outputs": []
    }
   ],
   "metadata": {}
  }
 ]
}