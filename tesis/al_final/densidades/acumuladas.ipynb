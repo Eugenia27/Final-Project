{
 "metadata": {
  "name": "",
  "signature": "sha256:c51004c4f9881a43bae7b14bc8c65514ce836a58eb16a93c3a145417db246943"
 },
 "nbformat": 3,
 "nbformat_minor": 0,
 "worksheets": [
  {
   "cells": [
    {
     "cell_type": "code",
     "collapsed": false,
     "input": [
      "import numpy as np\n",
      "import glob\n",
      "import matplotlib.pyplot as plt"
     ],
     "language": "python",
     "metadata": {},
     "outputs": [],
     "prompt_number": 15
    },
    {
     "cell_type": "code",
     "collapsed": false,
     "input": [
      "r=np.linspace(0,250,125)\n",
      "paths='/home/meugenia/z/'\n",
      "snap='041'"
     ],
     "language": "python",
     "metadata": {},
     "outputs": [],
     "prompt_number": 27
    },
    {
     "cell_type": "code",
     "collapsed": false,
     "input": [
      "for i in range(30):\n",
      "    if i==0:\n",
      "        continue\n",
      "    reg=i    \n",
      "    primeraparte='/home/meugenia/0/LR/inputs_grupo0/D'+str(reg)+'_LR_minpot3_rmmax_'+snap+'_'\n",
      "    for path_mass in glob.glob(primeraparte + '*NoDust.dat'):     #*NoDust.dat para polvo *L500kpc.dat sin polvo\n",
      "        path_mass = path_mass\n",
      "        print path_mass\n",
      "    pt=np.array([])\n",
      "    x=np.array([])\n",
      "    y=np.array([])\n",
      "    kk=np.array([])\n",
      "    pm=np.array([])\n",
      "    macc=np.zeros(len(r))\n",
      "    pt,x,y,kk,pm=np.loadtxt(path_mass,usecols=[0,1,2,5,8],unpack=True,skiprows=1)\n",
      "    dist=np.sqrt(x**2+y**2)\n",
      "    rs,pms=zip(*sorted(zip(dist,pm)))\n",
      "    print rs[0]\n",
      "    j=0\n",
      "    acc_mass=0\n",
      "    for k in range(len(r)-1):\n",
      "        if j>= (len(rs)-10):\n",
      "            break\n",
      "        while rs[j] < r[k]:\n",
      "            if pt[j]==-1 and kk[j]!=-666.67:\n",
      "                acc_mass=acc_mass+pms[j]        \n",
      "            j=j+1\n",
      "        macc[k]=acc_mass      \n",
      "    np.savetxt(paths+'acumuladas_D'+str(reg)+'_'+snap+'.txt', np.c_[r,macc], fmt='%12.5g')      \n",
      "                \n",
      "                "
     ],
     "language": "python",
     "metadata": {},
     "outputs": [
      {
       "output_type": "stream",
       "stream": "stdout",
       "text": [
        "/home/meugenia/0/LR/inputs_grupo0/D1_LR_minpot3_rmmax_041_sub0_L500kpc_NoDust.dat\n",
        "0.0"
       ]
      },
      {
       "output_type": "stream",
       "stream": "stdout",
       "text": [
        "\n",
        "/home/meugenia/0/LR/inputs_grupo0/D2_LR_minpot3_rmmax_041_sub0_L500kpc_NoDust.dat\n",
        "0.0"
       ]
      },
      {
       "output_type": "stream",
       "stream": "stdout",
       "text": [
        "\n",
        "/home/meugenia/0/LR/inputs_grupo0/D3_LR_minpot3_rmmax_041_sub0_L500kpc_NoDust.dat\n",
        "0.0"
       ]
      },
      {
       "output_type": "stream",
       "stream": "stdout",
       "text": [
        "\n",
        "/home/meugenia/0/LR/inputs_grupo0/D4_LR_minpot3_rmmax_041_sub0_L500kpc_NoDust.dat\n",
        "0.0"
       ]
      },
      {
       "output_type": "stream",
       "stream": "stdout",
       "text": [
        "\n",
        "/home/meugenia/0/LR/inputs_grupo0/D5_LR_minpot3_rmmax_041_sub0_L500kpc_NoDust.dat\n",
        "0.0"
       ]
      },
      {
       "output_type": "stream",
       "stream": "stdout",
       "text": [
        "\n",
        "/home/meugenia/0/LR/inputs_grupo0/D6_LR_minpot3_rmmax_041_sub0_L500kpc_NoDust.dat\n",
        "0.0"
       ]
      },
      {
       "output_type": "stream",
       "stream": "stdout",
       "text": [
        "\n",
        "/home/meugenia/0/LR/inputs_grupo0/D7_LR_minpot3_rmmax_041_sub0_L500kpc_NoDust.dat\n",
        "0.0"
       ]
      },
      {
       "output_type": "stream",
       "stream": "stdout",
       "text": [
        "\n",
        "/home/meugenia/0/LR/inputs_grupo0/D8_LR_minpot3_rmmax_041_sub0_L500kpc_NoDust.dat\n",
        "0.0"
       ]
      },
      {
       "output_type": "stream",
       "stream": "stdout",
       "text": [
        "\n",
        "/home/meugenia/0/LR/inputs_grupo0/D9_LR_minpot3_rmmax_041_sub0_L500kpc_NoDust.dat\n",
        "0.0"
       ]
      },
      {
       "output_type": "stream",
       "stream": "stdout",
       "text": [
        "\n",
        "/home/meugenia/0/LR/inputs_grupo0/D10_LR_minpot3_rmmax_041_sub0_L500kpc_NoDust.dat\n",
        "0.0"
       ]
      },
      {
       "output_type": "stream",
       "stream": "stdout",
       "text": [
        "\n",
        "/home/meugenia/0/LR/inputs_grupo0/D11_LR_minpot3_rmmax_041_sub0_L500kpc_NoDust.dat\n",
        "0.0"
       ]
      },
      {
       "output_type": "stream",
       "stream": "stdout",
       "text": [
        "\n",
        "/home/meugenia/0/LR/inputs_grupo0/D12_LR_minpot3_rmmax_041_sub0_L500kpc_NoDust.dat\n",
        "0.0"
       ]
      },
      {
       "output_type": "stream",
       "stream": "stdout",
       "text": [
        "\n",
        "/home/meugenia/0/LR/inputs_grupo0/D13_LR_minpot3_rmmax_041_sub0_L500kpc_NoDust.dat\n",
        "0.0"
       ]
      },
      {
       "output_type": "stream",
       "stream": "stdout",
       "text": [
        "\n",
        "/home/meugenia/0/LR/inputs_grupo0/D14_LR_minpot3_rmmax_041_sub0_L500kpc_NoDust.dat\n",
        "0.0"
       ]
      },
      {
       "output_type": "stream",
       "stream": "stdout",
       "text": [
        "\n",
        "/home/meugenia/0/LR/inputs_grupo0/D15_LR_minpot3_rmmax_041_sub0_L500kpc_NoDust.dat"
       ]
      },
      {
       "output_type": "stream",
       "stream": "stdout",
       "text": [
        "\n",
        "0.0"
       ]
      },
      {
       "output_type": "stream",
       "stream": "stdout",
       "text": [
        "\n",
        "/home/meugenia/0/LR/inputs_grupo0/D16_LR_minpot3_rmmax_041_sub0_L500kpc_NoDust.dat\n",
        "0.0"
       ]
      },
      {
       "output_type": "stream",
       "stream": "stdout",
       "text": [
        "\n",
        "/home/meugenia/0/LR/inputs_grupo0/D17_LR_minpot3_rmmax_041_sub0_L500kpc_NoDust.dat"
       ]
      },
      {
       "output_type": "stream",
       "stream": "stdout",
       "text": [
        "\n",
        "0.0"
       ]
      },
      {
       "output_type": "stream",
       "stream": "stdout",
       "text": [
        "\n",
        "/home/meugenia/0/LR/inputs_grupo0/D18_LR_minpot3_rmmax_041_sub0_L500kpc_NoDust.dat\n",
        "0.0"
       ]
      },
      {
       "output_type": "stream",
       "stream": "stdout",
       "text": [
        "\n",
        "/home/meugenia/0/LR/inputs_grupo0/D19_LR_minpot3_rmmax_041_sub0_L500kpc_NoDust.dat"
       ]
      },
      {
       "output_type": "stream",
       "stream": "stdout",
       "text": [
        "\n",
        "0.0"
       ]
      },
      {
       "output_type": "stream",
       "stream": "stdout",
       "text": [
        "\n",
        "/home/meugenia/0/LR/inputs_grupo0/D20_LR_minpot3_rmmax_041_sub0_L500kpc_NoDust.dat\n",
        "0.0"
       ]
      },
      {
       "output_type": "stream",
       "stream": "stdout",
       "text": [
        "\n",
        "/home/meugenia/0/LR/inputs_grupo0/D21_LR_minpot3_rmmax_041_sub0_L500kpc_NoDust.dat"
       ]
      },
      {
       "output_type": "stream",
       "stream": "stdout",
       "text": [
        "\n",
        "0.0"
       ]
      },
      {
       "output_type": "stream",
       "stream": "stdout",
       "text": [
        "\n",
        "/home/meugenia/0/LR/inputs_grupo0/D22_LR_minpot3_rmmax_041_sub0_L500kpc_NoDust.dat"
       ]
      },
      {
       "output_type": "stream",
       "stream": "stdout",
       "text": [
        "\n",
        "0.0"
       ]
      },
      {
       "output_type": "stream",
       "stream": "stdout",
       "text": [
        "\n",
        "/home/meugenia/0/LR/inputs_grupo0/D23_LR_minpot3_rmmax_041_sub0_L500kpc_NoDust.dat"
       ]
      },
      {
       "output_type": "stream",
       "stream": "stdout",
       "text": [
        "\n",
        "0.0"
       ]
      },
      {
       "output_type": "stream",
       "stream": "stdout",
       "text": [
        "\n",
        "/home/meugenia/0/LR/inputs_grupo0/D24_LR_minpot3_rmmax_041_sub0_L500kpc_NoDust.dat\n",
        "0.0"
       ]
      },
      {
       "output_type": "stream",
       "stream": "stdout",
       "text": [
        "\n",
        "/home/meugenia/0/LR/inputs_grupo0/D25_LR_minpot3_rmmax_041_sub0_L500kpc_NoDust.dat"
       ]
      },
      {
       "output_type": "stream",
       "stream": "stdout",
       "text": [
        "\n",
        "0.0"
       ]
      },
      {
       "output_type": "stream",
       "stream": "stdout",
       "text": [
        "\n",
        "/home/meugenia/0/LR/inputs_grupo0/D26_LR_minpot3_rmmax_041_sub0_L500kpc_NoDust.dat\n",
        "0.0"
       ]
      },
      {
       "output_type": "stream",
       "stream": "stdout",
       "text": [
        "\n",
        "/home/meugenia/0/LR/inputs_grupo0/D27_LR_minpot3_rmmax_041_sub0_L500kpc_NoDust.dat\n",
        "0.0"
       ]
      },
      {
       "output_type": "stream",
       "stream": "stdout",
       "text": [
        "\n",
        "/home/meugenia/0/LR/inputs_grupo0/D28_LR_minpot3_rmmax_041_sub0_L500kpc_NoDust.dat\n",
        "0.0"
       ]
      },
      {
       "output_type": "stream",
       "stream": "stdout",
       "text": [
        "\n",
        "/home/meugenia/0/LR/inputs_grupo0/D29_LR_minpot3_rmmax_041_sub0_L500kpc_NoDust.dat\n",
        "0.0"
       ]
      },
      {
       "output_type": "stream",
       "stream": "stdout",
       "text": [
        "\n"
       ]
      }
     ],
     "prompt_number": 21
    },
    {
     "cell_type": "code",
     "collapsed": false,
     "input": [
      "plt.rc('text', usetex=True)\n",
      "font = {'family': 'serif', 'size': 27, 'serif': ['computer modern roman']}\n",
      "plt.rc('font', **font)\n",
      "plt.rc('legend', **{'fontsize': 25}) \n",
      "plt.rcParams['text.latex.preamble'] = [r'\\usepackage{amsmath}']\n",
      "\n",
      "plt.rcParams['axes.linewidth'] = 1.0\n",
      "plt.rcParams['xtick.major.size'] = 8\n",
      "plt.rcParams['xtick.minor.size'] = 4\n",
      "plt.rcParams['ytick.major.size'] = 6\n",
      "plt.rcParams['ytick.minor.size'] = 3\n",
      "plt.rc('lines', linewidth=1)"
     ],
     "language": "python",
     "metadata": {},
     "outputs": [],
     "prompt_number": 22
    },
    {
     "cell_type": "code",
     "collapsed": false,
     "input": [
      "for i in range(30):\n",
      "    if i==0:\n",
      "        continue\n",
      "    reg=i  \n",
      "    rr,mm = np.loadtxt(paths+'acumuladas_D'+str(reg)+'_'+snap+'.txt',unpack=True)\n",
      "    density = np.array([])\n",
      "    delta = rr[1]\n",
      "    mring = 0.\n",
      "    ring_area = 1.\n",
      "    for p in range(len(rr)):\n",
      "        if p == 0:\n",
      "            continue\n",
      "        mring = mm[p]-mm[p-1]\n",
      "        ring_area = np.pi*(rr[p]**2-rr[p-1]**2)\n",
      "        #print rr[p],'   ',mring*1e-8,'   ',ring_area,'   ',mring*1e-7/ring_area\n",
      "        density = np.append(density,mring/ring_area)\n",
      "\n",
      "    np.savetxt(paths+'/densidad_anillos_D'+str(i)+'_'+snap+'.txt', np.c_[rr[1:],density], fmt='%10.4g')\n",
      "\n",
      "    if 1==0:\n",
      "        #Plot parametros estructura 1\n",
      "        fig = plt.figure(figsize=(7,7))\n",
      "        ax1 = fig.add_subplot(111)\n",
      "        ax1.plot(np.log10(rr[1:]),np.log10(density), marker='.',ms=5, color='#FF8000')\n",
      "        #ax1.scatter(np.log10(mchicas2),muechicas2, marker='v',s=500, color='#FF8000', alpha=0.7,label=text2,edgecolor='black',hatch='///')\n",
      "\n",
      "        #ax1.legend(loc='upper left', frameon=False, scatterpoints=1,borderpad=0.1, labelspacing=0.2,handletextpad=0.1)\n",
      "        ax1.set_ylabel(r'log {\\fontsize{1.3cm}{1cm}{$_{\\rho}$}}/M$_{\\odot}$Kpc$^{-2}$')\n",
      "        ax1.set_xlabel('log R [Kpc]')\n",
      "        ax1.set_xlim(np.log10(rr[1]),np.log10(130))\n",
      "        ax1.set_ylim(6.5,10)\n",
      "        xticks1 = ax1.xaxis.get_major_ticks()\n",
      "        xticks1[0].label1.set_visible(False)\n",
      "        xticks1[-1].label1.set_visible(False)\n",
      "        yticks1 = ax1.yaxis.get_major_ticks()\n",
      "        yticks1[0].label1.set_visible(False)\n",
      "        yticks1[-1].label1.set_visible(False)\n",
      "        ax1.minorticks_on()\n",
      "    #ax1.annotate('z=0', xy=(1, 1), xytext=(-370, -370), fontsize=30,\n",
      "    #             xycoords='axes fraction', textcoords='offset points',\n",
      "    #             horizontalalignment='left', verticalalignment='bottom')         \n",
      "        plt.title('BCG-'+str(i))\n",
      "        plt.savefig(paths+'/'+snap+'/macc_D'+str(reg)+'_'+snap+'.pdf', format='pdf', dpi=1500,bbox_inches='tight')\n",
      "        plt.show()         \n",
      "    \n"
     ],
     "language": "python",
     "metadata": {},
     "outputs": [],
     "prompt_number": 28
    },
    {
     "cell_type": "code",
     "collapsed": false,
     "input": [
      "#progenitores=[0,1,2,3,4,5,6,7,8,9,10,11,12,13,14,15,16,17,18,19,20,21,22,23,24,25,26,27,28,29]\n",
      "progenitores =[0,0,1,0,0,0,0,1,0,1, 0, 0, 0, 1, 1, 1, 0, 1, 0, 0, 1, 1, 1, 0, 1, 0, 0, 1, 0, 1]"
     ],
     "language": "python",
     "metadata": {},
     "outputs": [],
     "prompt_number": 30
    },
    {
     "cell_type": "code",
     "collapsed": false,
     "input": [
      "from matplotlib.offsetbox import AnchoredText\n",
      "\n",
      "plt.rc('text', usetex=True)\n",
      "font = {'family': 'serif', 'size': 80, 'serif': ['computer modern roman']}\n",
      "plt.rc('font', **font)\n",
      "plt.rc('legend', **{'fontsize': 100}) \n",
      "plt.rcParams['text.latex.preamble'] = [r'\\usepackage{amsmath}']\n",
      "\n",
      "plt.rcParams['axes.linewidth'] = 1.0\n",
      "plt.rcParams['xtick.major.size'] = 8\n",
      "plt.rcParams['xtick.minor.size'] = 4\n",
      "plt.rcParams['ytick.major.size'] = 6\n",
      "plt.rcParams['ytick.minor.size'] = 3\n",
      "plt.rc('lines', linewidth=6)"
     ],
     "language": "python",
     "metadata": {},
     "outputs": [],
     "prompt_number": 61
    },
    {
     "cell_type": "code",
     "collapsed": false,
     "input": [
      "#todos los perfiles de intensidad especifica\n",
      "fig = plt.figure(figsize=(90,150))\n",
      "i=1\n",
      "r_fit=np.linspace(0,200,200)\n",
      "for ii in range(5):\n",
      "    for jj in range(3):\n",
      "        if i == 30:\n",
      "            break\n",
      "        k=progenitores[i]\n",
      "        if k==0 and i<30:\n",
      "            i=i+1\n",
      "        k=progenitores[i]    \n",
      "        if k==0 and i<30:\n",
      "            i=i+1\n",
      "        k=progenitores[i]    \n",
      "        if k==0 and i<30:\n",
      "            i=i+1\n",
      "        k=progenitores[i]\n",
      "        if k==0 and i<30:\n",
      "            i=i+1\n",
      "        k=progenitores[i]    \n",
      "        if k==0 and i<30:\n",
      "            i=i+1\n",
      "        k=progenitores[i]    \n",
      "        if k==0 and i<30:    \n",
      "            i=i+1\n",
      "        k=progenitores[i]    \n",
      "        if i==30 or progenitores[i]==0:\n",
      "            continue\n",
      "        #if progenitores[i]==0:\n",
      "        #    continue\n",
      "        r0,d0=np.loadtxt(paths+'/densidad_anillos_D'+str(i)+'_091.txt',unpack=True)\n",
      "        r1,d1=np.loadtxt(paths+'/densidad_anillos_D'+str(i)+'_041.txt',unpack=True)\n",
      "        \n",
      "        ax=plt.subplot2grid((5,3), (ii,jj))\n",
      "        \n",
      "        ax.plot(np.log10(r0[1:100]),np.log10(d0[:99]), marker='o',ms=20, color='#FF8000',label='z=0',mec='gray',mfc='#FF8000',mew=4)\n",
      "        ax.plot(np.log10(r1[1:100]),np.log10(d1[:99]), marker='s',ms=20, color='#07B279',label='z=1',mec='gray',mfc='#07B279',mew=4)\n",
      "        \n",
      "        ax.set_ylabel(r'log {\\fontsize{4cm}{2cm}{$_{\\rho}$}}/M$_{\\odot}$Kpc$^{-2}$')\n",
      "        ax.set_xlabel('log R/Kpc')      \n",
      "        \n",
      "        plt.legend(loc='upper right', frameon=False,scatterpoints=1,borderpad=0.2, \n",
      "               labelspacing=0, borderaxespad=0.2)\n",
      "        \n",
      "        #ax.set_ylim(-0.1e-17,1e-17)\n",
      "        ax.set_ylim(6.5,10)\n",
      "        ax.set_xlim(np.log10(r0[1]),np.log10(130))\n",
      "        ax.set_title('BCG-'+str(i))\n",
      "        xticks = ax.xaxis.get_major_ticks()\n",
      "        xticks[0].label1.set_visible(False)\n",
      "        xticks[-1].label1.set_visible(False)\n",
      "        yticks = ax.yaxis.get_major_ticks()\n",
      "        yticks[0].label1.set_visible(False)\n",
      "        #yticks[6].label1.set_visible(False)\n",
      "        yticks[-1].label1.set_visible(False)\n",
      "        ax.minorticks_on()\n",
      "\n",
      "        i=i+1\n",
      "\n",
      "plt.savefig(paths+'densidades.png')         \n",
      "plt.savefig(paths+'densidades.pdf', format='pdf', dpi=1500,bbox_inches='tight') \n",
      "plt.show()"
     ],
     "language": "python",
     "metadata": {},
     "outputs": [],
     "prompt_number": 62
    },
    {
     "cell_type": "code",
     "collapsed": false,
     "input": [],
     "language": "python",
     "metadata": {},
     "outputs": []
    }
   ],
   "metadata": {}
  }
 ]
}